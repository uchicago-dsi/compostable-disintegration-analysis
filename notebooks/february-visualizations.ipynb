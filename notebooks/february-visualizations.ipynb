{
 "cells": [
  {
   "cell_type": "code",
   "execution_count": 1,
   "metadata": {},
   "outputs": [],
   "source": [
    "import pandas as pd\n",
    "import numpy as np"
   ]
  },
  {
   "cell_type": "code",
   "execution_count": 2,
   "metadata": {},
   "outputs": [],
   "source": [
    "DATA_FOLDER = \"../data/\""
   ]
  },
  {
   "cell_type": "markdown",
   "metadata": {},
   "source": [
    "### Clean Items"
   ]
  },
  {
   "cell_type": "code",
   "execution_count": 3,
   "metadata": {},
   "outputs": [
    {
     "data": {
      "text/html": [
       "<div>\n",
       "<style scoped>\n",
       "    .dataframe tbody tr th:only-of-type {\n",
       "        vertical-align: middle;\n",
       "    }\n",
       "\n",
       "    .dataframe tbody tr th {\n",
       "        vertical-align: top;\n",
       "    }\n",
       "\n",
       "    .dataframe thead th {\n",
       "        text-align: right;\n",
       "    }\n",
       "</style>\n",
       "<table border=\"1\" class=\"dataframe\">\n",
       "  <thead>\n",
       "    <tr style=\"text-align: right;\">\n",
       "      <th></th>\n",
       "      <th>Item ID</th>\n",
       "      <th>Item Format</th>\n",
       "      <th>Brand</th>\n",
       "      <th>Manufacturer</th>\n",
       "      <th>Item SKU</th>\n",
       "      <th>Item Name</th>\n",
       "      <th>Item Description Refined</th>\n",
       "      <th>Item Description From Trial</th>\n",
       "      <th>Item ID.1</th>\n",
       "      <th>Material Class I</th>\n",
       "      <th>...</th>\n",
       "      <th>Material Composition</th>\n",
       "      <th>Certification @ time of testing</th>\n",
       "      <th>Kit</th>\n",
       "      <th>Initial Weight 1</th>\n",
       "      <th>Initial Weight 2</th>\n",
       "      <th>Initial Weight 3</th>\n",
       "      <th>Average Initial Weight, g</th>\n",
       "      <th>Item Dimensions Compiled</th>\n",
       "      <th>Item Capacity, mL</th>\n",
       "      <th>Notes</th>\n",
       "    </tr>\n",
       "  </thead>\n",
       "  <tbody>\n",
       "    <tr>\n",
       "      <th>0</th>\n",
       "      <td>A1</td>\n",
       "      <td>Hot cup</td>\n",
       "      <td>World Centric™</td>\n",
       "      <td>World Centric™</td>\n",
       "      <td>NaN</td>\n",
       "      <td>PLA-lined Bamboo Hot Cup 16oz</td>\n",
       "      <td>16oz NoTree Paper Hot Cup - World Centric</td>\n",
       "      <td>16oz NoTree Paper Hot Cup SKU CU-SU-16</td>\n",
       "      <td>NaN</td>\n",
       "      <td>Fiber</td>\n",
       "      <td>...</td>\n",
       "      <td>90% bamboo, 10% PLA</td>\n",
       "      <td>BPI</td>\n",
       "      <td>Custom</td>\n",
       "      <td>13.52</td>\n",
       "      <td>13.53</td>\n",
       "      <td>13.52</td>\n",
       "      <td>13.523333</td>\n",
       "      <td>5.5\"x2.5\"x3.5\"</td>\n",
       "      <td>NaN</td>\n",
       "      <td>NaN</td>\n",
       "    </tr>\n",
       "    <tr>\n",
       "      <th>1</th>\n",
       "      <td>A2</td>\n",
       "      <td>Bag</td>\n",
       "      <td>World Centric™</td>\n",
       "      <td>World Centric™</td>\n",
       "      <td>NaN</td>\n",
       "      <td>PBAT Bin Liner 3 gallon</td>\n",
       "      <td>3Gallon Food Scrap Bag - World Centric</td>\n",
       "      <td>3Gallon Food Scrap Bag BG-CS-3</td>\n",
       "      <td>NaN</td>\n",
       "      <td>Biopolymer</td>\n",
       "      <td>...</td>\n",
       "      <td>70% PBAT, 30% starch</td>\n",
       "      <td>BPI</td>\n",
       "      <td>Custom</td>\n",
       "      <td>7.16</td>\n",
       "      <td>7.16</td>\n",
       "      <td>7.15</td>\n",
       "      <td>7.156667</td>\n",
       "      <td>8.75\"x15\"x0.1\"</td>\n",
       "      <td>NaN</td>\n",
       "      <td>NaN</td>\n",
       "    </tr>\n",
       "  </tbody>\n",
       "</table>\n",
       "<p>2 rows × 23 columns</p>\n",
       "</div>"
      ],
      "text/plain": [
       "  Item ID Item Format           Brand    Manufacturer Item SKU  \\\n",
       "0      A1     Hot cup  World Centric™  World Centric™      NaN   \n",
       "1      A2         Bag  World Centric™  World Centric™      NaN   \n",
       "\n",
       "                       Item Name                   Item Description Refined  \\\n",
       "0  PLA-lined Bamboo Hot Cup 16oz  16oz NoTree Paper Hot Cup - World Centric   \n",
       "1       PBAT Bin Liner 3 gallon      3Gallon Food Scrap Bag - World Centric   \n",
       "\n",
       "              Item Description From Trial Item ID.1 Material Class I  ...  \\\n",
       "0  16oz NoTree Paper Hot Cup SKU CU-SU-16       NaN            Fiber  ...   \n",
       "1          3Gallon Food Scrap Bag BG-CS-3       NaN       Biopolymer  ...   \n",
       "\n",
       "   Material Composition Certification @ time of testing    Kit   \\\n",
       "0   90% bamboo, 10% PLA                             BPI  Custom   \n",
       "1  70% PBAT, 30% starch                             BPI  Custom   \n",
       "\n",
       "  Initial Weight 1 Initial Weight 2 Initial Weight 3  \\\n",
       "0            13.52            13.53            13.52   \n",
       "1             7.16             7.16             7.15   \n",
       "\n",
       "   Average Initial Weight, g  Item Dimensions Compiled  Item Capacity, mL  \\\n",
       "0                  13.523333            5.5\"x2.5\"x3.5\"                NaN   \n",
       "1                   7.156667            8.75\"x15\"x0.1\"                NaN   \n",
       "\n",
       "   Notes  \n",
       "0    NaN  \n",
       "1    NaN  \n",
       "\n",
       "[2 rows x 23 columns]"
      ]
     },
     "execution_count": 3,
     "metadata": {},
     "output_type": "execute_result"
    }
   ],
   "source": [
    "ITEMS_PATH = DATA_FOLDER + \"CFTP Test Item Inventory with Dimensions - All Trials.xlsx\"\n",
    "items = pd.read_excel(ITEMS_PATH, sheet_name=0, skiprows=3)\n",
    "items.head(2)"
   ]
  },
  {
   "cell_type": "code",
   "execution_count": 4,
   "metadata": {},
   "outputs": [
    {
     "name": "stdout",
     "output_type": "stream",
     "text": [
      "Item ID\n",
      "Item Format\n",
      "Brand\n",
      "Manufacturer\n",
      "Item SKU\n",
      "Item Name\n",
      "Item Description Refined\n",
      "Item Description From Trial\n",
      "Item ID.1\n",
      "Material Class I\n",
      "Material Class II\n",
      "Material Class III\n",
      "Material Description\n",
      "Material Composition\n",
      "Certification @ time of testing\n",
      "Kit \n",
      "Initial Weight 1\n",
      "Initial Weight 2\n",
      "Initial Weight 3\n",
      "Average Initial Weight, g\n",
      "Item Dimensions Compiled\n",
      "Item Capacity, mL\n",
      "Notes\n"
     ]
    }
   ],
   "source": [
    "for col in items.columns:\n",
    "    print(col)"
   ]
  },
  {
   "cell_type": "code",
   "execution_count": 5,
   "metadata": {},
   "outputs": [],
   "source": [
    "items['Start Weight'] = items['Average Initial Weight, g']"
   ]
  },
  {
   "cell_type": "code",
   "execution_count": 6,
   "metadata": {},
   "outputs": [],
   "source": [
    "items_cols = [\n",
    "    'Item ID',\n",
    "    'Item Name',\n",
    "    'Item Description Refined',\n",
    "    'Material Class I',\n",
    "    'Material Class II',\n",
    "    'Material Class III',\n",
    "    'Start Weight'\n",
    "    ]"
   ]
  },
  {
   "cell_type": "code",
   "execution_count": 7,
   "metadata": {},
   "outputs": [
    {
     "data": {
      "text/html": [
       "<div>\n",
       "<style scoped>\n",
       "    .dataframe tbody tr th:only-of-type {\n",
       "        vertical-align: middle;\n",
       "    }\n",
       "\n",
       "    .dataframe tbody tr th {\n",
       "        vertical-align: top;\n",
       "    }\n",
       "\n",
       "    .dataframe thead th {\n",
       "        text-align: right;\n",
       "    }\n",
       "</style>\n",
       "<table border=\"1\" class=\"dataframe\">\n",
       "  <thead>\n",
       "    <tr style=\"text-align: right;\">\n",
       "      <th></th>\n",
       "      <th>Item ID</th>\n",
       "      <th>Item Name</th>\n",
       "      <th>Item Description Refined</th>\n",
       "      <th>Material Class I</th>\n",
       "      <th>Material Class II</th>\n",
       "      <th>Material Class III</th>\n",
       "      <th>Start Weight</th>\n",
       "    </tr>\n",
       "  </thead>\n",
       "  <tbody>\n",
       "    <tr>\n",
       "      <th>0</th>\n",
       "      <td>A1</td>\n",
       "      <td>PLA-lined Bamboo Hot Cup 16oz</td>\n",
       "      <td>16oz NoTree Paper Hot Cup - World Centric</td>\n",
       "      <td>Fiber</td>\n",
       "      <td>Lined Fiber</td>\n",
       "      <td>PLA-lined Bamboo Paper</td>\n",
       "      <td>13.523333</td>\n",
       "    </tr>\n",
       "    <tr>\n",
       "      <th>1</th>\n",
       "      <td>A2</td>\n",
       "      <td>PBAT Bin Liner 3 gallon</td>\n",
       "      <td>3Gallon Food Scrap Bag - World Centric</td>\n",
       "      <td>Biopolymer</td>\n",
       "      <td>Biopolymer Film/Bag</td>\n",
       "      <td>PBAT and corn starch</td>\n",
       "      <td>7.156667</td>\n",
       "    </tr>\n",
       "  </tbody>\n",
       "</table>\n",
       "</div>"
      ],
      "text/plain": [
       "  Item ID                      Item Name  \\\n",
       "0      A1  PLA-lined Bamboo Hot Cup 16oz   \n",
       "1      A2       PBAT Bin Liner 3 gallon    \n",
       "\n",
       "                    Item Description Refined Material Class I  \\\n",
       "0  16oz NoTree Paper Hot Cup - World Centric            Fiber   \n",
       "1     3Gallon Food Scrap Bag - World Centric       Biopolymer   \n",
       "\n",
       "     Material Class II      Material Class III  Start Weight  \n",
       "0          Lined Fiber  PLA-lined Bamboo Paper     13.523333  \n",
       "1  Biopolymer Film/Bag    PBAT and corn starch      7.156667  "
      ]
     },
     "execution_count": 7,
     "metadata": {},
     "output_type": "execute_result"
    }
   ],
   "source": [
    "items_clean = items[items_cols]\n",
    "items_clean.head(2)"
   ]
  },
  {
   "cell_type": "code",
   "execution_count": 8,
   "metadata": {},
   "outputs": [
    {
     "data": {
      "text/plain": [
       "{'16oz NoTree Paper Hot Cup - World Centric': 'A1',\n",
       " '3Gallon Food Scrap Bag - World Centric': 'A2',\n",
       " '8\" Kraft straw ST-PA-8-K': 'A3',\n",
       " 'Alter Eco Quinoa SUP 2018': 'A4',\n",
       " 'Bagasse Clamshell 9x9': 'K',\n",
       " 'BÉSICS® 12 oz Soup bowl': 'A6',\n",
       " 'BÉSICS® 12oz CPLA Hot Cup Lid ': 'A8',\n",
       " 'BÉSICS® 12oz Hot Cup': 'A9',\n",
       " 'BÉSICS® 250mL PLA-lined Bagasse Leaf Bowl': 'Q',\n",
       " 'BÉSICS® 6\" Spoon': 'A11',\n",
       " 'BÉSICS® 8 oz Soup Bowl': 'A12',\n",
       " 'BÉSICS® 8oz CPLA Hot cup lid': 'A14',\n",
       " 'BÉSICS® Box with Lid AND Fry Tray': 'A15',\n",
       " 'BÉSICS® Cellulose bag 5x7in': 'A16',\n",
       " 'BÉSICS® Fibreware Bowl 16oz': 'A17',\n",
       " 'BÉSICS® Fibreware Clamshell 850mL': 'A18',\n",
       " 'BÉSICS® Fibreware Clamshell 9x9': 'A19',\n",
       " 'BÉSICS® Leaf Plate': 'A20',\n",
       " 'BÉSICS® Lined Paper Box with Lid ': 'A21',\n",
       " 'BÉSICS® Sleeve': 'A22',\n",
       " 'BÉSICS® Spoon 6\"': 'V',\n",
       " 'BÉSICS® Uncoated paper fry tray ': 'A25',\n",
       " 'BÉSICS® Wrap': 'A26',\n",
       " 'Bin Liner Bag 2.5 gal': 'P',\n",
       " 'Cellulose bag CONTROL': 'K3',\n",
       " 'Coffee Pod': 'B',\n",
       " 'CPLA Fork 6\" - Stalk Market': 'A30',\n",
       " 'CPLA Knife 6\" - Stalk Market': 'A31',\n",
       " 'D&W 32oz Square PLA Box': 'A32',\n",
       " 'D&W PLA Lid 32oz': 'A33',\n",
       " 'Ecotainer PLA-Lined Soup Bowl 12oz': 'C',\n",
       " 'Elk Packaging SUP with white outer 2018': 'A35',\n",
       " 'Fabrikal 16 oz PLA cold cup': 'A36',\n",
       " 'Fabrikal PLA Cold Cup 20oz': 'A37',\n",
       " 'Fiber Clamshell, Lined 9x9x3 SKU TO-SC-U9L-LF': 'A38',\n",
       " 'Fiber Cutlery, Spoon - World Centric': 'A39',\n",
       " 'Kraft butcher paper CONTROL': 'K1',\n",
       " 'Kraft Control 10\"x5\" 1-ply': 'A41',\n",
       " 'Kraft Control 10\"x5\" 2-ply': 'A42',\n",
       " 'Large natural clear colour bag': 'A43',\n",
       " 'Moulded fiber bowl 16oz': 'I',\n",
       " 'MPLA Spoon - NaturTec': 'A45',\n",
       " 'Navel orange peel': 'K2',\n",
       " 'PLA Cold Cup 12oz': 'J',\n",
       " 'PLA Cold Cup 14oz': 'A48',\n",
       " 'PLA Cold Cup Lid 8oz': 'S',\n",
       " 'PLA Foam Tray': 'A50',\n",
       " 'PLA Lid: 32oz Burrito Bowl SKU BOL-CS-UBB': 'A51',\n",
       " 'Printed small bag with brown background and logo': 'A52',\n",
       " 'Small zippered clear colour bag': 'A53',\n",
       " 'Spoon PLA 6\"': 'D',\n",
       " 'SPP Unlined Paper Tray (hot dog tray)': 'A55',\n",
       " 'Straw PHA 8\"': 'H',\n",
       " 'SUP no Zip - large brown ': 'A57',\n",
       " 'SUP with Zip - kraft outer (3 mil)': 'A58',\n",
       " 'SUP with Zip - metallized (2 mil)': 'A59',\n",
       " 'TPLA Spoon - World Centric': 'A60',\n",
       " 'Vegware Blue Paper Straw': 'A61',\n",
       " 'Vegware Fork': 'A62',\n",
       " 'Vegware PLA Straw': 'A63',\n",
       " 'Vegware Spoon': 'A64',\n",
       " 'WR3 - Agave Spoon': 'A65',\n",
       " 'WR3 - Agave Straw': 'A66',\n",
       " 'WR3 - Bagasse Clamshell': 'A67',\n",
       " 'WR3 - Coffee Bag 1': 'A68',\n",
       " 'WR3 - Coffee Bag 2': 'A69',\n",
       " 'WR3 - Coffee Bag 3': 'A70',\n",
       " 'WR3 - Coffee Bag 4': 'A71',\n",
       " 'WR3 - CPLA Spoon': 'A72',\n",
       " 'WR3 - Hot Cup green': 'A73',\n",
       " 'WR3 - Hot Cup natural': 'A74',\n",
       " 'WR3 - Paper Spoon': 'A75',\n",
       " 'WR3 - PLA portion cup 16oz': 'A76',\n",
       " 'WR3 - Soup bowl ': 'A77',\n",
       " 'WR3 - Soup Bowl 32oz': 'A78',\n",
       " 'WR3 - Stand up Biopolymer Pouch': 'A79',\n",
       " 'WR3 - Unlined Bella Bowl': 'A80',\n",
       " 'Wrapper for TPLA Spoon SP-PS-I': 'A81'}"
      ]
     },
     "execution_count": 8,
     "metadata": {},
     "output_type": "execute_result"
    }
   ],
   "source": [
    "item2id = items_clean.set_index('Item Description Refined')['Item ID'].to_dict()\n",
    "item2id"
   ]
  },
  {
   "cell_type": "code",
   "execution_count": 9,
   "metadata": {},
   "outputs": [],
   "source": [
    "# ITEMS_SAVE_PATH = \"\"\n",
    "# items.to_csv(ITEMS_SAVE_PATH, index=False)"
   ]
  },
  {
   "cell_type": "markdown",
   "metadata": {},
   "source": [
    "### Clean Closed Loop Trial Observations"
   ]
  },
  {
   "cell_type": "code",
   "execution_count": 10,
   "metadata": {},
   "outputs": [
    {
     "data": {
      "text/html": [
       "<div>\n",
       "<style scoped>\n",
       "    .dataframe tbody tr th:only-of-type {\n",
       "        vertical-align: middle;\n",
       "    }\n",
       "\n",
       "    .dataframe tbody tr th {\n",
       "        vertical-align: top;\n",
       "    }\n",
       "\n",
       "    .dataframe thead th {\n",
       "        text-align: right;\n",
       "    }\n",
       "</style>\n",
       "<table border=\"1\" class=\"dataframe\">\n",
       "  <thead>\n",
       "    <tr style=\"text-align: right;\">\n",
       "      <th></th>\n",
       "      <th>Facility Name</th>\n",
       "      <th>Trial Stage</th>\n",
       "      <th>Bag Set</th>\n",
       "      <th>Bag Number</th>\n",
       "      <th>N</th>\n",
       "      <th>O</th>\n",
       "      <th>Q</th>\n",
       "      <th>V</th>\n",
       "      <th>B</th>\n",
       "      <th>D</th>\n",
       "      <th>...</th>\n",
       "      <th>K</th>\n",
       "      <th>K1</th>\n",
       "      <th>K2</th>\n",
       "      <th>K3</th>\n",
       "      <th>N.1</th>\n",
       "      <th>O.1</th>\n",
       "      <th>P</th>\n",
       "      <th>Q.1</th>\n",
       "      <th>S</th>\n",
       "      <th>V.1</th>\n",
       "    </tr>\n",
       "  </thead>\n",
       "  <tbody>\n",
       "    <tr>\n",
       "      <th>0</th>\n",
       "      <td>Facility 1 (Windrow)</td>\n",
       "      <td>First Removal</td>\n",
       "      <td>A (blue)</td>\n",
       "      <td>10</td>\n",
       "      <td>NaN</td>\n",
       "      <td>NaN</td>\n",
       "      <td>NaN</td>\n",
       "      <td>NaN</td>\n",
       "      <td>0.244</td>\n",
       "      <td>0.039</td>\n",
       "      <td>...</td>\n",
       "      <td>NaN</td>\n",
       "      <td>0.618</td>\n",
       "      <td>0.233</td>\n",
       "      <td>0.225</td>\n",
       "      <td>NaN</td>\n",
       "      <td>NaN</td>\n",
       "      <td>NaN</td>\n",
       "      <td>NaN</td>\n",
       "      <td>NaN</td>\n",
       "      <td>NaN</td>\n",
       "    </tr>\n",
       "    <tr>\n",
       "      <th>1</th>\n",
       "      <td>Facility 1 (Windrow)</td>\n",
       "      <td>First Removal</td>\n",
       "      <td>A (blue)</td>\n",
       "      <td>6</td>\n",
       "      <td>NaN</td>\n",
       "      <td>NaN</td>\n",
       "      <td>NaN</td>\n",
       "      <td>NaN</td>\n",
       "      <td>0.075</td>\n",
       "      <td>0.237</td>\n",
       "      <td>...</td>\n",
       "      <td>NaN</td>\n",
       "      <td>0.579</td>\n",
       "      <td>0.023</td>\n",
       "      <td>0.197</td>\n",
       "      <td>NaN</td>\n",
       "      <td>NaN</td>\n",
       "      <td>NaN</td>\n",
       "      <td>NaN</td>\n",
       "      <td>NaN</td>\n",
       "      <td>NaN</td>\n",
       "    </tr>\n",
       "  </tbody>\n",
       "</table>\n",
       "<p>2 rows × 23 columns</p>\n",
       "</div>"
      ],
      "text/plain": [
       "          Facility Name    Trial Stage   Bag Set Bag Number   N   O   Q   V  \\\n",
       "0  Facility 1 (Windrow)  First Removal  A (blue)         10 NaN NaN NaN NaN   \n",
       "1  Facility 1 (Windrow)  First Removal  A (blue)          6 NaN NaN NaN NaN   \n",
       "\n",
       "       B      D  ...   K     K1     K2     K3  N.1  O.1   P  Q.1   S  V.1  \n",
       "0  0.244  0.039  ... NaN  0.618  0.233  0.225  NaN  NaN NaN  NaN NaN  NaN  \n",
       "1  0.075  0.237  ... NaN  0.579  0.023  0.197  NaN  NaN NaN  NaN NaN  NaN  \n",
       "\n",
       "[2 rows x 23 columns]"
      ]
     },
     "execution_count": 10,
     "metadata": {},
     "output_type": "execute_result"
    }
   ],
   "source": [
    "TEN_TRIALS_PATH = DATA_FOLDER + \"Compiled Field Results  for DSI - 2023 Bulk 10 Trial Data.xlsx\"\n",
    "observations_weight = pd.read_excel(TEN_TRIALS_PATH, sheet_name=3, skiprows=2)\n",
    "observations_sa = pd.read_excel(TEN_TRIALS_PATH, sheet_name=4, skiprows=2)\n",
    "observations_sa.head(2)"
   ]
  },
  {
   "cell_type": "code",
   "execution_count": 11,
   "metadata": {},
   "outputs": [],
   "source": [
    "# only use second removal\n",
    "weight = observations_weight[observations_weight['Trial Stage'] == \"Second Removal\"]\n",
    "area = observations_sa[observations_sa['Trial Stage'] == \"Second Removal\"]"
   ]
  },
  {
   "cell_type": "code",
   "execution_count": 12,
   "metadata": {},
   "outputs": [
    {
     "data": {
      "text/html": [
       "<div>\n",
       "<style scoped>\n",
       "    .dataframe tbody tr th:only-of-type {\n",
       "        vertical-align: middle;\n",
       "    }\n",
       "\n",
       "    .dataframe tbody tr th {\n",
       "        vertical-align: top;\n",
       "    }\n",
       "\n",
       "    .dataframe thead th {\n",
       "        text-align: right;\n",
       "    }\n",
       "</style>\n",
       "<table border=\"1\" class=\"dataframe\">\n",
       "  <thead>\n",
       "    <tr style=\"text-align: right;\">\n",
       "      <th></th>\n",
       "      <th>Facility Name</th>\n",
       "      <th>Trial Stage</th>\n",
       "      <th>Bag Set</th>\n",
       "      <th>Bag Number</th>\n",
       "      <th>Item ID</th>\n",
       "      <th>% Residuals (Weight)</th>\n",
       "    </tr>\n",
       "  </thead>\n",
       "  <tbody>\n",
       "    <tr>\n",
       "      <th>0</th>\n",
       "      <td>Facility 1 (Windrow)</td>\n",
       "      <td>Second Removal</td>\n",
       "      <td>B (green)</td>\n",
       "      <td>1</td>\n",
       "      <td>N</td>\n",
       "      <td>0.000000</td>\n",
       "    </tr>\n",
       "    <tr>\n",
       "      <th>1</th>\n",
       "      <td>Facility 1 (Windrow)</td>\n",
       "      <td>Second Removal</td>\n",
       "      <td>B (green)</td>\n",
       "      <td>2</td>\n",
       "      <td>N</td>\n",
       "      <td>1.002848</td>\n",
       "    </tr>\n",
       "  </tbody>\n",
       "</table>\n",
       "</div>"
      ],
      "text/plain": [
       "          Facility Name     Trial Stage    Bag Set Bag Number Item ID  \\\n",
       "0  Facility 1 (Windrow)  Second Removal  B (green)          1       N   \n",
       "1  Facility 1 (Windrow)  Second Removal  B (green)          2       N   \n",
       "\n",
       "   % Residuals (Weight)  \n",
       "0              0.000000  \n",
       "1              1.002848  "
      ]
     },
     "execution_count": 12,
     "metadata": {},
     "output_type": "execute_result"
    }
   ],
   "source": [
    "weight_melted = weight.melt(id_vars=['Facility Name', 'Trial Stage', 'Bag Set', 'Bag Number'],\n",
    "                    value_vars=['N', 'O', 'Q', 'V', 'B', 'D', 'H', 'I', 'J', 'K', 'K1', 'K2', 'K3', 'N', 'O', 'P', 'Q', 'S', 'V'],\n",
    "                    var_name='Item ID',\n",
    "                    value_name='% Residuals (Weight)')\n",
    "weight_melted = weight_melted.dropna(subset=['% Residuals (Weight)']).reset_index(drop=True)\n",
    "weight_melted.head(2)"
   ]
  },
  {
   "cell_type": "code",
   "execution_count": 13,
   "metadata": {},
   "outputs": [
    {
     "data": {
      "text/html": [
       "<div>\n",
       "<style scoped>\n",
       "    .dataframe tbody tr th:only-of-type {\n",
       "        vertical-align: middle;\n",
       "    }\n",
       "\n",
       "    .dataframe tbody tr th {\n",
       "        vertical-align: top;\n",
       "    }\n",
       "\n",
       "    .dataframe thead th {\n",
       "        text-align: right;\n",
       "    }\n",
       "</style>\n",
       "<table border=\"1\" class=\"dataframe\">\n",
       "  <thead>\n",
       "    <tr style=\"text-align: right;\">\n",
       "      <th></th>\n",
       "      <th>Facility Name</th>\n",
       "      <th>Trial Stage</th>\n",
       "      <th>Bag Set</th>\n",
       "      <th>Bag Number</th>\n",
       "      <th>Item ID</th>\n",
       "      <th>% Residuals (Area)</th>\n",
       "    </tr>\n",
       "  </thead>\n",
       "  <tbody>\n",
       "    <tr>\n",
       "      <th>0</th>\n",
       "      <td>Facility 1 (Windrow)</td>\n",
       "      <td>Second Removal</td>\n",
       "      <td>B (green)</td>\n",
       "      <td>1</td>\n",
       "      <td>N</td>\n",
       "      <td>0.000000</td>\n",
       "    </tr>\n",
       "    <tr>\n",
       "      <th>1</th>\n",
       "      <td>Facility 1 (Windrow)</td>\n",
       "      <td>Second Removal</td>\n",
       "      <td>B (green)</td>\n",
       "      <td>2</td>\n",
       "      <td>N</td>\n",
       "      <td>0.720347</td>\n",
       "    </tr>\n",
       "  </tbody>\n",
       "</table>\n",
       "</div>"
      ],
      "text/plain": [
       "          Facility Name     Trial Stage    Bag Set Bag Number Item ID  \\\n",
       "0  Facility 1 (Windrow)  Second Removal  B (green)          1       N   \n",
       "1  Facility 1 (Windrow)  Second Removal  B (green)          2       N   \n",
       "\n",
       "   % Residuals (Area)  \n",
       "0            0.000000  \n",
       "1            0.720347  "
      ]
     },
     "execution_count": 13,
     "metadata": {},
     "output_type": "execute_result"
    }
   ],
   "source": [
    "area_melted = area.melt(id_vars=['Facility Name', 'Trial Stage', 'Bag Set', 'Bag Number'],\n",
    "                    value_vars=['N', 'O', 'Q', 'V', 'B', 'D', 'H', 'I', 'J', 'K', 'K1', 'K2', 'K3', 'N', 'O', 'P', 'Q', 'S', 'V'],\n",
    "                    var_name='Item ID',\n",
    "                    value_name='% Residuals (Area)')\n",
    "area_melted = area_melted.dropna(subset=['% Residuals (Area)']).reset_index(drop=True)\n",
    "area_melted.head(2)"
   ]
  },
  {
   "cell_type": "code",
   "execution_count": 14,
   "metadata": {},
   "outputs": [
    {
     "data": {
      "text/html": [
       "<div>\n",
       "<style scoped>\n",
       "    .dataframe tbody tr th:only-of-type {\n",
       "        vertical-align: middle;\n",
       "    }\n",
       "\n",
       "    .dataframe tbody tr th {\n",
       "        vertical-align: top;\n",
       "    }\n",
       "\n",
       "    .dataframe thead th {\n",
       "        text-align: right;\n",
       "    }\n",
       "</style>\n",
       "<table border=\"1\" class=\"dataframe\">\n",
       "  <thead>\n",
       "    <tr style=\"text-align: right;\">\n",
       "      <th></th>\n",
       "      <th>Facility Name</th>\n",
       "      <th>Trial Stage</th>\n",
       "      <th>Bag Set</th>\n",
       "      <th>Bag Number</th>\n",
       "      <th>Item ID</th>\n",
       "      <th>% Residuals (Weight)</th>\n",
       "      <th>% Residuals (Area)</th>\n",
       "    </tr>\n",
       "  </thead>\n",
       "  <tbody>\n",
       "    <tr>\n",
       "      <th>0</th>\n",
       "      <td>Facility 1 (Windrow)</td>\n",
       "      <td>Second Removal</td>\n",
       "      <td>B (green)</td>\n",
       "      <td>1</td>\n",
       "      <td>N</td>\n",
       "      <td>0.000000</td>\n",
       "      <td>0.000000</td>\n",
       "    </tr>\n",
       "    <tr>\n",
       "      <th>1</th>\n",
       "      <td>Facility 1 (Windrow)</td>\n",
       "      <td>Second Removal</td>\n",
       "      <td>B (green)</td>\n",
       "      <td>2</td>\n",
       "      <td>N</td>\n",
       "      <td>1.002848</td>\n",
       "      <td>0.720347</td>\n",
       "    </tr>\n",
       "  </tbody>\n",
       "</table>\n",
       "</div>"
      ],
      "text/plain": [
       "          Facility Name     Trial Stage    Bag Set Bag Number Item ID  \\\n",
       "0  Facility 1 (Windrow)  Second Removal  B (green)          1       N   \n",
       "1  Facility 1 (Windrow)  Second Removal  B (green)          2       N   \n",
       "\n",
       "   % Residuals (Weight)  % Residuals (Area)  \n",
       "0              0.000000            0.000000  \n",
       "1              1.002848            0.720347  "
      ]
     },
     "execution_count": 14,
     "metadata": {},
     "output_type": "execute_result"
    }
   ],
   "source": [
    "observations_closed_loop = pd.merge(weight_melted, area_melted, on=['Facility Name', 'Trial Stage', 'Bag Set', 'Bag Number', 'Item ID'], how='outer')\n",
    "observations_closed_loop.head(2)"
   ]
  },
  {
   "cell_type": "code",
   "execution_count": 15,
   "metadata": {},
   "outputs": [
    {
     "data": {
      "text/plain": [
       "(787, 781, 772)"
      ]
     },
     "execution_count": 15,
     "metadata": {},
     "output_type": "execute_result"
    }
   ],
   "source": [
    "# TODO: We have some missing observations\n",
    "len(observations_closed_loop), len(weight_melted), len(area_melted)"
   ]
  },
  {
   "cell_type": "code",
   "execution_count": 16,
   "metadata": {},
   "outputs": [
    {
     "data": {
      "text/html": [
       "<div>\n",
       "<style scoped>\n",
       "    .dataframe tbody tr th:only-of-type {\n",
       "        vertical-align: middle;\n",
       "    }\n",
       "\n",
       "    .dataframe tbody tr th {\n",
       "        vertical-align: top;\n",
       "    }\n",
       "\n",
       "    .dataframe thead th {\n",
       "        text-align: right;\n",
       "    }\n",
       "</style>\n",
       "<table border=\"1\" class=\"dataframe\">\n",
       "  <thead>\n",
       "    <tr style=\"text-align: right;\">\n",
       "      <th></th>\n",
       "      <th>Facility Name</th>\n",
       "      <th>Trial Stage</th>\n",
       "      <th>Bag Set</th>\n",
       "      <th>Bag Number</th>\n",
       "      <th>Item ID</th>\n",
       "      <th>% Residuals (Weight)</th>\n",
       "      <th>% Residuals (Area)</th>\n",
       "    </tr>\n",
       "  </thead>\n",
       "  <tbody>\n",
       "    <tr>\n",
       "      <th>571</th>\n",
       "      <td>Facility 9 (EASP)</td>\n",
       "      <td>Second Removal</td>\n",
       "      <td>A (blue)</td>\n",
       "      <td>1</td>\n",
       "      <td>K2</td>\n",
       "      <td>0.052</td>\n",
       "      <td>NaN</td>\n",
       "    </tr>\n",
       "    <tr>\n",
       "      <th>572</th>\n",
       "      <td>Facility 9 (EASP)</td>\n",
       "      <td>Second Removal</td>\n",
       "      <td>A (blue)</td>\n",
       "      <td>3</td>\n",
       "      <td>K2</td>\n",
       "      <td>0.134</td>\n",
       "      <td>NaN</td>\n",
       "    </tr>\n",
       "    <tr>\n",
       "      <th>573</th>\n",
       "      <td>Facility 9 (EASP)</td>\n",
       "      <td>Second Removal</td>\n",
       "      <td>A (blue)</td>\n",
       "      <td>5</td>\n",
       "      <td>K2</td>\n",
       "      <td>0.148</td>\n",
       "      <td>NaN</td>\n",
       "    </tr>\n",
       "    <tr>\n",
       "      <th>574</th>\n",
       "      <td>Facility 9 (EASP)</td>\n",
       "      <td>Second Removal</td>\n",
       "      <td>A (blue)</td>\n",
       "      <td>7</td>\n",
       "      <td>K2</td>\n",
       "      <td>0.048</td>\n",
       "      <td>NaN</td>\n",
       "    </tr>\n",
       "    <tr>\n",
       "      <th>575</th>\n",
       "      <td>Facility 9 (EASP)</td>\n",
       "      <td>Second Removal</td>\n",
       "      <td>A (blue)</td>\n",
       "      <td>8</td>\n",
       "      <td>K2</td>\n",
       "      <td>0.075</td>\n",
       "      <td>NaN</td>\n",
       "    </tr>\n",
       "    <tr>\n",
       "      <th>576</th>\n",
       "      <td>Facility 9 (EASP)</td>\n",
       "      <td>Second Removal</td>\n",
       "      <td>B (green)</td>\n",
       "      <td>10</td>\n",
       "      <td>K2</td>\n",
       "      <td>0.040</td>\n",
       "      <td>NaN</td>\n",
       "    </tr>\n",
       "    <tr>\n",
       "      <th>577</th>\n",
       "      <td>Facility 9 (EASP)</td>\n",
       "      <td>Second Removal</td>\n",
       "      <td>B (green)</td>\n",
       "      <td>3</td>\n",
       "      <td>K2</td>\n",
       "      <td>0.043</td>\n",
       "      <td>NaN</td>\n",
       "    </tr>\n",
       "    <tr>\n",
       "      <th>578</th>\n",
       "      <td>Facility 9 (EASP)</td>\n",
       "      <td>Second Removal</td>\n",
       "      <td>B (green)</td>\n",
       "      <td>7</td>\n",
       "      <td>K2</td>\n",
       "      <td>0.059</td>\n",
       "      <td>NaN</td>\n",
       "    </tr>\n",
       "    <tr>\n",
       "      <th>579</th>\n",
       "      <td>Facility 9 (EASP)</td>\n",
       "      <td>Second Removal</td>\n",
       "      <td>B (green)</td>\n",
       "      <td>8</td>\n",
       "      <td>K2</td>\n",
       "      <td>0.166</td>\n",
       "      <td>NaN</td>\n",
       "    </tr>\n",
       "    <tr>\n",
       "      <th>580</th>\n",
       "      <td>Facility 9 (EASP)</td>\n",
       "      <td>Second Removal</td>\n",
       "      <td>B (green)</td>\n",
       "      <td>9</td>\n",
       "      <td>K2</td>\n",
       "      <td>0.124</td>\n",
       "      <td>NaN</td>\n",
       "    </tr>\n",
       "    <tr>\n",
       "      <th>581</th>\n",
       "      <td>Facility 9 (EASP)</td>\n",
       "      <td>Second Removal</td>\n",
       "      <td>C (yellow)</td>\n",
       "      <td>10</td>\n",
       "      <td>K2</td>\n",
       "      <td>0.051</td>\n",
       "      <td>NaN</td>\n",
       "    </tr>\n",
       "    <tr>\n",
       "      <th>582</th>\n",
       "      <td>Facility 9 (EASP)</td>\n",
       "      <td>Second Removal</td>\n",
       "      <td>C (yellow)</td>\n",
       "      <td>6</td>\n",
       "      <td>K2</td>\n",
       "      <td>0.108</td>\n",
       "      <td>NaN</td>\n",
       "    </tr>\n",
       "    <tr>\n",
       "      <th>583</th>\n",
       "      <td>Facility 9 (EASP)</td>\n",
       "      <td>Second Removal</td>\n",
       "      <td>C (yellow)</td>\n",
       "      <td>7</td>\n",
       "      <td>K2</td>\n",
       "      <td>0.103</td>\n",
       "      <td>NaN</td>\n",
       "    </tr>\n",
       "    <tr>\n",
       "      <th>584</th>\n",
       "      <td>Facility 9 (EASP)</td>\n",
       "      <td>Second Removal</td>\n",
       "      <td>C (yellow)</td>\n",
       "      <td>8</td>\n",
       "      <td>K2</td>\n",
       "      <td>0.106</td>\n",
       "      <td>NaN</td>\n",
       "    </tr>\n",
       "    <tr>\n",
       "      <th>585</th>\n",
       "      <td>Facility 9 (EASP)</td>\n",
       "      <td>Second Removal</td>\n",
       "      <td>C (yellow)</td>\n",
       "      <td>9</td>\n",
       "      <td>K2</td>\n",
       "      <td>0.121</td>\n",
       "      <td>NaN</td>\n",
       "    </tr>\n",
       "    <tr>\n",
       "      <th>781</th>\n",
       "      <td>Facility 1 (Windrow)</td>\n",
       "      <td>Second Removal</td>\n",
       "      <td>A (blue)</td>\n",
       "      <td>5</td>\n",
       "      <td>B</td>\n",
       "      <td>NaN</td>\n",
       "      <td>0.201</td>\n",
       "    </tr>\n",
       "    <tr>\n",
       "      <th>782</th>\n",
       "      <td>Facility 10 (Windrow)</td>\n",
       "      <td>Second Removal</td>\n",
       "      <td>A (blue)</td>\n",
       "      <td>5</td>\n",
       "      <td>I</td>\n",
       "      <td>NaN</td>\n",
       "      <td>0.373</td>\n",
       "    </tr>\n",
       "    <tr>\n",
       "      <th>783</th>\n",
       "      <td>Facility 1 (Windrow)</td>\n",
       "      <td>Second Removal</td>\n",
       "      <td>A (blue)</td>\n",
       "      <td>5</td>\n",
       "      <td>K1</td>\n",
       "      <td>NaN</td>\n",
       "      <td>0.123</td>\n",
       "    </tr>\n",
       "    <tr>\n",
       "      <th>784</th>\n",
       "      <td>Facility 5 (EASP)</td>\n",
       "      <td>Second Removal</td>\n",
       "      <td>B (green)</td>\n",
       "      <td>4</td>\n",
       "      <td>K1</td>\n",
       "      <td>NaN</td>\n",
       "      <td>0.263</td>\n",
       "    </tr>\n",
       "    <tr>\n",
       "      <th>785</th>\n",
       "      <td>Facility 8 (ASP)</td>\n",
       "      <td>Second Removal</td>\n",
       "      <td>A (blue)</td>\n",
       "      <td>10</td>\n",
       "      <td>K1</td>\n",
       "      <td>NaN</td>\n",
       "      <td>0.539</td>\n",
       "    </tr>\n",
       "    <tr>\n",
       "      <th>786</th>\n",
       "      <td>Facility 1 (Windrow)</td>\n",
       "      <td>Second Removal</td>\n",
       "      <td>A (blue)</td>\n",
       "      <td>2</td>\n",
       "      <td>K3</td>\n",
       "      <td>NaN</td>\n",
       "      <td>0.576</td>\n",
       "    </tr>\n",
       "  </tbody>\n",
       "</table>\n",
       "</div>"
      ],
      "text/plain": [
       "             Facility Name     Trial Stage     Bag Set Bag Number Item ID  \\\n",
       "571      Facility 9 (EASP)  Second Removal    A (blue)          1      K2   \n",
       "572      Facility 9 (EASP)  Second Removal    A (blue)          3      K2   \n",
       "573      Facility 9 (EASP)  Second Removal    A (blue)          5      K2   \n",
       "574      Facility 9 (EASP)  Second Removal    A (blue)          7      K2   \n",
       "575      Facility 9 (EASP)  Second Removal    A (blue)          8      K2   \n",
       "576      Facility 9 (EASP)  Second Removal   B (green)         10      K2   \n",
       "577      Facility 9 (EASP)  Second Removal   B (green)          3      K2   \n",
       "578      Facility 9 (EASP)  Second Removal   B (green)          7      K2   \n",
       "579      Facility 9 (EASP)  Second Removal   B (green)          8      K2   \n",
       "580      Facility 9 (EASP)  Second Removal   B (green)          9      K2   \n",
       "581      Facility 9 (EASP)  Second Removal  C (yellow)         10      K2   \n",
       "582      Facility 9 (EASP)  Second Removal  C (yellow)          6      K2   \n",
       "583      Facility 9 (EASP)  Second Removal  C (yellow)          7      K2   \n",
       "584      Facility 9 (EASP)  Second Removal  C (yellow)          8      K2   \n",
       "585      Facility 9 (EASP)  Second Removal  C (yellow)          9      K2   \n",
       "781   Facility 1 (Windrow)  Second Removal    A (blue)          5       B   \n",
       "782  Facility 10 (Windrow)  Second Removal    A (blue)          5       I   \n",
       "783   Facility 1 (Windrow)  Second Removal    A (blue)          5      K1   \n",
       "784      Facility 5 (EASP)  Second Removal   B (green)          4      K1   \n",
       "785       Facility 8 (ASP)  Second Removal    A (blue)         10      K1   \n",
       "786   Facility 1 (Windrow)  Second Removal    A (blue)          2      K3   \n",
       "\n",
       "     % Residuals (Weight)  % Residuals (Area)  \n",
       "571                 0.052                 NaN  \n",
       "572                 0.134                 NaN  \n",
       "573                 0.148                 NaN  \n",
       "574                 0.048                 NaN  \n",
       "575                 0.075                 NaN  \n",
       "576                 0.040                 NaN  \n",
       "577                 0.043                 NaN  \n",
       "578                 0.059                 NaN  \n",
       "579                 0.166                 NaN  \n",
       "580                 0.124                 NaN  \n",
       "581                 0.051                 NaN  \n",
       "582                 0.108                 NaN  \n",
       "583                 0.103                 NaN  \n",
       "584                 0.106                 NaN  \n",
       "585                 0.121                 NaN  \n",
       "781                   NaN               0.201  \n",
       "782                   NaN               0.373  \n",
       "783                   NaN               0.123  \n",
       "784                   NaN               0.263  \n",
       "785                   NaN               0.539  \n",
       "786                   NaN               0.576  "
      ]
     },
     "execution_count": 16,
     "metadata": {},
     "output_type": "execute_result"
    }
   ],
   "source": [
    "observations_closed_loop[observations_closed_loop['% Residuals (Weight)'].isna() | observations_closed_loop['% Residuals (Area)'].isna()]"
   ]
  },
  {
   "cell_type": "code",
   "execution_count": 17,
   "metadata": {},
   "outputs": [],
   "source": [
    "obs_cols = ['Facility Name', 'Item ID', '% Residuals (Weight)', '% Residuals (Area)']\n",
    "observations_closed_loop = observations_closed_loop[obs_cols]"
   ]
  },
  {
   "cell_type": "code",
   "execution_count": 18,
   "metadata": {},
   "outputs": [
    {
     "data": {
      "text/html": [
       "<div>\n",
       "<style scoped>\n",
       "    .dataframe tbody tr th:only-of-type {\n",
       "        vertical-align: middle;\n",
       "    }\n",
       "\n",
       "    .dataframe tbody tr th {\n",
       "        vertical-align: top;\n",
       "    }\n",
       "\n",
       "    .dataframe thead th {\n",
       "        text-align: right;\n",
       "    }\n",
       "</style>\n",
       "<table border=\"1\" class=\"dataframe\">\n",
       "  <thead>\n",
       "    <tr style=\"text-align: right;\">\n",
       "      <th></th>\n",
       "      <th>Trial</th>\n",
       "      <th>Item ID</th>\n",
       "      <th>% Residuals (Weight)</th>\n",
       "      <th>% Residuals (Area)</th>\n",
       "    </tr>\n",
       "  </thead>\n",
       "  <tbody>\n",
       "    <tr>\n",
       "      <th>0</th>\n",
       "      <td>Facility 1 (Windrow)</td>\n",
       "      <td>N</td>\n",
       "      <td>0.000000</td>\n",
       "      <td>0.000000</td>\n",
       "    </tr>\n",
       "    <tr>\n",
       "      <th>1</th>\n",
       "      <td>Facility 1 (Windrow)</td>\n",
       "      <td>N</td>\n",
       "      <td>1.002848</td>\n",
       "      <td>0.720347</td>\n",
       "    </tr>\n",
       "  </tbody>\n",
       "</table>\n",
       "</div>"
      ],
      "text/plain": [
       "                  Trial Item ID  % Residuals (Weight)  % Residuals (Area)\n",
       "0  Facility 1 (Windrow)       N              0.000000            0.000000\n",
       "1  Facility 1 (Windrow)       N              1.002848            0.720347"
      ]
     },
     "execution_count": 18,
     "metadata": {},
     "output_type": "execute_result"
    }
   ],
   "source": [
    "observations_rename_dict = {\n",
    "    'Facility Name': 'Trial'\n",
    "}\n",
    "observations_closed_loop = observations_closed_loop.rename(columns=observations_rename_dict)\n",
    "observations_closed_loop.head(2)"
   ]
  },
  {
   "cell_type": "markdown",
   "metadata": {},
   "source": [
    "#### Join With Items"
   ]
  },
  {
   "cell_type": "code",
   "execution_count": 19,
   "metadata": {},
   "outputs": [
    {
     "data": {
      "text/html": [
       "<div>\n",
       "<style scoped>\n",
       "    .dataframe tbody tr th:only-of-type {\n",
       "        vertical-align: middle;\n",
       "    }\n",
       "\n",
       "    .dataframe tbody tr th {\n",
       "        vertical-align: top;\n",
       "    }\n",
       "\n",
       "    .dataframe thead th {\n",
       "        text-align: right;\n",
       "    }\n",
       "</style>\n",
       "<table border=\"1\" class=\"dataframe\">\n",
       "  <thead>\n",
       "    <tr style=\"text-align: right;\">\n",
       "      <th></th>\n",
       "      <th>Item ID</th>\n",
       "      <th>Item Name</th>\n",
       "      <th>Item Description Refined</th>\n",
       "      <th>Material Class I</th>\n",
       "      <th>Material Class II</th>\n",
       "      <th>Material Class III</th>\n",
       "      <th>Start Weight</th>\n",
       "      <th>Trial</th>\n",
       "      <th>% Residuals (Weight)</th>\n",
       "      <th>% Residuals (Area)</th>\n",
       "    </tr>\n",
       "  </thead>\n",
       "  <tbody>\n",
       "    <tr>\n",
       "      <th>0</th>\n",
       "      <td>K</td>\n",
       "      <td>Bagasse Clamshell 9x9</td>\n",
       "      <td>Bagasse Clamshell 9x9</td>\n",
       "      <td>Fiber</td>\n",
       "      <td>Unlined Fiber</td>\n",
       "      <td>Unlined Sugarcane Fibre (bagasse) PFAS Free</td>\n",
       "      <td>45.19</td>\n",
       "      <td>Facility 1 (Windrow)</td>\n",
       "      <td>0.766</td>\n",
       "      <td>0.360</td>\n",
       "    </tr>\n",
       "    <tr>\n",
       "      <th>1</th>\n",
       "      <td>K</td>\n",
       "      <td>Bagasse Clamshell 9x9</td>\n",
       "      <td>Bagasse Clamshell 9x9</td>\n",
       "      <td>Fiber</td>\n",
       "      <td>Unlined Fiber</td>\n",
       "      <td>Unlined Sugarcane Fibre (bagasse) PFAS Free</td>\n",
       "      <td>45.19</td>\n",
       "      <td>Facility 1 (Windrow)</td>\n",
       "      <td>0.566</td>\n",
       "      <td>0.236</td>\n",
       "    </tr>\n",
       "  </tbody>\n",
       "</table>\n",
       "</div>"
      ],
      "text/plain": [
       "  Item ID              Item Name Item Description Refined Material Class I  \\\n",
       "0       K  Bagasse Clamshell 9x9    Bagasse Clamshell 9x9            Fiber   \n",
       "1       K  Bagasse Clamshell 9x9    Bagasse Clamshell 9x9            Fiber   \n",
       "\n",
       "  Material Class II                           Material Class III  \\\n",
       "0     Unlined Fiber  Unlined Sugarcane Fibre (bagasse) PFAS Free   \n",
       "1     Unlined Fiber  Unlined Sugarcane Fibre (bagasse) PFAS Free   \n",
       "\n",
       "   Start Weight                 Trial  % Residuals (Weight)  \\\n",
       "0         45.19  Facility 1 (Windrow)                 0.766   \n",
       "1         45.19  Facility 1 (Windrow)                 0.566   \n",
       "\n",
       "   % Residuals (Area)  \n",
       "0               0.360  \n",
       "1               0.236  "
      ]
     },
     "execution_count": 19,
     "metadata": {},
     "output_type": "execute_result"
    }
   ],
   "source": [
    "joined_cl = pd.merge(items_clean, observations_closed_loop, on=\"Item ID\")\n",
    "joined_cl.head(2)"
   ]
  },
  {
   "cell_type": "code",
   "execution_count": 20,
   "metadata": {},
   "outputs": [],
   "source": [
    "keep_cols = [\n",
    "    \"Trial\",\n",
    "    \"Item ID\",\n",
    "    \"Item Name\",\n",
    "    \"Item Description Refined\",\n",
    "    \"Material Class I\",\n",
    "    \"Material Class II\",\n",
    "    \"Material Class III\",\n",
    "    \"Start Weight\",\n",
    "    \"% Residuals (Weight)\",\n",
    "    \"% Residuals (Area)\"\n",
    "]"
   ]
  },
  {
   "cell_type": "code",
   "execution_count": 21,
   "metadata": {},
   "outputs": [],
   "source": [
    "joined_cl = joined_cl[keep_cols]"
   ]
  },
  {
   "cell_type": "code",
   "execution_count": 22,
   "metadata": {},
   "outputs": [
    {
     "name": "stdout",
     "output_type": "stream",
     "text": [
      "Trial\n",
      "Item ID\n",
      "Item Name\n",
      "Item Description Refined\n",
      "Material Class I\n",
      "Material Class II\n",
      "Material Class III\n",
      "Start Weight\n",
      "% Residuals (Weight)\n",
      "% Residuals (Area)\n"
     ]
    }
   ],
   "source": [
    "for col in joined_cl.columns:\n",
    "    print(col)"
   ]
  },
  {
   "cell_type": "markdown",
   "metadata": {},
   "source": [
    "### Clean PDF Data"
   ]
  },
  {
   "cell_type": "markdown",
   "metadata": {},
   "source": [
    "#### Trial AD001"
   ]
  },
  {
   "cell_type": "code",
   "execution_count": 23,
   "metadata": {},
   "outputs": [],
   "source": [
    "FILEPATH_PDF = DATA_FOLDER + \"Compiled Field Results - CFTP Gathered Data.xlsx\""
   ]
  },
  {
   "cell_type": "code",
   "execution_count": 24,
   "metadata": {},
   "outputs": [
    {
     "data": {
      "text/html": [
       "<div>\n",
       "<style scoped>\n",
       "    .dataframe tbody tr th:only-of-type {\n",
       "        vertical-align: middle;\n",
       "    }\n",
       "\n",
       "    .dataframe tbody tr th {\n",
       "        vertical-align: top;\n",
       "    }\n",
       "\n",
       "    .dataframe thead th {\n",
       "        text-align: right;\n",
       "    }\n",
       "</style>\n",
       "<table border=\"1\" class=\"dataframe\">\n",
       "  <thead>\n",
       "    <tr style=\"text-align: right;\">\n",
       "      <th></th>\n",
       "      <th>Trial ID</th>\n",
       "      <th>Trial Bag Set</th>\n",
       "      <th>Trial Bag ID</th>\n",
       "      <th>Item Description From Trial</th>\n",
       "      <th>Item Description Refined</th>\n",
       "      <th>Load Concentration</th>\n",
       "      <th>Number of Items per bag</th>\n",
       "      <th>Residual Item Weight - Wet</th>\n",
       "      <th>Residual Weight - Oven-dry</th>\n",
       "    </tr>\n",
       "  </thead>\n",
       "  <tbody>\n",
       "    <tr>\n",
       "      <th>0</th>\n",
       "      <td>AD001-01</td>\n",
       "      <td>Set A</td>\n",
       "      <td>AD T10 H7</td>\n",
       "      <td>CPLA Lid</td>\n",
       "      <td>BÉSICS® 8oz CPLA Hot cup lid</td>\n",
       "      <td>HIGH</td>\n",
       "      <td>2</td>\n",
       "      <td>6.68</td>\n",
       "      <td>6.3</td>\n",
       "    </tr>\n",
       "    <tr>\n",
       "      <th>1</th>\n",
       "      <td>AD001-01</td>\n",
       "      <td>Set A</td>\n",
       "      <td>AD T7 H3</td>\n",
       "      <td>CPLA Lid</td>\n",
       "      <td>BÉSICS® 8oz CPLA Hot cup lid</td>\n",
       "      <td>HIGH</td>\n",
       "      <td>2</td>\n",
       "      <td>0</td>\n",
       "      <td>0.0</td>\n",
       "    </tr>\n",
       "  </tbody>\n",
       "</table>\n",
       "</div>"
      ],
      "text/plain": [
       "   Trial ID Trial Bag Set Trial Bag ID Item Description From Trial  \\\n",
       "0  AD001-01         Set A    AD T10 H7                    CPLA Lid   \n",
       "1  AD001-01         Set A     AD T7 H3                    CPLA Lid   \n",
       "\n",
       "       Item Description Refined Load Concentration  Number of Items per bag  \\\n",
       "0  BÉSICS® 8oz CPLA Hot cup lid               HIGH                        2   \n",
       "1  BÉSICS® 8oz CPLA Hot cup lid               HIGH                        2   \n",
       "\n",
       "  Residual Item Weight - Wet  Residual Weight - Oven-dry  \n",
       "0                       6.68                         6.3  \n",
       "1                          0                         0.0  "
      ]
     },
     "execution_count": 24,
     "metadata": {},
     "output_type": "execute_result"
    }
   ],
   "source": [
    "observations_ad001 = pd.read_excel(FILEPATH_PDF, sheet_name=0, skiprows=1)\n",
    "observations_ad001.head(2)"
   ]
  },
  {
   "cell_type": "code",
   "execution_count": 25,
   "metadata": {},
   "outputs": [
    {
     "data": {
      "text/html": [
       "<div>\n",
       "<style scoped>\n",
       "    .dataframe tbody tr th:only-of-type {\n",
       "        vertical-align: middle;\n",
       "    }\n",
       "\n",
       "    .dataframe tbody tr th {\n",
       "        vertical-align: top;\n",
       "    }\n",
       "\n",
       "    .dataframe thead th {\n",
       "        text-align: right;\n",
       "    }\n",
       "</style>\n",
       "<table border=\"1\" class=\"dataframe\">\n",
       "  <thead>\n",
       "    <tr style=\"text-align: right;\">\n",
       "      <th></th>\n",
       "      <th>Trial ID</th>\n",
       "      <th>Trial Bag Set</th>\n",
       "      <th>Trial Bag ID</th>\n",
       "      <th>Item Description From Trial</th>\n",
       "      <th>Item Description Refined</th>\n",
       "      <th>Load Concentration</th>\n",
       "      <th>Number of Items per bag</th>\n",
       "      <th>Residual Item Weight - Wet</th>\n",
       "      <th>Residual Weight - Oven-dry</th>\n",
       "      <th>Item ID</th>\n",
       "    </tr>\n",
       "  </thead>\n",
       "  <tbody>\n",
       "    <tr>\n",
       "      <th>0</th>\n",
       "      <td>AD001-01</td>\n",
       "      <td>Set A</td>\n",
       "      <td>AD T10 H7</td>\n",
       "      <td>CPLA Lid</td>\n",
       "      <td>BÉSICS® 8oz CPLA Hot cup lid</td>\n",
       "      <td>HIGH</td>\n",
       "      <td>2</td>\n",
       "      <td>6.68</td>\n",
       "      <td>6.3</td>\n",
       "      <td>A14</td>\n",
       "    </tr>\n",
       "    <tr>\n",
       "      <th>1</th>\n",
       "      <td>AD001-01</td>\n",
       "      <td>Set A</td>\n",
       "      <td>AD T7 H3</td>\n",
       "      <td>CPLA Lid</td>\n",
       "      <td>BÉSICS® 8oz CPLA Hot cup lid</td>\n",
       "      <td>HIGH</td>\n",
       "      <td>2</td>\n",
       "      <td>0</td>\n",
       "      <td>0.0</td>\n",
       "      <td>A14</td>\n",
       "    </tr>\n",
       "  </tbody>\n",
       "</table>\n",
       "</div>"
      ],
      "text/plain": [
       "   Trial ID Trial Bag Set Trial Bag ID Item Description From Trial  \\\n",
       "0  AD001-01         Set A    AD T10 H7                    CPLA Lid   \n",
       "1  AD001-01         Set A     AD T7 H3                    CPLA Lid   \n",
       "\n",
       "       Item Description Refined Load Concentration  Number of Items per bag  \\\n",
       "0  BÉSICS® 8oz CPLA Hot cup lid               HIGH                        2   \n",
       "1  BÉSICS® 8oz CPLA Hot cup lid               HIGH                        2   \n",
       "\n",
       "  Residual Item Weight - Wet  Residual Weight - Oven-dry Item ID  \n",
       "0                       6.68                         6.3     A14  \n",
       "1                          0                         0.0     A14  "
      ]
     },
     "execution_count": 25,
     "metadata": {},
     "output_type": "execute_result"
    }
   ],
   "source": [
    "observations_ad001['Item ID'] = observations_ad001['Item Description Refined'].map(item2id)\n",
    "observations_ad001.head(2)"
   ]
  },
  {
   "cell_type": "code",
   "execution_count": 26,
   "metadata": {},
   "outputs": [],
   "source": [
    "drop_cols = [\"Item Description From Trial\", \"Item Description Refined\"]\n",
    "observations_ad001 = observations_ad001.drop(drop_cols, axis=1)"
   ]
  },
  {
   "cell_type": "code",
   "execution_count": 27,
   "metadata": {},
   "outputs": [
    {
     "data": {
      "text/html": [
       "<div>\n",
       "<style scoped>\n",
       "    .dataframe tbody tr th:only-of-type {\n",
       "        vertical-align: middle;\n",
       "    }\n",
       "\n",
       "    .dataframe tbody tr th {\n",
       "        vertical-align: top;\n",
       "    }\n",
       "\n",
       "    .dataframe thead th {\n",
       "        text-align: right;\n",
       "    }\n",
       "</style>\n",
       "<table border=\"1\" class=\"dataframe\">\n",
       "  <thead>\n",
       "    <tr style=\"text-align: right;\">\n",
       "      <th></th>\n",
       "      <th>Item ID</th>\n",
       "      <th>Item Name</th>\n",
       "      <th>Item Description Refined</th>\n",
       "      <th>Material Class I</th>\n",
       "      <th>Material Class II</th>\n",
       "      <th>Material Class III</th>\n",
       "      <th>Start Weight</th>\n",
       "      <th>Trial ID</th>\n",
       "      <th>Trial Bag Set</th>\n",
       "      <th>Trial Bag ID</th>\n",
       "      <th>Load Concentration</th>\n",
       "      <th>Number of Items per bag</th>\n",
       "      <th>Residual Item Weight - Wet</th>\n",
       "      <th>Residual Weight - Oven-dry</th>\n",
       "      <th>% Residuals (Weight)</th>\n",
       "      <th>% Residuals (Area)</th>\n",
       "      <th>Trial</th>\n",
       "    </tr>\n",
       "  </thead>\n",
       "  <tbody>\n",
       "    <tr>\n",
       "      <th>0</th>\n",
       "      <td>A6</td>\n",
       "      <td>PLA-lined Paper Bowl 12oz</td>\n",
       "      <td>BÉSICS® 12 oz Soup bowl</td>\n",
       "      <td>Fiber</td>\n",
       "      <td>Lined Fiber</td>\n",
       "      <td>PLA lined Paper</td>\n",
       "      <td>8.113333</td>\n",
       "      <td>AD001-01</td>\n",
       "      <td>Set B</td>\n",
       "      <td>AD T10 H8</td>\n",
       "      <td>HIGH</td>\n",
       "      <td>2</td>\n",
       "      <td>23.21</td>\n",
       "      <td>18.57</td>\n",
       "      <td>1.144412</td>\n",
       "      <td>None</td>\n",
       "      <td>AD001-01</td>\n",
       "    </tr>\n",
       "    <tr>\n",
       "      <th>1</th>\n",
       "      <td>A6</td>\n",
       "      <td>PLA-lined Paper Bowl 12oz</td>\n",
       "      <td>BÉSICS® 12 oz Soup bowl</td>\n",
       "      <td>Fiber</td>\n",
       "      <td>Lined Fiber</td>\n",
       "      <td>PLA lined Paper</td>\n",
       "      <td>8.113333</td>\n",
       "      <td>AD001-01</td>\n",
       "      <td>Set B</td>\n",
       "      <td>AD T7 H4</td>\n",
       "      <td>HIGH</td>\n",
       "      <td>2</td>\n",
       "      <td>7.52</td>\n",
       "      <td>6.21</td>\n",
       "      <td>0.382703</td>\n",
       "      <td>None</td>\n",
       "      <td>AD001-01</td>\n",
       "    </tr>\n",
       "  </tbody>\n",
       "</table>\n",
       "</div>"
      ],
      "text/plain": [
       "  Item ID                  Item Name Item Description Refined  \\\n",
       "0      A6  PLA-lined Paper Bowl 12oz  BÉSICS® 12 oz Soup bowl   \n",
       "1      A6  PLA-lined Paper Bowl 12oz  BÉSICS® 12 oz Soup bowl   \n",
       "\n",
       "  Material Class I Material Class II Material Class III  Start Weight  \\\n",
       "0            Fiber       Lined Fiber    PLA lined Paper      8.113333   \n",
       "1            Fiber       Lined Fiber    PLA lined Paper      8.113333   \n",
       "\n",
       "   Trial ID Trial Bag Set Trial Bag ID Load Concentration  \\\n",
       "0  AD001-01         Set B    AD T10 H8               HIGH   \n",
       "1  AD001-01         Set B     AD T7 H4               HIGH   \n",
       "\n",
       "   Number of Items per bag Residual Item Weight - Wet  \\\n",
       "0                        2                      23.21   \n",
       "1                        2                       7.52   \n",
       "\n",
       "   Residual Weight - Oven-dry  % Residuals (Weight) % Residuals (Area)  \\\n",
       "0                       18.57              1.144412               None   \n",
       "1                        6.21              0.382703               None   \n",
       "\n",
       "      Trial  \n",
       "0  AD001-01  \n",
       "1  AD001-01  "
      ]
     },
     "execution_count": 27,
     "metadata": {},
     "output_type": "execute_result"
    }
   ],
   "source": [
    "joined_ad001 = pd.merge(items_clean, observations_ad001, on=\"Item ID\")\n",
    "joined_ad001['% Residuals (Weight)'] = joined_ad001['Residual Weight - Oven-dry']/(joined_ad001['Start Weight'] * joined_ad001['Number of Items per bag'])\n",
    "joined_ad001['% Residuals (Area)'] = None\n",
    "joined_ad001['Trial'] = joined_ad001['Trial ID']\n",
    "joined_ad001.head(2)"
   ]
  },
  {
   "cell_type": "code",
   "execution_count": 28,
   "metadata": {},
   "outputs": [
    {
     "data": {
      "text/html": [
       "<div>\n",
       "<style scoped>\n",
       "    .dataframe tbody tr th:only-of-type {\n",
       "        vertical-align: middle;\n",
       "    }\n",
       "\n",
       "    .dataframe tbody tr th {\n",
       "        vertical-align: top;\n",
       "    }\n",
       "\n",
       "    .dataframe thead th {\n",
       "        text-align: right;\n",
       "    }\n",
       "</style>\n",
       "<table border=\"1\" class=\"dataframe\">\n",
       "  <thead>\n",
       "    <tr style=\"text-align: right;\">\n",
       "      <th></th>\n",
       "      <th>Trial</th>\n",
       "      <th>Item ID</th>\n",
       "      <th>Item Name</th>\n",
       "      <th>Item Description Refined</th>\n",
       "      <th>Material Class I</th>\n",
       "      <th>Material Class II</th>\n",
       "      <th>Material Class III</th>\n",
       "      <th>Start Weight</th>\n",
       "      <th>% Residuals (Weight)</th>\n",
       "      <th>% Residuals (Area)</th>\n",
       "    </tr>\n",
       "  </thead>\n",
       "  <tbody>\n",
       "    <tr>\n",
       "      <th>0</th>\n",
       "      <td>AD001-01</td>\n",
       "      <td>A6</td>\n",
       "      <td>PLA-lined Paper Bowl 12oz</td>\n",
       "      <td>BÉSICS® 12 oz Soup bowl</td>\n",
       "      <td>Fiber</td>\n",
       "      <td>Lined Fiber</td>\n",
       "      <td>PLA lined Paper</td>\n",
       "      <td>8.113333</td>\n",
       "      <td>1.144412</td>\n",
       "      <td>None</td>\n",
       "    </tr>\n",
       "    <tr>\n",
       "      <th>1</th>\n",
       "      <td>AD001-01</td>\n",
       "      <td>A6</td>\n",
       "      <td>PLA-lined Paper Bowl 12oz</td>\n",
       "      <td>BÉSICS® 12 oz Soup bowl</td>\n",
       "      <td>Fiber</td>\n",
       "      <td>Lined Fiber</td>\n",
       "      <td>PLA lined Paper</td>\n",
       "      <td>8.113333</td>\n",
       "      <td>0.382703</td>\n",
       "      <td>None</td>\n",
       "    </tr>\n",
       "  </tbody>\n",
       "</table>\n",
       "</div>"
      ],
      "text/plain": [
       "      Trial Item ID                  Item Name Item Description Refined  \\\n",
       "0  AD001-01      A6  PLA-lined Paper Bowl 12oz  BÉSICS® 12 oz Soup bowl   \n",
       "1  AD001-01      A6  PLA-lined Paper Bowl 12oz  BÉSICS® 12 oz Soup bowl   \n",
       "\n",
       "  Material Class I Material Class II Material Class III  Start Weight  \\\n",
       "0            Fiber       Lined Fiber    PLA lined Paper      8.113333   \n",
       "1            Fiber       Lined Fiber    PLA lined Paper      8.113333   \n",
       "\n",
       "   % Residuals (Weight) % Residuals (Area)  \n",
       "0              1.144412               None  \n",
       "1              0.382703               None  "
      ]
     },
     "execution_count": 28,
     "metadata": {},
     "output_type": "execute_result"
    }
   ],
   "source": [
    "joined_ad001 = joined_ad001[keep_cols]\n",
    "joined_ad001.head(2)"
   ]
  },
  {
   "cell_type": "markdown",
   "metadata": {},
   "source": [
    "#### Trial WR001-01"
   ]
  },
  {
   "cell_type": "code",
   "execution_count": 29,
   "metadata": {},
   "outputs": [
    {
     "data": {
      "text/html": [
       "<div>\n",
       "<style scoped>\n",
       "    .dataframe tbody tr th:only-of-type {\n",
       "        vertical-align: middle;\n",
       "    }\n",
       "\n",
       "    .dataframe tbody tr th {\n",
       "        vertical-align: top;\n",
       "    }\n",
       "\n",
       "    .dataframe thead th {\n",
       "        text-align: right;\n",
       "    }\n",
       "</style>\n",
       "<table border=\"1\" class=\"dataframe\">\n",
       "  <thead>\n",
       "    <tr style=\"text-align: right;\">\n",
       "      <th></th>\n",
       "      <th>Trial ID</th>\n",
       "      <th>Trial Bag ID</th>\n",
       "      <th>Trial Bag Set</th>\n",
       "      <th>Item Description From Trial</th>\n",
       "      <th>Item Description Refined</th>\n",
       "      <th>Load Concentration</th>\n",
       "      <th>Number of Items per bag</th>\n",
       "      <th>Residual Item Weight - Wet</th>\n",
       "      <th>Residual Weight - Oven-dry</th>\n",
       "    </tr>\n",
       "  </thead>\n",
       "  <tbody>\n",
       "    <tr>\n",
       "      <th>0</th>\n",
       "      <td>OWR001-01</td>\n",
       "      <td>BL1</td>\n",
       "      <td>Full</td>\n",
       "      <td>BESICS Bowl</td>\n",
       "      <td>BÉSICS® 12 oz Soup bowl</td>\n",
       "      <td>LOW</td>\n",
       "      <td>1</td>\n",
       "      <td>8.55</td>\n",
       "      <td>7.74</td>\n",
       "    </tr>\n",
       "    <tr>\n",
       "      <th>1</th>\n",
       "      <td>OWR001-01</td>\n",
       "      <td>CL3</td>\n",
       "      <td>Full</td>\n",
       "      <td>BESICS Bowl</td>\n",
       "      <td>BÉSICS® 12 oz Soup bowl</td>\n",
       "      <td>LOW</td>\n",
       "      <td>1</td>\n",
       "      <td>6.73</td>\n",
       "      <td>6.71</td>\n",
       "    </tr>\n",
       "  </tbody>\n",
       "</table>\n",
       "</div>"
      ],
      "text/plain": [
       "    Trial ID Trial Bag ID Trial Bag Set Item Description From Trial  \\\n",
       "0  OWR001-01          BL1          Full                 BESICS Bowl   \n",
       "1  OWR001-01          CL3          Full                 BESICS Bowl   \n",
       "\n",
       "  Item Description Refined Load Concentration  Number of Items per bag  \\\n",
       "0  BÉSICS® 12 oz Soup bowl                LOW                        1   \n",
       "1  BÉSICS® 12 oz Soup bowl                LOW                        1   \n",
       "\n",
       "   Residual Item Weight - Wet  Residual Weight - Oven-dry  \n",
       "0                        8.55                        7.74  \n",
       "1                        6.73                        6.71  "
      ]
     },
     "execution_count": 29,
     "metadata": {},
     "output_type": "execute_result"
    }
   ],
   "source": [
    "observations_wr001 = pd.read_excel(FILEPATH_PDF, sheet_name=1)\n",
    "observations_wr001.head(2)"
   ]
  },
  {
   "cell_type": "code",
   "execution_count": 30,
   "metadata": {},
   "outputs": [
    {
     "data": {
      "text/html": [
       "<div>\n",
       "<style scoped>\n",
       "    .dataframe tbody tr th:only-of-type {\n",
       "        vertical-align: middle;\n",
       "    }\n",
       "\n",
       "    .dataframe tbody tr th {\n",
       "        vertical-align: top;\n",
       "    }\n",
       "\n",
       "    .dataframe thead th {\n",
       "        text-align: right;\n",
       "    }\n",
       "</style>\n",
       "<table border=\"1\" class=\"dataframe\">\n",
       "  <thead>\n",
       "    <tr style=\"text-align: right;\">\n",
       "      <th></th>\n",
       "      <th>Trial ID</th>\n",
       "      <th>Trial Bag ID</th>\n",
       "      <th>Trial Bag Set</th>\n",
       "      <th>Item Description From Trial</th>\n",
       "      <th>Item Description Refined</th>\n",
       "      <th>Load Concentration</th>\n",
       "      <th>Number of Items per bag</th>\n",
       "      <th>Residual Item Weight - Wet</th>\n",
       "      <th>Residual Weight - Oven-dry</th>\n",
       "      <th>Item ID</th>\n",
       "    </tr>\n",
       "  </thead>\n",
       "  <tbody>\n",
       "    <tr>\n",
       "      <th>0</th>\n",
       "      <td>OWR001-01</td>\n",
       "      <td>BL1</td>\n",
       "      <td>Full</td>\n",
       "      <td>BESICS Bowl</td>\n",
       "      <td>BÉSICS® 12 oz Soup bowl</td>\n",
       "      <td>LOW</td>\n",
       "      <td>1</td>\n",
       "      <td>8.55</td>\n",
       "      <td>7.74</td>\n",
       "      <td>A6</td>\n",
       "    </tr>\n",
       "    <tr>\n",
       "      <th>1</th>\n",
       "      <td>OWR001-01</td>\n",
       "      <td>CL3</td>\n",
       "      <td>Full</td>\n",
       "      <td>BESICS Bowl</td>\n",
       "      <td>BÉSICS® 12 oz Soup bowl</td>\n",
       "      <td>LOW</td>\n",
       "      <td>1</td>\n",
       "      <td>6.73</td>\n",
       "      <td>6.71</td>\n",
       "      <td>A6</td>\n",
       "    </tr>\n",
       "  </tbody>\n",
       "</table>\n",
       "</div>"
      ],
      "text/plain": [
       "    Trial ID Trial Bag ID Trial Bag Set Item Description From Trial  \\\n",
       "0  OWR001-01          BL1          Full                 BESICS Bowl   \n",
       "1  OWR001-01          CL3          Full                 BESICS Bowl   \n",
       "\n",
       "  Item Description Refined Load Concentration  Number of Items per bag  \\\n",
       "0  BÉSICS® 12 oz Soup bowl                LOW                        1   \n",
       "1  BÉSICS® 12 oz Soup bowl                LOW                        1   \n",
       "\n",
       "   Residual Item Weight - Wet  Residual Weight - Oven-dry Item ID  \n",
       "0                        8.55                        7.74      A6  \n",
       "1                        6.73                        6.71      A6  "
      ]
     },
     "execution_count": 30,
     "metadata": {},
     "output_type": "execute_result"
    }
   ],
   "source": [
    "observations_wr001['Item ID'] = observations_wr001['Item Description Refined'].map(item2id)\n",
    "observations_wr001.head(2)"
   ]
  },
  {
   "cell_type": "code",
   "execution_count": 31,
   "metadata": {},
   "outputs": [
    {
     "data": {
      "text/plain": [
       "0"
      ]
     },
     "execution_count": 31,
     "metadata": {},
     "output_type": "execute_result"
    }
   ],
   "source": [
    "observations_wr001['Item ID'].isnull().sum()"
   ]
  },
  {
   "cell_type": "code",
   "execution_count": 32,
   "metadata": {},
   "outputs": [],
   "source": [
    "drop_cols = [\"Item Description From Trial\", \"Item Description Refined\"]\n",
    "observations_wr001 = observations_wr001.drop(drop_cols, axis=1)"
   ]
  },
  {
   "cell_type": "code",
   "execution_count": 33,
   "metadata": {},
   "outputs": [
    {
     "data": {
      "text/html": [
       "<div>\n",
       "<style scoped>\n",
       "    .dataframe tbody tr th:only-of-type {\n",
       "        vertical-align: middle;\n",
       "    }\n",
       "\n",
       "    .dataframe tbody tr th {\n",
       "        vertical-align: top;\n",
       "    }\n",
       "\n",
       "    .dataframe thead th {\n",
       "        text-align: right;\n",
       "    }\n",
       "</style>\n",
       "<table border=\"1\" class=\"dataframe\">\n",
       "  <thead>\n",
       "    <tr style=\"text-align: right;\">\n",
       "      <th></th>\n",
       "      <th>Item ID</th>\n",
       "      <th>Item Name</th>\n",
       "      <th>Item Description Refined</th>\n",
       "      <th>Material Class I</th>\n",
       "      <th>Material Class II</th>\n",
       "      <th>Material Class III</th>\n",
       "      <th>Start Weight</th>\n",
       "      <th>Trial ID</th>\n",
       "      <th>Trial Bag ID</th>\n",
       "      <th>Trial Bag Set</th>\n",
       "      <th>Load Concentration</th>\n",
       "      <th>Number of Items per bag</th>\n",
       "      <th>Residual Item Weight - Wet</th>\n",
       "      <th>Residual Weight - Oven-dry</th>\n",
       "      <th>% Residuals (Weight)</th>\n",
       "      <th>% Residuals (Area)</th>\n",
       "      <th>Trial</th>\n",
       "    </tr>\n",
       "  </thead>\n",
       "  <tbody>\n",
       "    <tr>\n",
       "      <th>0</th>\n",
       "      <td>A6</td>\n",
       "      <td>PLA-lined Paper Bowl 12oz</td>\n",
       "      <td>BÉSICS® 12 oz Soup bowl</td>\n",
       "      <td>Fiber</td>\n",
       "      <td>Lined Fiber</td>\n",
       "      <td>PLA lined Paper</td>\n",
       "      <td>8.113333</td>\n",
       "      <td>OWR001-01</td>\n",
       "      <td>BL1</td>\n",
       "      <td>Full</td>\n",
       "      <td>LOW</td>\n",
       "      <td>1</td>\n",
       "      <td>8.55</td>\n",
       "      <td>7.74</td>\n",
       "      <td>0.953985</td>\n",
       "      <td>None</td>\n",
       "      <td>OWR001-01</td>\n",
       "    </tr>\n",
       "    <tr>\n",
       "      <th>1</th>\n",
       "      <td>A6</td>\n",
       "      <td>PLA-lined Paper Bowl 12oz</td>\n",
       "      <td>BÉSICS® 12 oz Soup bowl</td>\n",
       "      <td>Fiber</td>\n",
       "      <td>Lined Fiber</td>\n",
       "      <td>PLA lined Paper</td>\n",
       "      <td>8.113333</td>\n",
       "      <td>OWR001-01</td>\n",
       "      <td>CL3</td>\n",
       "      <td>Full</td>\n",
       "      <td>LOW</td>\n",
       "      <td>1</td>\n",
       "      <td>6.73</td>\n",
       "      <td>6.71</td>\n",
       "      <td>0.827034</td>\n",
       "      <td>None</td>\n",
       "      <td>OWR001-01</td>\n",
       "    </tr>\n",
       "  </tbody>\n",
       "</table>\n",
       "</div>"
      ],
      "text/plain": [
       "  Item ID                  Item Name Item Description Refined  \\\n",
       "0      A6  PLA-lined Paper Bowl 12oz  BÉSICS® 12 oz Soup bowl   \n",
       "1      A6  PLA-lined Paper Bowl 12oz  BÉSICS® 12 oz Soup bowl   \n",
       "\n",
       "  Material Class I Material Class II Material Class III  Start Weight  \\\n",
       "0            Fiber       Lined Fiber    PLA lined Paper      8.113333   \n",
       "1            Fiber       Lined Fiber    PLA lined Paper      8.113333   \n",
       "\n",
       "    Trial ID Trial Bag ID Trial Bag Set Load Concentration  \\\n",
       "0  OWR001-01          BL1          Full                LOW   \n",
       "1  OWR001-01          CL3          Full                LOW   \n",
       "\n",
       "   Number of Items per bag  Residual Item Weight - Wet  \\\n",
       "0                        1                        8.55   \n",
       "1                        1                        6.73   \n",
       "\n",
       "   Residual Weight - Oven-dry  % Residuals (Weight) % Residuals (Area)  \\\n",
       "0                        7.74              0.953985               None   \n",
       "1                        6.71              0.827034               None   \n",
       "\n",
       "       Trial  \n",
       "0  OWR001-01  \n",
       "1  OWR001-01  "
      ]
     },
     "execution_count": 33,
     "metadata": {},
     "output_type": "execute_result"
    }
   ],
   "source": [
    "joined_wr001 = pd.merge(items_clean, observations_wr001, on=\"Item ID\")\n",
    "joined_wr001['% Residuals (Weight)'] = joined_wr001['Residual Weight - Oven-dry']/(joined_wr001['Start Weight'] * joined_wr001['Number of Items per bag'])\n",
    "joined_wr001['% Residuals (Area)'] = None\n",
    "joined_wr001['Trial'] = joined_wr001['Trial ID']\n",
    "joined_wr001.head(2)"
   ]
  },
  {
   "cell_type": "code",
   "execution_count": 34,
   "metadata": {},
   "outputs": [
    {
     "data": {
      "text/html": [
       "<div>\n",
       "<style scoped>\n",
       "    .dataframe tbody tr th:only-of-type {\n",
       "        vertical-align: middle;\n",
       "    }\n",
       "\n",
       "    .dataframe tbody tr th {\n",
       "        vertical-align: top;\n",
       "    }\n",
       "\n",
       "    .dataframe thead th {\n",
       "        text-align: right;\n",
       "    }\n",
       "</style>\n",
       "<table border=\"1\" class=\"dataframe\">\n",
       "  <thead>\n",
       "    <tr style=\"text-align: right;\">\n",
       "      <th></th>\n",
       "      <th>Trial</th>\n",
       "      <th>Item ID</th>\n",
       "      <th>Item Name</th>\n",
       "      <th>Item Description Refined</th>\n",
       "      <th>Material Class I</th>\n",
       "      <th>Material Class II</th>\n",
       "      <th>Material Class III</th>\n",
       "      <th>Start Weight</th>\n",
       "      <th>% Residuals (Weight)</th>\n",
       "      <th>% Residuals (Area)</th>\n",
       "    </tr>\n",
       "  </thead>\n",
       "  <tbody>\n",
       "    <tr>\n",
       "      <th>0</th>\n",
       "      <td>OWR001-01</td>\n",
       "      <td>A6</td>\n",
       "      <td>PLA-lined Paper Bowl 12oz</td>\n",
       "      <td>BÉSICS® 12 oz Soup bowl</td>\n",
       "      <td>Fiber</td>\n",
       "      <td>Lined Fiber</td>\n",
       "      <td>PLA lined Paper</td>\n",
       "      <td>8.113333</td>\n",
       "      <td>0.953985</td>\n",
       "      <td>None</td>\n",
       "    </tr>\n",
       "    <tr>\n",
       "      <th>1</th>\n",
       "      <td>OWR001-01</td>\n",
       "      <td>A6</td>\n",
       "      <td>PLA-lined Paper Bowl 12oz</td>\n",
       "      <td>BÉSICS® 12 oz Soup bowl</td>\n",
       "      <td>Fiber</td>\n",
       "      <td>Lined Fiber</td>\n",
       "      <td>PLA lined Paper</td>\n",
       "      <td>8.113333</td>\n",
       "      <td>0.827034</td>\n",
       "      <td>None</td>\n",
       "    </tr>\n",
       "  </tbody>\n",
       "</table>\n",
       "</div>"
      ],
      "text/plain": [
       "       Trial Item ID                  Item Name Item Description Refined  \\\n",
       "0  OWR001-01      A6  PLA-lined Paper Bowl 12oz  BÉSICS® 12 oz Soup bowl   \n",
       "1  OWR001-01      A6  PLA-lined Paper Bowl 12oz  BÉSICS® 12 oz Soup bowl   \n",
       "\n",
       "  Material Class I Material Class II Material Class III  Start Weight  \\\n",
       "0            Fiber       Lined Fiber    PLA lined Paper      8.113333   \n",
       "1            Fiber       Lined Fiber    PLA lined Paper      8.113333   \n",
       "\n",
       "   % Residuals (Weight) % Residuals (Area)  \n",
       "0              0.953985               None  \n",
       "1              0.827034               None  "
      ]
     },
     "execution_count": 34,
     "metadata": {},
     "output_type": "execute_result"
    }
   ],
   "source": [
    "joined_wr001 = joined_wr001[keep_cols]\n",
    "joined_wr001.head(2)"
   ]
  },
  {
   "cell_type": "markdown",
   "metadata": {},
   "source": [
    "#### Trial CASP001-01"
   ]
  },
  {
   "cell_type": "code",
   "execution_count": 35,
   "metadata": {},
   "outputs": [
    {
     "data": {
      "text/html": [
       "<div>\n",
       "<style scoped>\n",
       "    .dataframe tbody tr th:only-of-type {\n",
       "        vertical-align: middle;\n",
       "    }\n",
       "\n",
       "    .dataframe tbody tr th {\n",
       "        vertical-align: top;\n",
       "    }\n",
       "\n",
       "    .dataframe thead th {\n",
       "        text-align: right;\n",
       "    }\n",
       "</style>\n",
       "<table border=\"1\" class=\"dataframe\">\n",
       "  <thead>\n",
       "    <tr style=\"text-align: right;\">\n",
       "      <th></th>\n",
       "      <th>Trial ID</th>\n",
       "      <th>Trial Bag Set</th>\n",
       "      <th>Trial Bag ID</th>\n",
       "      <th>Item Description From Trial</th>\n",
       "      <th>Item Description Refined</th>\n",
       "      <th>Load Concentration</th>\n",
       "      <th>Number of Items per bag</th>\n",
       "      <th>Residual Item Weight - Wet</th>\n",
       "      <th>Residual Weight - Oven-dry</th>\n",
       "    </tr>\n",
       "  </thead>\n",
       "  <tbody>\n",
       "    <tr>\n",
       "      <th>0</th>\n",
       "      <td>CASP001-01</td>\n",
       "      <td>Set B</td>\n",
       "      <td>ST R1 H8</td>\n",
       "      <td>BESICS Bowl</td>\n",
       "      <td>BÉSICS® 12 oz Soup bowl</td>\n",
       "      <td>HIGH</td>\n",
       "      <td>2</td>\n",
       "      <td>0.0</td>\n",
       "      <td>0.00</td>\n",
       "    </tr>\n",
       "    <tr>\n",
       "      <th>1</th>\n",
       "      <td>CASP001-01</td>\n",
       "      <td>Set B</td>\n",
       "      <td>ST R1 H8</td>\n",
       "      <td>BESICS Sleeve</td>\n",
       "      <td>BÉSICS® Sleeve</td>\n",
       "      <td>HIGH</td>\n",
       "      <td>2</td>\n",
       "      <td>3.2</td>\n",
       "      <td>3.03</td>\n",
       "    </tr>\n",
       "  </tbody>\n",
       "</table>\n",
       "</div>"
      ],
      "text/plain": [
       "     Trial ID Trial Bag Set Trial Bag ID Item Description From Trial  \\\n",
       "0  CASP001-01         Set B     ST R1 H8                 BESICS Bowl   \n",
       "1  CASP001-01         Set B     ST R1 H8               BESICS Sleeve   \n",
       "\n",
       "  Item Description Refined Load Concentration  Number of Items per bag  \\\n",
       "0  BÉSICS® 12 oz Soup bowl               HIGH                        2   \n",
       "1           BÉSICS® Sleeve               HIGH                        2   \n",
       "\n",
       "   Residual Item Weight - Wet  Residual Weight - Oven-dry  \n",
       "0                         0.0                        0.00  \n",
       "1                         3.2                        3.03  "
      ]
     },
     "execution_count": 35,
     "metadata": {},
     "output_type": "execute_result"
    }
   ],
   "source": [
    "observations_casp001 = pd.read_excel(FILEPATH_PDF, sheet_name=2)\n",
    "observations_casp001.head(2)"
   ]
  },
  {
   "cell_type": "code",
   "execution_count": 36,
   "metadata": {},
   "outputs": [
    {
     "data": {
      "text/html": [
       "<div>\n",
       "<style scoped>\n",
       "    .dataframe tbody tr th:only-of-type {\n",
       "        vertical-align: middle;\n",
       "    }\n",
       "\n",
       "    .dataframe tbody tr th {\n",
       "        vertical-align: top;\n",
       "    }\n",
       "\n",
       "    .dataframe thead th {\n",
       "        text-align: right;\n",
       "    }\n",
       "</style>\n",
       "<table border=\"1\" class=\"dataframe\">\n",
       "  <thead>\n",
       "    <tr style=\"text-align: right;\">\n",
       "      <th></th>\n",
       "      <th>Trial ID</th>\n",
       "      <th>Trial Bag Set</th>\n",
       "      <th>Trial Bag ID</th>\n",
       "      <th>Item Description From Trial</th>\n",
       "      <th>Item Description Refined</th>\n",
       "      <th>Load Concentration</th>\n",
       "      <th>Number of Items per bag</th>\n",
       "      <th>Residual Item Weight - Wet</th>\n",
       "      <th>Residual Weight - Oven-dry</th>\n",
       "      <th>Item ID</th>\n",
       "    </tr>\n",
       "  </thead>\n",
       "  <tbody>\n",
       "    <tr>\n",
       "      <th>0</th>\n",
       "      <td>CASP001-01</td>\n",
       "      <td>Set B</td>\n",
       "      <td>ST R1 H8</td>\n",
       "      <td>BESICS Bowl</td>\n",
       "      <td>BÉSICS® 12 oz Soup bowl</td>\n",
       "      <td>HIGH</td>\n",
       "      <td>2</td>\n",
       "      <td>0.0</td>\n",
       "      <td>0.00</td>\n",
       "      <td>A6</td>\n",
       "    </tr>\n",
       "    <tr>\n",
       "      <th>1</th>\n",
       "      <td>CASP001-01</td>\n",
       "      <td>Set B</td>\n",
       "      <td>ST R1 H8</td>\n",
       "      <td>BESICS Sleeve</td>\n",
       "      <td>BÉSICS® Sleeve</td>\n",
       "      <td>HIGH</td>\n",
       "      <td>2</td>\n",
       "      <td>3.2</td>\n",
       "      <td>3.03</td>\n",
       "      <td>A22</td>\n",
       "    </tr>\n",
       "  </tbody>\n",
       "</table>\n",
       "</div>"
      ],
      "text/plain": [
       "     Trial ID Trial Bag Set Trial Bag ID Item Description From Trial  \\\n",
       "0  CASP001-01         Set B     ST R1 H8                 BESICS Bowl   \n",
       "1  CASP001-01         Set B     ST R1 H8               BESICS Sleeve   \n",
       "\n",
       "  Item Description Refined Load Concentration  Number of Items per bag  \\\n",
       "0  BÉSICS® 12 oz Soup bowl               HIGH                        2   \n",
       "1           BÉSICS® Sleeve               HIGH                        2   \n",
       "\n",
       "   Residual Item Weight - Wet  Residual Weight - Oven-dry Item ID  \n",
       "0                         0.0                        0.00      A6  \n",
       "1                         3.2                        3.03     A22  "
      ]
     },
     "execution_count": 36,
     "metadata": {},
     "output_type": "execute_result"
    }
   ],
   "source": [
    "observations_casp001['Item ID'] = observations_casp001['Item Description Refined'].map(item2id)\n",
    "observations_casp001.head(2)"
   ]
  },
  {
   "cell_type": "code",
   "execution_count": 37,
   "metadata": {},
   "outputs": [
    {
     "data": {
      "text/plain": [
       "0"
      ]
     },
     "execution_count": 37,
     "metadata": {},
     "output_type": "execute_result"
    }
   ],
   "source": [
    "observations_casp001['Item ID'].isnull().sum()"
   ]
  },
  {
   "cell_type": "code",
   "execution_count": 38,
   "metadata": {},
   "outputs": [],
   "source": [
    "drop_cols = [\"Item Description From Trial\", \"Item Description Refined\"]\n",
    "observations_casp001 = observations_casp001.drop(drop_cols, axis=1)"
   ]
  },
  {
   "cell_type": "code",
   "execution_count": 39,
   "metadata": {},
   "outputs": [
    {
     "data": {
      "text/html": [
       "<div>\n",
       "<style scoped>\n",
       "    .dataframe tbody tr th:only-of-type {\n",
       "        vertical-align: middle;\n",
       "    }\n",
       "\n",
       "    .dataframe tbody tr th {\n",
       "        vertical-align: top;\n",
       "    }\n",
       "\n",
       "    .dataframe thead th {\n",
       "        text-align: right;\n",
       "    }\n",
       "</style>\n",
       "<table border=\"1\" class=\"dataframe\">\n",
       "  <thead>\n",
       "    <tr style=\"text-align: right;\">\n",
       "      <th></th>\n",
       "      <th>Item ID</th>\n",
       "      <th>Item Name</th>\n",
       "      <th>Item Description Refined</th>\n",
       "      <th>Material Class I</th>\n",
       "      <th>Material Class II</th>\n",
       "      <th>Material Class III</th>\n",
       "      <th>Start Weight</th>\n",
       "      <th>Trial ID</th>\n",
       "      <th>Trial Bag Set</th>\n",
       "      <th>Trial Bag ID</th>\n",
       "      <th>Load Concentration</th>\n",
       "      <th>Number of Items per bag</th>\n",
       "      <th>Residual Item Weight - Wet</th>\n",
       "      <th>Residual Weight - Oven-dry</th>\n",
       "      <th>% Residuals (Weight)</th>\n",
       "      <th>% Residuals (Area)</th>\n",
       "      <th>Trial</th>\n",
       "    </tr>\n",
       "  </thead>\n",
       "  <tbody>\n",
       "    <tr>\n",
       "      <th>0</th>\n",
       "      <td>A6</td>\n",
       "      <td>PLA-lined Paper Bowl 12oz</td>\n",
       "      <td>BÉSICS® 12 oz Soup bowl</td>\n",
       "      <td>Fiber</td>\n",
       "      <td>Lined Fiber</td>\n",
       "      <td>PLA lined Paper</td>\n",
       "      <td>8.113333</td>\n",
       "      <td>CASP001-01</td>\n",
       "      <td>Set B</td>\n",
       "      <td>ST R1 H8</td>\n",
       "      <td>HIGH</td>\n",
       "      <td>2</td>\n",
       "      <td>0.00</td>\n",
       "      <td>0.00</td>\n",
       "      <td>0.000000</td>\n",
       "      <td>None</td>\n",
       "      <td>CASP001-01</td>\n",
       "    </tr>\n",
       "    <tr>\n",
       "      <th>1</th>\n",
       "      <td>A6</td>\n",
       "      <td>PLA-lined Paper Bowl 12oz</td>\n",
       "      <td>BÉSICS® 12 oz Soup bowl</td>\n",
       "      <td>Fiber</td>\n",
       "      <td>Lined Fiber</td>\n",
       "      <td>PLA lined Paper</td>\n",
       "      <td>8.113333</td>\n",
       "      <td>CASP001-01</td>\n",
       "      <td>Set B</td>\n",
       "      <td>ST R2 H4</td>\n",
       "      <td>HIGH</td>\n",
       "      <td>2</td>\n",
       "      <td>14.76</td>\n",
       "      <td>13.05</td>\n",
       "      <td>0.804232</td>\n",
       "      <td>None</td>\n",
       "      <td>CASP001-01</td>\n",
       "    </tr>\n",
       "  </tbody>\n",
       "</table>\n",
       "</div>"
      ],
      "text/plain": [
       "  Item ID                  Item Name Item Description Refined  \\\n",
       "0      A6  PLA-lined Paper Bowl 12oz  BÉSICS® 12 oz Soup bowl   \n",
       "1      A6  PLA-lined Paper Bowl 12oz  BÉSICS® 12 oz Soup bowl   \n",
       "\n",
       "  Material Class I Material Class II Material Class III  Start Weight  \\\n",
       "0            Fiber       Lined Fiber    PLA lined Paper      8.113333   \n",
       "1            Fiber       Lined Fiber    PLA lined Paper      8.113333   \n",
       "\n",
       "     Trial ID Trial Bag Set Trial Bag ID Load Concentration  \\\n",
       "0  CASP001-01         Set B     ST R1 H8               HIGH   \n",
       "1  CASP001-01         Set B     ST R2 H4               HIGH   \n",
       "\n",
       "   Number of Items per bag  Residual Item Weight - Wet  \\\n",
       "0                        2                        0.00   \n",
       "1                        2                       14.76   \n",
       "\n",
       "   Residual Weight - Oven-dry  % Residuals (Weight) % Residuals (Area)  \\\n",
       "0                        0.00              0.000000               None   \n",
       "1                       13.05              0.804232               None   \n",
       "\n",
       "        Trial  \n",
       "0  CASP001-01  \n",
       "1  CASP001-01  "
      ]
     },
     "execution_count": 39,
     "metadata": {},
     "output_type": "execute_result"
    }
   ],
   "source": [
    "joined_casp001 = pd.merge(items_clean, observations_casp001, on=\"Item ID\")\n",
    "joined_casp001['% Residuals (Weight)'] = joined_casp001['Residual Weight - Oven-dry']/(joined_casp001['Start Weight'] * joined_casp001['Number of Items per bag'])\n",
    "joined_casp001['% Residuals (Area)'] = None\n",
    "joined_casp001['Trial'] = joined_casp001['Trial ID']\n",
    "joined_casp001.head(2)"
   ]
  },
  {
   "cell_type": "code",
   "execution_count": 40,
   "metadata": {},
   "outputs": [
    {
     "data": {
      "text/html": [
       "<div>\n",
       "<style scoped>\n",
       "    .dataframe tbody tr th:only-of-type {\n",
       "        vertical-align: middle;\n",
       "    }\n",
       "\n",
       "    .dataframe tbody tr th {\n",
       "        vertical-align: top;\n",
       "    }\n",
       "\n",
       "    .dataframe thead th {\n",
       "        text-align: right;\n",
       "    }\n",
       "</style>\n",
       "<table border=\"1\" class=\"dataframe\">\n",
       "  <thead>\n",
       "    <tr style=\"text-align: right;\">\n",
       "      <th></th>\n",
       "      <th>Trial</th>\n",
       "      <th>Item ID</th>\n",
       "      <th>Item Name</th>\n",
       "      <th>Item Description Refined</th>\n",
       "      <th>Material Class I</th>\n",
       "      <th>Material Class II</th>\n",
       "      <th>Material Class III</th>\n",
       "      <th>Start Weight</th>\n",
       "      <th>% Residuals (Weight)</th>\n",
       "      <th>% Residuals (Area)</th>\n",
       "    </tr>\n",
       "  </thead>\n",
       "  <tbody>\n",
       "    <tr>\n",
       "      <th>0</th>\n",
       "      <td>CASP001-01</td>\n",
       "      <td>A6</td>\n",
       "      <td>PLA-lined Paper Bowl 12oz</td>\n",
       "      <td>BÉSICS® 12 oz Soup bowl</td>\n",
       "      <td>Fiber</td>\n",
       "      <td>Lined Fiber</td>\n",
       "      <td>PLA lined Paper</td>\n",
       "      <td>8.113333</td>\n",
       "      <td>0.000000</td>\n",
       "      <td>None</td>\n",
       "    </tr>\n",
       "    <tr>\n",
       "      <th>1</th>\n",
       "      <td>CASP001-01</td>\n",
       "      <td>A6</td>\n",
       "      <td>PLA-lined Paper Bowl 12oz</td>\n",
       "      <td>BÉSICS® 12 oz Soup bowl</td>\n",
       "      <td>Fiber</td>\n",
       "      <td>Lined Fiber</td>\n",
       "      <td>PLA lined Paper</td>\n",
       "      <td>8.113333</td>\n",
       "      <td>0.804232</td>\n",
       "      <td>None</td>\n",
       "    </tr>\n",
       "  </tbody>\n",
       "</table>\n",
       "</div>"
      ],
      "text/plain": [
       "        Trial Item ID                  Item Name Item Description Refined  \\\n",
       "0  CASP001-01      A6  PLA-lined Paper Bowl 12oz  BÉSICS® 12 oz Soup bowl   \n",
       "1  CASP001-01      A6  PLA-lined Paper Bowl 12oz  BÉSICS® 12 oz Soup bowl   \n",
       "\n",
       "  Material Class I Material Class II Material Class III  Start Weight  \\\n",
       "0            Fiber       Lined Fiber    PLA lined Paper      8.113333   \n",
       "1            Fiber       Lined Fiber    PLA lined Paper      8.113333   \n",
       "\n",
       "   % Residuals (Weight) % Residuals (Area)  \n",
       "0              0.000000               None  \n",
       "1              0.804232               None  "
      ]
     },
     "execution_count": 40,
     "metadata": {},
     "output_type": "execute_result"
    }
   ],
   "source": [
    "joined_casp001 = joined_casp001[keep_cols]\n",
    "joined_casp001.head(2)"
   ]
  },
  {
   "cell_type": "markdown",
   "metadata": {},
   "source": [
    "#### Set Up Mapping for Missing Items"
   ]
  },
  {
   "cell_type": "code",
   "execution_count": 41,
   "metadata": {},
   "outputs": [
    {
     "data": {
      "text/html": [
       "<div>\n",
       "<style scoped>\n",
       "    .dataframe tbody tr th:only-of-type {\n",
       "        vertical-align: middle;\n",
       "    }\n",
       "\n",
       "    .dataframe tbody tr th {\n",
       "        vertical-align: top;\n",
       "    }\n",
       "\n",
       "    .dataframe thead th {\n",
       "        text-align: right;\n",
       "    }\n",
       "</style>\n",
       "<table border=\"1\" class=\"dataframe\">\n",
       "  <thead>\n",
       "    <tr style=\"text-align: right;\">\n",
       "      <th></th>\n",
       "      <th>OG Description</th>\n",
       "      <th>Item ID</th>\n",
       "    </tr>\n",
       "  </thead>\n",
       "  <tbody>\n",
       "    <tr>\n",
       "      <th>0</th>\n",
       "      <td>These are the ones missing from CASP004:</td>\n",
       "      <td>NaN</td>\n",
       "    </tr>\n",
       "    <tr>\n",
       "      <th>1</th>\n",
       "      <td>12 oz Hot cup / Soup bowl</td>\n",
       "      <td>A6</td>\n",
       "    </tr>\n",
       "  </tbody>\n",
       "</table>\n",
       "</div>"
      ],
      "text/plain": [
       "                             OG Description Item ID\n",
       "0  These are the ones missing from CASP004:     NaN\n",
       "1                 12 oz Hot cup / Soup bowl      A6"
      ]
     },
     "execution_count": 41,
     "metadata": {},
     "output_type": "execute_result"
    }
   ],
   "source": [
    "FILPATH_ITEMS_MAP = DATA_FOLDER + \"Item IDS for CASP004 CASP003.xlsx\"\n",
    "df_items_map = pd.read_excel(FILPATH_ITEMS_MAP)\n",
    "df_items_map.head(2)"
   ]
  },
  {
   "cell_type": "code",
   "execution_count": 42,
   "metadata": {},
   "outputs": [
    {
     "data": {
      "text/plain": [
       "{'These are the ones missing from CASP004:': nan,\n",
       " '12 oz Hot cup / Soup bowl': 'A6',\n",
       " 'Hot cup lid': 'A7',\n",
       " '16 oz PLA cold cup': 'A36',\n",
       " 'Cutlery': 'A11',\n",
       " 'PLA-lined fibre bowl, white': 'Q',\n",
       " 'Uncoated paper food tray': 'A25',\n",
       " 'Lined paper food tray with lid': 'A21',\n",
       " 'Kraft control': 'A42',\n",
       " '16oz NoTree Paper Hot Cup SKU CU-SU-16': 'A1',\n",
       " '14oz PLA Cold Cup SKU CP-CS-14': 'A78',\n",
       " 'Fiber Cutlery, Spoon SP-FB-6-LF': 'A77',\n",
       " '3Gallon Food Scrap Bag BG-CS-3': 'A4',\n",
       " 'TPLA Spoon SP-PS-6': 'A72',\n",
       " 'Large brown bag': 'A50',\n",
       " nan: nan,\n",
       " 'These are the ones missing from CASP003:': nan,\n",
       " '2-ply Kraft Control 10\"x5\"': 'A42',\n",
       " 'BESICS Fry Tray': 'A25',\n",
       " 'BESICS 8oz Hot cup lid': 'A48',\n",
       " '16oz clear cold cup': 'A36',\n",
       " 'Fiber Clamshell': 'A43',\n",
       " '8oz soup bowl': 'A12',\n",
       " 'BESICS Box with Folding Lid': 'A21',\n",
       " 'Multilaminate Stand up Pouch': 'There are actually two products with this as the original description, apologies:',\n",
       " 'Elk Packaging': 'A35',\n",
       " 'Alter Eco ': 'A4'}"
      ]
     },
     "execution_count": 42,
     "metadata": {},
     "output_type": "execute_result"
    }
   ],
   "source": [
    "missing_items = df_items_map.set_index(\"OG Description\")['Item ID'].to_dict()\n",
    "missing_items"
   ]
  },
  {
   "cell_type": "markdown",
   "metadata": {},
   "source": [
    "#### Trial CASP003-01"
   ]
  },
  {
   "cell_type": "code",
   "execution_count": 43,
   "metadata": {},
   "outputs": [
    {
     "data": {
      "text/html": [
       "<div>\n",
       "<style scoped>\n",
       "    .dataframe tbody tr th:only-of-type {\n",
       "        vertical-align: middle;\n",
       "    }\n",
       "\n",
       "    .dataframe tbody tr th {\n",
       "        vertical-align: top;\n",
       "    }\n",
       "\n",
       "    .dataframe thead th {\n",
       "        text-align: right;\n",
       "    }\n",
       "</style>\n",
       "<table border=\"1\" class=\"dataframe\">\n",
       "  <thead>\n",
       "    <tr style=\"text-align: right;\">\n",
       "      <th></th>\n",
       "      <th>Trial ID</th>\n",
       "      <th>Trial Bag ID</th>\n",
       "      <th>Trial Bag Colour</th>\n",
       "      <th>Bag Set Detail</th>\n",
       "      <th>Item Description From Trial</th>\n",
       "      <th>Item Description Refined</th>\n",
       "      <th>Number of Items per bag</th>\n",
       "      <th>Initial Item Weight - Aggregate</th>\n",
       "      <th>Final Residual Weight - wet - aggregate</th>\n",
       "      <th>Weight units</th>\n",
       "      <th>Initial Per-Item Weight</th>\n",
       "      <th>Notes on Final Weight</th>\n",
       "    </tr>\n",
       "  </thead>\n",
       "  <tbody>\n",
       "    <tr>\n",
       "      <th>0</th>\n",
       "      <td>CASP003-01</td>\n",
       "      <td>A1</td>\n",
       "      <td>Black</td>\n",
       "      <td>CFTP baseline</td>\n",
       "      <td>2 Kraft Papers</td>\n",
       "      <td>2-ply Kraft Control 10\"x5\"</td>\n",
       "      <td>1</td>\n",
       "      <td>5</td>\n",
       "      <td>8.0</td>\n",
       "      <td>grams</td>\n",
       "      <td>5.0</td>\n",
       "      <td>NaN</td>\n",
       "    </tr>\n",
       "    <tr>\n",
       "      <th>1</th>\n",
       "      <td>CASP003-01</td>\n",
       "      <td>A1</td>\n",
       "      <td>Black</td>\n",
       "      <td>CFTP baseline</td>\n",
       "      <td>Cardboard Tray</td>\n",
       "      <td>BESICS Fry Tray</td>\n",
       "      <td>1</td>\n",
       "      <td>13</td>\n",
       "      <td>13.0</td>\n",
       "      <td>grams</td>\n",
       "      <td>13.0</td>\n",
       "      <td>NaN</td>\n",
       "    </tr>\n",
       "  </tbody>\n",
       "</table>\n",
       "</div>"
      ],
      "text/plain": [
       "     Trial ID Trial Bag ID Trial Bag Colour Bag Set Detail  \\\n",
       "0  CASP003-01           A1            Black  CFTP baseline   \n",
       "1  CASP003-01           A1            Black  CFTP baseline   \n",
       "\n",
       "  Item Description From Trial    Item Description Refined  \\\n",
       "0              2 Kraft Papers  2-ply Kraft Control 10\"x5\"   \n",
       "1              Cardboard Tray             BESICS Fry Tray   \n",
       "\n",
       "   Number of Items per bag  Initial Item Weight - Aggregate  \\\n",
       "0                        1                                5   \n",
       "1                        1                               13   \n",
       "\n",
       "   Final Residual Weight - wet - aggregate Weight units  \\\n",
       "0                                      8.0        grams   \n",
       "1                                     13.0        grams   \n",
       "\n",
       "   Initial Per-Item Weight Notes on Final Weight  \n",
       "0                      5.0                   NaN  \n",
       "1                     13.0                   NaN  "
      ]
     },
     "execution_count": 43,
     "metadata": {},
     "output_type": "execute_result"
    }
   ],
   "source": [
    "observations_casp003 = pd.read_excel(FILEPATH_PDF, sheet_name=3)\n",
    "observations_casp003.head(2)"
   ]
  },
  {
   "cell_type": "code",
   "execution_count": 44,
   "metadata": {},
   "outputs": [],
   "source": [
    "# everything in blug bags was combined and impossible to separate\n",
    "observations_casp003 = observations_casp003[~(observations_casp003['Trial Bag Colour']==\"Blue\")]"
   ]
  },
  {
   "cell_type": "code",
   "execution_count": 45,
   "metadata": {},
   "outputs": [
    {
     "data": {
      "text/html": [
       "<div>\n",
       "<style scoped>\n",
       "    .dataframe tbody tr th:only-of-type {\n",
       "        vertical-align: middle;\n",
       "    }\n",
       "\n",
       "    .dataframe tbody tr th {\n",
       "        vertical-align: top;\n",
       "    }\n",
       "\n",
       "    .dataframe thead th {\n",
       "        text-align: right;\n",
       "    }\n",
       "</style>\n",
       "<table border=\"1\" class=\"dataframe\">\n",
       "  <thead>\n",
       "    <tr style=\"text-align: right;\">\n",
       "      <th></th>\n",
       "      <th>Trial ID</th>\n",
       "      <th>Trial Bag ID</th>\n",
       "      <th>Trial Bag Colour</th>\n",
       "      <th>Bag Set Detail</th>\n",
       "      <th>Item Description From Trial</th>\n",
       "      <th>Item Description Refined</th>\n",
       "      <th>Number of Items per bag</th>\n",
       "      <th>Initial Item Weight - Aggregate</th>\n",
       "      <th>Final Residual Weight - wet - aggregate</th>\n",
       "      <th>Weight units</th>\n",
       "      <th>Initial Per-Item Weight</th>\n",
       "      <th>Notes on Final Weight</th>\n",
       "      <th>Item ID</th>\n",
       "    </tr>\n",
       "  </thead>\n",
       "  <tbody>\n",
       "    <tr>\n",
       "      <th>0</th>\n",
       "      <td>CASP003-01</td>\n",
       "      <td>A1</td>\n",
       "      <td>Black</td>\n",
       "      <td>CFTP baseline</td>\n",
       "      <td>2 Kraft Papers</td>\n",
       "      <td>2-ply Kraft Control 10\"x5\"</td>\n",
       "      <td>1</td>\n",
       "      <td>5</td>\n",
       "      <td>8.0</td>\n",
       "      <td>grams</td>\n",
       "      <td>5.0</td>\n",
       "      <td>NaN</td>\n",
       "      <td>NaN</td>\n",
       "    </tr>\n",
       "    <tr>\n",
       "      <th>1</th>\n",
       "      <td>CASP003-01</td>\n",
       "      <td>A1</td>\n",
       "      <td>Black</td>\n",
       "      <td>CFTP baseline</td>\n",
       "      <td>Cardboard Tray</td>\n",
       "      <td>BESICS Fry Tray</td>\n",
       "      <td>1</td>\n",
       "      <td>13</td>\n",
       "      <td>13.0</td>\n",
       "      <td>grams</td>\n",
       "      <td>13.0</td>\n",
       "      <td>NaN</td>\n",
       "      <td>NaN</td>\n",
       "    </tr>\n",
       "  </tbody>\n",
       "</table>\n",
       "</div>"
      ],
      "text/plain": [
       "     Trial ID Trial Bag ID Trial Bag Colour Bag Set Detail  \\\n",
       "0  CASP003-01           A1            Black  CFTP baseline   \n",
       "1  CASP003-01           A1            Black  CFTP baseline   \n",
       "\n",
       "  Item Description From Trial    Item Description Refined  \\\n",
       "0              2 Kraft Papers  2-ply Kraft Control 10\"x5\"   \n",
       "1              Cardboard Tray             BESICS Fry Tray   \n",
       "\n",
       "   Number of Items per bag  Initial Item Weight - Aggregate  \\\n",
       "0                        1                                5   \n",
       "1                        1                               13   \n",
       "\n",
       "   Final Residual Weight - wet - aggregate Weight units  \\\n",
       "0                                      8.0        grams   \n",
       "1                                     13.0        grams   \n",
       "\n",
       "   Initial Per-Item Weight Notes on Final Weight Item ID  \n",
       "0                      5.0                   NaN     NaN  \n",
       "1                     13.0                   NaN     NaN  "
      ]
     },
     "execution_count": 45,
     "metadata": {},
     "output_type": "execute_result"
    }
   ],
   "source": [
    "observations_casp003['Item ID'] = observations_casp003['Item Description Refined'].map(item2id)\n",
    "observations_casp003.head(2)"
   ]
  },
  {
   "cell_type": "code",
   "execution_count": 46,
   "metadata": {},
   "outputs": [
    {
     "data": {
      "text/plain": [
       "27"
      ]
     },
     "execution_count": 46,
     "metadata": {},
     "output_type": "execute_result"
    }
   ],
   "source": [
    "observations_casp003['Item ID'].isnull().sum()"
   ]
  },
  {
   "cell_type": "code",
   "execution_count": 47,
   "metadata": {},
   "outputs": [
    {
     "data": {
      "text/plain": [
       "array(['2-ply Kraft Control 10\"x5\"', 'BESICS Fry Tray',\n",
       "       'BESICS 8oz Hot cup lid', '16oz clear cold cup', 'Fiber Clamshell',\n",
       "       '8oz soup bowl', 'BESICS Box with Folding Lid',\n",
       "       'Multilaminate Stand up Pouch'], dtype=object)"
      ]
     },
     "execution_count": 47,
     "metadata": {},
     "output_type": "execute_result"
    }
   ],
   "source": [
    "unmatched = observations_casp003[observations_casp003['Item ID'].isnull()]['Item Description Refined'].str.strip().unique()\n",
    "unmatched"
   ]
  },
  {
   "cell_type": "code",
   "execution_count": 48,
   "metadata": {},
   "outputs": [],
   "source": [
    "observations_casp003['Item ID'] = np.where(observations_casp003['Item Description Refined'].str.strip().isin(unmatched),\n",
    "                         observations_casp003['Item Description Refined'].str.strip().map(missing_items),\n",
    "                         observations_casp003['Item ID'])"
   ]
  },
  {
   "cell_type": "code",
   "execution_count": 49,
   "metadata": {},
   "outputs": [
    {
     "data": {
      "text/plain": [
       "0"
      ]
     },
     "execution_count": 49,
     "metadata": {},
     "output_type": "execute_result"
    }
   ],
   "source": [
    "observations_casp003['Item ID'].isnull().sum()"
   ]
  },
  {
   "cell_type": "code",
   "execution_count": 50,
   "metadata": {},
   "outputs": [],
   "source": [
    "drop_cols = [\"Item Description From Trial\", \"Item Description Refined\"]\n",
    "observations_casp003 = observations_casp003.drop(drop_cols, axis=1)"
   ]
  },
  {
   "cell_type": "code",
   "execution_count": 51,
   "metadata": {},
   "outputs": [
    {
     "data": {
      "text/html": [
       "<div>\n",
       "<style scoped>\n",
       "    .dataframe tbody tr th:only-of-type {\n",
       "        vertical-align: middle;\n",
       "    }\n",
       "\n",
       "    .dataframe tbody tr th {\n",
       "        vertical-align: top;\n",
       "    }\n",
       "\n",
       "    .dataframe thead th {\n",
       "        text-align: right;\n",
       "    }\n",
       "</style>\n",
       "<table border=\"1\" class=\"dataframe\">\n",
       "  <thead>\n",
       "    <tr style=\"text-align: right;\">\n",
       "      <th></th>\n",
       "      <th>Item ID</th>\n",
       "      <th>Item Name</th>\n",
       "      <th>Item Description Refined</th>\n",
       "      <th>Material Class I</th>\n",
       "      <th>Material Class II</th>\n",
       "      <th>Material Class III</th>\n",
       "      <th>Start Weight</th>\n",
       "      <th>Trial ID</th>\n",
       "      <th>Trial Bag ID</th>\n",
       "      <th>Trial Bag Colour</th>\n",
       "      <th>Bag Set Detail</th>\n",
       "      <th>Number of Items per bag</th>\n",
       "      <th>Initial Item Weight - Aggregate</th>\n",
       "      <th>Final Residual Weight - wet - aggregate</th>\n",
       "      <th>Weight units</th>\n",
       "      <th>Initial Per-Item Weight</th>\n",
       "      <th>Notes on Final Weight</th>\n",
       "      <th>% Residuals (Weight)</th>\n",
       "      <th>% Residuals (Area)</th>\n",
       "      <th>Trial</th>\n",
       "    </tr>\n",
       "  </thead>\n",
       "  <tbody>\n",
       "    <tr>\n",
       "      <th>0</th>\n",
       "      <td>A12</td>\n",
       "      <td>PLA-lined Paper Bowl 8oz</td>\n",
       "      <td>BÉSICS® 8 oz Soup Bowl</td>\n",
       "      <td>Fiber</td>\n",
       "      <td>Lined Fiber</td>\n",
       "      <td>PLA lined Paper</td>\n",
       "      <td>7.766667</td>\n",
       "      <td>CASP003-01</td>\n",
       "      <td>A1</td>\n",
       "      <td>Black</td>\n",
       "      <td>CFTP baseline</td>\n",
       "      <td>1</td>\n",
       "      <td>8</td>\n",
       "      <td>8.0</td>\n",
       "      <td>grams</td>\n",
       "      <td>8.0</td>\n",
       "      <td>NaN</td>\n",
       "      <td>1.030043</td>\n",
       "      <td>None</td>\n",
       "      <td>CASP003-01</td>\n",
       "    </tr>\n",
       "    <tr>\n",
       "      <th>1</th>\n",
       "      <td>A12</td>\n",
       "      <td>PLA-lined Paper Bowl 8oz</td>\n",
       "      <td>BÉSICS® 8 oz Soup Bowl</td>\n",
       "      <td>Fiber</td>\n",
       "      <td>Lined Fiber</td>\n",
       "      <td>PLA lined Paper</td>\n",
       "      <td>7.766667</td>\n",
       "      <td>CASP003-01</td>\n",
       "      <td>A2</td>\n",
       "      <td>Black</td>\n",
       "      <td>CFTP baseline</td>\n",
       "      <td>1</td>\n",
       "      <td>8</td>\n",
       "      <td>8.0</td>\n",
       "      <td>grams</td>\n",
       "      <td>8.0</td>\n",
       "      <td>NaN</td>\n",
       "      <td>1.030043</td>\n",
       "      <td>None</td>\n",
       "      <td>CASP003-01</td>\n",
       "    </tr>\n",
       "  </tbody>\n",
       "</table>\n",
       "</div>"
      ],
      "text/plain": [
       "  Item ID                 Item Name Item Description Refined Material Class I  \\\n",
       "0     A12  PLA-lined Paper Bowl 8oz   BÉSICS® 8 oz Soup Bowl            Fiber   \n",
       "1     A12  PLA-lined Paper Bowl 8oz   BÉSICS® 8 oz Soup Bowl            Fiber   \n",
       "\n",
       "  Material Class II Material Class III  Start Weight    Trial ID Trial Bag ID  \\\n",
       "0       Lined Fiber    PLA lined Paper      7.766667  CASP003-01           A1   \n",
       "1       Lined Fiber    PLA lined Paper      7.766667  CASP003-01           A2   \n",
       "\n",
       "  Trial Bag Colour Bag Set Detail  Number of Items per bag  \\\n",
       "0            Black  CFTP baseline                        1   \n",
       "1            Black  CFTP baseline                        1   \n",
       "\n",
       "   Initial Item Weight - Aggregate  Final Residual Weight - wet - aggregate  \\\n",
       "0                                8                                      8.0   \n",
       "1                                8                                      8.0   \n",
       "\n",
       "  Weight units  Initial Per-Item Weight Notes on Final Weight  \\\n",
       "0        grams                      8.0                   NaN   \n",
       "1        grams                      8.0                   NaN   \n",
       "\n",
       "   % Residuals (Weight) % Residuals (Area)       Trial  \n",
       "0              1.030043               None  CASP003-01  \n",
       "1              1.030043               None  CASP003-01  "
      ]
     },
     "execution_count": 51,
     "metadata": {},
     "output_type": "execute_result"
    }
   ],
   "source": [
    "joined_casp003 = pd.merge(items_clean, observations_casp003, on=\"Item ID\")\n",
    "joined_casp003['% Residuals (Weight)'] = joined_casp003['Final Residual Weight - wet - aggregate']/(joined_casp003['Start Weight'] * joined_casp003['Number of Items per bag'])\n",
    "joined_casp003['% Residuals (Area)'] = None\n",
    "joined_casp003['Trial'] = joined_casp003['Trial ID']\n",
    "joined_casp003.head(2)"
   ]
  },
  {
   "cell_type": "code",
   "execution_count": 52,
   "metadata": {},
   "outputs": [
    {
     "data": {
      "text/html": [
       "<div>\n",
       "<style scoped>\n",
       "    .dataframe tbody tr th:only-of-type {\n",
       "        vertical-align: middle;\n",
       "    }\n",
       "\n",
       "    .dataframe tbody tr th {\n",
       "        vertical-align: top;\n",
       "    }\n",
       "\n",
       "    .dataframe thead th {\n",
       "        text-align: right;\n",
       "    }\n",
       "</style>\n",
       "<table border=\"1\" class=\"dataframe\">\n",
       "  <thead>\n",
       "    <tr style=\"text-align: right;\">\n",
       "      <th></th>\n",
       "      <th>Trial</th>\n",
       "      <th>Item ID</th>\n",
       "      <th>Item Name</th>\n",
       "      <th>Item Description Refined</th>\n",
       "      <th>Material Class I</th>\n",
       "      <th>Material Class II</th>\n",
       "      <th>Material Class III</th>\n",
       "      <th>Start Weight</th>\n",
       "      <th>% Residuals (Weight)</th>\n",
       "      <th>% Residuals (Area)</th>\n",
       "    </tr>\n",
       "  </thead>\n",
       "  <tbody>\n",
       "    <tr>\n",
       "      <th>0</th>\n",
       "      <td>CASP003-01</td>\n",
       "      <td>A12</td>\n",
       "      <td>PLA-lined Paper Bowl 8oz</td>\n",
       "      <td>BÉSICS® 8 oz Soup Bowl</td>\n",
       "      <td>Fiber</td>\n",
       "      <td>Lined Fiber</td>\n",
       "      <td>PLA lined Paper</td>\n",
       "      <td>7.766667</td>\n",
       "      <td>1.030043</td>\n",
       "      <td>None</td>\n",
       "    </tr>\n",
       "    <tr>\n",
       "      <th>1</th>\n",
       "      <td>CASP003-01</td>\n",
       "      <td>A12</td>\n",
       "      <td>PLA-lined Paper Bowl 8oz</td>\n",
       "      <td>BÉSICS® 8 oz Soup Bowl</td>\n",
       "      <td>Fiber</td>\n",
       "      <td>Lined Fiber</td>\n",
       "      <td>PLA lined Paper</td>\n",
       "      <td>7.766667</td>\n",
       "      <td>1.030043</td>\n",
       "      <td>None</td>\n",
       "    </tr>\n",
       "  </tbody>\n",
       "</table>\n",
       "</div>"
      ],
      "text/plain": [
       "        Trial Item ID                 Item Name Item Description Refined  \\\n",
       "0  CASP003-01     A12  PLA-lined Paper Bowl 8oz   BÉSICS® 8 oz Soup Bowl   \n",
       "1  CASP003-01     A12  PLA-lined Paper Bowl 8oz   BÉSICS® 8 oz Soup Bowl   \n",
       "\n",
       "  Material Class I Material Class II Material Class III  Start Weight  \\\n",
       "0            Fiber       Lined Fiber    PLA lined Paper      7.766667   \n",
       "1            Fiber       Lined Fiber    PLA lined Paper      7.766667   \n",
       "\n",
       "   % Residuals (Weight) % Residuals (Area)  \n",
       "0              1.030043               None  \n",
       "1              1.030043               None  "
      ]
     },
     "execution_count": 52,
     "metadata": {},
     "output_type": "execute_result"
    }
   ],
   "source": [
    "joined_casp003 = joined_casp003[keep_cols]\n",
    "joined_casp003.head(2)"
   ]
  },
  {
   "cell_type": "markdown",
   "metadata": {},
   "source": [
    "#### Trial WR003-01"
   ]
  },
  {
   "cell_type": "code",
   "execution_count": 53,
   "metadata": {},
   "outputs": [
    {
     "data": {
      "text/html": [
       "<div>\n",
       "<style scoped>\n",
       "    .dataframe tbody tr th:only-of-type {\n",
       "        vertical-align: middle;\n",
       "    }\n",
       "\n",
       "    .dataframe tbody tr th {\n",
       "        vertical-align: top;\n",
       "    }\n",
       "\n",
       "    .dataframe thead th {\n",
       "        text-align: right;\n",
       "    }\n",
       "</style>\n",
       "<table border=\"1\" class=\"dataframe\">\n",
       "  <thead>\n",
       "    <tr style=\"text-align: right;\">\n",
       "      <th></th>\n",
       "      <th>Trial ID</th>\n",
       "      <th>Trial Bag ID</th>\n",
       "      <th>Trial Bag Colour</th>\n",
       "      <th>Item ID</th>\n",
       "      <th>Item Description From Trial</th>\n",
       "      <th>Item Description Refined</th>\n",
       "      <th>Number of Items per bag</th>\n",
       "      <th>Fragments Found Y/N</th>\n",
       "      <th>Final Residual Weight - wet</th>\n",
       "      <th>Fragment size (L x W x H)</th>\n",
       "      <th>Notes on Final Weight</th>\n",
       "    </tr>\n",
       "  </thead>\n",
       "  <tbody>\n",
       "    <tr>\n",
       "      <th>0</th>\n",
       "      <td>OWR003-01</td>\n",
       "      <td>Blue Zip Tie #1</td>\n",
       "      <td>Blue</td>\n",
       "      <td>1D</td>\n",
       "      <td>CPLA utensil corn starch</td>\n",
       "      <td>WR3 - CPLA Spoon</td>\n",
       "      <td>1</td>\n",
       "      <td>Y</td>\n",
       "      <td>4.76</td>\n",
       "      <td>6x1.5x1</td>\n",
       "      <td>good disintegration, in 3 fragments</td>\n",
       "    </tr>\n",
       "    <tr>\n",
       "      <th>1</th>\n",
       "      <td>OWR003-01</td>\n",
       "      <td>Blue Zip Tie #1</td>\n",
       "      <td>Blue</td>\n",
       "      <td>1F</td>\n",
       "      <td>Coffee Bag 1</td>\n",
       "      <td>WR3 - Coffee Bag 1</td>\n",
       "      <td>1</td>\n",
       "      <td>Y</td>\n",
       "      <td>17.76</td>\n",
       "      <td>8x7x0.5</td>\n",
       "      <td>entire bag intact</td>\n",
       "    </tr>\n",
       "  </tbody>\n",
       "</table>\n",
       "</div>"
      ],
      "text/plain": [
       "    Trial ID     Trial Bag ID Trial Bag Colour Item ID  \\\n",
       "0  OWR003-01  Blue Zip Tie #1             Blue      1D   \n",
       "1  OWR003-01  Blue Zip Tie #1             Blue      1F   \n",
       "\n",
       "  Item Description From Trial Item Description Refined  \\\n",
       "0    CPLA utensil corn starch         WR3 - CPLA Spoon   \n",
       "1                Coffee Bag 1       WR3 - Coffee Bag 1   \n",
       "\n",
       "   Number of Items per bag Fragments Found Y/N  Final Residual Weight - wet  \\\n",
       "0                        1                   Y                         4.76   \n",
       "1                        1                   Y                        17.76   \n",
       "\n",
       "  Fragment size (L x W x H)                Notes on Final Weight  \n",
       "0                   6x1.5x1  good disintegration, in 3 fragments  \n",
       "1                   8x7x0.5                    entire bag intact  "
      ]
     },
     "execution_count": 53,
     "metadata": {},
     "output_type": "execute_result"
    }
   ],
   "source": [
    "observations_wr003 = pd.read_excel(FILEPATH_PDF, sheet_name=4)\n",
    "observations_wr003.head(2)"
   ]
  },
  {
   "cell_type": "code",
   "execution_count": 54,
   "metadata": {},
   "outputs": [
    {
     "data": {
      "text/html": [
       "<div>\n",
       "<style scoped>\n",
       "    .dataframe tbody tr th:only-of-type {\n",
       "        vertical-align: middle;\n",
       "    }\n",
       "\n",
       "    .dataframe tbody tr th {\n",
       "        vertical-align: top;\n",
       "    }\n",
       "\n",
       "    .dataframe thead th {\n",
       "        text-align: right;\n",
       "    }\n",
       "</style>\n",
       "<table border=\"1\" class=\"dataframe\">\n",
       "  <thead>\n",
       "    <tr style=\"text-align: right;\">\n",
       "      <th></th>\n",
       "      <th>Trial ID</th>\n",
       "      <th>Trial Bag ID</th>\n",
       "      <th>Trial Bag Colour</th>\n",
       "      <th>Item ID</th>\n",
       "      <th>Item Description From Trial</th>\n",
       "      <th>Item Description Refined</th>\n",
       "      <th>Number of Items per bag</th>\n",
       "      <th>Fragments Found Y/N</th>\n",
       "      <th>Final Residual Weight - wet</th>\n",
       "      <th>Fragment size (L x W x H)</th>\n",
       "      <th>Notes on Final Weight</th>\n",
       "    </tr>\n",
       "  </thead>\n",
       "  <tbody>\n",
       "    <tr>\n",
       "      <th>0</th>\n",
       "      <td>OWR003-01</td>\n",
       "      <td>Blue Zip Tie #1</td>\n",
       "      <td>Blue</td>\n",
       "      <td>A72</td>\n",
       "      <td>CPLA utensil corn starch</td>\n",
       "      <td>WR3 - CPLA Spoon</td>\n",
       "      <td>1</td>\n",
       "      <td>Y</td>\n",
       "      <td>4.76</td>\n",
       "      <td>6x1.5x1</td>\n",
       "      <td>good disintegration, in 3 fragments</td>\n",
       "    </tr>\n",
       "    <tr>\n",
       "      <th>1</th>\n",
       "      <td>OWR003-01</td>\n",
       "      <td>Blue Zip Tie #1</td>\n",
       "      <td>Blue</td>\n",
       "      <td>A68</td>\n",
       "      <td>Coffee Bag 1</td>\n",
       "      <td>WR3 - Coffee Bag 1</td>\n",
       "      <td>1</td>\n",
       "      <td>Y</td>\n",
       "      <td>17.76</td>\n",
       "      <td>8x7x0.5</td>\n",
       "      <td>entire bag intact</td>\n",
       "    </tr>\n",
       "  </tbody>\n",
       "</table>\n",
       "</div>"
      ],
      "text/plain": [
       "    Trial ID     Trial Bag ID Trial Bag Colour Item ID  \\\n",
       "0  OWR003-01  Blue Zip Tie #1             Blue     A72   \n",
       "1  OWR003-01  Blue Zip Tie #1             Blue     A68   \n",
       "\n",
       "  Item Description From Trial Item Description Refined  \\\n",
       "0    CPLA utensil corn starch         WR3 - CPLA Spoon   \n",
       "1                Coffee Bag 1       WR3 - Coffee Bag 1   \n",
       "\n",
       "   Number of Items per bag Fragments Found Y/N  Final Residual Weight - wet  \\\n",
       "0                        1                   Y                         4.76   \n",
       "1                        1                   Y                        17.76   \n",
       "\n",
       "  Fragment size (L x W x H)                Notes on Final Weight  \n",
       "0                   6x1.5x1  good disintegration, in 3 fragments  \n",
       "1                   8x7x0.5                    entire bag intact  "
      ]
     },
     "execution_count": 54,
     "metadata": {},
     "output_type": "execute_result"
    }
   ],
   "source": [
    "observations_wr003['Item ID'] = observations_wr003['Item Description Refined'].map(item2id)\n",
    "observations_wr003.head(2)"
   ]
  },
  {
   "cell_type": "code",
   "execution_count": 55,
   "metadata": {},
   "outputs": [
    {
     "data": {
      "text/plain": [
       "0"
      ]
     },
     "execution_count": 55,
     "metadata": {},
     "output_type": "execute_result"
    }
   ],
   "source": [
    "observations_wr003['Item ID'].isnull().sum()"
   ]
  },
  {
   "cell_type": "code",
   "execution_count": 56,
   "metadata": {},
   "outputs": [],
   "source": [
    "drop_cols = [\"Item Description From Trial\", \"Item Description Refined\"]\n",
    "observations_wr003 = observations_wr003.drop(drop_cols, axis=1)"
   ]
  },
  {
   "cell_type": "code",
   "execution_count": 57,
   "metadata": {},
   "outputs": [
    {
     "data": {
      "text/html": [
       "<div>\n",
       "<style scoped>\n",
       "    .dataframe tbody tr th:only-of-type {\n",
       "        vertical-align: middle;\n",
       "    }\n",
       "\n",
       "    .dataframe tbody tr th {\n",
       "        vertical-align: top;\n",
       "    }\n",
       "\n",
       "    .dataframe thead th {\n",
       "        text-align: right;\n",
       "    }\n",
       "</style>\n",
       "<table border=\"1\" class=\"dataframe\">\n",
       "  <thead>\n",
       "    <tr style=\"text-align: right;\">\n",
       "      <th></th>\n",
       "      <th>Item ID</th>\n",
       "      <th>Item Name</th>\n",
       "      <th>Item Description Refined</th>\n",
       "      <th>Material Class I</th>\n",
       "      <th>Material Class II</th>\n",
       "      <th>Material Class III</th>\n",
       "      <th>Start Weight</th>\n",
       "      <th>Trial ID</th>\n",
       "      <th>Trial Bag ID</th>\n",
       "      <th>Trial Bag Colour</th>\n",
       "      <th>Number of Items per bag</th>\n",
       "      <th>Fragments Found Y/N</th>\n",
       "      <th>Final Residual Weight - wet</th>\n",
       "      <th>Fragment size (L x W x H)</th>\n",
       "      <th>Notes on Final Weight</th>\n",
       "      <th>% Residuals (Weight)</th>\n",
       "      <th>% Residuals (Area)</th>\n",
       "      <th>Trial</th>\n",
       "    </tr>\n",
       "  </thead>\n",
       "  <tbody>\n",
       "    <tr>\n",
       "      <th>0</th>\n",
       "      <td>Q</td>\n",
       "      <td>PLA-lined Bagasse Bowl 300mL</td>\n",
       "      <td>BÉSICS® 250mL PLA-lined Bagasse Leaf Bowl</td>\n",
       "      <td>Fiber</td>\n",
       "      <td>Lined Fiber</td>\n",
       "      <td>PLA lined Bagasse</td>\n",
       "      <td>10.88</td>\n",
       "      <td>OWR003-01</td>\n",
       "      <td>Red Zip Tie #2</td>\n",
       "      <td>Red</td>\n",
       "      <td>1</td>\n",
       "      <td>N</td>\n",
       "      <td>0.0</td>\n",
       "      <td>0</td>\n",
       "      <td>not detected</td>\n",
       "      <td>0.0</td>\n",
       "      <td>None</td>\n",
       "      <td>OWR003-01</td>\n",
       "    </tr>\n",
       "    <tr>\n",
       "      <th>1</th>\n",
       "      <td>Q</td>\n",
       "      <td>PLA-lined Bagasse Bowl 300mL</td>\n",
       "      <td>BÉSICS® 250mL PLA-lined Bagasse Leaf Bowl</td>\n",
       "      <td>Fiber</td>\n",
       "      <td>Lined Fiber</td>\n",
       "      <td>PLA lined Bagasse</td>\n",
       "      <td>10.88</td>\n",
       "      <td>OWR003-01</td>\n",
       "      <td>Red Zip Tie #3</td>\n",
       "      <td>Red</td>\n",
       "      <td>1</td>\n",
       "      <td>N</td>\n",
       "      <td>0.0</td>\n",
       "      <td>0</td>\n",
       "      <td>not detected</td>\n",
       "      <td>0.0</td>\n",
       "      <td>None</td>\n",
       "      <td>OWR003-01</td>\n",
       "    </tr>\n",
       "  </tbody>\n",
       "</table>\n",
       "</div>"
      ],
      "text/plain": [
       "  Item ID                     Item Name  \\\n",
       "0       Q  PLA-lined Bagasse Bowl 300mL   \n",
       "1       Q  PLA-lined Bagasse Bowl 300mL   \n",
       "\n",
       "                    Item Description Refined Material Class I  \\\n",
       "0  BÉSICS® 250mL PLA-lined Bagasse Leaf Bowl            Fiber   \n",
       "1  BÉSICS® 250mL PLA-lined Bagasse Leaf Bowl            Fiber   \n",
       "\n",
       "  Material Class II Material Class III  Start Weight   Trial ID  \\\n",
       "0       Lined Fiber  PLA lined Bagasse         10.88  OWR003-01   \n",
       "1       Lined Fiber  PLA lined Bagasse         10.88  OWR003-01   \n",
       "\n",
       "     Trial Bag ID Trial Bag Colour  Number of Items per bag  \\\n",
       "0  Red Zip Tie #2              Red                        1   \n",
       "1  Red Zip Tie #3              Red                        1   \n",
       "\n",
       "  Fragments Found Y/N  Final Residual Weight - wet Fragment size (L x W x H)  \\\n",
       "0                   N                          0.0                         0   \n",
       "1                   N                          0.0                         0   \n",
       "\n",
       "  Notes on Final Weight  % Residuals (Weight) % Residuals (Area)      Trial  \n",
       "0          not detected                   0.0               None  OWR003-01  \n",
       "1          not detected                   0.0               None  OWR003-01  "
      ]
     },
     "execution_count": 57,
     "metadata": {},
     "output_type": "execute_result"
    }
   ],
   "source": [
    "joined_wr003 = pd.merge(items_clean, observations_wr003, on=\"Item ID\")\n",
    "joined_wr003['% Residuals (Weight)'] = joined_wr003['Final Residual Weight - wet']/(joined_wr003['Start Weight'] * joined_wr003['Number of Items per bag'])\n",
    "joined_wr003['% Residuals (Area)'] = None\n",
    "joined_wr003['Trial'] = joined_wr003['Trial ID']\n",
    "joined_wr003.head(2)"
   ]
  },
  {
   "cell_type": "code",
   "execution_count": 58,
   "metadata": {},
   "outputs": [
    {
     "data": {
      "text/html": [
       "<div>\n",
       "<style scoped>\n",
       "    .dataframe tbody tr th:only-of-type {\n",
       "        vertical-align: middle;\n",
       "    }\n",
       "\n",
       "    .dataframe tbody tr th {\n",
       "        vertical-align: top;\n",
       "    }\n",
       "\n",
       "    .dataframe thead th {\n",
       "        text-align: right;\n",
       "    }\n",
       "</style>\n",
       "<table border=\"1\" class=\"dataframe\">\n",
       "  <thead>\n",
       "    <tr style=\"text-align: right;\">\n",
       "      <th></th>\n",
       "      <th>Trial</th>\n",
       "      <th>Item ID</th>\n",
       "      <th>Item Name</th>\n",
       "      <th>Item Description Refined</th>\n",
       "      <th>Material Class I</th>\n",
       "      <th>Material Class II</th>\n",
       "      <th>Material Class III</th>\n",
       "      <th>Start Weight</th>\n",
       "      <th>% Residuals (Weight)</th>\n",
       "      <th>% Residuals (Area)</th>\n",
       "    </tr>\n",
       "  </thead>\n",
       "  <tbody>\n",
       "    <tr>\n",
       "      <th>0</th>\n",
       "      <td>OWR003-01</td>\n",
       "      <td>Q</td>\n",
       "      <td>PLA-lined Bagasse Bowl 300mL</td>\n",
       "      <td>BÉSICS® 250mL PLA-lined Bagasse Leaf Bowl</td>\n",
       "      <td>Fiber</td>\n",
       "      <td>Lined Fiber</td>\n",
       "      <td>PLA lined Bagasse</td>\n",
       "      <td>10.88</td>\n",
       "      <td>0.0</td>\n",
       "      <td>None</td>\n",
       "    </tr>\n",
       "    <tr>\n",
       "      <th>1</th>\n",
       "      <td>OWR003-01</td>\n",
       "      <td>Q</td>\n",
       "      <td>PLA-lined Bagasse Bowl 300mL</td>\n",
       "      <td>BÉSICS® 250mL PLA-lined Bagasse Leaf Bowl</td>\n",
       "      <td>Fiber</td>\n",
       "      <td>Lined Fiber</td>\n",
       "      <td>PLA lined Bagasse</td>\n",
       "      <td>10.88</td>\n",
       "      <td>0.0</td>\n",
       "      <td>None</td>\n",
       "    </tr>\n",
       "  </tbody>\n",
       "</table>\n",
       "</div>"
      ],
      "text/plain": [
       "       Trial Item ID                     Item Name  \\\n",
       "0  OWR003-01       Q  PLA-lined Bagasse Bowl 300mL   \n",
       "1  OWR003-01       Q  PLA-lined Bagasse Bowl 300mL   \n",
       "\n",
       "                    Item Description Refined Material Class I  \\\n",
       "0  BÉSICS® 250mL PLA-lined Bagasse Leaf Bowl            Fiber   \n",
       "1  BÉSICS® 250mL PLA-lined Bagasse Leaf Bowl            Fiber   \n",
       "\n",
       "  Material Class II Material Class III  Start Weight  % Residuals (Weight)  \\\n",
       "0       Lined Fiber  PLA lined Bagasse         10.88                   0.0   \n",
       "1       Lined Fiber  PLA lined Bagasse         10.88                   0.0   \n",
       "\n",
       "  % Residuals (Area)  \n",
       "0               None  \n",
       "1               None  "
      ]
     },
     "execution_count": 58,
     "metadata": {},
     "output_type": "execute_result"
    }
   ],
   "source": [
    "joined_wr003 = joined_wr003[keep_cols]\n",
    "joined_wr003.head(2)"
   ]
  },
  {
   "cell_type": "markdown",
   "metadata": {},
   "source": [
    "#### Trial CASP004-01"
   ]
  },
  {
   "cell_type": "code",
   "execution_count": 59,
   "metadata": {},
   "outputs": [],
   "source": [
    "FILEPATH_PDF = DATA_FOLDER + \"CASP004-01 - Results Pre-Processed for Analysis from PDF Tables.xlsx\""
   ]
  },
  {
   "cell_type": "markdown",
   "metadata": {},
   "source": [
    "#### Items"
   ]
  },
  {
   "cell_type": "code",
   "execution_count": 60,
   "metadata": {},
   "outputs": [
    {
     "data": {
      "text/html": [
       "<div>\n",
       "<style scoped>\n",
       "    .dataframe tbody tr th:only-of-type {\n",
       "        vertical-align: middle;\n",
       "    }\n",
       "\n",
       "    .dataframe tbody tr th {\n",
       "        vertical-align: top;\n",
       "    }\n",
       "\n",
       "    .dataframe thead th {\n",
       "        text-align: right;\n",
       "    }\n",
       "</style>\n",
       "<table border=\"1\" class=\"dataframe\">\n",
       "  <thead>\n",
       "    <tr style=\"text-align: right;\">\n",
       "      <th></th>\n",
       "      <th>Org Id</th>\n",
       "      <th>Trial Id</th>\n",
       "      <th>Bag Colour</th>\n",
       "      <th>Bag Set</th>\n",
       "      <th>Replicates</th>\n",
       "      <th>TrialBagType</th>\n",
       "      <th>Product Name</th>\n",
       "      <th>Brand/Manufacturer</th>\n",
       "      <th>Description</th>\n",
       "      <th>Composition</th>\n",
       "      <th>Certifications</th>\n",
       "      <th>Size</th>\n",
       "      <th>Weight 1</th>\n",
       "      <th>Weight 2</th>\n",
       "      <th>Weight 3</th>\n",
       "      <th>Weight (average)</th>\n",
       "      <th>Weight units</th>\n",
       "    </tr>\n",
       "  </thead>\n",
       "  <tbody>\n",
       "    <tr>\n",
       "      <th>0</th>\n",
       "      <td>44547</td>\n",
       "      <td>44547-01-21</td>\n",
       "      <td>Green</td>\n",
       "      <td>A</td>\n",
       "      <td>1-3</td>\n",
       "      <td>Baseline</td>\n",
       "      <td>12 oz Hot cup / Soup bowl</td>\n",
       "      <td>BÉSICS®</td>\n",
       "      <td>12 oz Hot cup / Soup bowl</td>\n",
       "      <td>Paper, PLA lining, adhesive, ink</td>\n",
       "      <td>BPI</td>\n",
       "      <td>3’’ diameter, 2.5’’ H</td>\n",
       "      <td>8.12</td>\n",
       "      <td>8.10</td>\n",
       "      <td>8.12</td>\n",
       "      <td>8.11</td>\n",
       "      <td>grams</td>\n",
       "    </tr>\n",
       "    <tr>\n",
       "      <th>1</th>\n",
       "      <td>44547</td>\n",
       "      <td>44547-01-21</td>\n",
       "      <td>Green</td>\n",
       "      <td>A</td>\n",
       "      <td>1-3</td>\n",
       "      <td>Baseline</td>\n",
       "      <td>Hot cup lid</td>\n",
       "      <td>BÉSICS®</td>\n",
       "      <td>Hot cup lid</td>\n",
       "      <td>CPLA based bio-polymer</td>\n",
       "      <td>BPI</td>\n",
       "      <td>3.5’’ diameter, 0.5’’ H</td>\n",
       "      <td>3.58</td>\n",
       "      <td>3.58</td>\n",
       "      <td>3.56</td>\n",
       "      <td>3.57</td>\n",
       "      <td>grams</td>\n",
       "    </tr>\n",
       "  </tbody>\n",
       "</table>\n",
       "</div>"
      ],
      "text/plain": [
       "   Org Id     Trial Id Bag Colour Bag Set Replicates TrialBagType  \\\n",
       "0   44547  44547-01-21      Green       A        1-3     Baseline   \n",
       "1   44547  44547-01-21      Green       A        1-3     Baseline   \n",
       "\n",
       "                Product Name Brand/Manufacturer                Description  \\\n",
       "0  12 oz Hot cup / Soup bowl            BÉSICS®  12 oz Hot cup / Soup bowl   \n",
       "1                Hot cup lid           BÉSICS®                 Hot cup lid   \n",
       "\n",
       "                        Composition Certifications                     Size  \\\n",
       "0  Paper, PLA lining, adhesive, ink            BPI    3’’ diameter, 2.5’’ H   \n",
       "1            CPLA based bio-polymer            BPI  3.5’’ diameter, 0.5’’ H   \n",
       "\n",
       "   Weight 1  Weight 2  Weight 3  Weight (average) Weight units  \n",
       "0      8.12      8.10      8.12              8.11        grams  \n",
       "1      3.58      3.58      3.56              3.57        grams  "
      ]
     },
     "execution_count": 60,
     "metadata": {},
     "output_type": "execute_result"
    }
   ],
   "source": [
    "items_casp004 = pd.read_excel(FILEPATH_PDF, sheet_name=2)\n",
    "items_casp004.head(2)"
   ]
  },
  {
   "cell_type": "code",
   "execution_count": 61,
   "metadata": {},
   "outputs": [
    {
     "data": {
      "text/html": [
       "<div>\n",
       "<style scoped>\n",
       "    .dataframe tbody tr th:only-of-type {\n",
       "        vertical-align: middle;\n",
       "    }\n",
       "\n",
       "    .dataframe tbody tr th {\n",
       "        vertical-align: top;\n",
       "    }\n",
       "\n",
       "    .dataframe thead th {\n",
       "        text-align: right;\n",
       "    }\n",
       "</style>\n",
       "<table border=\"1\" class=\"dataframe\">\n",
       "  <thead>\n",
       "    <tr style=\"text-align: right;\">\n",
       "      <th></th>\n",
       "      <th>Org Id</th>\n",
       "      <th>Trial Id</th>\n",
       "      <th>Bag Colour</th>\n",
       "      <th>Bag Set</th>\n",
       "      <th>Replicates</th>\n",
       "      <th>TrialBagType</th>\n",
       "      <th>Product Name</th>\n",
       "      <th>Brand/Manufacturer</th>\n",
       "      <th>Description</th>\n",
       "      <th>Composition</th>\n",
       "      <th>Certifications</th>\n",
       "      <th>Size</th>\n",
       "      <th>Weight 1</th>\n",
       "      <th>Weight 2</th>\n",
       "      <th>Weight 3</th>\n",
       "      <th>Weight (average)</th>\n",
       "      <th>Weight units</th>\n",
       "    </tr>\n",
       "  </thead>\n",
       "  <tbody>\n",
       "    <tr>\n",
       "      <th>0</th>\n",
       "      <td>44547</td>\n",
       "      <td>44547-01-21</td>\n",
       "      <td>Green</td>\n",
       "      <td>A</td>\n",
       "      <td>1-3</td>\n",
       "      <td>Baseline</td>\n",
       "      <td>12 oz Hot cup / Soup bowl</td>\n",
       "      <td>BÉSICS®</td>\n",
       "      <td>12 oz Hot cup / Soup bowl</td>\n",
       "      <td>Paper, PLA lining, adhesive, ink</td>\n",
       "      <td>BPI</td>\n",
       "      <td>3’’ diameter, 2.5’’ H</td>\n",
       "      <td>8.12</td>\n",
       "      <td>8.10</td>\n",
       "      <td>8.12</td>\n",
       "      <td>8.11</td>\n",
       "      <td>grams</td>\n",
       "    </tr>\n",
       "    <tr>\n",
       "      <th>1</th>\n",
       "      <td>44547</td>\n",
       "      <td>44547-01-21</td>\n",
       "      <td>Green</td>\n",
       "      <td>A</td>\n",
       "      <td>1-3</td>\n",
       "      <td>Baseline</td>\n",
       "      <td>Hot cup lid</td>\n",
       "      <td>BÉSICS®</td>\n",
       "      <td>Hot cup lid</td>\n",
       "      <td>CPLA based bio-polymer</td>\n",
       "      <td>BPI</td>\n",
       "      <td>3.5’’ diameter, 0.5’’ H</td>\n",
       "      <td>3.58</td>\n",
       "      <td>3.58</td>\n",
       "      <td>3.56</td>\n",
       "      <td>3.57</td>\n",
       "      <td>grams</td>\n",
       "    </tr>\n",
       "  </tbody>\n",
       "</table>\n",
       "</div>"
      ],
      "text/plain": [
       "   Org Id     Trial Id Bag Colour Bag Set Replicates TrialBagType  \\\n",
       "0   44547  44547-01-21      Green       A        1-3     Baseline   \n",
       "1   44547  44547-01-21      Green       A        1-3     Baseline   \n",
       "\n",
       "                Product Name Brand/Manufacturer                Description  \\\n",
       "0  12 oz Hot cup / Soup bowl            BÉSICS®  12 oz Hot cup / Soup bowl   \n",
       "1                Hot cup lid           BÉSICS®                 Hot cup lid   \n",
       "\n",
       "                        Composition Certifications                     Size  \\\n",
       "0  Paper, PLA lining, adhesive, ink            BPI    3’’ diameter, 2.5’’ H   \n",
       "1            CPLA based bio-polymer            BPI  3.5’’ diameter, 0.5’’ H   \n",
       "\n",
       "   Weight 1  Weight 2  Weight 3  Weight (average) Weight units  \n",
       "0      8.12      8.10      8.12              8.11        grams  \n",
       "1      3.58      3.58      3.56              3.57        grams  "
      ]
     },
     "execution_count": 61,
     "metadata": {},
     "output_type": "execute_result"
    }
   ],
   "source": [
    "items_casp004 = items_casp004.drop_duplicates(subset=['Product Name'])\n",
    "items_casp004.head(2)"
   ]
  },
  {
   "cell_type": "code",
   "execution_count": 62,
   "metadata": {},
   "outputs": [
    {
     "data": {
      "text/plain": [
       "{'12 oz Hot cup / Soup bowl': 8.11,\n",
       " 'Hot cup lid': 3.57,\n",
       " '16 oz PLA cold cup': 14.58,\n",
       " 'Cutlery': 4.75,\n",
       " 'PLA-lined fibre bowl, white ': 10.52,\n",
       " 'Uncoated paper food tray ': 11.87,\n",
       " 'Lined paper food tray with lid': 29.76,\n",
       " 'Kraft control': 2.85,\n",
       " 'Fiber Clamshell, Lined 9x9x3 SKU TO-SC-U9L-LF': 47.78,\n",
       " '16oz NoTree Paper Hot Cup SKU CU-SU-16': 13.52,\n",
       " '14oz PLA Cold Cup SKU CP-CS-14': 10.17,\n",
       " 'PLA Lid: 32oz Burrito Bowl SKU BOL-CS-UBB': 15.14,\n",
       " 'Fiber Cutlery, Spoon SP-FB-6-LF': 3.99,\n",
       " '3Gallon Food Scrap Bag BG-CS-3': 7.16,\n",
       " '8\" Kraft straw ST-PA-8-K': 1.07,\n",
       " 'TPLA Spoon SP-PS-6': 4.97,\n",
       " 'Wrapper for TPLA Spoon SP-PS-I': 0.82,\n",
       " 'Large brown bag': 12.72,\n",
       " 'Small zippered clear colour bag': 4.83,\n",
       " 'Printed small bag with brown background and logo': 4.57,\n",
       " 'Large natural clear colour bag': 8.4}"
      ]
     },
     "execution_count": 62,
     "metadata": {},
     "output_type": "execute_result"
    }
   ],
   "source": [
    "casp004_weights = items_casp004.set_index('Product Name')['Weight (average)'].to_dict()\n",
    "casp004_weights"
   ]
  },
  {
   "cell_type": "markdown",
   "metadata": {},
   "source": [
    "#### Observations"
   ]
  },
  {
   "cell_type": "code",
   "execution_count": 63,
   "metadata": {},
   "outputs": [
    {
     "data": {
      "text/html": [
       "<div>\n",
       "<style scoped>\n",
       "    .dataframe tbody tr th:only-of-type {\n",
       "        vertical-align: middle;\n",
       "    }\n",
       "\n",
       "    .dataframe tbody tr th {\n",
       "        vertical-align: top;\n",
       "    }\n",
       "\n",
       "    .dataframe thead th {\n",
       "        text-align: right;\n",
       "    }\n",
       "</style>\n",
       "<table border=\"1\" class=\"dataframe\">\n",
       "  <thead>\n",
       "    <tr style=\"text-align: right;\">\n",
       "      <th></th>\n",
       "      <th>Org Id</th>\n",
       "      <th>Trial Id</th>\n",
       "      <th>Bag Colour</th>\n",
       "      <th>Bag Id</th>\n",
       "      <th>Stage</th>\n",
       "      <th>Weather</th>\n",
       "      <th>Moisture</th>\n",
       "      <th>Temp</th>\n",
       "      <th>Temp Units</th>\n",
       "      <th>Bulk Density</th>\n",
       "      <th>...</th>\n",
       "      <th>Bag Notes</th>\n",
       "      <th>Product Name</th>\n",
       "      <th>Photo</th>\n",
       "      <th>Fragment Size</th>\n",
       "      <th>Weight 1</th>\n",
       "      <th>Weight 2</th>\n",
       "      <th>Weight 3</th>\n",
       "      <th>Product Weight Avg</th>\n",
       "      <th>Weight Units</th>\n",
       "      <th>Product Notes</th>\n",
       "    </tr>\n",
       "  </thead>\n",
       "  <tbody>\n",
       "    <tr>\n",
       "      <th>0</th>\n",
       "      <td>44547</td>\n",
       "      <td>44547-01-21</td>\n",
       "      <td>Green</td>\n",
       "      <td>A-1</td>\n",
       "      <td>Start</td>\n",
       "      <td>Windy</td>\n",
       "      <td>0.51</td>\n",
       "      <td>65-80</td>\n",
       "      <td>F</td>\n",
       "      <td>754 lbs/CY (manual) \\n0.29 g/cc (lab)</td>\n",
       "      <td>...</td>\n",
       "      <td>Top depth</td>\n",
       "      <td>12 oz Hot cup / Soup bowl</td>\n",
       "      <td>Y</td>\n",
       "      <td>3’’ diameter, 2.5’’ H</td>\n",
       "      <td>8.12</td>\n",
       "      <td>8.10</td>\n",
       "      <td>8.12</td>\n",
       "      <td>8.11</td>\n",
       "      <td>grams</td>\n",
       "      <td>NaN</td>\n",
       "    </tr>\n",
       "    <tr>\n",
       "      <th>1</th>\n",
       "      <td>44547</td>\n",
       "      <td>44547-01-21</td>\n",
       "      <td>Green</td>\n",
       "      <td>A-1</td>\n",
       "      <td>Start</td>\n",
       "      <td>Windy</td>\n",
       "      <td>0.51</td>\n",
       "      <td>65-80</td>\n",
       "      <td>F</td>\n",
       "      <td>754 lbs/CY (manual) \\n0.29 g/cc (lab)</td>\n",
       "      <td>...</td>\n",
       "      <td>Top depth</td>\n",
       "      <td>Hot cup lid</td>\n",
       "      <td>Y</td>\n",
       "      <td>3.5’’ diameter, 0.5’’ H</td>\n",
       "      <td>3.58</td>\n",
       "      <td>3.58</td>\n",
       "      <td>3.56</td>\n",
       "      <td>3.57</td>\n",
       "      <td>grams</td>\n",
       "      <td>NaN</td>\n",
       "    </tr>\n",
       "  </tbody>\n",
       "</table>\n",
       "<p>2 rows × 27 columns</p>\n",
       "</div>"
      ],
      "text/plain": [
       "   Org Id     Trial Id Bag Colour Bag Id  Stage Weather  Moisture   Temp  \\\n",
       "0   44547  44547-01-21      Green    A-1  Start   Windy      0.51  65-80   \n",
       "1   44547  44547-01-21      Green    A-1  Start   Windy      0.51  65-80   \n",
       "\n",
       "  Temp Units                           Bulk Density  ...  Bag Notes  \\\n",
       "0          F  754 lbs/CY (manual) \\n0.29 g/cc (lab)  ...  Top depth   \n",
       "1          F  754 lbs/CY (manual) \\n0.29 g/cc (lab)  ...  Top depth   \n",
       "\n",
       "                Product Name  Photo            Fragment Size Weight 1  \\\n",
       "0  12 oz Hot cup / Soup bowl      Y    3’’ diameter, 2.5’’ H     8.12   \n",
       "1                Hot cup lid      Y  3.5’’ diameter, 0.5’’ H     3.58   \n",
       "\n",
       "  Weight 2 Weight 3 Product Weight Avg Weight Units Product Notes  \n",
       "0     8.10     8.12               8.11        grams           NaN  \n",
       "1     3.58     3.56               3.57        grams           NaN  \n",
       "\n",
       "[2 rows x 27 columns]"
      ]
     },
     "execution_count": 63,
     "metadata": {},
     "output_type": "execute_result"
    }
   ],
   "source": [
    "observations_casp004 = pd.read_excel(FILEPATH_PDF, sheet_name=1)\n",
    "observations_casp004.head(2)"
   ]
  },
  {
   "cell_type": "code",
   "execution_count": 64,
   "metadata": {},
   "outputs": [
    {
     "data": {
      "text/html": [
       "<div>\n",
       "<style scoped>\n",
       "    .dataframe tbody tr th:only-of-type {\n",
       "        vertical-align: middle;\n",
       "    }\n",
       "\n",
       "    .dataframe tbody tr th {\n",
       "        vertical-align: top;\n",
       "    }\n",
       "\n",
       "    .dataframe thead th {\n",
       "        text-align: right;\n",
       "    }\n",
       "</style>\n",
       "<table border=\"1\" class=\"dataframe\">\n",
       "  <thead>\n",
       "    <tr style=\"text-align: right;\">\n",
       "      <th></th>\n",
       "      <th>Org Id</th>\n",
       "      <th>Trial Id</th>\n",
       "      <th>Bag Colour</th>\n",
       "      <th>Bag Id</th>\n",
       "      <th>Stage</th>\n",
       "      <th>Weather</th>\n",
       "      <th>Moisture</th>\n",
       "      <th>Temp</th>\n",
       "      <th>Temp Units</th>\n",
       "      <th>Bulk Density</th>\n",
       "      <th>...</th>\n",
       "      <th>Product Name</th>\n",
       "      <th>Photo</th>\n",
       "      <th>Fragment Size</th>\n",
       "      <th>Weight 1</th>\n",
       "      <th>Weight 2</th>\n",
       "      <th>Weight 3</th>\n",
       "      <th>Product Weight Avg</th>\n",
       "      <th>Weight Units</th>\n",
       "      <th>Product Notes</th>\n",
       "      <th>Start Weight</th>\n",
       "    </tr>\n",
       "  </thead>\n",
       "  <tbody>\n",
       "    <tr>\n",
       "      <th>0</th>\n",
       "      <td>44547</td>\n",
       "      <td>44547-01-21</td>\n",
       "      <td>Green</td>\n",
       "      <td>A-1</td>\n",
       "      <td>Start</td>\n",
       "      <td>Windy</td>\n",
       "      <td>0.51</td>\n",
       "      <td>65-80</td>\n",
       "      <td>F</td>\n",
       "      <td>754 lbs/CY (manual) \\n0.29 g/cc (lab)</td>\n",
       "      <td>...</td>\n",
       "      <td>12 oz Hot cup / Soup bowl</td>\n",
       "      <td>Y</td>\n",
       "      <td>3’’ diameter, 2.5’’ H</td>\n",
       "      <td>8.12</td>\n",
       "      <td>8.10</td>\n",
       "      <td>8.12</td>\n",
       "      <td>8.11</td>\n",
       "      <td>grams</td>\n",
       "      <td>NaN</td>\n",
       "      <td>8.11</td>\n",
       "    </tr>\n",
       "    <tr>\n",
       "      <th>1</th>\n",
       "      <td>44547</td>\n",
       "      <td>44547-01-21</td>\n",
       "      <td>Green</td>\n",
       "      <td>A-1</td>\n",
       "      <td>Start</td>\n",
       "      <td>Windy</td>\n",
       "      <td>0.51</td>\n",
       "      <td>65-80</td>\n",
       "      <td>F</td>\n",
       "      <td>754 lbs/CY (manual) \\n0.29 g/cc (lab)</td>\n",
       "      <td>...</td>\n",
       "      <td>Hot cup lid</td>\n",
       "      <td>Y</td>\n",
       "      <td>3.5’’ diameter, 0.5’’ H</td>\n",
       "      <td>3.58</td>\n",
       "      <td>3.58</td>\n",
       "      <td>3.56</td>\n",
       "      <td>3.57</td>\n",
       "      <td>grams</td>\n",
       "      <td>NaN</td>\n",
       "      <td>3.57</td>\n",
       "    </tr>\n",
       "  </tbody>\n",
       "</table>\n",
       "<p>2 rows × 28 columns</p>\n",
       "</div>"
      ],
      "text/plain": [
       "   Org Id     Trial Id Bag Colour Bag Id  Stage Weather  Moisture   Temp  \\\n",
       "0   44547  44547-01-21      Green    A-1  Start   Windy      0.51  65-80   \n",
       "1   44547  44547-01-21      Green    A-1  Start   Windy      0.51  65-80   \n",
       "\n",
       "  Temp Units                           Bulk Density  ...  \\\n",
       "0          F  754 lbs/CY (manual) \\n0.29 g/cc (lab)  ...   \n",
       "1          F  754 lbs/CY (manual) \\n0.29 g/cc (lab)  ...   \n",
       "\n",
       "                Product Name  Photo            Fragment Size  Weight 1  \\\n",
       "0  12 oz Hot cup / Soup bowl      Y    3’’ diameter, 2.5’’ H      8.12   \n",
       "1                Hot cup lid      Y  3.5’’ diameter, 0.5’’ H      3.58   \n",
       "\n",
       "  Weight 2 Weight 3 Product Weight Avg Weight Units Product Notes Start Weight  \n",
       "0     8.10     8.12               8.11        grams           NaN         8.11  \n",
       "1     3.58     3.56               3.57        grams           NaN         3.57  \n",
       "\n",
       "[2 rows x 28 columns]"
      ]
     },
     "execution_count": 64,
     "metadata": {},
     "output_type": "execute_result"
    }
   ],
   "source": [
    "observations_casp004['Start Weight'] = observations_casp004['Product Name'].map(casp004_weights)\n",
    "observations_casp004.head(2)"
   ]
  },
  {
   "cell_type": "code",
   "execution_count": 65,
   "metadata": {},
   "outputs": [],
   "source": [
    "# These bags were not found\n",
    "observations_casp004 = observations_casp004[\n",
    "    (observations_casp004['Stage'] == 'End') &\n",
    "    (~observations_casp004['Bag Id'].isin(['A-5', 'A-6']))\n",
    "]"
   ]
  },
  {
   "cell_type": "code",
   "execution_count": 66,
   "metadata": {},
   "outputs": [],
   "source": [
    "observations_casp004['End Weight'] = observations_casp004[['Weight 1', 'Weight 2', 'Weight 3']].mean(axis=1)\n",
    "observations_casp004['End Weight'] = observations_casp004['End Weight'].fillna(0)"
   ]
  },
  {
   "cell_type": "code",
   "execution_count": 67,
   "metadata": {},
   "outputs": [],
   "source": [
    "observations_casp004['Item ID'] = observations_casp004['Product Name'].map(item2id)"
   ]
  },
  {
   "cell_type": "code",
   "execution_count": 68,
   "metadata": {},
   "outputs": [
    {
     "name": "stdout",
     "output_type": "stream",
     "text": [
      "12 oz Hot cup / Soup bowl\n",
      "Hot cup lid\n",
      "16 oz PLA cold cup\n",
      "Cutlery\n",
      "PLA-lined fibre bowl, white \n",
      "Uncoated paper food tray \n",
      "Lined paper food tray with lid\n",
      "Kraft control\n",
      "16oz NoTree Paper Hot Cup SKU CU-SU-16\n",
      "14oz PLA Cold Cup SKU CP-CS-14\n",
      "Fiber Cutlery, Spoon SP-FB-6-LF\n",
      "3Gallon Food Scrap Bag BG-CS-3\n",
      "TPLA Spoon SP-PS-6\n",
      "Large brown bag\n"
     ]
    }
   ],
   "source": [
    "for obs in observations_casp004[observations_casp004['Item ID'].isnull()]['Product Name'].unique():\n",
    "    print(obs)"
   ]
  },
  {
   "cell_type": "code",
   "execution_count": 69,
   "metadata": {},
   "outputs": [
    {
     "data": {
      "text/plain": [
       "array(['12 oz Hot cup / Soup bowl', 'Hot cup lid', '16 oz PLA cold cup',\n",
       "       'Cutlery', 'PLA-lined fibre bowl, white',\n",
       "       'Uncoated paper food tray', 'Lined paper food tray with lid',\n",
       "       'Kraft control', '16oz NoTree Paper Hot Cup SKU CU-SU-16',\n",
       "       '14oz PLA Cold Cup SKU CP-CS-14',\n",
       "       'Fiber Cutlery, Spoon SP-FB-6-LF',\n",
       "       '3Gallon Food Scrap Bag BG-CS-3', 'TPLA Spoon SP-PS-6',\n",
       "       'Large brown bag'], dtype=object)"
      ]
     },
     "execution_count": 69,
     "metadata": {},
     "output_type": "execute_result"
    }
   ],
   "source": [
    "unmatched = observations_casp004[observations_casp004['Item ID'].isnull()]['Product Name'].str.strip().unique()\n",
    "unmatched"
   ]
  },
  {
   "cell_type": "code",
   "execution_count": 70,
   "metadata": {},
   "outputs": [],
   "source": [
    "observations_casp004['Item ID'] = np.where(observations_casp004['Product Name'].str.strip().isin(unmatched),\n",
    "                         observations_casp004['Product Name'].str.strip().map(missing_items),\n",
    "                         observations_casp004['Item ID'])"
   ]
  },
  {
   "cell_type": "code",
   "execution_count": 71,
   "metadata": {},
   "outputs": [
    {
     "data": {
      "text/plain": [
       "0"
      ]
     },
     "execution_count": 71,
     "metadata": {},
     "output_type": "execute_result"
    }
   ],
   "source": [
    "observations_casp004['Item ID'].isnull().sum()"
   ]
  },
  {
   "cell_type": "code",
   "execution_count": 72,
   "metadata": {},
   "outputs": [
    {
     "data": {
      "text/html": [
       "<div>\n",
       "<style scoped>\n",
       "    .dataframe tbody tr th:only-of-type {\n",
       "        vertical-align: middle;\n",
       "    }\n",
       "\n",
       "    .dataframe tbody tr th {\n",
       "        vertical-align: top;\n",
       "    }\n",
       "\n",
       "    .dataframe thead th {\n",
       "        text-align: right;\n",
       "    }\n",
       "</style>\n",
       "<table border=\"1\" class=\"dataframe\">\n",
       "  <thead>\n",
       "    <tr style=\"text-align: right;\">\n",
       "      <th></th>\n",
       "      <th>Org Id</th>\n",
       "      <th>Trial Id</th>\n",
       "      <th>Bag Colour</th>\n",
       "      <th>Bag Id</th>\n",
       "      <th>Stage</th>\n",
       "      <th>Weather</th>\n",
       "      <th>Moisture</th>\n",
       "      <th>Temp</th>\n",
       "      <th>Temp Units</th>\n",
       "      <th>Bulk Density</th>\n",
       "      <th>...</th>\n",
       "      <th>Weight 3</th>\n",
       "      <th>Product Weight Avg</th>\n",
       "      <th>Weight Units</th>\n",
       "      <th>Product Notes</th>\n",
       "      <th>Start Weight</th>\n",
       "      <th>End Weight</th>\n",
       "      <th>Item ID</th>\n",
       "      <th>Trial</th>\n",
       "      <th>% Residuals (Area)</th>\n",
       "      <th>% Residuals (Weight)</th>\n",
       "    </tr>\n",
       "  </thead>\n",
       "  <tbody>\n",
       "    <tr>\n",
       "      <th>276</th>\n",
       "      <td>44547</td>\n",
       "      <td>44547-01-21</td>\n",
       "      <td>Green</td>\n",
       "      <td>A-1</td>\n",
       "      <td>End</td>\n",
       "      <td>Windy</td>\n",
       "      <td>0.51</td>\n",
       "      <td>65-80</td>\n",
       "      <td>F</td>\n",
       "      <td>754 lbs/CY (manual) \\n0.29 g/cc (lab)</td>\n",
       "      <td>...</td>\n",
       "      <td>NaN</td>\n",
       "      <td>NaN</td>\n",
       "      <td>NaN</td>\n",
       "      <td>NaN</td>\n",
       "      <td>8.11</td>\n",
       "      <td>0.0</td>\n",
       "      <td>A6</td>\n",
       "      <td>44547-01-21</td>\n",
       "      <td>None</td>\n",
       "      <td>0.0</td>\n",
       "    </tr>\n",
       "    <tr>\n",
       "      <th>277</th>\n",
       "      <td>44547</td>\n",
       "      <td>44547-01-21</td>\n",
       "      <td>Green</td>\n",
       "      <td>A-1</td>\n",
       "      <td>End</td>\n",
       "      <td>Windy</td>\n",
       "      <td>0.51</td>\n",
       "      <td>65-80</td>\n",
       "      <td>F</td>\n",
       "      <td>754 lbs/CY (manual) \\n0.29 g/cc (lab)</td>\n",
       "      <td>...</td>\n",
       "      <td>NaN</td>\n",
       "      <td>NaN</td>\n",
       "      <td>NaN</td>\n",
       "      <td>NaN</td>\n",
       "      <td>3.57</td>\n",
       "      <td>0.0</td>\n",
       "      <td>A7</td>\n",
       "      <td>44547-01-21</td>\n",
       "      <td>None</td>\n",
       "      <td>0.0</td>\n",
       "    </tr>\n",
       "  </tbody>\n",
       "</table>\n",
       "<p>2 rows × 33 columns</p>\n",
       "</div>"
      ],
      "text/plain": [
       "     Org Id     Trial Id Bag Colour Bag Id Stage Weather  Moisture   Temp  \\\n",
       "276   44547  44547-01-21      Green    A-1   End   Windy      0.51  65-80   \n",
       "277   44547  44547-01-21      Green    A-1   End   Windy      0.51  65-80   \n",
       "\n",
       "    Temp Units                           Bulk Density  ... Weight 3  \\\n",
       "276          F  754 lbs/CY (manual) \\n0.29 g/cc (lab)  ...      NaN   \n",
       "277          F  754 lbs/CY (manual) \\n0.29 g/cc (lab)  ...      NaN   \n",
       "\n",
       "     Product Weight Avg  Weight Units  Product Notes Start Weight End Weight  \\\n",
       "276                 NaN           NaN            NaN         8.11        0.0   \n",
       "277                 NaN           NaN            NaN         3.57        0.0   \n",
       "\n",
       "    Item ID        Trial % Residuals (Area) % Residuals (Weight)  \n",
       "276      A6  44547-01-21               None                  0.0  \n",
       "277      A7  44547-01-21               None                  0.0  \n",
       "\n",
       "[2 rows x 33 columns]"
      ]
     },
     "execution_count": 72,
     "metadata": {},
     "output_type": "execute_result"
    }
   ],
   "source": [
    "observations_casp004['Trial'] = observations_casp004['Trial Id']\n",
    "observations_casp004['% Residuals (Area)'] = None\n",
    "observations_casp004['% Residuals (Weight)'] = observations_casp004['End Weight']/observations_casp004['Start Weight']\n",
    "observations_casp004.head(2)"
   ]
  },
  {
   "cell_type": "code",
   "execution_count": 73,
   "metadata": {},
   "outputs": [
    {
     "data": {
      "text/html": [
       "<div>\n",
       "<style scoped>\n",
       "    .dataframe tbody tr th:only-of-type {\n",
       "        vertical-align: middle;\n",
       "    }\n",
       "\n",
       "    .dataframe tbody tr th {\n",
       "        vertical-align: top;\n",
       "    }\n",
       "\n",
       "    .dataframe thead th {\n",
       "        text-align: right;\n",
       "    }\n",
       "</style>\n",
       "<table border=\"1\" class=\"dataframe\">\n",
       "  <thead>\n",
       "    <tr style=\"text-align: right;\">\n",
       "      <th></th>\n",
       "      <th>Item ID</th>\n",
       "      <th>Item Name</th>\n",
       "      <th>Item Description Refined</th>\n",
       "      <th>Material Class I</th>\n",
       "      <th>Material Class II</th>\n",
       "      <th>Material Class III</th>\n",
       "      <th>Start Weight</th>\n",
       "      <th>Org Id</th>\n",
       "      <th>Trial Id</th>\n",
       "      <th>Bag Colour</th>\n",
       "      <th>...</th>\n",
       "      <th>Weight 1</th>\n",
       "      <th>Weight 2</th>\n",
       "      <th>Weight 3</th>\n",
       "      <th>Product Weight Avg</th>\n",
       "      <th>Weight Units</th>\n",
       "      <th>Product Notes</th>\n",
       "      <th>End Weight</th>\n",
       "      <th>Trial</th>\n",
       "      <th>% Residuals (Area)</th>\n",
       "      <th>% Residuals (Weight)</th>\n",
       "    </tr>\n",
       "  </thead>\n",
       "  <tbody>\n",
       "    <tr>\n",
       "      <th>0</th>\n",
       "      <td>A1</td>\n",
       "      <td>PLA-lined Bamboo Hot Cup 16oz</td>\n",
       "      <td>16oz NoTree Paper Hot Cup - World Centric</td>\n",
       "      <td>Fiber</td>\n",
       "      <td>Lined Fiber</td>\n",
       "      <td>PLA-lined Bamboo Paper</td>\n",
       "      <td>13.523333</td>\n",
       "      <td>44547</td>\n",
       "      <td>44547-01-21</td>\n",
       "      <td>Pink</td>\n",
       "      <td>...</td>\n",
       "      <td>24.46</td>\n",
       "      <td>24.50</td>\n",
       "      <td>24.50</td>\n",
       "      <td>NaN</td>\n",
       "      <td>NaN</td>\n",
       "      <td>NaN</td>\n",
       "      <td>24.486667</td>\n",
       "      <td>44547-01-21</td>\n",
       "      <td>None</td>\n",
       "      <td>1.811144</td>\n",
       "    </tr>\n",
       "    <tr>\n",
       "      <th>1</th>\n",
       "      <td>A1</td>\n",
       "      <td>PLA-lined Bamboo Hot Cup 16oz</td>\n",
       "      <td>16oz NoTree Paper Hot Cup - World Centric</td>\n",
       "      <td>Fiber</td>\n",
       "      <td>Lined Fiber</td>\n",
       "      <td>PLA-lined Bamboo Paper</td>\n",
       "      <td>13.523333</td>\n",
       "      <td>44547</td>\n",
       "      <td>44547-01-21</td>\n",
       "      <td>Pink</td>\n",
       "      <td>...</td>\n",
       "      <td>49.00</td>\n",
       "      <td>47.55</td>\n",
       "      <td>47.63</td>\n",
       "      <td>NaN</td>\n",
       "      <td>NaN</td>\n",
       "      <td>NaN</td>\n",
       "      <td>48.060000</td>\n",
       "      <td>44547-01-21</td>\n",
       "      <td>None</td>\n",
       "      <td>3.554734</td>\n",
       "    </tr>\n",
       "  </tbody>\n",
       "</table>\n",
       "<p>2 rows × 38 columns</p>\n",
       "</div>"
      ],
      "text/plain": [
       "  Item ID                      Item Name  \\\n",
       "0      A1  PLA-lined Bamboo Hot Cup 16oz   \n",
       "1      A1  PLA-lined Bamboo Hot Cup 16oz   \n",
       "\n",
       "                    Item Description Refined Material Class I  \\\n",
       "0  16oz NoTree Paper Hot Cup - World Centric            Fiber   \n",
       "1  16oz NoTree Paper Hot Cup - World Centric            Fiber   \n",
       "\n",
       "  Material Class II      Material Class III  Start Weight  Org Id  \\\n",
       "0       Lined Fiber  PLA-lined Bamboo Paper     13.523333   44547   \n",
       "1       Lined Fiber  PLA-lined Bamboo Paper     13.523333   44547   \n",
       "\n",
       "      Trial Id Bag Colour  ... Weight 1 Weight 2 Weight 3  Product Weight Avg  \\\n",
       "0  44547-01-21       Pink  ...    24.46    24.50    24.50                 NaN   \n",
       "1  44547-01-21       Pink  ...    49.00    47.55    47.63                 NaN   \n",
       "\n",
       "  Weight Units Product Notes End Weight        Trial  % Residuals (Area)  \\\n",
       "0          NaN           NaN  24.486667  44547-01-21                None   \n",
       "1          NaN           NaN  48.060000  44547-01-21                None   \n",
       "\n",
       "   % Residuals (Weight)  \n",
       "0              1.811144  \n",
       "1              3.554734  \n",
       "\n",
       "[2 rows x 38 columns]"
      ]
     },
     "execution_count": 73,
     "metadata": {},
     "output_type": "execute_result"
    }
   ],
   "source": [
    "observations_casp004 = observations_casp004.drop([\"Start Weight\"], axis=1) # workaround for including this based on CASP data\n",
    "joined_casp004 = pd.merge(items_clean, observations_casp004, on=\"Item ID\")\n",
    "joined_casp004.head(2)"
   ]
  },
  {
   "cell_type": "code",
   "execution_count": 74,
   "metadata": {},
   "outputs": [
    {
     "data": {
      "text/html": [
       "<div>\n",
       "<style scoped>\n",
       "    .dataframe tbody tr th:only-of-type {\n",
       "        vertical-align: middle;\n",
       "    }\n",
       "\n",
       "    .dataframe tbody tr th {\n",
       "        vertical-align: top;\n",
       "    }\n",
       "\n",
       "    .dataframe thead th {\n",
       "        text-align: right;\n",
       "    }\n",
       "</style>\n",
       "<table border=\"1\" class=\"dataframe\">\n",
       "  <thead>\n",
       "    <tr style=\"text-align: right;\">\n",
       "      <th></th>\n",
       "      <th>Trial</th>\n",
       "      <th>Item ID</th>\n",
       "      <th>Item Name</th>\n",
       "      <th>Item Description Refined</th>\n",
       "      <th>Material Class I</th>\n",
       "      <th>Material Class II</th>\n",
       "      <th>Material Class III</th>\n",
       "      <th>Start Weight</th>\n",
       "      <th>% Residuals (Weight)</th>\n",
       "      <th>% Residuals (Area)</th>\n",
       "    </tr>\n",
       "  </thead>\n",
       "  <tbody>\n",
       "    <tr>\n",
       "      <th>0</th>\n",
       "      <td>44547-01-21</td>\n",
       "      <td>A1</td>\n",
       "      <td>PLA-lined Bamboo Hot Cup 16oz</td>\n",
       "      <td>16oz NoTree Paper Hot Cup - World Centric</td>\n",
       "      <td>Fiber</td>\n",
       "      <td>Lined Fiber</td>\n",
       "      <td>PLA-lined Bamboo Paper</td>\n",
       "      <td>13.523333</td>\n",
       "      <td>1.811144</td>\n",
       "      <td>None</td>\n",
       "    </tr>\n",
       "    <tr>\n",
       "      <th>1</th>\n",
       "      <td>44547-01-21</td>\n",
       "      <td>A1</td>\n",
       "      <td>PLA-lined Bamboo Hot Cup 16oz</td>\n",
       "      <td>16oz NoTree Paper Hot Cup - World Centric</td>\n",
       "      <td>Fiber</td>\n",
       "      <td>Lined Fiber</td>\n",
       "      <td>PLA-lined Bamboo Paper</td>\n",
       "      <td>13.523333</td>\n",
       "      <td>3.554734</td>\n",
       "      <td>None</td>\n",
       "    </tr>\n",
       "  </tbody>\n",
       "</table>\n",
       "</div>"
      ],
      "text/plain": [
       "         Trial Item ID                      Item Name  \\\n",
       "0  44547-01-21      A1  PLA-lined Bamboo Hot Cup 16oz   \n",
       "1  44547-01-21      A1  PLA-lined Bamboo Hot Cup 16oz   \n",
       "\n",
       "                    Item Description Refined Material Class I  \\\n",
       "0  16oz NoTree Paper Hot Cup - World Centric            Fiber   \n",
       "1  16oz NoTree Paper Hot Cup - World Centric            Fiber   \n",
       "\n",
       "  Material Class II      Material Class III  Start Weight  \\\n",
       "0       Lined Fiber  PLA-lined Bamboo Paper     13.523333   \n",
       "1       Lined Fiber  PLA-lined Bamboo Paper     13.523333   \n",
       "\n",
       "   % Residuals (Weight) % Residuals (Area)  \n",
       "0              1.811144               None  \n",
       "1              3.554734               None  "
      ]
     },
     "execution_count": 74,
     "metadata": {},
     "output_type": "execute_result"
    }
   ],
   "source": [
    "joined_casp004 = joined_casp004[keep_cols]\n",
    "joined_casp004.head(2)"
   ]
  },
  {
   "cell_type": "code",
   "execution_count": 75,
   "metadata": {},
   "outputs": [],
   "source": [
    "joined_casp004 = joined_casp004[~(joined_casp004['% Residuals (Weight)'] > 10)]"
   ]
  },
  {
   "cell_type": "markdown",
   "metadata": {},
   "source": [
    "### Join All Trials"
   ]
  },
  {
   "cell_type": "code",
   "execution_count": 76,
   "metadata": {},
   "outputs": [],
   "source": [
    "# missing casp004, casp003\n",
    "joined = pd.concat((joined_cl, joined_ad001, joined_wr001, joined_casp001, joined_wr003, joined_casp003, joined_casp004))"
   ]
  },
  {
   "cell_type": "code",
   "execution_count": 77,
   "metadata": {},
   "outputs": [
    {
     "data": {
      "text/plain": [
       "(1325, 749, 94, 102, 85)"
      ]
     },
     "execution_count": 77,
     "metadata": {},
     "output_type": "execute_result"
    }
   ],
   "source": [
    "len(joined), len(joined_cl), len(joined_ad001), len(joined_wr001), len(joined_casp001)"
   ]
  },
  {
   "cell_type": "code",
   "execution_count": 78,
   "metadata": {},
   "outputs": [
    {
     "data": {
      "text/html": [
       "<div>\n",
       "<style scoped>\n",
       "    .dataframe tbody tr th:only-of-type {\n",
       "        vertical-align: middle;\n",
       "    }\n",
       "\n",
       "    .dataframe tbody tr th {\n",
       "        vertical-align: top;\n",
       "    }\n",
       "\n",
       "    .dataframe thead th {\n",
       "        text-align: right;\n",
       "    }\n",
       "</style>\n",
       "<table border=\"1\" class=\"dataframe\">\n",
       "  <thead>\n",
       "    <tr style=\"text-align: right;\">\n",
       "      <th></th>\n",
       "      <th>Trial</th>\n",
       "      <th>Item ID</th>\n",
       "      <th>Item Name</th>\n",
       "      <th>Item Description Refined</th>\n",
       "      <th>Material Class I</th>\n",
       "      <th>Material Class II</th>\n",
       "      <th>Material Class III</th>\n",
       "      <th>Start Weight</th>\n",
       "      <th>% Residuals (Weight)</th>\n",
       "      <th>% Residuals (Area)</th>\n",
       "    </tr>\n",
       "  </thead>\n",
       "  <tbody>\n",
       "    <tr>\n",
       "      <th>0</th>\n",
       "      <td>Facility 1 (Windrow)</td>\n",
       "      <td>K</td>\n",
       "      <td>Bagasse Clamshell 9x9</td>\n",
       "      <td>Bagasse Clamshell 9x9</td>\n",
       "      <td>Fiber</td>\n",
       "      <td>Unlined Fiber</td>\n",
       "      <td>Unlined Sugarcane Fibre (bagasse) PFAS Free</td>\n",
       "      <td>45.19</td>\n",
       "      <td>0.766</td>\n",
       "      <td>0.36</td>\n",
       "    </tr>\n",
       "    <tr>\n",
       "      <th>1</th>\n",
       "      <td>Facility 1 (Windrow)</td>\n",
       "      <td>K</td>\n",
       "      <td>Bagasse Clamshell 9x9</td>\n",
       "      <td>Bagasse Clamshell 9x9</td>\n",
       "      <td>Fiber</td>\n",
       "      <td>Unlined Fiber</td>\n",
       "      <td>Unlined Sugarcane Fibre (bagasse) PFAS Free</td>\n",
       "      <td>45.19</td>\n",
       "      <td>0.566</td>\n",
       "      <td>0.236</td>\n",
       "    </tr>\n",
       "  </tbody>\n",
       "</table>\n",
       "</div>"
      ],
      "text/plain": [
       "                  Trial Item ID              Item Name  \\\n",
       "0  Facility 1 (Windrow)       K  Bagasse Clamshell 9x9   \n",
       "1  Facility 1 (Windrow)       K  Bagasse Clamshell 9x9   \n",
       "\n",
       "  Item Description Refined Material Class I Material Class II  \\\n",
       "0    Bagasse Clamshell 9x9            Fiber     Unlined Fiber   \n",
       "1    Bagasse Clamshell 9x9            Fiber     Unlined Fiber   \n",
       "\n",
       "                            Material Class III  Start Weight  \\\n",
       "0  Unlined Sugarcane Fibre (bagasse) PFAS Free         45.19   \n",
       "1  Unlined Sugarcane Fibre (bagasse) PFAS Free         45.19   \n",
       "\n",
       "   % Residuals (Weight) % Residuals (Area)  \n",
       "0                 0.766               0.36  \n",
       "1                 0.566              0.236  "
      ]
     },
     "execution_count": 78,
     "metadata": {},
     "output_type": "execute_result"
    }
   ],
   "source": [
    "joined.head(2)"
   ]
  },
  {
   "cell_type": "code",
   "execution_count": 79,
   "metadata": {},
   "outputs": [
    {
     "data": {
      "text/plain": [
       "array([], dtype=object)"
      ]
     },
     "execution_count": 79,
     "metadata": {},
     "output_type": "execute_result"
    }
   ],
   "source": [
    "joined[joined['Material Class II']==\"Rigid biopolymer\"][\"Item Description Refined\"].unique()"
   ]
  },
  {
   "cell_type": "code",
   "execution_count": 80,
   "metadata": {},
   "outputs": [],
   "source": [
    "joined = joined[~(joined[\"Material Class II\"]==\"Mixed Materials\")]"
   ]
  },
  {
   "cell_type": "code",
   "execution_count": 99,
   "metadata": {},
   "outputs": [
    {
     "data": {
      "text/html": [
       "<div>\n",
       "<style scoped>\n",
       "    .dataframe tbody tr th:only-of-type {\n",
       "        vertical-align: middle;\n",
       "    }\n",
       "\n",
       "    .dataframe tbody tr th {\n",
       "        vertical-align: top;\n",
       "    }\n",
       "\n",
       "    .dataframe thead th {\n",
       "        text-align: right;\n",
       "    }\n",
       "</style>\n",
       "<table border=\"1\" class=\"dataframe\">\n",
       "  <thead>\n",
       "    <tr style=\"text-align: right;\">\n",
       "      <th></th>\n",
       "      <th>Trial</th>\n",
       "      <th>Item ID</th>\n",
       "      <th>Item Name</th>\n",
       "      <th>Item Description Refined</th>\n",
       "      <th>Material Class I</th>\n",
       "      <th>Material Class II</th>\n",
       "      <th>Material Class III</th>\n",
       "      <th>Start Weight</th>\n",
       "      <th>% Residuals (Weight)</th>\n",
       "      <th>% Residuals (Area)</th>\n",
       "    </tr>\n",
       "  </thead>\n",
       "  <tbody>\n",
       "    <tr>\n",
       "      <th>18</th>\n",
       "      <td>CASP003-01</td>\n",
       "      <td>A43</td>\n",
       "      <td>Multi-laminate stand-up pounch with zipper</td>\n",
       "      <td>Large natural clear colour bag</td>\n",
       "      <td>Biopolymer</td>\n",
       "      <td>Biopolymer Film/Bag</td>\n",
       "      <td>Not disclosed</td>\n",
       "      <td>8.400000</td>\n",
       "      <td>3.333333</td>\n",
       "      <td>None</td>\n",
       "    </tr>\n",
       "    <tr>\n",
       "      <th>19</th>\n",
       "      <td>CASP003-01</td>\n",
       "      <td>A43</td>\n",
       "      <td>Multi-laminate stand-up pounch with zipper</td>\n",
       "      <td>Large natural clear colour bag</td>\n",
       "      <td>Biopolymer</td>\n",
       "      <td>Biopolymer Film/Bag</td>\n",
       "      <td>Not disclosed</td>\n",
       "      <td>8.400000</td>\n",
       "      <td>4.047619</td>\n",
       "      <td>None</td>\n",
       "    </tr>\n",
       "    <tr>\n",
       "      <th>20</th>\n",
       "      <td>CASP003-01</td>\n",
       "      <td>A43</td>\n",
       "      <td>Multi-laminate stand-up pounch with zipper</td>\n",
       "      <td>Large natural clear colour bag</td>\n",
       "      <td>Biopolymer</td>\n",
       "      <td>Biopolymer Film/Bag</td>\n",
       "      <td>Not disclosed</td>\n",
       "      <td>8.400000</td>\n",
       "      <td>5.714286</td>\n",
       "      <td>None</td>\n",
       "    </tr>\n",
       "    <tr>\n",
       "      <th>1</th>\n",
       "      <td>44547-01-21</td>\n",
       "      <td>A1</td>\n",
       "      <td>PLA-lined Bamboo Hot Cup 16oz</td>\n",
       "      <td>16oz NoTree Paper Hot Cup - World Centric</td>\n",
       "      <td>Fiber</td>\n",
       "      <td>Lined Fiber</td>\n",
       "      <td>PLA-lined Bamboo Paper</td>\n",
       "      <td>13.523333</td>\n",
       "      <td>3.554734</td>\n",
       "      <td>None</td>\n",
       "    </tr>\n",
       "    <tr>\n",
       "      <th>34</th>\n",
       "      <td>44547-01-21</td>\n",
       "      <td>A21</td>\n",
       "      <td>Paper Tray with Lid</td>\n",
       "      <td>BÉSICS® Lined Paper Box with Lid</td>\n",
       "      <td>Fiber</td>\n",
       "      <td>Lined Fiber</td>\n",
       "      <td>PLA-lined fibre</td>\n",
       "      <td>29.763333</td>\n",
       "      <td>4.493504</td>\n",
       "      <td>None</td>\n",
       "    </tr>\n",
       "  </tbody>\n",
       "</table>\n",
       "</div>"
      ],
      "text/plain": [
       "          Trial Item ID                                   Item Name  \\\n",
       "18   CASP003-01     A43  Multi-laminate stand-up pounch with zipper   \n",
       "19   CASP003-01     A43  Multi-laminate stand-up pounch with zipper   \n",
       "20   CASP003-01     A43  Multi-laminate stand-up pounch with zipper   \n",
       "1   44547-01-21      A1               PLA-lined Bamboo Hot Cup 16oz   \n",
       "34  44547-01-21     A21                         Paper Tray with Lid   \n",
       "\n",
       "                     Item Description Refined Material Class I  \\\n",
       "18             Large natural clear colour bag       Biopolymer   \n",
       "19             Large natural clear colour bag       Biopolymer   \n",
       "20             Large natural clear colour bag       Biopolymer   \n",
       "1   16oz NoTree Paper Hot Cup - World Centric            Fiber   \n",
       "34          BÉSICS® Lined Paper Box with Lid             Fiber   \n",
       "\n",
       "      Material Class II      Material Class III  Start Weight  \\\n",
       "18  Biopolymer Film/Bag           Not disclosed      8.400000   \n",
       "19  Biopolymer Film/Bag           Not disclosed      8.400000   \n",
       "20  Biopolymer Film/Bag           Not disclosed      8.400000   \n",
       "1           Lined Fiber  PLA-lined Bamboo Paper     13.523333   \n",
       "34          Lined Fiber         PLA-lined fibre     29.763333   \n",
       "\n",
       "    % Residuals (Weight) % Residuals (Area)  \n",
       "18              3.333333               None  \n",
       "19              4.047619               None  \n",
       "20              5.714286               None  \n",
       "1               3.554734               None  \n",
       "34              4.493504               None  "
      ]
     },
     "execution_count": 99,
     "metadata": {},
     "output_type": "execute_result"
    }
   ],
   "source": [
    "# joined[joined['Material Class II'] == \"Biopolymer Film/Bag\"]\n",
    "joined[joined['% Residuals (Weight)'] > 3]"
   ]
  },
  {
   "cell_type": "code",
   "execution_count": 100,
   "metadata": {},
   "outputs": [],
   "source": [
    "joined = joined[~(joined[\"Item Name\"] == \"Multi-laminate stand-up pounch with zipper\")]"
   ]
  },
  {
   "cell_type": "markdown",
   "metadata": {},
   "source": [
    "### Create Visualizations"
   ]
  },
  {
   "cell_type": "code",
   "execution_count": 81,
   "metadata": {},
   "outputs": [],
   "source": [
    "import plotly.graph_objects as go\n",
    "import numpy as np\n",
    "import matplotlib.colors as mcolors\n",
    "\n",
    "class2color = {\n",
    "    'Positive Control': '#70AD47',\n",
    "    'Mixed Materials': '#48646A',\n",
    "    'Fiber': '#298FC2',\n",
    "    'Biopolymer': '#FFB600',\n",
    "}"
   ]
  },
  {
   "cell_type": "code",
   "execution_count": 82,
   "metadata": {},
   "outputs": [
    {
     "data": {
      "text/plain": [
       "(array(['Fiber', 'Biopolymer', 'Positive Control'], dtype=object),\n",
       " array(['Unlined Fiber', 'Lined Fiber', 'Rigid Biopolymer (< 0.75mm)',\n",
       "        'Rigid Biopolymer (> 0.75mm)', 'Biopolymer Film/Bag',\n",
       "        'Positive Control - Film', 'Positive Control - Fiber',\n",
       "        'Positive Control - Food Scraps', 'Foam biopolymer'], dtype=object))"
      ]
     },
     "execution_count": 82,
     "metadata": {},
     "output_type": "execute_result"
    }
   ],
   "source": [
    "joined['Material Class I'].unique(), joined['Material Class II'].unique()"
   ]
  },
  {
   "cell_type": "code",
   "execution_count": 114,
   "metadata": {},
   "outputs": [],
   "source": [
    "class_I_order = ['Fiber', 'Biopolymer', 'Mixed Materials', 'Positive Control']\n",
    "class_II_order = ['Unlined Fiber', 'Lined Fiber', 'Biopolymer Film/Bag', 'Rigid Biopolymer (> 0.75mm)', 'Rigid Biopolymer (< 0.75mm)', 'Positive Control - Fiber', 'Positive Control - Film', 'Positive Control - Food Scraps']"
   ]
  },
  {
   "cell_type": "code",
   "execution_count": 129,
   "metadata": {},
   "outputs": [],
   "source": [
    "def box_and_whisker(df_input, column, class_I=None, cap=False, height=800, width=1000, save=False):\n",
    "    df = df_input.copy() # prevent modifying actual dataframe\n",
    "    \n",
    "    data = []\n",
    "    x_labels = []\n",
    "\n",
    "    if cap:\n",
    "        df[column] = df[column].clip(upper=1)\n",
    "    if class_I:\n",
    "        df = df[df['Material Class I'] == class_I]\n",
    "        \n",
    "    max_value = df[column].max()\n",
    "    max_value = max(100, max_value)\n",
    "\n",
    "    for class_II in class_II_order:\n",
    "        group = df[df['Material Class II'] == class_II]\n",
    "        if not group.empty:\n",
    "            count = group[column].count()\n",
    "            class_I_name = group['Material Class I'].iloc[0]\n",
    "            color = class2color.get(class_I_name, '#000')\n",
    "            trace = go.Box(y=group[column], name=class_II, boxpoints='outliers', marker_color=color, width=.3)\n",
    "            data.append(trace)\n",
    "            x_labels.append(f\"     {class_II}<br>     n={count}\")\n",
    "\n",
    "    y_axis_title = f\"{column}\"\n",
    "    if cap:\n",
    "        y_axis_title += \" Capped\"\n",
    "\n",
    "    layout = go.Layout( \n",
    "        title_font=dict(size=14, family='Roboto'),\n",
    "        font=dict(family='Roboto', size=11),\n",
    "        height=height,\n",
    "        width=width,\n",
    "        showlegend=False,\n",
    "        xaxis=dict(\n",
    "            tickmode='array',\n",
    "            tickvals=list(range(len(x_labels))),\n",
    "            ticktext=x_labels,\n",
    "            title_font=dict(size=14),\n",
    "            tickfont=dict(size=11),\n",
    "            tickangle=90\n",
    "        ),\n",
    "        yaxis=dict(\n",
    "            title=y_axis_title,\n",
    "            tickformat=\".0%\",\n",
    "            tickmode='array',\n",
    "            tickvals=np.arange(0, max_value, 0.25),  # Adjust this range if your data is not percentage-based\n",
    "            title_font=dict(size=16),\n",
    "            tickfont=dict(size=9),\n",
    "            rangemode=\"tozero\"\n",
    "        ),\n",
    "    )\n",
    "\n",
    "    fig = go.Figure(data=data, layout=layout)\n",
    "\n",
    "    if save:\n",
    "        filepath = column.replace(\" \",\"_\") + \"_box_and_whisker\"\n",
    "\n",
    "        if cap:\n",
    "            filepath += \"_capped\"\n",
    "\n",
    "        filepath += \".png\"\n",
    "        fig.write_image(filepath)\n",
    "\n",
    "    fig.show()\n"
   ]
  },
  {
   "cell_type": "code",
   "execution_count": 116,
   "metadata": {},
   "outputs": [],
   "source": [
    "def residuals_bar(df_input, class_I=None, cap=False, height=800, width=1000, save=False):\n",
    "    df = df_input.copy() # prevent modifying actual dataframe\n",
    "    \n",
    "    # Create weight columns\n",
    "    column = '% Residuals (Weight)'\n",
    "    df['End Weight'] = df[column] * df['Start Weight']\n",
    "\n",
    "    data = []\n",
    "    x_labels = []\n",
    "\n",
    "    if cap:\n",
    "        df[column] = df[column].clip(upper=1)\n",
    "    if class_I:\n",
    "        df = df[df['Material Class I'] == class_I]\n",
    "\n",
    "    # Weird setup to handle null start weights and still plot correctly\n",
    "    filtered_class_II_order = [class_II for class_II in class_II_order if not df[df['Material Class II'] == class_II]['Start Weight'].isna().all()]\n",
    "    x_positions = np.arange(len(filtered_class_II_order))  # Numeric x-axis positions\n",
    "\n",
    "    for i, class_II in enumerate(filtered_class_II_order):\n",
    "        group = df[df['Material Class II'] == class_II]\n",
    "        if not group.empty:\n",
    "            count = group[column].count()\n",
    "            class_I_name = group['Material Class I'].iloc[0]\n",
    "            color = class2color.get(class_I_name, '#000')\n",
    "            if not group['Start Weight'].isna().all():\n",
    "                trace_start = go.Bar(x=[x_positions[i] - 0.2], y=[group['Start Weight'].sum()], marker_color=color, width=.3)\n",
    "                trace_end = go.Bar(x=[x_positions[i] + 0.2], y=[group['End Weight'].sum()], marker_color=color, width=.3, opacity=.6)\n",
    "                data.append(trace_start)\n",
    "                data.append(trace_end)\n",
    "                x_labels.append(f\"     {class_II}<br>     n={count}\")\n",
    "\n",
    "    layout = go.Layout(\n",
    "        barmode='group',\n",
    "        title_font=dict(size=14, family='Roboto'),\n",
    "        font=dict(family='Roboto', size=11),\n",
    "        height=height,\n",
    "        width=width,\n",
    "        showlegend=False,\n",
    "        xaxis=dict(\n",
    "            tickmode='array',\n",
    "            tickvals=list(range(len(x_labels))),\n",
    "            ticktext=x_labels,\n",
    "            title_font=dict(size=14),\n",
    "            tickfont=dict(size=11),\n",
    "            tickangle=90\n",
    "        ),\n",
    "        yaxis=dict(\n",
    "            title=\"Total Weight in Grams (Start and End)\",\n",
    "            # tickformat=\".0%\",  # Formats the tick labels as percentages\n",
    "            tickmode='array',\n",
    "            title_font=dict(size=16),\n",
    "            tickfont=dict(size=9),\n",
    "        ),\n",
    "    )\n",
    "\n",
    "    fig = go.Figure(data=data, layout=layout)\n",
    "    fig.show()\n",
    "\n",
    "    if save:\n",
    "        filepath = column.replace(\" \",\"_\") + \"_double_bar\"\n",
    "\n",
    "        if cap:\n",
    "            filepath += \"_capped\"\n",
    "\n",
    "        filepath += \".png\"\n",
    "        fig.write_image(filepath)"
   ]
  },
  {
   "cell_type": "code",
   "execution_count": 139,
   "metadata": {},
   "outputs": [],
   "source": [
    "def mean_residuals_bar(df_input, column, class_I=None, cap=False, height=800, width=1000, save=False):\n",
    "    df = df_input.copy()  # prevent modifying actual dataframe\n",
    "\n",
    "    if cap:\n",
    "        df[column] = df[column].clip(upper=1)\n",
    "    if class_I:\n",
    "        df = df[df['Material Class I'] == class_I]\n",
    "\n",
    "    data = []\n",
    "    x_labels = []\n",
    "    x_positions = np.arange(len(class_II_order))  # Numeric x-axis positions\n",
    "\n",
    "    max_value = df[column].max()\n",
    "    max_value = max(100, max_value)\n",
    "\n",
    "    for i, class_II in enumerate(class_II_order):\n",
    "        group = df[df['Material Class II'] == class_II]\n",
    "        if not group.empty:\n",
    "            mean_residual = group[column].mean()\n",
    "            class_I_name = group['Material Class I'].iloc[0]\n",
    "            color = class2color.get(class_I_name, '#000')\n",
    "            formatted_text = f\"{mean_residual:.0%}\"\n",
    "            trace = go.Bar(x=[x_positions[i]], y=[mean_residual], marker_color=color, name=class_II, width=.3,\n",
    "                        text=formatted_text, textposition='outside', textfont=dict(size=14))\n",
    "            data.append(trace)\n",
    "            x_labels.append(f\"     {class_II}<br>     n={len(group)}\")\n",
    "\n",
    "    y_axis_title = f\"Mean {column}\"\n",
    "    if cap:\n",
    "        y_axis_title += \" Capped\"\n",
    "\n",
    "    layout = go.Layout(\n",
    "        barmode='group',\n",
    "        title_font=dict(size=14, family='Roboto'),\n",
    "        font=dict(family='Roboto', size=11),\n",
    "        height=height,\n",
    "        width=width,\n",
    "        showlegend=False,\n",
    "        xaxis=dict(\n",
    "            tickmode='array',\n",
    "            tickvals=x_positions,\n",
    "            ticktext=x_labels,\n",
    "            title_font=dict(size=14),\n",
    "            tickfont=dict(size=11),\n",
    "            tickangle=90,\n",
    "            title_standoff=25\n",
    "        ),\n",
    "        yaxis=dict(\n",
    "            title=y_axis_title,\n",
    "            tickformat=\".0%\",\n",
    "            tickvals=tickvals,\n",
    "            range=[0,1],\n",
    "            tickmode='array',\n",
    "            title_font=dict(size=16),\n",
    "            tickfont=dict(size=9),\n",
    "        ),\n",
    "    )\n",
    "\n",
    "    fig = go.Figure(data=data, layout=layout)\n",
    "    fig.show()\n",
    "\n",
    "    if save:\n",
    "        filepath = column.replace(\" \",\"_\") + \"_bar\"\n",
    "\n",
    "        if cap:\n",
    "            filepath += \"_capped\"\n",
    "\n",
    "        filepath += \".png\"\n",
    "        fig.write_image(filepath)"
   ]
  },
  {
   "cell_type": "code",
   "execution_count": 120,
   "metadata": {},
   "outputs": [
    {
     "data": {
      "text/plain": [
       "array(['Fiber', 'Biopolymer', 'Positive Control'], dtype=object)"
      ]
     },
     "execution_count": 120,
     "metadata": {},
     "output_type": "execute_result"
    }
   ],
   "source": [
    "joined['Material Class I'].unique()"
   ]
  },
  {
   "cell_type": "code",
   "execution_count": 121,
   "metadata": {},
   "outputs": [],
   "source": [
    "# HIGHEST PRIORITY\n",
    "# Start/End weight\n",
    "# Mean bar graph, material category 1 without \"mixed materials\"\n",
    "# weight\n",
    "# surface area\n",
    "# Boxplot, material category 1 without \"mixed materials\"\n",
    "# weight\n",
    "# surface area\n",
    "# SECONDARY PRIORITY\n",
    "# The 2 mean bar graphs and 2 boxplots with >100% residuals capped at 100%"
   ]
  },
  {
   "cell_type": "code",
   "execution_count": 140,
   "metadata": {},
   "outputs": [
    {
     "data": {
      "application/vnd.plotly.v1+json": {
       "config": {
        "plotlyServerURL": "https://plot.ly"
       },
       "data": [
        {
         "boxpoints": "outliers",
         "marker": {
          "color": "#298FC2"
         },
         "name": "Unlined Fiber",
         "type": "box",
         "width": 0.3,
         "y": [
          0.766,
          0.566,
          0.16,
          0.495,
          0.794,
          1.728,
          1.278,
          1.267,
          1.298,
          0.77,
          0.455,
          0.64,
          0.31,
          0.45,
          0.284,
          0.708,
          0.945,
          0.562,
          1.62,
          0,
          0.509,
          0,
          0.362,
          1.08,
          1.072,
          1.074,
          0.67,
          0.992,
          1.04,
          1.068,
          1.117,
          1.087,
          1.099,
          0,
          0,
          0.12,
          0.019,
          0.078,
          0,
          1.039,
          0.953,
          1.092,
          0.703,
          0.612,
          0.882,
          1.249,
          1.112,
          0.995,
          0.372,
          0.739,
          0.683,
          0.269,
          0.043,
          1.5,
          0.488,
          1.146,
          0,
          0.172,
          0.673,
          0.461,
          0.254,
          0.5,
          1.132,
          1.112,
          1.085,
          1.123,
          1.136,
          1.09,
          1.131,
          1.133,
          1.09,
          1.08,
          0,
          0.041,
          0,
          0.25,
          0.228,
          0,
          null,
          1.8400452488687782,
          0.43981900452488687,
          0.26266968325791856,
          0,
          0,
          0,
          0.9455905511811024,
          0.6012992125984251,
          1.1579527559055118,
          0.8175590551181102,
          0,
          0.8699999999999999,
          1.0424157303370785,
          0.9851123595505618,
          0.48539325842696623,
          0.9859550561797752,
          1.0550561797752809,
          1.0291935483870966,
          0.48145161290322575,
          0.5022580645161291,
          0.3648387096774193,
          0.636774193548387,
          0.37064516129032254,
          0,
          0.24870967741935482,
          0.7712903225806451,
          0.44516129032258056,
          0.9619354838709676,
          1.0350678733031673,
          1.0126771653543305,
          0.9779527559055117,
          0.9703937007874015,
          1.0210629921259842,
          1.0064173228346456,
          0.9731102362204724,
          1.1174157303370786,
          1.1140449438202247,
          1.0938202247191011,
          1.0550561797752809,
          1.0196629213483146,
          1.0474719101123595,
          1.0323033707865168,
          2.293548387096774,
          1.0045161290322582,
          1.2280645161290322,
          1.0799999999999998,
          1.0916129032258064,
          1.1404838709677418,
          1.146774193548387,
          1.1404838709677418,
          1.1253488372093021,
          1.0674418604651164,
          1.0438953488372094,
          1.0663953488372093,
          1.0334302325581395,
          0,
          0,
          0,
          0,
          0,
          0.1778740157480315,
          0,
          0.1696062992125984,
          0.03885826771653543,
          0,
          0.25533707865168537,
          0,
          0.4921348314606741,
          0,
          0,
          0.9101612903225805,
          0.2835483870967742,
          0,
          0.5583870967741935,
          0.69,
          0.7925806451612902,
          0.24096774193548387,
          0.756774193548387,
          0,
          0.532258064516129,
          0,
          0.9972299168975071,
          0.9778393351800555,
          0.9972299168975071,
          0.994459833795014,
          0.9972299168975071,
          0.9123711340206185,
          0.9123711340206185,
          0.9278350515463918,
          1.1597938144329898,
          0,
          1.3917525773195878,
          0,
          0,
          0,
          0,
          0,
          0,
          0,
          0,
          0,
          0,
          0,
          0,
          0.7316165063605338,
          0,
          0,
          0,
          1.0238907849829353,
          0,
          0,
          0,
          0,
          0,
          0.262639527248851,
          0.17760998030203548,
          0,
          0,
          0,
          0,
          0,
          0.14329964134333223,
          0,
          0,
          0,
          0,
          0,
          0,
          1.0948905109489049,
          1.516002245929253,
          2.442448062886019,
          0.7741935483870968,
          0.6774193548387096,
          0.8709677419354839,
          0,
          0,
          0,
          1.3862928348909658,
          1.3426791277258567,
          1.0498442367601246,
          0,
          0.9620893007582141,
          0,
          2.627351867452963,
          0,
          0,
          2.0853801169590644,
          1.727485380116959,
          2.9146198830409356,
          0,
          1.4619883040935673,
          1.367251461988304,
          1.3567251461988306,
          0.6818713450292397,
          0,
          1.5216374269005848,
          0,
          0.8350877192982455,
          1.095906432748538,
          0,
          1.6399331662489556,
          0,
          0.8362573099415206,
          1.2497911445279868,
          1.0918964076858813,
          0,
          0,
          0,
          0,
          0,
          0
         ]
        },
        {
         "boxpoints": "outliers",
         "marker": {
          "color": "#298FC2"
         },
         "name": "Lined Fiber",
         "type": "box",
         "width": 0.3,
         "y": [
          0.7343537759756716,
          0,
          0,
          0,
          0.7617840851495186,
          1.0951748606183478,
          1.573563101875317,
          1.0853218449062343,
          1.1253117080587938,
          0,
          0.19322858590978206,
          0,
          1.0198479472883935,
          0.3116776482513939,
          0,
          1.3928940699442474,
          0,
          1.0747085656360873,
          0,
          1.3094779523568172,
          0.9710086163203244,
          0,
          0,
          1.0725798276735936,
          1.1238520020273697,
          0.8913329954384187,
          1.1270146984287888,
          1.368474404460213,
          1.0438114546376078,
          1.0933502280790675,
          0.8231221490116575,
          0.9758438925494172,
          0.8604967055245819,
          0,
          0,
          0,
          0.09293461733400912,
          0.3554295690443257,
          0,
          1.1444124897288417,
          0.3827033689400165,
          1.090180772391126,
          1.3927691043549717,
          1.0316351684470009,
          0.211,
          0,
          0.259,
          0.384,
          0.274,
          0.9911999999999999,
          0.6606,
          0.9768,
          0.7799999999999999,
          0.9995999999999999,
          0.9539852095316355,
          0.8270336894001645,
          0.8701725554642565,
          0.8541495480690223,
          0.8479868529170093,
          0.9034511092851276,
          0.8898931799506986,
          0.959,
          1.049,
          0.727,
          0.61,
          0.892,
          0.9705,
          1.0185,
          1.0356,
          0.9827999999999999,
          0.9107999999999999,
          0.9827999999999999,
          0.8825999999999999,
          0.8705999999999999,
          0.8916,
          0,
          0.8042317173377159,
          0.71240755957272,
          0,
          0,
          0,
          0,
          0.25,
          0,
          0,
          0.3504,
          0.4014,
          0.7799999999999999,
          0,
          0,
          0,
          0,
          0,
          0,
          0,
          0,
          0,
          0,
          0,
          0,
          0,
          0.31894964374349527,
          1.2188775918661434,
          0.554559282683532,
          0.13833960451525096,
          0.5672884476823312,
          0.36842526619165794,
          0,
          0,
          0,
          0,
          0,
          0,
          0,
          0.14316527365866807,
          0,
          0,
          0,
          0,
          0.15044486384470207,
          1.0300429184549356,
          1.0300429184549356,
          1.6738197424892705,
          1.3439354910964274,
          1.7471161384253557,
          1.8479113002575878,
          1.8111439842209074,
          3.554733727810651,
          0,
          2.138560157790927,
          2.019723865877712,
          1.033777120315582,
          0,
          0,
          1.8713522400328815,
          2.0448006576243323,
          0,
          0,
          0,
          1.668567807351078,
          4.493503584229392,
          2.241599462365591,
          1.1872759856630823,
          2.0075044802867383,
          2.111204130040463,
          2.357890330682294,
          0,
          1.1966652713827264,
          1.3492395702525461,
          1.2688712152923118
         ]
        },
        {
         "boxpoints": "outliers",
         "marker": {
          "color": "#FFB600"
         },
         "name": "Biopolymer Film/Bag",
         "type": "box",
         "width": 0.3,
         "y": [
          0.949,
          0.595,
          1.053,
          0.998,
          0.73,
          0,
          0,
          0,
          0,
          0,
          0,
          0,
          0,
          0,
          0.182,
          0,
          0,
          0,
          0,
          1.025,
          1.023,
          0.68,
          0,
          0,
          0,
          0,
          0,
          0,
          0,
          0,
          0,
          0,
          0,
          0.253,
          0.041,
          0,
          0,
          0.011,
          0.9,
          1.3392857142857142,
          1.1549999999999998,
          0.23142857142857143,
          0,
          0,
          0.9857142857142855,
          0.9171428571428571,
          1.4014285714285712,
          0.9878571428571429,
          1.0242857142857142,
          0.07285714285714286,
          0,
          0.6599999999999999,
          0,
          0.45,
          0.8684596577017116,
          0.6992665036674818,
          0.8968215158924205,
          0.8968215158924205,
          0.4572127139364303,
          0.4381418092909536,
          1.016,
          0,
          0,
          0,
          0,
          0,
          0.38725154215215907,
          0.5119945167923236,
          0.2145305003427005,
          0.5688827964359151,
          0.518848526387937,
          0.5483207676490748,
          0,
          0,
          0,
          0,
          0,
          0,
          0,
          0,
          0,
          0,
          0,
          0,
          0,
          0,
          0.6707317073170731,
          1.556910569105691,
          0,
          1.024390243902439
         ]
        },
        {
         "boxpoints": "outliers",
         "marker": {
          "color": "#FFB600"
         },
         "name": "Rigid Biopolymer (> 0.75mm)",
         "type": "box",
         "width": 0.3,
         "y": [
          0.5318625174175567,
          0,
          0.5797607988852763,
          0,
          0.45365768694844394,
          0,
          0,
          0,
          0,
          0,
          0,
          0,
          0,
          0,
          0,
          0,
          0,
          0,
          0,
          0,
          0,
          0,
          0,
          0,
          0,
          0.2341267998142127,
          0.06667440780306548,
          0.03633302368787737,
          0,
          0.010241523455643288,
          0,
          0,
          0,
          0,
          0,
          0,
          0,
          0,
          0,
          0,
          0.028900108794739712,
          0.014,
          0.013,
          0.017,
          0.006,
          0.055,
          0,
          0,
          0,
          0,
          0,
          0,
          0,
          0,
          0,
          0.018,
          0,
          0.247,
          0.824,
          0,
          0.924,
          0.1,
          0,
          0,
          0,
          0,
          0,
          0.237,
          0.074,
          0,
          0.027,
          0,
          0.001,
          0,
          0,
          0,
          0,
          0,
          0.004,
          1.006168831168831,
          0.5415584415584415,
          0.8454545454545453,
          0.9954545454545455,
          0.9857142857142855,
          0.967669172932331,
          null,
          0.9936090225563912,
          1.0330827067669175,
          null,
          0.967669172932331,
          0.5041071428571429,
          0,
          0.4856249999999999,
          0,
          0.4574999999999999,
          0.9991525423728813,
          1.0233050847457628,
          1.008050847457627,
          0.9915254237288135,
          0.11186440677966102,
          0.9889830508474576,
          null,
          0,
          0.45389610389610385,
          0.783116883116883,
          null,
          0,
          null,
          null,
          0,
          0.8323308270676693,
          null,
          0,
          null,
          0,
          0,
          0,
          0,
          0,
          0,
          null,
          0,
          0.6610169491525424,
          0.9953389830508474,
          0,
          0.20466101694915254,
          0,
          0,
          0,
          0,
          0,
          0,
          0,
          0,
          0,
          0,
          0,
          0,
          0,
          0,
          0,
          0,
          0,
          0,
          0,
          0,
          0,
          0,
          0,
          0,
          0.5899581589958158,
          0,
          0.972089857045609,
          0.484002722940776,
          0,
          0.28386657590197406,
          0,
          0,
          0.631578947368421,
          0,
          0,
          0,
          0,
          0,
          0,
          0,
          0,
          0,
          0,
          0,
          0,
          0,
          0,
          0,
          0,
          0,
          0.6780684104627767
         ]
        },
        {
         "boxpoints": "outliers",
         "marker": {
          "color": "#FFB600"
         },
         "name": "Rigid Biopolymer (< 0.75mm)",
         "type": "box",
         "width": 0.3,
         "y": [
          0,
          0,
          0,
          0,
          0,
          0,
          0,
          0,
          0,
          0,
          0,
          0,
          0,
          0,
          0,
          0,
          0,
          0,
          0,
          0,
          0,
          0,
          0,
          0,
          0,
          0,
          0,
          0,
          0,
          0,
          0,
          0,
          0,
          0,
          0,
          0,
          0,
          0,
          0.0034807752159299148,
          0,
          0,
          0,
          0,
          0,
          0,
          0,
          0,
          0,
          0,
          0,
          0,
          0,
          0,
          0,
          0,
          0,
          0,
          0,
          0,
          0,
          0,
          0,
          0,
          0,
          0,
          0,
          0,
          0,
          0,
          0,
          0,
          0,
          0,
          0,
          0,
          0,
          0,
          0,
          0,
          0,
          0,
          0,
          0,
          0,
          0,
          0,
          0,
          0,
          0,
          0,
          0,
          0,
          0,
          0,
          0,
          0,
          0,
          0,
          0,
          0,
          0,
          0,
          0,
          0,
          0,
          0,
          0,
          0.028,
          0,
          0,
          0,
          0,
          0,
          0,
          0,
          0.218,
          0,
          0,
          0,
          0.051,
          0.077,
          0.105,
          0.056,
          0.252,
          0,
          0,
          0,
          0,
          0.011,
          0.017,
          0,
          0,
          0,
          0,
          0,
          0,
          0,
          0.37,
          0.319,
          0,
          0.251,
          0.049,
          0,
          0,
          0,
          0,
          0,
          0.066,
          0,
          0.003,
          0,
          0,
          0,
          0,
          0,
          0,
          0,
          0,
          0,
          1.1454545454545455,
          0,
          0.9618181818181818,
          1.0909090909090908,
          0.9127272727272726,
          0,
          1.07,
          0,
          0.8871428571428571,
          1.1028571428571428,
          0,
          1.0742857142857143,
          1.02,
          0,
          1.06625,
          1.05125,
          1.054375,
          0,
          0,
          0,
          0,
          0,
          0,
          0,
          0,
          0.09857142857142856,
          0,
          0,
          0,
          0,
          0,
          0,
          0,
          0,
          0,
          0,
          0,
          0,
          0,
          0,
          0.32285714285714284,
          0,
          0,
          0,
          0,
          0,
          0,
          0,
          0,
          0,
          0,
          0,
          0,
          0,
          0.6545454545454545,
          0,
          0,
          0,
          0,
          0,
          0,
          0,
          0,
          0,
          0,
          0,
          0,
          0,
          0,
          0,
          0,
          0,
          0,
          0,
          0,
          0
         ]
        },
        {
         "boxpoints": "outliers",
         "marker": {
          "color": "#70AD47"
         },
         "name": "Positive Control - Fiber",
         "type": "box",
         "width": 0.3,
         "y": [
          0.705,
          1.075,
          0.903,
          0.456,
          0.792,
          0,
          0.414,
          0.448,
          0.849,
          0,
          1.041,
          0.88,
          1.071,
          1.344,
          1.166,
          1.088,
          1.342,
          1.309,
          1.173,
          0.992,
          0.783,
          1.384,
          1.409,
          1.245,
          0.72,
          0.073,
          1.421,
          1.606,
          0,
          0.138,
          0,
          0,
          1.051,
          0.272,
          0,
          0.015,
          0.19,
          0.714,
          0.51,
          1.064,
          1.27,
          0,
          1.369,
          1.283,
          0,
          1.181,
          0,
          1.101,
          1.376,
          0,
          1.163,
          1.637,
          0.692,
          0.49,
          0.707,
          0.393,
          0.505,
          0.312,
          1.736,
          0,
          0,
          1.091,
          1.183,
          0.914,
          1.482,
          0.475,
          0,
          1.152,
          1.184,
          0.816,
          1.136,
          0.721,
          1.213,
          0.974,
          1.094,
          0.979,
          0.971,
          0.962,
          1.056,
          1.116,
          1.12,
          1.252,
          1.23,
          1.148,
          1.015,
          1.167,
          1.132,
          1.006,
          1.046,
          1.111,
          1.072,
          0,
          1.269,
          0,
          0,
          0.014,
          0.015,
          0.534,
          0,
          0.152,
          0,
          0.117,
          1.104,
          0,
          0,
          1.494,
          0.189,
          0,
          null,
          null,
          null,
          0,
          0,
          0,
          0,
          0,
          0,
          0,
          0,
          0,
          0,
          0,
          0,
          0,
          0,
          0,
          0,
          0,
          0
         ]
        },
        {
         "boxpoints": "outliers",
         "marker": {
          "color": "#70AD47"
         },
         "name": "Positive Control - Film",
         "type": "box",
         "width": 0.3,
         "y": [
          0.265,
          0.8,
          0.627,
          0.317,
          0.094,
          0.417,
          0.075,
          0.363,
          0.482,
          0.315,
          0,
          0,
          0,
          0.435,
          0.891,
          1.076,
          0.975,
          1.008,
          0.856,
          1.066,
          1.226,
          0.808,
          0.841,
          0.632,
          0,
          0.883,
          0.126,
          0.408,
          0.027,
          0.302,
          0.257,
          0.085,
          0.24,
          0.159,
          0.214,
          0.182,
          0,
          0.027,
          0,
          0.36,
          0.207,
          0.581,
          0.614,
          0.059,
          0,
          0,
          0.064,
          0.382,
          0.911,
          0,
          0,
          1.373,
          0.27,
          0.43,
          0,
          0.412,
          0.499,
          0,
          0,
          0,
          0.122,
          0,
          0,
          0,
          0.131,
          0,
          0.798,
          0.189,
          0.242,
          0.055,
          0.461,
          0.78,
          0.337,
          0.283,
          0.881,
          0.955,
          0.983,
          0.855,
          0.391,
          0.146,
          0.313,
          0.313,
          0.186,
          0.489,
          0.235,
          0.717,
          0.835,
          0.939,
          0.991,
          0.925,
          0.189,
          0.291,
          0.111,
          0.443,
          0.183,
          0.012,
          0.167,
          0.179,
          0.005,
          0.47,
          0.938,
          0.026,
          0,
          null
         ]
        },
        {
         "boxpoints": "outliers",
         "marker": {
          "color": "#70AD47"
         },
         "name": "Positive Control - Food Scraps",
         "type": "box",
         "width": 0.3,
         "y": [
          0.017,
          0.04,
          0.049,
          0.046,
          0.014,
          0.042,
          0.072,
          0.018,
          0.035,
          0.041,
          0,
          0.036,
          0.029,
          0.023,
          0.021,
          0,
          0,
          0,
          0,
          0,
          0,
          0,
          0,
          0,
          0,
          0,
          0,
          0,
          0,
          0.038,
          0.069,
          0.063,
          0.029,
          0,
          0,
          0.078,
          0.039,
          0.022,
          0.074,
          0,
          0.07,
          0.058,
          0.004,
          0.004,
          0,
          0,
          0.037,
          0,
          0.041,
          0.017,
          0,
          0.029,
          0.024,
          0,
          0.074,
          0.041,
          0.043,
          0.101,
          0.054,
          0.072,
          0.105,
          0.054,
          0.094,
          0.126,
          0.071,
          0.088,
          0.076,
          0.086,
          0.097,
          0.076,
          0.131,
          0.097,
          0.052,
          0.134,
          0.148,
          0.048,
          0.075,
          0.04,
          0.043,
          0.059,
          0.166,
          0.124,
          0.051,
          0.108,
          0.103,
          0.106,
          0.121,
          0,
          0,
          0,
          0.065,
          0.056,
          0,
          0,
          0,
          0.046,
          0.037,
          0,
          0,
          0
         ]
        }
       ],
       "layout": {
        "font": {
         "family": "Roboto",
         "size": 11
        },
        "height": 800,
        "showlegend": false,
        "template": {
         "data": {
          "bar": [
           {
            "error_x": {
             "color": "#2a3f5f"
            },
            "error_y": {
             "color": "#2a3f5f"
            },
            "marker": {
             "line": {
              "color": "#E5ECF6",
              "width": 0.5
             },
             "pattern": {
              "fillmode": "overlay",
              "size": 10,
              "solidity": 0.2
             }
            },
            "type": "bar"
           }
          ],
          "barpolar": [
           {
            "marker": {
             "line": {
              "color": "#E5ECF6",
              "width": 0.5
             },
             "pattern": {
              "fillmode": "overlay",
              "size": 10,
              "solidity": 0.2
             }
            },
            "type": "barpolar"
           }
          ],
          "carpet": [
           {
            "aaxis": {
             "endlinecolor": "#2a3f5f",
             "gridcolor": "white",
             "linecolor": "white",
             "minorgridcolor": "white",
             "startlinecolor": "#2a3f5f"
            },
            "baxis": {
             "endlinecolor": "#2a3f5f",
             "gridcolor": "white",
             "linecolor": "white",
             "minorgridcolor": "white",
             "startlinecolor": "#2a3f5f"
            },
            "type": "carpet"
           }
          ],
          "choropleth": [
           {
            "colorbar": {
             "outlinewidth": 0,
             "ticks": ""
            },
            "type": "choropleth"
           }
          ],
          "contour": [
           {
            "colorbar": {
             "outlinewidth": 0,
             "ticks": ""
            },
            "colorscale": [
             [
              0,
              "#0d0887"
             ],
             [
              0.1111111111111111,
              "#46039f"
             ],
             [
              0.2222222222222222,
              "#7201a8"
             ],
             [
              0.3333333333333333,
              "#9c179e"
             ],
             [
              0.4444444444444444,
              "#bd3786"
             ],
             [
              0.5555555555555556,
              "#d8576b"
             ],
             [
              0.6666666666666666,
              "#ed7953"
             ],
             [
              0.7777777777777778,
              "#fb9f3a"
             ],
             [
              0.8888888888888888,
              "#fdca26"
             ],
             [
              1,
              "#f0f921"
             ]
            ],
            "type": "contour"
           }
          ],
          "contourcarpet": [
           {
            "colorbar": {
             "outlinewidth": 0,
             "ticks": ""
            },
            "type": "contourcarpet"
           }
          ],
          "heatmap": [
           {
            "colorbar": {
             "outlinewidth": 0,
             "ticks": ""
            },
            "colorscale": [
             [
              0,
              "#0d0887"
             ],
             [
              0.1111111111111111,
              "#46039f"
             ],
             [
              0.2222222222222222,
              "#7201a8"
             ],
             [
              0.3333333333333333,
              "#9c179e"
             ],
             [
              0.4444444444444444,
              "#bd3786"
             ],
             [
              0.5555555555555556,
              "#d8576b"
             ],
             [
              0.6666666666666666,
              "#ed7953"
             ],
             [
              0.7777777777777778,
              "#fb9f3a"
             ],
             [
              0.8888888888888888,
              "#fdca26"
             ],
             [
              1,
              "#f0f921"
             ]
            ],
            "type": "heatmap"
           }
          ],
          "heatmapgl": [
           {
            "colorbar": {
             "outlinewidth": 0,
             "ticks": ""
            },
            "colorscale": [
             [
              0,
              "#0d0887"
             ],
             [
              0.1111111111111111,
              "#46039f"
             ],
             [
              0.2222222222222222,
              "#7201a8"
             ],
             [
              0.3333333333333333,
              "#9c179e"
             ],
             [
              0.4444444444444444,
              "#bd3786"
             ],
             [
              0.5555555555555556,
              "#d8576b"
             ],
             [
              0.6666666666666666,
              "#ed7953"
             ],
             [
              0.7777777777777778,
              "#fb9f3a"
             ],
             [
              0.8888888888888888,
              "#fdca26"
             ],
             [
              1,
              "#f0f921"
             ]
            ],
            "type": "heatmapgl"
           }
          ],
          "histogram": [
           {
            "marker": {
             "pattern": {
              "fillmode": "overlay",
              "size": 10,
              "solidity": 0.2
             }
            },
            "type": "histogram"
           }
          ],
          "histogram2d": [
           {
            "colorbar": {
             "outlinewidth": 0,
             "ticks": ""
            },
            "colorscale": [
             [
              0,
              "#0d0887"
             ],
             [
              0.1111111111111111,
              "#46039f"
             ],
             [
              0.2222222222222222,
              "#7201a8"
             ],
             [
              0.3333333333333333,
              "#9c179e"
             ],
             [
              0.4444444444444444,
              "#bd3786"
             ],
             [
              0.5555555555555556,
              "#d8576b"
             ],
             [
              0.6666666666666666,
              "#ed7953"
             ],
             [
              0.7777777777777778,
              "#fb9f3a"
             ],
             [
              0.8888888888888888,
              "#fdca26"
             ],
             [
              1,
              "#f0f921"
             ]
            ],
            "type": "histogram2d"
           }
          ],
          "histogram2dcontour": [
           {
            "colorbar": {
             "outlinewidth": 0,
             "ticks": ""
            },
            "colorscale": [
             [
              0,
              "#0d0887"
             ],
             [
              0.1111111111111111,
              "#46039f"
             ],
             [
              0.2222222222222222,
              "#7201a8"
             ],
             [
              0.3333333333333333,
              "#9c179e"
             ],
             [
              0.4444444444444444,
              "#bd3786"
             ],
             [
              0.5555555555555556,
              "#d8576b"
             ],
             [
              0.6666666666666666,
              "#ed7953"
             ],
             [
              0.7777777777777778,
              "#fb9f3a"
             ],
             [
              0.8888888888888888,
              "#fdca26"
             ],
             [
              1,
              "#f0f921"
             ]
            ],
            "type": "histogram2dcontour"
           }
          ],
          "mesh3d": [
           {
            "colorbar": {
             "outlinewidth": 0,
             "ticks": ""
            },
            "type": "mesh3d"
           }
          ],
          "parcoords": [
           {
            "line": {
             "colorbar": {
              "outlinewidth": 0,
              "ticks": ""
             }
            },
            "type": "parcoords"
           }
          ],
          "pie": [
           {
            "automargin": true,
            "type": "pie"
           }
          ],
          "scatter": [
           {
            "fillpattern": {
             "fillmode": "overlay",
             "size": 10,
             "solidity": 0.2
            },
            "type": "scatter"
           }
          ],
          "scatter3d": [
           {
            "line": {
             "colorbar": {
              "outlinewidth": 0,
              "ticks": ""
             }
            },
            "marker": {
             "colorbar": {
              "outlinewidth": 0,
              "ticks": ""
             }
            },
            "type": "scatter3d"
           }
          ],
          "scattercarpet": [
           {
            "marker": {
             "colorbar": {
              "outlinewidth": 0,
              "ticks": ""
             }
            },
            "type": "scattercarpet"
           }
          ],
          "scattergeo": [
           {
            "marker": {
             "colorbar": {
              "outlinewidth": 0,
              "ticks": ""
             }
            },
            "type": "scattergeo"
           }
          ],
          "scattergl": [
           {
            "marker": {
             "colorbar": {
              "outlinewidth": 0,
              "ticks": ""
             }
            },
            "type": "scattergl"
           }
          ],
          "scattermapbox": [
           {
            "marker": {
             "colorbar": {
              "outlinewidth": 0,
              "ticks": ""
             }
            },
            "type": "scattermapbox"
           }
          ],
          "scatterpolar": [
           {
            "marker": {
             "colorbar": {
              "outlinewidth": 0,
              "ticks": ""
             }
            },
            "type": "scatterpolar"
           }
          ],
          "scatterpolargl": [
           {
            "marker": {
             "colorbar": {
              "outlinewidth": 0,
              "ticks": ""
             }
            },
            "type": "scatterpolargl"
           }
          ],
          "scatterternary": [
           {
            "marker": {
             "colorbar": {
              "outlinewidth": 0,
              "ticks": ""
             }
            },
            "type": "scatterternary"
           }
          ],
          "surface": [
           {
            "colorbar": {
             "outlinewidth": 0,
             "ticks": ""
            },
            "colorscale": [
             [
              0,
              "#0d0887"
             ],
             [
              0.1111111111111111,
              "#46039f"
             ],
             [
              0.2222222222222222,
              "#7201a8"
             ],
             [
              0.3333333333333333,
              "#9c179e"
             ],
             [
              0.4444444444444444,
              "#bd3786"
             ],
             [
              0.5555555555555556,
              "#d8576b"
             ],
             [
              0.6666666666666666,
              "#ed7953"
             ],
             [
              0.7777777777777778,
              "#fb9f3a"
             ],
             [
              0.8888888888888888,
              "#fdca26"
             ],
             [
              1,
              "#f0f921"
             ]
            ],
            "type": "surface"
           }
          ],
          "table": [
           {
            "cells": {
             "fill": {
              "color": "#EBF0F8"
             },
             "line": {
              "color": "white"
             }
            },
            "header": {
             "fill": {
              "color": "#C8D4E3"
             },
             "line": {
              "color": "white"
             }
            },
            "type": "table"
           }
          ]
         },
         "layout": {
          "annotationdefaults": {
           "arrowcolor": "#2a3f5f",
           "arrowhead": 0,
           "arrowwidth": 1
          },
          "autotypenumbers": "strict",
          "coloraxis": {
           "colorbar": {
            "outlinewidth": 0,
            "ticks": ""
           }
          },
          "colorscale": {
           "diverging": [
            [
             0,
             "#8e0152"
            ],
            [
             0.1,
             "#c51b7d"
            ],
            [
             0.2,
             "#de77ae"
            ],
            [
             0.3,
             "#f1b6da"
            ],
            [
             0.4,
             "#fde0ef"
            ],
            [
             0.5,
             "#f7f7f7"
            ],
            [
             0.6,
             "#e6f5d0"
            ],
            [
             0.7,
             "#b8e186"
            ],
            [
             0.8,
             "#7fbc41"
            ],
            [
             0.9,
             "#4d9221"
            ],
            [
             1,
             "#276419"
            ]
           ],
           "sequential": [
            [
             0,
             "#0d0887"
            ],
            [
             0.1111111111111111,
             "#46039f"
            ],
            [
             0.2222222222222222,
             "#7201a8"
            ],
            [
             0.3333333333333333,
             "#9c179e"
            ],
            [
             0.4444444444444444,
             "#bd3786"
            ],
            [
             0.5555555555555556,
             "#d8576b"
            ],
            [
             0.6666666666666666,
             "#ed7953"
            ],
            [
             0.7777777777777778,
             "#fb9f3a"
            ],
            [
             0.8888888888888888,
             "#fdca26"
            ],
            [
             1,
             "#f0f921"
            ]
           ],
           "sequentialminus": [
            [
             0,
             "#0d0887"
            ],
            [
             0.1111111111111111,
             "#46039f"
            ],
            [
             0.2222222222222222,
             "#7201a8"
            ],
            [
             0.3333333333333333,
             "#9c179e"
            ],
            [
             0.4444444444444444,
             "#bd3786"
            ],
            [
             0.5555555555555556,
             "#d8576b"
            ],
            [
             0.6666666666666666,
             "#ed7953"
            ],
            [
             0.7777777777777778,
             "#fb9f3a"
            ],
            [
             0.8888888888888888,
             "#fdca26"
            ],
            [
             1,
             "#f0f921"
            ]
           ]
          },
          "colorway": [
           "#636efa",
           "#EF553B",
           "#00cc96",
           "#ab63fa",
           "#FFA15A",
           "#19d3f3",
           "#FF6692",
           "#B6E880",
           "#FF97FF",
           "#FECB52"
          ],
          "font": {
           "color": "#2a3f5f"
          },
          "geo": {
           "bgcolor": "white",
           "lakecolor": "white",
           "landcolor": "#E5ECF6",
           "showlakes": true,
           "showland": true,
           "subunitcolor": "white"
          },
          "hoverlabel": {
           "align": "left"
          },
          "hovermode": "closest",
          "mapbox": {
           "style": "light"
          },
          "paper_bgcolor": "white",
          "plot_bgcolor": "#E5ECF6",
          "polar": {
           "angularaxis": {
            "gridcolor": "white",
            "linecolor": "white",
            "ticks": ""
           },
           "bgcolor": "#E5ECF6",
           "radialaxis": {
            "gridcolor": "white",
            "linecolor": "white",
            "ticks": ""
           }
          },
          "scene": {
           "xaxis": {
            "backgroundcolor": "#E5ECF6",
            "gridcolor": "white",
            "gridwidth": 2,
            "linecolor": "white",
            "showbackground": true,
            "ticks": "",
            "zerolinecolor": "white"
           },
           "yaxis": {
            "backgroundcolor": "#E5ECF6",
            "gridcolor": "white",
            "gridwidth": 2,
            "linecolor": "white",
            "showbackground": true,
            "ticks": "",
            "zerolinecolor": "white"
           },
           "zaxis": {
            "backgroundcolor": "#E5ECF6",
            "gridcolor": "white",
            "gridwidth": 2,
            "linecolor": "white",
            "showbackground": true,
            "ticks": "",
            "zerolinecolor": "white"
           }
          },
          "shapedefaults": {
           "line": {
            "color": "#2a3f5f"
           }
          },
          "ternary": {
           "aaxis": {
            "gridcolor": "white",
            "linecolor": "white",
            "ticks": ""
           },
           "baxis": {
            "gridcolor": "white",
            "linecolor": "white",
            "ticks": ""
           },
           "bgcolor": "#E5ECF6",
           "caxis": {
            "gridcolor": "white",
            "linecolor": "white",
            "ticks": ""
           }
          },
          "title": {
           "x": 0.05
          },
          "xaxis": {
           "automargin": true,
           "gridcolor": "white",
           "linecolor": "white",
           "ticks": "",
           "title": {
            "standoff": 15
           },
           "zerolinecolor": "white",
           "zerolinewidth": 2
          },
          "yaxis": {
           "automargin": true,
           "gridcolor": "white",
           "linecolor": "white",
           "ticks": "",
           "title": {
            "standoff": 15
           },
           "zerolinecolor": "white",
           "zerolinewidth": 2
          }
         }
        },
        "title": {
         "font": {
          "family": "Roboto",
          "size": 14
         }
        },
        "width": 1200,
        "xaxis": {
         "tickangle": 90,
         "tickfont": {
          "size": 11
         },
         "tickmode": "array",
         "ticktext": [
          "     Unlined Fiber<br>     n=249",
          "     Lined Fiber<br>     n=150",
          "     Biopolymer Film/Bag<br>     n=90",
          "     Rigid Biopolymer (> 0.75mm)<br>     n=168",
          "     Rigid Biopolymer (< 0.75mm)<br>     n=235",
          "     Positive Control - Fiber<br>     n=126",
          "     Positive Control - Film<br>     n=103",
          "     Positive Control - Food Scraps<br>     n=100"
         ],
         "tickvals": [
          0,
          1,
          2,
          3,
          4,
          5,
          6,
          7
         ],
         "title": {
          "font": {
           "size": 14
          }
         }
        },
        "yaxis": {
         "rangemode": "tozero",
         "tickfont": {
          "size": 9
         },
         "tickformat": ".0%",
         "tickmode": "array",
         "tickvals": [
          0,
          0.25,
          0.5,
          0.75,
          1,
          1.25,
          1.5,
          1.75,
          2,
          2.25,
          2.5,
          2.75,
          3,
          3.25,
          3.5,
          3.75,
          4,
          4.25,
          4.5,
          4.75,
          5,
          5.25,
          5.5,
          5.75,
          6,
          6.25,
          6.5,
          6.75,
          7,
          7.25,
          7.5,
          7.75,
          8,
          8.25,
          8.5,
          8.75,
          9,
          9.25,
          9.5,
          9.75,
          10,
          10.25,
          10.5,
          10.75,
          11,
          11.25,
          11.5,
          11.75,
          12,
          12.25,
          12.5,
          12.75,
          13,
          13.25,
          13.5,
          13.75,
          14,
          14.25,
          14.5,
          14.75,
          15,
          15.25,
          15.5,
          15.75,
          16,
          16.25,
          16.5,
          16.75,
          17,
          17.25,
          17.5,
          17.75,
          18,
          18.25,
          18.5,
          18.75,
          19,
          19.25,
          19.5,
          19.75,
          20,
          20.25,
          20.5,
          20.75,
          21,
          21.25,
          21.5,
          21.75,
          22,
          22.25,
          22.5,
          22.75,
          23,
          23.25,
          23.5,
          23.75,
          24,
          24.25,
          24.5,
          24.75,
          25,
          25.25,
          25.5,
          25.75,
          26,
          26.25,
          26.5,
          26.75,
          27,
          27.25,
          27.5,
          27.75,
          28,
          28.25,
          28.5,
          28.75,
          29,
          29.25,
          29.5,
          29.75,
          30,
          30.25,
          30.5,
          30.75,
          31,
          31.25,
          31.5,
          31.75,
          32,
          32.25,
          32.5,
          32.75,
          33,
          33.25,
          33.5,
          33.75,
          34,
          34.25,
          34.5,
          34.75,
          35,
          35.25,
          35.5,
          35.75,
          36,
          36.25,
          36.5,
          36.75,
          37,
          37.25,
          37.5,
          37.75,
          38,
          38.25,
          38.5,
          38.75,
          39,
          39.25,
          39.5,
          39.75,
          40,
          40.25,
          40.5,
          40.75,
          41,
          41.25,
          41.5,
          41.75,
          42,
          42.25,
          42.5,
          42.75,
          43,
          43.25,
          43.5,
          43.75,
          44,
          44.25,
          44.5,
          44.75,
          45,
          45.25,
          45.5,
          45.75,
          46,
          46.25,
          46.5,
          46.75,
          47,
          47.25,
          47.5,
          47.75,
          48,
          48.25,
          48.5,
          48.75,
          49,
          49.25,
          49.5,
          49.75,
          50,
          50.25,
          50.5,
          50.75,
          51,
          51.25,
          51.5,
          51.75,
          52,
          52.25,
          52.5,
          52.75,
          53,
          53.25,
          53.5,
          53.75,
          54,
          54.25,
          54.5,
          54.75,
          55,
          55.25,
          55.5,
          55.75,
          56,
          56.25,
          56.5,
          56.75,
          57,
          57.25,
          57.5,
          57.75,
          58,
          58.25,
          58.5,
          58.75,
          59,
          59.25,
          59.5,
          59.75,
          60,
          60.25,
          60.5,
          60.75,
          61,
          61.25,
          61.5,
          61.75,
          62,
          62.25,
          62.5,
          62.75,
          63,
          63.25,
          63.5,
          63.75,
          64,
          64.25,
          64.5,
          64.75,
          65,
          65.25,
          65.5,
          65.75,
          66,
          66.25,
          66.5,
          66.75,
          67,
          67.25,
          67.5,
          67.75,
          68,
          68.25,
          68.5,
          68.75,
          69,
          69.25,
          69.5,
          69.75,
          70,
          70.25,
          70.5,
          70.75,
          71,
          71.25,
          71.5,
          71.75,
          72,
          72.25,
          72.5,
          72.75,
          73,
          73.25,
          73.5,
          73.75,
          74,
          74.25,
          74.5,
          74.75,
          75,
          75.25,
          75.5,
          75.75,
          76,
          76.25,
          76.5,
          76.75,
          77,
          77.25,
          77.5,
          77.75,
          78,
          78.25,
          78.5,
          78.75,
          79,
          79.25,
          79.5,
          79.75,
          80,
          80.25,
          80.5,
          80.75,
          81,
          81.25,
          81.5,
          81.75,
          82,
          82.25,
          82.5,
          82.75,
          83,
          83.25,
          83.5,
          83.75,
          84,
          84.25,
          84.5,
          84.75,
          85,
          85.25,
          85.5,
          85.75,
          86,
          86.25,
          86.5,
          86.75,
          87,
          87.25,
          87.5,
          87.75,
          88,
          88.25,
          88.5,
          88.75,
          89,
          89.25,
          89.5,
          89.75,
          90,
          90.25,
          90.5,
          90.75,
          91,
          91.25,
          91.5,
          91.75,
          92,
          92.25,
          92.5,
          92.75,
          93,
          93.25,
          93.5,
          93.75,
          94,
          94.25,
          94.5,
          94.75,
          95,
          95.25,
          95.5,
          95.75,
          96,
          96.25,
          96.5,
          96.75,
          97,
          97.25,
          97.5,
          97.75,
          98,
          98.25,
          98.5,
          98.75,
          99,
          99.25,
          99.5,
          99.75
         ],
         "title": {
          "font": {
           "size": 16
          },
          "text": "% Residuals (Weight)"
         }
        }
       }
      }
     },
     "metadata": {},
     "output_type": "display_data"
    },
    {
     "data": {
      "application/vnd.plotly.v1+json": {
       "config": {
        "plotlyServerURL": "https://plot.ly"
       },
       "data": [
        {
         "marker": {
          "color": "#298FC2"
         },
         "name": "Unlined Fiber",
         "text": "62%",
         "textfont": {
          "size": 14
         },
         "textposition": "outside",
         "type": "bar",
         "width": 0.3,
         "x": [
          0
         ],
         "y": [
          0.6201054058121593
         ]
        },
        {
         "marker": {
          "color": "#298FC2"
         },
         "name": "Lined Fiber",
         "text": "69%",
         "textfont": {
          "size": 14
         },
         "textposition": "outside",
         "type": "bar",
         "width": 0.3,
         "x": [
          1
         ],
         "y": [
          0.685144931376492
         ]
        },
        {
         "marker": {
          "color": "#FFB600"
         },
         "name": "Biopolymer Film/Bag",
         "text": "32%",
         "textfont": {
          "size": 14
         },
         "textposition": "outside",
         "type": "bar",
         "width": 0.3,
         "x": [
          2
         ],
         "y": [
          0.3215509431829636
         ]
        },
        {
         "marker": {
          "color": "#FFB600"
         },
         "name": "Rigid Biopolymer (> 0.75mm)",
         "text": "16%",
         "textfont": {
          "size": 14
         },
         "textposition": "outside",
         "type": "bar",
         "width": 0.3,
         "x": [
          3
         ],
         "y": [
          0.16058914598859136
         ]
        },
        {
         "marker": {
          "color": "#FFB600"
         },
         "name": "Rigid Biopolymer (< 0.75mm)",
         "text": "7%",
         "textfont": {
          "size": 14
         },
         "textposition": "outside",
         "type": "bar",
         "width": 0.3,
         "x": [
          4
         ],
         "y": [
          0.06548733875057346
         ]
        },
        {
         "marker": {
          "color": "#70AD47"
         },
         "name": "Positive Control - Fiber",
         "text": "64%",
         "textfont": {
          "size": 14
         },
         "textposition": "outside",
         "type": "bar",
         "width": 0.3,
         "x": [
          5
         ],
         "y": [
          0.6393968253968253
         ]
        },
        {
         "marker": {
          "color": "#70AD47"
         },
         "name": "Positive Control - Film",
         "text": "38%",
         "textfont": {
          "size": 14
         },
         "textposition": "outside",
         "type": "bar",
         "width": 0.3,
         "x": [
          6
         ],
         "y": [
          0.3806504854368932
         ]
        },
        {
         "marker": {
          "color": "#70AD47"
         },
         "name": "Positive Control - Food Scraps",
         "text": "4%",
         "textfont": {
          "size": 14
         },
         "textposition": "outside",
         "type": "bar",
         "width": 0.3,
         "x": [
          7
         ],
         "y": [
          0.04247
         ]
        }
       ],
       "layout": {
        "barmode": "group",
        "font": {
         "family": "Roboto",
         "size": 11
        },
        "height": 800,
        "showlegend": false,
        "template": {
         "data": {
          "bar": [
           {
            "error_x": {
             "color": "#2a3f5f"
            },
            "error_y": {
             "color": "#2a3f5f"
            },
            "marker": {
             "line": {
              "color": "#E5ECF6",
              "width": 0.5
             },
             "pattern": {
              "fillmode": "overlay",
              "size": 10,
              "solidity": 0.2
             }
            },
            "type": "bar"
           }
          ],
          "barpolar": [
           {
            "marker": {
             "line": {
              "color": "#E5ECF6",
              "width": 0.5
             },
             "pattern": {
              "fillmode": "overlay",
              "size": 10,
              "solidity": 0.2
             }
            },
            "type": "barpolar"
           }
          ],
          "carpet": [
           {
            "aaxis": {
             "endlinecolor": "#2a3f5f",
             "gridcolor": "white",
             "linecolor": "white",
             "minorgridcolor": "white",
             "startlinecolor": "#2a3f5f"
            },
            "baxis": {
             "endlinecolor": "#2a3f5f",
             "gridcolor": "white",
             "linecolor": "white",
             "minorgridcolor": "white",
             "startlinecolor": "#2a3f5f"
            },
            "type": "carpet"
           }
          ],
          "choropleth": [
           {
            "colorbar": {
             "outlinewidth": 0,
             "ticks": ""
            },
            "type": "choropleth"
           }
          ],
          "contour": [
           {
            "colorbar": {
             "outlinewidth": 0,
             "ticks": ""
            },
            "colorscale": [
             [
              0,
              "#0d0887"
             ],
             [
              0.1111111111111111,
              "#46039f"
             ],
             [
              0.2222222222222222,
              "#7201a8"
             ],
             [
              0.3333333333333333,
              "#9c179e"
             ],
             [
              0.4444444444444444,
              "#bd3786"
             ],
             [
              0.5555555555555556,
              "#d8576b"
             ],
             [
              0.6666666666666666,
              "#ed7953"
             ],
             [
              0.7777777777777778,
              "#fb9f3a"
             ],
             [
              0.8888888888888888,
              "#fdca26"
             ],
             [
              1,
              "#f0f921"
             ]
            ],
            "type": "contour"
           }
          ],
          "contourcarpet": [
           {
            "colorbar": {
             "outlinewidth": 0,
             "ticks": ""
            },
            "type": "contourcarpet"
           }
          ],
          "heatmap": [
           {
            "colorbar": {
             "outlinewidth": 0,
             "ticks": ""
            },
            "colorscale": [
             [
              0,
              "#0d0887"
             ],
             [
              0.1111111111111111,
              "#46039f"
             ],
             [
              0.2222222222222222,
              "#7201a8"
             ],
             [
              0.3333333333333333,
              "#9c179e"
             ],
             [
              0.4444444444444444,
              "#bd3786"
             ],
             [
              0.5555555555555556,
              "#d8576b"
             ],
             [
              0.6666666666666666,
              "#ed7953"
             ],
             [
              0.7777777777777778,
              "#fb9f3a"
             ],
             [
              0.8888888888888888,
              "#fdca26"
             ],
             [
              1,
              "#f0f921"
             ]
            ],
            "type": "heatmap"
           }
          ],
          "heatmapgl": [
           {
            "colorbar": {
             "outlinewidth": 0,
             "ticks": ""
            },
            "colorscale": [
             [
              0,
              "#0d0887"
             ],
             [
              0.1111111111111111,
              "#46039f"
             ],
             [
              0.2222222222222222,
              "#7201a8"
             ],
             [
              0.3333333333333333,
              "#9c179e"
             ],
             [
              0.4444444444444444,
              "#bd3786"
             ],
             [
              0.5555555555555556,
              "#d8576b"
             ],
             [
              0.6666666666666666,
              "#ed7953"
             ],
             [
              0.7777777777777778,
              "#fb9f3a"
             ],
             [
              0.8888888888888888,
              "#fdca26"
             ],
             [
              1,
              "#f0f921"
             ]
            ],
            "type": "heatmapgl"
           }
          ],
          "histogram": [
           {
            "marker": {
             "pattern": {
              "fillmode": "overlay",
              "size": 10,
              "solidity": 0.2
             }
            },
            "type": "histogram"
           }
          ],
          "histogram2d": [
           {
            "colorbar": {
             "outlinewidth": 0,
             "ticks": ""
            },
            "colorscale": [
             [
              0,
              "#0d0887"
             ],
             [
              0.1111111111111111,
              "#46039f"
             ],
             [
              0.2222222222222222,
              "#7201a8"
             ],
             [
              0.3333333333333333,
              "#9c179e"
             ],
             [
              0.4444444444444444,
              "#bd3786"
             ],
             [
              0.5555555555555556,
              "#d8576b"
             ],
             [
              0.6666666666666666,
              "#ed7953"
             ],
             [
              0.7777777777777778,
              "#fb9f3a"
             ],
             [
              0.8888888888888888,
              "#fdca26"
             ],
             [
              1,
              "#f0f921"
             ]
            ],
            "type": "histogram2d"
           }
          ],
          "histogram2dcontour": [
           {
            "colorbar": {
             "outlinewidth": 0,
             "ticks": ""
            },
            "colorscale": [
             [
              0,
              "#0d0887"
             ],
             [
              0.1111111111111111,
              "#46039f"
             ],
             [
              0.2222222222222222,
              "#7201a8"
             ],
             [
              0.3333333333333333,
              "#9c179e"
             ],
             [
              0.4444444444444444,
              "#bd3786"
             ],
             [
              0.5555555555555556,
              "#d8576b"
             ],
             [
              0.6666666666666666,
              "#ed7953"
             ],
             [
              0.7777777777777778,
              "#fb9f3a"
             ],
             [
              0.8888888888888888,
              "#fdca26"
             ],
             [
              1,
              "#f0f921"
             ]
            ],
            "type": "histogram2dcontour"
           }
          ],
          "mesh3d": [
           {
            "colorbar": {
             "outlinewidth": 0,
             "ticks": ""
            },
            "type": "mesh3d"
           }
          ],
          "parcoords": [
           {
            "line": {
             "colorbar": {
              "outlinewidth": 0,
              "ticks": ""
             }
            },
            "type": "parcoords"
           }
          ],
          "pie": [
           {
            "automargin": true,
            "type": "pie"
           }
          ],
          "scatter": [
           {
            "fillpattern": {
             "fillmode": "overlay",
             "size": 10,
             "solidity": 0.2
            },
            "type": "scatter"
           }
          ],
          "scatter3d": [
           {
            "line": {
             "colorbar": {
              "outlinewidth": 0,
              "ticks": ""
             }
            },
            "marker": {
             "colorbar": {
              "outlinewidth": 0,
              "ticks": ""
             }
            },
            "type": "scatter3d"
           }
          ],
          "scattercarpet": [
           {
            "marker": {
             "colorbar": {
              "outlinewidth": 0,
              "ticks": ""
             }
            },
            "type": "scattercarpet"
           }
          ],
          "scattergeo": [
           {
            "marker": {
             "colorbar": {
              "outlinewidth": 0,
              "ticks": ""
             }
            },
            "type": "scattergeo"
           }
          ],
          "scattergl": [
           {
            "marker": {
             "colorbar": {
              "outlinewidth": 0,
              "ticks": ""
             }
            },
            "type": "scattergl"
           }
          ],
          "scattermapbox": [
           {
            "marker": {
             "colorbar": {
              "outlinewidth": 0,
              "ticks": ""
             }
            },
            "type": "scattermapbox"
           }
          ],
          "scatterpolar": [
           {
            "marker": {
             "colorbar": {
              "outlinewidth": 0,
              "ticks": ""
             }
            },
            "type": "scatterpolar"
           }
          ],
          "scatterpolargl": [
           {
            "marker": {
             "colorbar": {
              "outlinewidth": 0,
              "ticks": ""
             }
            },
            "type": "scatterpolargl"
           }
          ],
          "scatterternary": [
           {
            "marker": {
             "colorbar": {
              "outlinewidth": 0,
              "ticks": ""
             }
            },
            "type": "scatterternary"
           }
          ],
          "surface": [
           {
            "colorbar": {
             "outlinewidth": 0,
             "ticks": ""
            },
            "colorscale": [
             [
              0,
              "#0d0887"
             ],
             [
              0.1111111111111111,
              "#46039f"
             ],
             [
              0.2222222222222222,
              "#7201a8"
             ],
             [
              0.3333333333333333,
              "#9c179e"
             ],
             [
              0.4444444444444444,
              "#bd3786"
             ],
             [
              0.5555555555555556,
              "#d8576b"
             ],
             [
              0.6666666666666666,
              "#ed7953"
             ],
             [
              0.7777777777777778,
              "#fb9f3a"
             ],
             [
              0.8888888888888888,
              "#fdca26"
             ],
             [
              1,
              "#f0f921"
             ]
            ],
            "type": "surface"
           }
          ],
          "table": [
           {
            "cells": {
             "fill": {
              "color": "#EBF0F8"
             },
             "line": {
              "color": "white"
             }
            },
            "header": {
             "fill": {
              "color": "#C8D4E3"
             },
             "line": {
              "color": "white"
             }
            },
            "type": "table"
           }
          ]
         },
         "layout": {
          "annotationdefaults": {
           "arrowcolor": "#2a3f5f",
           "arrowhead": 0,
           "arrowwidth": 1
          },
          "autotypenumbers": "strict",
          "coloraxis": {
           "colorbar": {
            "outlinewidth": 0,
            "ticks": ""
           }
          },
          "colorscale": {
           "diverging": [
            [
             0,
             "#8e0152"
            ],
            [
             0.1,
             "#c51b7d"
            ],
            [
             0.2,
             "#de77ae"
            ],
            [
             0.3,
             "#f1b6da"
            ],
            [
             0.4,
             "#fde0ef"
            ],
            [
             0.5,
             "#f7f7f7"
            ],
            [
             0.6,
             "#e6f5d0"
            ],
            [
             0.7,
             "#b8e186"
            ],
            [
             0.8,
             "#7fbc41"
            ],
            [
             0.9,
             "#4d9221"
            ],
            [
             1,
             "#276419"
            ]
           ],
           "sequential": [
            [
             0,
             "#0d0887"
            ],
            [
             0.1111111111111111,
             "#46039f"
            ],
            [
             0.2222222222222222,
             "#7201a8"
            ],
            [
             0.3333333333333333,
             "#9c179e"
            ],
            [
             0.4444444444444444,
             "#bd3786"
            ],
            [
             0.5555555555555556,
             "#d8576b"
            ],
            [
             0.6666666666666666,
             "#ed7953"
            ],
            [
             0.7777777777777778,
             "#fb9f3a"
            ],
            [
             0.8888888888888888,
             "#fdca26"
            ],
            [
             1,
             "#f0f921"
            ]
           ],
           "sequentialminus": [
            [
             0,
             "#0d0887"
            ],
            [
             0.1111111111111111,
             "#46039f"
            ],
            [
             0.2222222222222222,
             "#7201a8"
            ],
            [
             0.3333333333333333,
             "#9c179e"
            ],
            [
             0.4444444444444444,
             "#bd3786"
            ],
            [
             0.5555555555555556,
             "#d8576b"
            ],
            [
             0.6666666666666666,
             "#ed7953"
            ],
            [
             0.7777777777777778,
             "#fb9f3a"
            ],
            [
             0.8888888888888888,
             "#fdca26"
            ],
            [
             1,
             "#f0f921"
            ]
           ]
          },
          "colorway": [
           "#636efa",
           "#EF553B",
           "#00cc96",
           "#ab63fa",
           "#FFA15A",
           "#19d3f3",
           "#FF6692",
           "#B6E880",
           "#FF97FF",
           "#FECB52"
          ],
          "font": {
           "color": "#2a3f5f"
          },
          "geo": {
           "bgcolor": "white",
           "lakecolor": "white",
           "landcolor": "#E5ECF6",
           "showlakes": true,
           "showland": true,
           "subunitcolor": "white"
          },
          "hoverlabel": {
           "align": "left"
          },
          "hovermode": "closest",
          "mapbox": {
           "style": "light"
          },
          "paper_bgcolor": "white",
          "plot_bgcolor": "#E5ECF6",
          "polar": {
           "angularaxis": {
            "gridcolor": "white",
            "linecolor": "white",
            "ticks": ""
           },
           "bgcolor": "#E5ECF6",
           "radialaxis": {
            "gridcolor": "white",
            "linecolor": "white",
            "ticks": ""
           }
          },
          "scene": {
           "xaxis": {
            "backgroundcolor": "#E5ECF6",
            "gridcolor": "white",
            "gridwidth": 2,
            "linecolor": "white",
            "showbackground": true,
            "ticks": "",
            "zerolinecolor": "white"
           },
           "yaxis": {
            "backgroundcolor": "#E5ECF6",
            "gridcolor": "white",
            "gridwidth": 2,
            "linecolor": "white",
            "showbackground": true,
            "ticks": "",
            "zerolinecolor": "white"
           },
           "zaxis": {
            "backgroundcolor": "#E5ECF6",
            "gridcolor": "white",
            "gridwidth": 2,
            "linecolor": "white",
            "showbackground": true,
            "ticks": "",
            "zerolinecolor": "white"
           }
          },
          "shapedefaults": {
           "line": {
            "color": "#2a3f5f"
           }
          },
          "ternary": {
           "aaxis": {
            "gridcolor": "white",
            "linecolor": "white",
            "ticks": ""
           },
           "baxis": {
            "gridcolor": "white",
            "linecolor": "white",
            "ticks": ""
           },
           "bgcolor": "#E5ECF6",
           "caxis": {
            "gridcolor": "white",
            "linecolor": "white",
            "ticks": ""
           }
          },
          "title": {
           "x": 0.05
          },
          "xaxis": {
           "automargin": true,
           "gridcolor": "white",
           "linecolor": "white",
           "ticks": "",
           "title": {
            "standoff": 15
           },
           "zerolinecolor": "white",
           "zerolinewidth": 2
          },
          "yaxis": {
           "automargin": true,
           "gridcolor": "white",
           "linecolor": "white",
           "ticks": "",
           "title": {
            "standoff": 15
           },
           "zerolinecolor": "white",
           "zerolinewidth": 2
          }
         }
        },
        "title": {
         "font": {
          "family": "Roboto",
          "size": 14
         }
        },
        "width": 1200,
        "xaxis": {
         "tickangle": 90,
         "tickfont": {
          "size": 11
         },
         "tickmode": "array",
         "ticktext": [
          "     Unlined Fiber<br>     n=250",
          "     Lined Fiber<br>     n=150",
          "     Biopolymer Film/Bag<br>     n=90",
          "     Rigid Biopolymer (> 0.75mm)<br>     n=177",
          "     Rigid Biopolymer (< 0.75mm)<br>     n=235",
          "     Positive Control - Fiber<br>     n=129",
          "     Positive Control - Film<br>     n=104",
          "     Positive Control - Food Scraps<br>     n=100"
         ],
         "tickvals": [
          0,
          1,
          2,
          3,
          4,
          5,
          6,
          7
         ],
         "title": {
          "font": {
           "size": 14
          },
          "standoff": 25
         }
        },
        "yaxis": {
         "range": [
          0,
          1
         ],
         "tickfont": {
          "size": 9
         },
         "tickformat": ".0%",
         "tickmode": "array",
         "tickvals": [
          0,
          0.25,
          0.5,
          0.75,
          1
         ],
         "title": {
          "font": {
           "size": 16
          },
          "text": "Mean % Residuals (Weight)"
         }
        }
       }
      }
     },
     "metadata": {},
     "output_type": "display_data"
    },
    {
     "data": {
      "application/vnd.plotly.v1+json": {
       "config": {
        "plotlyServerURL": "https://plot.ly"
       },
       "data": [
        {
         "boxpoints": "outliers",
         "marker": {
          "color": "#298FC2"
         },
         "name": "Unlined Fiber",
         "type": "box",
         "width": 0.3,
         "y": [
          0.766,
          0.566,
          0.16,
          0.495,
          0.794,
          1,
          1,
          1,
          1,
          0.77,
          0.455,
          0.64,
          0.31,
          0.45,
          0.284,
          0.708,
          0.945,
          0.562,
          1,
          0,
          0.509,
          0,
          0.362,
          1,
          1,
          1,
          0.67,
          0.992,
          1,
          1,
          1,
          1,
          1,
          0,
          0,
          0.12,
          0.019,
          0.078,
          0,
          1,
          0.953,
          1,
          0.703,
          0.612,
          0.882,
          1,
          1,
          0.995,
          0.372,
          0.739,
          0.683,
          0.269,
          0.043,
          1,
          0.488,
          1,
          0,
          0.172,
          0.673,
          0.461,
          0.254,
          0.5,
          1,
          1,
          1,
          1,
          1,
          1,
          1,
          1,
          1,
          1,
          0,
          0.041,
          0,
          0.25,
          0.228,
          0,
          null,
          1,
          0.43981900452488687,
          0.26266968325791856,
          0,
          0,
          0,
          0.9455905511811024,
          0.6012992125984251,
          1,
          0.8175590551181102,
          0,
          0.8699999999999999,
          1,
          0.9851123595505618,
          0.48539325842696623,
          0.9859550561797752,
          1,
          1,
          0.48145161290322575,
          0.5022580645161291,
          0.3648387096774193,
          0.636774193548387,
          0.37064516129032254,
          0,
          0.24870967741935482,
          0.7712903225806451,
          0.44516129032258056,
          0.9619354838709676,
          1,
          1,
          0.9779527559055117,
          0.9703937007874015,
          1,
          1,
          0.9731102362204724,
          1,
          1,
          1,
          1,
          1,
          1,
          1,
          1,
          1,
          1,
          1,
          1,
          1,
          1,
          1,
          1,
          1,
          1,
          1,
          1,
          0,
          0,
          0,
          0,
          0,
          0.1778740157480315,
          0,
          0.1696062992125984,
          0.03885826771653543,
          0,
          0.25533707865168537,
          0,
          0.4921348314606741,
          0,
          0,
          0.9101612903225805,
          0.2835483870967742,
          0,
          0.5583870967741935,
          0.69,
          0.7925806451612902,
          0.24096774193548387,
          0.756774193548387,
          0,
          0.532258064516129,
          0,
          0.9972299168975071,
          0.9778393351800555,
          0.9972299168975071,
          0.994459833795014,
          0.9972299168975071,
          0.9123711340206185,
          0.9123711340206185,
          0.9278350515463918,
          1,
          0,
          1,
          0,
          0,
          0,
          0,
          0,
          0,
          0,
          0,
          0,
          0,
          0,
          0,
          0.7316165063605338,
          0,
          0,
          0,
          1,
          0,
          0,
          0,
          0,
          0,
          0.262639527248851,
          0.17760998030203548,
          0,
          0,
          0,
          0,
          0,
          0.14329964134333223,
          0,
          0,
          0,
          0,
          0,
          0,
          1,
          1,
          1,
          0.7741935483870968,
          0.6774193548387096,
          0.8709677419354839,
          0,
          0,
          0,
          1,
          1,
          1,
          0,
          0.9620893007582141,
          0,
          1,
          0,
          0,
          1,
          1,
          1,
          0,
          1,
          1,
          1,
          0.6818713450292397,
          0,
          1,
          0,
          0.8350877192982455,
          1,
          0,
          1,
          0,
          0.8362573099415206,
          1,
          1,
          0,
          0,
          0,
          0,
          0,
          0
         ]
        },
        {
         "boxpoints": "outliers",
         "marker": {
          "color": "#298FC2"
         },
         "name": "Lined Fiber",
         "type": "box",
         "width": 0.3,
         "y": [
          0.7343537759756716,
          0,
          0,
          0,
          0.7617840851495186,
          1,
          1,
          1,
          1,
          0,
          0.19322858590978206,
          0,
          1,
          0.3116776482513939,
          0,
          1,
          0,
          1,
          0,
          1,
          0.9710086163203244,
          0,
          0,
          1,
          1,
          0.8913329954384187,
          1,
          1,
          1,
          1,
          0.8231221490116575,
          0.9758438925494172,
          0.8604967055245819,
          0,
          0,
          0,
          0.09293461733400912,
          0.3554295690443257,
          0,
          1,
          0.3827033689400165,
          1,
          1,
          1,
          0.211,
          0,
          0.259,
          0.384,
          0.274,
          0.9911999999999999,
          0.6606,
          0.9768,
          0.7799999999999999,
          0.9995999999999999,
          0.9539852095316355,
          0.8270336894001645,
          0.8701725554642565,
          0.8541495480690223,
          0.8479868529170093,
          0.9034511092851276,
          0.8898931799506986,
          0.959,
          1,
          0.727,
          0.61,
          0.892,
          0.9705,
          1,
          1,
          0.9827999999999999,
          0.9107999999999999,
          0.9827999999999999,
          0.8825999999999999,
          0.8705999999999999,
          0.8916,
          0,
          0.8042317173377159,
          0.71240755957272,
          0,
          0,
          0,
          0,
          0.25,
          0,
          0,
          0.3504,
          0.4014,
          0.7799999999999999,
          0,
          0,
          0,
          0,
          0,
          0,
          0,
          0,
          0,
          0,
          0,
          0,
          0,
          0.31894964374349527,
          1,
          0.554559282683532,
          0.13833960451525096,
          0.5672884476823312,
          0.36842526619165794,
          0,
          0,
          0,
          0,
          0,
          0,
          0,
          0.14316527365866807,
          0,
          0,
          0,
          0,
          0.15044486384470207,
          1,
          1,
          1,
          1,
          1,
          1,
          1,
          1,
          0,
          1,
          1,
          1,
          0,
          0,
          1,
          1,
          0,
          0,
          0,
          1,
          1,
          1,
          1,
          1,
          1,
          1,
          0,
          1,
          1,
          1
         ]
        },
        {
         "boxpoints": "outliers",
         "marker": {
          "color": "#FFB600"
         },
         "name": "Biopolymer Film/Bag",
         "type": "box",
         "width": 0.3,
         "y": [
          0.949,
          0.595,
          1,
          0.998,
          0.73,
          0,
          0,
          0,
          0,
          0,
          0,
          0,
          0,
          0,
          0.182,
          0,
          0,
          0,
          0,
          1,
          1,
          0.68,
          0,
          0,
          0,
          0,
          0,
          0,
          0,
          0,
          0,
          0,
          0,
          0.253,
          0.041,
          0,
          0,
          0.011,
          0.9,
          1,
          1,
          0.23142857142857143,
          0,
          0,
          0.9857142857142855,
          0.9171428571428571,
          1,
          0.9878571428571429,
          1,
          0.07285714285714286,
          0,
          0.6599999999999999,
          0,
          0.45,
          0.8684596577017116,
          0.6992665036674818,
          0.8968215158924205,
          0.8968215158924205,
          0.4572127139364303,
          0.4381418092909536,
          1,
          0,
          0,
          0,
          0,
          0,
          0.38725154215215907,
          0.5119945167923236,
          0.2145305003427005,
          0.5688827964359151,
          0.518848526387937,
          0.5483207676490748,
          0,
          0,
          0,
          0,
          0,
          0,
          0,
          0,
          0,
          0,
          0,
          0,
          0,
          0,
          0.6707317073170731,
          1,
          0,
          1
         ]
        },
        {
         "boxpoints": "outliers",
         "marker": {
          "color": "#FFB600"
         },
         "name": "Rigid Biopolymer (> 0.75mm)",
         "type": "box",
         "width": 0.3,
         "y": [
          0.5318625174175567,
          0,
          0.5797607988852763,
          0,
          0.45365768694844394,
          0,
          0,
          0,
          0,
          0,
          0,
          0,
          0,
          0,
          0,
          0,
          0,
          0,
          0,
          0,
          0,
          0,
          0,
          0,
          0,
          0.2341267998142127,
          0.06667440780306548,
          0.03633302368787737,
          0,
          0.010241523455643288,
          0,
          0,
          0,
          0,
          0,
          0,
          0,
          0,
          0,
          0,
          0.028900108794739712,
          0.014,
          0.013,
          0.017,
          0.006,
          0.055,
          0,
          0,
          0,
          0,
          0,
          0,
          0,
          0,
          0,
          0.018,
          0,
          0.247,
          0.824,
          0,
          0.924,
          0.1,
          0,
          0,
          0,
          0,
          0,
          0.237,
          0.074,
          0,
          0.027,
          0,
          0.001,
          0,
          0,
          0,
          0,
          0,
          0.004,
          1,
          0.5415584415584415,
          0.8454545454545453,
          0.9954545454545455,
          0.9857142857142855,
          0.967669172932331,
          null,
          0.9936090225563912,
          1,
          null,
          0.967669172932331,
          0.5041071428571429,
          0,
          0.4856249999999999,
          0,
          0.4574999999999999,
          0.9991525423728813,
          1,
          1,
          0.9915254237288135,
          0.11186440677966102,
          0.9889830508474576,
          null,
          0,
          0.45389610389610385,
          0.783116883116883,
          null,
          0,
          null,
          null,
          0,
          0.8323308270676693,
          null,
          0,
          null,
          0,
          0,
          0,
          0,
          0,
          0,
          null,
          0,
          0.6610169491525424,
          0.9953389830508474,
          0,
          0.20466101694915254,
          0,
          0,
          0,
          0,
          0,
          0,
          0,
          0,
          0,
          0,
          0,
          0,
          0,
          0,
          0,
          0,
          0,
          0,
          0,
          0,
          0,
          0,
          0,
          0,
          0.5899581589958158,
          0,
          0.972089857045609,
          0.484002722940776,
          0,
          0.28386657590197406,
          0,
          0,
          0.631578947368421,
          0,
          0,
          0,
          0,
          0,
          0,
          0,
          0,
          0,
          0,
          0,
          0,
          0,
          0,
          0,
          0,
          0,
          0.6780684104627767
         ]
        },
        {
         "boxpoints": "outliers",
         "marker": {
          "color": "#FFB600"
         },
         "name": "Rigid Biopolymer (< 0.75mm)",
         "type": "box",
         "width": 0.3,
         "y": [
          0,
          0,
          0,
          0,
          0,
          0,
          0,
          0,
          0,
          0,
          0,
          0,
          0,
          0,
          0,
          0,
          0,
          0,
          0,
          0,
          0,
          0,
          0,
          0,
          0,
          0,
          0,
          0,
          0,
          0,
          0,
          0,
          0,
          0,
          0,
          0,
          0,
          0,
          0.0034807752159299148,
          0,
          0,
          0,
          0,
          0,
          0,
          0,
          0,
          0,
          0,
          0,
          0,
          0,
          0,
          0,
          0,
          0,
          0,
          0,
          0,
          0,
          0,
          0,
          0,
          0,
          0,
          0,
          0,
          0,
          0,
          0,
          0,
          0,
          0,
          0,
          0,
          0,
          0,
          0,
          0,
          0,
          0,
          0,
          0,
          0,
          0,
          0,
          0,
          0,
          0,
          0,
          0,
          0,
          0,
          0,
          0,
          0,
          0,
          0,
          0,
          0,
          0,
          0,
          0,
          0,
          0,
          0,
          0,
          0.028,
          0,
          0,
          0,
          0,
          0,
          0,
          0,
          0.218,
          0,
          0,
          0,
          0.051,
          0.077,
          0.105,
          0.056,
          0.252,
          0,
          0,
          0,
          0,
          0.011,
          0.017,
          0,
          0,
          0,
          0,
          0,
          0,
          0,
          0.37,
          0.319,
          0,
          0.251,
          0.049,
          0,
          0,
          0,
          0,
          0,
          0.066,
          0,
          0.003,
          0,
          0,
          0,
          0,
          0,
          0,
          0,
          0,
          0,
          1,
          0,
          0.9618181818181818,
          1,
          0.9127272727272726,
          0,
          1,
          0,
          0.8871428571428571,
          1,
          0,
          1,
          1,
          0,
          1,
          1,
          1,
          0,
          0,
          0,
          0,
          0,
          0,
          0,
          0,
          0.09857142857142856,
          0,
          0,
          0,
          0,
          0,
          0,
          0,
          0,
          0,
          0,
          0,
          0,
          0,
          0,
          0.32285714285714284,
          0,
          0,
          0,
          0,
          0,
          0,
          0,
          0,
          0,
          0,
          0,
          0,
          0,
          0.6545454545454545,
          0,
          0,
          0,
          0,
          0,
          0,
          0,
          0,
          0,
          0,
          0,
          0,
          0,
          0,
          0,
          0,
          0,
          0,
          0,
          0,
          0
         ]
        },
        {
         "boxpoints": "outliers",
         "marker": {
          "color": "#70AD47"
         },
         "name": "Positive Control - Fiber",
         "type": "box",
         "width": 0.3,
         "y": [
          0.705,
          1,
          0.903,
          0.456,
          0.792,
          0,
          0.414,
          0.448,
          0.849,
          0,
          1,
          0.88,
          1,
          1,
          1,
          1,
          1,
          1,
          1,
          0.992,
          0.783,
          1,
          1,
          1,
          0.72,
          0.073,
          1,
          1,
          0,
          0.138,
          0,
          0,
          1,
          0.272,
          0,
          0.015,
          0.19,
          0.714,
          0.51,
          1,
          1,
          0,
          1,
          1,
          0,
          1,
          0,
          1,
          1,
          0,
          1,
          1,
          0.692,
          0.49,
          0.707,
          0.393,
          0.505,
          0.312,
          1,
          0,
          0,
          1,
          1,
          0.914,
          1,
          0.475,
          0,
          1,
          1,
          0.816,
          1,
          0.721,
          1,
          0.974,
          1,
          0.979,
          0.971,
          0.962,
          1,
          1,
          1,
          1,
          1,
          1,
          1,
          1,
          1,
          1,
          1,
          1,
          1,
          0,
          1,
          0,
          0,
          0.014,
          0.015,
          0.534,
          0,
          0.152,
          0,
          0.117,
          1,
          0,
          0,
          1,
          0.189,
          0,
          null,
          null,
          null,
          0,
          0,
          0,
          0,
          0,
          0,
          0,
          0,
          0,
          0,
          0,
          0,
          0,
          0,
          0,
          0,
          0,
          0
         ]
        },
        {
         "boxpoints": "outliers",
         "marker": {
          "color": "#70AD47"
         },
         "name": "Positive Control - Film",
         "type": "box",
         "width": 0.3,
         "y": [
          0.265,
          0.8,
          0.627,
          0.317,
          0.094,
          0.417,
          0.075,
          0.363,
          0.482,
          0.315,
          0,
          0,
          0,
          0.435,
          0.891,
          1,
          0.975,
          1,
          0.856,
          1,
          1,
          0.808,
          0.841,
          0.632,
          0,
          0.883,
          0.126,
          0.408,
          0.027,
          0.302,
          0.257,
          0.085,
          0.24,
          0.159,
          0.214,
          0.182,
          0,
          0.027,
          0,
          0.36,
          0.207,
          0.581,
          0.614,
          0.059,
          0,
          0,
          0.064,
          0.382,
          0.911,
          0,
          0,
          1,
          0.27,
          0.43,
          0,
          0.412,
          0.499,
          0,
          0,
          0,
          0.122,
          0,
          0,
          0,
          0.131,
          0,
          0.798,
          0.189,
          0.242,
          0.055,
          0.461,
          0.78,
          0.337,
          0.283,
          0.881,
          0.955,
          0.983,
          0.855,
          0.391,
          0.146,
          0.313,
          0.313,
          0.186,
          0.489,
          0.235,
          0.717,
          0.835,
          0.939,
          0.991,
          0.925,
          0.189,
          0.291,
          0.111,
          0.443,
          0.183,
          0.012,
          0.167,
          0.179,
          0.005,
          0.47,
          0.938,
          0.026,
          0,
          null
         ]
        },
        {
         "boxpoints": "outliers",
         "marker": {
          "color": "#70AD47"
         },
         "name": "Positive Control - Food Scraps",
         "type": "box",
         "width": 0.3,
         "y": [
          0.017,
          0.04,
          0.049,
          0.046,
          0.014,
          0.042,
          0.072,
          0.018,
          0.035,
          0.041,
          0,
          0.036,
          0.029,
          0.023,
          0.021,
          0,
          0,
          0,
          0,
          0,
          0,
          0,
          0,
          0,
          0,
          0,
          0,
          0,
          0,
          0.038,
          0.069,
          0.063,
          0.029,
          0,
          0,
          0.078,
          0.039,
          0.022,
          0.074,
          0,
          0.07,
          0.058,
          0.004,
          0.004,
          0,
          0,
          0.037,
          0,
          0.041,
          0.017,
          0,
          0.029,
          0.024,
          0,
          0.074,
          0.041,
          0.043,
          0.101,
          0.054,
          0.072,
          0.105,
          0.054,
          0.094,
          0.126,
          0.071,
          0.088,
          0.076,
          0.086,
          0.097,
          0.076,
          0.131,
          0.097,
          0.052,
          0.134,
          0.148,
          0.048,
          0.075,
          0.04,
          0.043,
          0.059,
          0.166,
          0.124,
          0.051,
          0.108,
          0.103,
          0.106,
          0.121,
          0,
          0,
          0,
          0.065,
          0.056,
          0,
          0,
          0,
          0.046,
          0.037,
          0,
          0,
          0
         ]
        }
       ],
       "layout": {
        "font": {
         "family": "Roboto",
         "size": 11
        },
        "height": 800,
        "showlegend": false,
        "template": {
         "data": {
          "bar": [
           {
            "error_x": {
             "color": "#2a3f5f"
            },
            "error_y": {
             "color": "#2a3f5f"
            },
            "marker": {
             "line": {
              "color": "#E5ECF6",
              "width": 0.5
             },
             "pattern": {
              "fillmode": "overlay",
              "size": 10,
              "solidity": 0.2
             }
            },
            "type": "bar"
           }
          ],
          "barpolar": [
           {
            "marker": {
             "line": {
              "color": "#E5ECF6",
              "width": 0.5
             },
             "pattern": {
              "fillmode": "overlay",
              "size": 10,
              "solidity": 0.2
             }
            },
            "type": "barpolar"
           }
          ],
          "carpet": [
           {
            "aaxis": {
             "endlinecolor": "#2a3f5f",
             "gridcolor": "white",
             "linecolor": "white",
             "minorgridcolor": "white",
             "startlinecolor": "#2a3f5f"
            },
            "baxis": {
             "endlinecolor": "#2a3f5f",
             "gridcolor": "white",
             "linecolor": "white",
             "minorgridcolor": "white",
             "startlinecolor": "#2a3f5f"
            },
            "type": "carpet"
           }
          ],
          "choropleth": [
           {
            "colorbar": {
             "outlinewidth": 0,
             "ticks": ""
            },
            "type": "choropleth"
           }
          ],
          "contour": [
           {
            "colorbar": {
             "outlinewidth": 0,
             "ticks": ""
            },
            "colorscale": [
             [
              0,
              "#0d0887"
             ],
             [
              0.1111111111111111,
              "#46039f"
             ],
             [
              0.2222222222222222,
              "#7201a8"
             ],
             [
              0.3333333333333333,
              "#9c179e"
             ],
             [
              0.4444444444444444,
              "#bd3786"
             ],
             [
              0.5555555555555556,
              "#d8576b"
             ],
             [
              0.6666666666666666,
              "#ed7953"
             ],
             [
              0.7777777777777778,
              "#fb9f3a"
             ],
             [
              0.8888888888888888,
              "#fdca26"
             ],
             [
              1,
              "#f0f921"
             ]
            ],
            "type": "contour"
           }
          ],
          "contourcarpet": [
           {
            "colorbar": {
             "outlinewidth": 0,
             "ticks": ""
            },
            "type": "contourcarpet"
           }
          ],
          "heatmap": [
           {
            "colorbar": {
             "outlinewidth": 0,
             "ticks": ""
            },
            "colorscale": [
             [
              0,
              "#0d0887"
             ],
             [
              0.1111111111111111,
              "#46039f"
             ],
             [
              0.2222222222222222,
              "#7201a8"
             ],
             [
              0.3333333333333333,
              "#9c179e"
             ],
             [
              0.4444444444444444,
              "#bd3786"
             ],
             [
              0.5555555555555556,
              "#d8576b"
             ],
             [
              0.6666666666666666,
              "#ed7953"
             ],
             [
              0.7777777777777778,
              "#fb9f3a"
             ],
             [
              0.8888888888888888,
              "#fdca26"
             ],
             [
              1,
              "#f0f921"
             ]
            ],
            "type": "heatmap"
           }
          ],
          "heatmapgl": [
           {
            "colorbar": {
             "outlinewidth": 0,
             "ticks": ""
            },
            "colorscale": [
             [
              0,
              "#0d0887"
             ],
             [
              0.1111111111111111,
              "#46039f"
             ],
             [
              0.2222222222222222,
              "#7201a8"
             ],
             [
              0.3333333333333333,
              "#9c179e"
             ],
             [
              0.4444444444444444,
              "#bd3786"
             ],
             [
              0.5555555555555556,
              "#d8576b"
             ],
             [
              0.6666666666666666,
              "#ed7953"
             ],
             [
              0.7777777777777778,
              "#fb9f3a"
             ],
             [
              0.8888888888888888,
              "#fdca26"
             ],
             [
              1,
              "#f0f921"
             ]
            ],
            "type": "heatmapgl"
           }
          ],
          "histogram": [
           {
            "marker": {
             "pattern": {
              "fillmode": "overlay",
              "size": 10,
              "solidity": 0.2
             }
            },
            "type": "histogram"
           }
          ],
          "histogram2d": [
           {
            "colorbar": {
             "outlinewidth": 0,
             "ticks": ""
            },
            "colorscale": [
             [
              0,
              "#0d0887"
             ],
             [
              0.1111111111111111,
              "#46039f"
             ],
             [
              0.2222222222222222,
              "#7201a8"
             ],
             [
              0.3333333333333333,
              "#9c179e"
             ],
             [
              0.4444444444444444,
              "#bd3786"
             ],
             [
              0.5555555555555556,
              "#d8576b"
             ],
             [
              0.6666666666666666,
              "#ed7953"
             ],
             [
              0.7777777777777778,
              "#fb9f3a"
             ],
             [
              0.8888888888888888,
              "#fdca26"
             ],
             [
              1,
              "#f0f921"
             ]
            ],
            "type": "histogram2d"
           }
          ],
          "histogram2dcontour": [
           {
            "colorbar": {
             "outlinewidth": 0,
             "ticks": ""
            },
            "colorscale": [
             [
              0,
              "#0d0887"
             ],
             [
              0.1111111111111111,
              "#46039f"
             ],
             [
              0.2222222222222222,
              "#7201a8"
             ],
             [
              0.3333333333333333,
              "#9c179e"
             ],
             [
              0.4444444444444444,
              "#bd3786"
             ],
             [
              0.5555555555555556,
              "#d8576b"
             ],
             [
              0.6666666666666666,
              "#ed7953"
             ],
             [
              0.7777777777777778,
              "#fb9f3a"
             ],
             [
              0.8888888888888888,
              "#fdca26"
             ],
             [
              1,
              "#f0f921"
             ]
            ],
            "type": "histogram2dcontour"
           }
          ],
          "mesh3d": [
           {
            "colorbar": {
             "outlinewidth": 0,
             "ticks": ""
            },
            "type": "mesh3d"
           }
          ],
          "parcoords": [
           {
            "line": {
             "colorbar": {
              "outlinewidth": 0,
              "ticks": ""
             }
            },
            "type": "parcoords"
           }
          ],
          "pie": [
           {
            "automargin": true,
            "type": "pie"
           }
          ],
          "scatter": [
           {
            "fillpattern": {
             "fillmode": "overlay",
             "size": 10,
             "solidity": 0.2
            },
            "type": "scatter"
           }
          ],
          "scatter3d": [
           {
            "line": {
             "colorbar": {
              "outlinewidth": 0,
              "ticks": ""
             }
            },
            "marker": {
             "colorbar": {
              "outlinewidth": 0,
              "ticks": ""
             }
            },
            "type": "scatter3d"
           }
          ],
          "scattercarpet": [
           {
            "marker": {
             "colorbar": {
              "outlinewidth": 0,
              "ticks": ""
             }
            },
            "type": "scattercarpet"
           }
          ],
          "scattergeo": [
           {
            "marker": {
             "colorbar": {
              "outlinewidth": 0,
              "ticks": ""
             }
            },
            "type": "scattergeo"
           }
          ],
          "scattergl": [
           {
            "marker": {
             "colorbar": {
              "outlinewidth": 0,
              "ticks": ""
             }
            },
            "type": "scattergl"
           }
          ],
          "scattermapbox": [
           {
            "marker": {
             "colorbar": {
              "outlinewidth": 0,
              "ticks": ""
             }
            },
            "type": "scattermapbox"
           }
          ],
          "scatterpolar": [
           {
            "marker": {
             "colorbar": {
              "outlinewidth": 0,
              "ticks": ""
             }
            },
            "type": "scatterpolar"
           }
          ],
          "scatterpolargl": [
           {
            "marker": {
             "colorbar": {
              "outlinewidth": 0,
              "ticks": ""
             }
            },
            "type": "scatterpolargl"
           }
          ],
          "scatterternary": [
           {
            "marker": {
             "colorbar": {
              "outlinewidth": 0,
              "ticks": ""
             }
            },
            "type": "scatterternary"
           }
          ],
          "surface": [
           {
            "colorbar": {
             "outlinewidth": 0,
             "ticks": ""
            },
            "colorscale": [
             [
              0,
              "#0d0887"
             ],
             [
              0.1111111111111111,
              "#46039f"
             ],
             [
              0.2222222222222222,
              "#7201a8"
             ],
             [
              0.3333333333333333,
              "#9c179e"
             ],
             [
              0.4444444444444444,
              "#bd3786"
             ],
             [
              0.5555555555555556,
              "#d8576b"
             ],
             [
              0.6666666666666666,
              "#ed7953"
             ],
             [
              0.7777777777777778,
              "#fb9f3a"
             ],
             [
              0.8888888888888888,
              "#fdca26"
             ],
             [
              1,
              "#f0f921"
             ]
            ],
            "type": "surface"
           }
          ],
          "table": [
           {
            "cells": {
             "fill": {
              "color": "#EBF0F8"
             },
             "line": {
              "color": "white"
             }
            },
            "header": {
             "fill": {
              "color": "#C8D4E3"
             },
             "line": {
              "color": "white"
             }
            },
            "type": "table"
           }
          ]
         },
         "layout": {
          "annotationdefaults": {
           "arrowcolor": "#2a3f5f",
           "arrowhead": 0,
           "arrowwidth": 1
          },
          "autotypenumbers": "strict",
          "coloraxis": {
           "colorbar": {
            "outlinewidth": 0,
            "ticks": ""
           }
          },
          "colorscale": {
           "diverging": [
            [
             0,
             "#8e0152"
            ],
            [
             0.1,
             "#c51b7d"
            ],
            [
             0.2,
             "#de77ae"
            ],
            [
             0.3,
             "#f1b6da"
            ],
            [
             0.4,
             "#fde0ef"
            ],
            [
             0.5,
             "#f7f7f7"
            ],
            [
             0.6,
             "#e6f5d0"
            ],
            [
             0.7,
             "#b8e186"
            ],
            [
             0.8,
             "#7fbc41"
            ],
            [
             0.9,
             "#4d9221"
            ],
            [
             1,
             "#276419"
            ]
           ],
           "sequential": [
            [
             0,
             "#0d0887"
            ],
            [
             0.1111111111111111,
             "#46039f"
            ],
            [
             0.2222222222222222,
             "#7201a8"
            ],
            [
             0.3333333333333333,
             "#9c179e"
            ],
            [
             0.4444444444444444,
             "#bd3786"
            ],
            [
             0.5555555555555556,
             "#d8576b"
            ],
            [
             0.6666666666666666,
             "#ed7953"
            ],
            [
             0.7777777777777778,
             "#fb9f3a"
            ],
            [
             0.8888888888888888,
             "#fdca26"
            ],
            [
             1,
             "#f0f921"
            ]
           ],
           "sequentialminus": [
            [
             0,
             "#0d0887"
            ],
            [
             0.1111111111111111,
             "#46039f"
            ],
            [
             0.2222222222222222,
             "#7201a8"
            ],
            [
             0.3333333333333333,
             "#9c179e"
            ],
            [
             0.4444444444444444,
             "#bd3786"
            ],
            [
             0.5555555555555556,
             "#d8576b"
            ],
            [
             0.6666666666666666,
             "#ed7953"
            ],
            [
             0.7777777777777778,
             "#fb9f3a"
            ],
            [
             0.8888888888888888,
             "#fdca26"
            ],
            [
             1,
             "#f0f921"
            ]
           ]
          },
          "colorway": [
           "#636efa",
           "#EF553B",
           "#00cc96",
           "#ab63fa",
           "#FFA15A",
           "#19d3f3",
           "#FF6692",
           "#B6E880",
           "#FF97FF",
           "#FECB52"
          ],
          "font": {
           "color": "#2a3f5f"
          },
          "geo": {
           "bgcolor": "white",
           "lakecolor": "white",
           "landcolor": "#E5ECF6",
           "showlakes": true,
           "showland": true,
           "subunitcolor": "white"
          },
          "hoverlabel": {
           "align": "left"
          },
          "hovermode": "closest",
          "mapbox": {
           "style": "light"
          },
          "paper_bgcolor": "white",
          "plot_bgcolor": "#E5ECF6",
          "polar": {
           "angularaxis": {
            "gridcolor": "white",
            "linecolor": "white",
            "ticks": ""
           },
           "bgcolor": "#E5ECF6",
           "radialaxis": {
            "gridcolor": "white",
            "linecolor": "white",
            "ticks": ""
           }
          },
          "scene": {
           "xaxis": {
            "backgroundcolor": "#E5ECF6",
            "gridcolor": "white",
            "gridwidth": 2,
            "linecolor": "white",
            "showbackground": true,
            "ticks": "",
            "zerolinecolor": "white"
           },
           "yaxis": {
            "backgroundcolor": "#E5ECF6",
            "gridcolor": "white",
            "gridwidth": 2,
            "linecolor": "white",
            "showbackground": true,
            "ticks": "",
            "zerolinecolor": "white"
           },
           "zaxis": {
            "backgroundcolor": "#E5ECF6",
            "gridcolor": "white",
            "gridwidth": 2,
            "linecolor": "white",
            "showbackground": true,
            "ticks": "",
            "zerolinecolor": "white"
           }
          },
          "shapedefaults": {
           "line": {
            "color": "#2a3f5f"
           }
          },
          "ternary": {
           "aaxis": {
            "gridcolor": "white",
            "linecolor": "white",
            "ticks": ""
           },
           "baxis": {
            "gridcolor": "white",
            "linecolor": "white",
            "ticks": ""
           },
           "bgcolor": "#E5ECF6",
           "caxis": {
            "gridcolor": "white",
            "linecolor": "white",
            "ticks": ""
           }
          },
          "title": {
           "x": 0.05
          },
          "xaxis": {
           "automargin": true,
           "gridcolor": "white",
           "linecolor": "white",
           "ticks": "",
           "title": {
            "standoff": 15
           },
           "zerolinecolor": "white",
           "zerolinewidth": 2
          },
          "yaxis": {
           "automargin": true,
           "gridcolor": "white",
           "linecolor": "white",
           "ticks": "",
           "title": {
            "standoff": 15
           },
           "zerolinecolor": "white",
           "zerolinewidth": 2
          }
         }
        },
        "title": {
         "font": {
          "family": "Roboto",
          "size": 14
         }
        },
        "width": 1200,
        "xaxis": {
         "tickangle": 90,
         "tickfont": {
          "size": 11
         },
         "tickmode": "array",
         "ticktext": [
          "     Unlined Fiber<br>     n=249",
          "     Lined Fiber<br>     n=150",
          "     Biopolymer Film/Bag<br>     n=90",
          "     Rigid Biopolymer (> 0.75mm)<br>     n=168",
          "     Rigid Biopolymer (< 0.75mm)<br>     n=235",
          "     Positive Control - Fiber<br>     n=126",
          "     Positive Control - Film<br>     n=103",
          "     Positive Control - Food Scraps<br>     n=100"
         ],
         "tickvals": [
          0,
          1,
          2,
          3,
          4,
          5,
          6,
          7
         ],
         "title": {
          "font": {
           "size": 14
          }
         }
        },
        "yaxis": {
         "rangemode": "tozero",
         "tickfont": {
          "size": 9
         },
         "tickformat": ".0%",
         "tickmode": "array",
         "tickvals": [
          0,
          0.25,
          0.5,
          0.75,
          1,
          1.25,
          1.5,
          1.75,
          2,
          2.25,
          2.5,
          2.75,
          3,
          3.25,
          3.5,
          3.75,
          4,
          4.25,
          4.5,
          4.75,
          5,
          5.25,
          5.5,
          5.75,
          6,
          6.25,
          6.5,
          6.75,
          7,
          7.25,
          7.5,
          7.75,
          8,
          8.25,
          8.5,
          8.75,
          9,
          9.25,
          9.5,
          9.75,
          10,
          10.25,
          10.5,
          10.75,
          11,
          11.25,
          11.5,
          11.75,
          12,
          12.25,
          12.5,
          12.75,
          13,
          13.25,
          13.5,
          13.75,
          14,
          14.25,
          14.5,
          14.75,
          15,
          15.25,
          15.5,
          15.75,
          16,
          16.25,
          16.5,
          16.75,
          17,
          17.25,
          17.5,
          17.75,
          18,
          18.25,
          18.5,
          18.75,
          19,
          19.25,
          19.5,
          19.75,
          20,
          20.25,
          20.5,
          20.75,
          21,
          21.25,
          21.5,
          21.75,
          22,
          22.25,
          22.5,
          22.75,
          23,
          23.25,
          23.5,
          23.75,
          24,
          24.25,
          24.5,
          24.75,
          25,
          25.25,
          25.5,
          25.75,
          26,
          26.25,
          26.5,
          26.75,
          27,
          27.25,
          27.5,
          27.75,
          28,
          28.25,
          28.5,
          28.75,
          29,
          29.25,
          29.5,
          29.75,
          30,
          30.25,
          30.5,
          30.75,
          31,
          31.25,
          31.5,
          31.75,
          32,
          32.25,
          32.5,
          32.75,
          33,
          33.25,
          33.5,
          33.75,
          34,
          34.25,
          34.5,
          34.75,
          35,
          35.25,
          35.5,
          35.75,
          36,
          36.25,
          36.5,
          36.75,
          37,
          37.25,
          37.5,
          37.75,
          38,
          38.25,
          38.5,
          38.75,
          39,
          39.25,
          39.5,
          39.75,
          40,
          40.25,
          40.5,
          40.75,
          41,
          41.25,
          41.5,
          41.75,
          42,
          42.25,
          42.5,
          42.75,
          43,
          43.25,
          43.5,
          43.75,
          44,
          44.25,
          44.5,
          44.75,
          45,
          45.25,
          45.5,
          45.75,
          46,
          46.25,
          46.5,
          46.75,
          47,
          47.25,
          47.5,
          47.75,
          48,
          48.25,
          48.5,
          48.75,
          49,
          49.25,
          49.5,
          49.75,
          50,
          50.25,
          50.5,
          50.75,
          51,
          51.25,
          51.5,
          51.75,
          52,
          52.25,
          52.5,
          52.75,
          53,
          53.25,
          53.5,
          53.75,
          54,
          54.25,
          54.5,
          54.75,
          55,
          55.25,
          55.5,
          55.75,
          56,
          56.25,
          56.5,
          56.75,
          57,
          57.25,
          57.5,
          57.75,
          58,
          58.25,
          58.5,
          58.75,
          59,
          59.25,
          59.5,
          59.75,
          60,
          60.25,
          60.5,
          60.75,
          61,
          61.25,
          61.5,
          61.75,
          62,
          62.25,
          62.5,
          62.75,
          63,
          63.25,
          63.5,
          63.75,
          64,
          64.25,
          64.5,
          64.75,
          65,
          65.25,
          65.5,
          65.75,
          66,
          66.25,
          66.5,
          66.75,
          67,
          67.25,
          67.5,
          67.75,
          68,
          68.25,
          68.5,
          68.75,
          69,
          69.25,
          69.5,
          69.75,
          70,
          70.25,
          70.5,
          70.75,
          71,
          71.25,
          71.5,
          71.75,
          72,
          72.25,
          72.5,
          72.75,
          73,
          73.25,
          73.5,
          73.75,
          74,
          74.25,
          74.5,
          74.75,
          75,
          75.25,
          75.5,
          75.75,
          76,
          76.25,
          76.5,
          76.75,
          77,
          77.25,
          77.5,
          77.75,
          78,
          78.25,
          78.5,
          78.75,
          79,
          79.25,
          79.5,
          79.75,
          80,
          80.25,
          80.5,
          80.75,
          81,
          81.25,
          81.5,
          81.75,
          82,
          82.25,
          82.5,
          82.75,
          83,
          83.25,
          83.5,
          83.75,
          84,
          84.25,
          84.5,
          84.75,
          85,
          85.25,
          85.5,
          85.75,
          86,
          86.25,
          86.5,
          86.75,
          87,
          87.25,
          87.5,
          87.75,
          88,
          88.25,
          88.5,
          88.75,
          89,
          89.25,
          89.5,
          89.75,
          90,
          90.25,
          90.5,
          90.75,
          91,
          91.25,
          91.5,
          91.75,
          92,
          92.25,
          92.5,
          92.75,
          93,
          93.25,
          93.5,
          93.75,
          94,
          94.25,
          94.5,
          94.75,
          95,
          95.25,
          95.5,
          95.75,
          96,
          96.25,
          96.5,
          96.75,
          97,
          97.25,
          97.5,
          97.75,
          98,
          98.25,
          98.5,
          98.75,
          99,
          99.25,
          99.5,
          99.75
         ],
         "title": {
          "font": {
           "size": 16
          },
          "text": "% Residuals (Weight) Capped"
         }
        }
       }
      }
     },
     "metadata": {},
     "output_type": "display_data"
    },
    {
     "data": {
      "application/vnd.plotly.v1+json": {
       "config": {
        "plotlyServerURL": "https://plot.ly"
       },
       "data": [
        {
         "marker": {
          "color": "#298FC2"
         },
         "name": "Unlined Fiber",
         "text": "54%",
         "textfont": {
          "size": 14
         },
         "textposition": "outside",
         "type": "bar",
         "width": 0.3,
         "x": [
          0
         ],
         "y": [
          0.5367029137217791
         ]
        },
        {
         "marker": {
          "color": "#298FC2"
         },
         "name": "Lined Fiber",
         "text": "53%",
         "textfont": {
          "size": 14
         },
         "textposition": "outside",
         "type": "bar",
         "width": 0.3,
         "x": [
          1
         ],
         "y": [
          0.5283739987553141
         ]
        },
        {
         "marker": {
          "color": "#FFB600"
         },
         "name": "Biopolymer Film/Bag",
         "text": "30%",
         "textfont": {
          "size": 14
         },
         "textposition": "outside",
         "type": "bar",
         "width": 0.3,
         "x": [
          2
         ],
         "y": [
          0.3035698230384289
         ]
        },
        {
         "marker": {
          "color": "#FFB600"
         },
         "name": "Rigid Biopolymer (> 0.75mm)",
         "text": "16%",
         "textfont": {
          "size": 14
         },
         "textposition": "outside",
         "type": "bar",
         "width": 0.3,
         "x": [
          3
         ],
         "y": [
          0.16016886342823936
         ]
        },
        {
         "marker": {
          "color": "#FFB600"
         },
         "name": "Rigid Biopolymer (< 0.75mm)",
         "text": "6%",
         "textfont": {
          "size": 14
         },
         "textposition": "outside",
         "type": "bar",
         "width": 0.3,
         "x": [
          4
         ],
         "y": [
          0.06261337494841816
         ]
        },
        {
         "marker": {
          "color": "#70AD47"
         },
         "name": "Positive Control - Fiber",
         "text": "55%",
         "textfont": {
          "size": 14
         },
         "textposition": "outside",
         "type": "bar",
         "width": 0.3,
         "x": [
          5
         ],
         "y": [
          0.5538571428571428
         ]
        },
        {
         "marker": {
          "color": "#70AD47"
         },
         "name": "Positive Control - Film",
         "text": "37%",
         "textfont": {
          "size": 14
         },
         "textposition": "outside",
         "type": "bar",
         "width": 0.3,
         "x": [
          6
         ],
         "y": [
          0.373378640776699
         ]
        },
        {
         "marker": {
          "color": "#70AD47"
         },
         "name": "Positive Control - Food Scraps",
         "text": "4%",
         "textfont": {
          "size": 14
         },
         "textposition": "outside",
         "type": "bar",
         "width": 0.3,
         "x": [
          7
         ],
         "y": [
          0.04247
         ]
        }
       ],
       "layout": {
        "barmode": "group",
        "font": {
         "family": "Roboto",
         "size": 11
        },
        "height": 800,
        "showlegend": false,
        "template": {
         "data": {
          "bar": [
           {
            "error_x": {
             "color": "#2a3f5f"
            },
            "error_y": {
             "color": "#2a3f5f"
            },
            "marker": {
             "line": {
              "color": "#E5ECF6",
              "width": 0.5
             },
             "pattern": {
              "fillmode": "overlay",
              "size": 10,
              "solidity": 0.2
             }
            },
            "type": "bar"
           }
          ],
          "barpolar": [
           {
            "marker": {
             "line": {
              "color": "#E5ECF6",
              "width": 0.5
             },
             "pattern": {
              "fillmode": "overlay",
              "size": 10,
              "solidity": 0.2
             }
            },
            "type": "barpolar"
           }
          ],
          "carpet": [
           {
            "aaxis": {
             "endlinecolor": "#2a3f5f",
             "gridcolor": "white",
             "linecolor": "white",
             "minorgridcolor": "white",
             "startlinecolor": "#2a3f5f"
            },
            "baxis": {
             "endlinecolor": "#2a3f5f",
             "gridcolor": "white",
             "linecolor": "white",
             "minorgridcolor": "white",
             "startlinecolor": "#2a3f5f"
            },
            "type": "carpet"
           }
          ],
          "choropleth": [
           {
            "colorbar": {
             "outlinewidth": 0,
             "ticks": ""
            },
            "type": "choropleth"
           }
          ],
          "contour": [
           {
            "colorbar": {
             "outlinewidth": 0,
             "ticks": ""
            },
            "colorscale": [
             [
              0,
              "#0d0887"
             ],
             [
              0.1111111111111111,
              "#46039f"
             ],
             [
              0.2222222222222222,
              "#7201a8"
             ],
             [
              0.3333333333333333,
              "#9c179e"
             ],
             [
              0.4444444444444444,
              "#bd3786"
             ],
             [
              0.5555555555555556,
              "#d8576b"
             ],
             [
              0.6666666666666666,
              "#ed7953"
             ],
             [
              0.7777777777777778,
              "#fb9f3a"
             ],
             [
              0.8888888888888888,
              "#fdca26"
             ],
             [
              1,
              "#f0f921"
             ]
            ],
            "type": "contour"
           }
          ],
          "contourcarpet": [
           {
            "colorbar": {
             "outlinewidth": 0,
             "ticks": ""
            },
            "type": "contourcarpet"
           }
          ],
          "heatmap": [
           {
            "colorbar": {
             "outlinewidth": 0,
             "ticks": ""
            },
            "colorscale": [
             [
              0,
              "#0d0887"
             ],
             [
              0.1111111111111111,
              "#46039f"
             ],
             [
              0.2222222222222222,
              "#7201a8"
             ],
             [
              0.3333333333333333,
              "#9c179e"
             ],
             [
              0.4444444444444444,
              "#bd3786"
             ],
             [
              0.5555555555555556,
              "#d8576b"
             ],
             [
              0.6666666666666666,
              "#ed7953"
             ],
             [
              0.7777777777777778,
              "#fb9f3a"
             ],
             [
              0.8888888888888888,
              "#fdca26"
             ],
             [
              1,
              "#f0f921"
             ]
            ],
            "type": "heatmap"
           }
          ],
          "heatmapgl": [
           {
            "colorbar": {
             "outlinewidth": 0,
             "ticks": ""
            },
            "colorscale": [
             [
              0,
              "#0d0887"
             ],
             [
              0.1111111111111111,
              "#46039f"
             ],
             [
              0.2222222222222222,
              "#7201a8"
             ],
             [
              0.3333333333333333,
              "#9c179e"
             ],
             [
              0.4444444444444444,
              "#bd3786"
             ],
             [
              0.5555555555555556,
              "#d8576b"
             ],
             [
              0.6666666666666666,
              "#ed7953"
             ],
             [
              0.7777777777777778,
              "#fb9f3a"
             ],
             [
              0.8888888888888888,
              "#fdca26"
             ],
             [
              1,
              "#f0f921"
             ]
            ],
            "type": "heatmapgl"
           }
          ],
          "histogram": [
           {
            "marker": {
             "pattern": {
              "fillmode": "overlay",
              "size": 10,
              "solidity": 0.2
             }
            },
            "type": "histogram"
           }
          ],
          "histogram2d": [
           {
            "colorbar": {
             "outlinewidth": 0,
             "ticks": ""
            },
            "colorscale": [
             [
              0,
              "#0d0887"
             ],
             [
              0.1111111111111111,
              "#46039f"
             ],
             [
              0.2222222222222222,
              "#7201a8"
             ],
             [
              0.3333333333333333,
              "#9c179e"
             ],
             [
              0.4444444444444444,
              "#bd3786"
             ],
             [
              0.5555555555555556,
              "#d8576b"
             ],
             [
              0.6666666666666666,
              "#ed7953"
             ],
             [
              0.7777777777777778,
              "#fb9f3a"
             ],
             [
              0.8888888888888888,
              "#fdca26"
             ],
             [
              1,
              "#f0f921"
             ]
            ],
            "type": "histogram2d"
           }
          ],
          "histogram2dcontour": [
           {
            "colorbar": {
             "outlinewidth": 0,
             "ticks": ""
            },
            "colorscale": [
             [
              0,
              "#0d0887"
             ],
             [
              0.1111111111111111,
              "#46039f"
             ],
             [
              0.2222222222222222,
              "#7201a8"
             ],
             [
              0.3333333333333333,
              "#9c179e"
             ],
             [
              0.4444444444444444,
              "#bd3786"
             ],
             [
              0.5555555555555556,
              "#d8576b"
             ],
             [
              0.6666666666666666,
              "#ed7953"
             ],
             [
              0.7777777777777778,
              "#fb9f3a"
             ],
             [
              0.8888888888888888,
              "#fdca26"
             ],
             [
              1,
              "#f0f921"
             ]
            ],
            "type": "histogram2dcontour"
           }
          ],
          "mesh3d": [
           {
            "colorbar": {
             "outlinewidth": 0,
             "ticks": ""
            },
            "type": "mesh3d"
           }
          ],
          "parcoords": [
           {
            "line": {
             "colorbar": {
              "outlinewidth": 0,
              "ticks": ""
             }
            },
            "type": "parcoords"
           }
          ],
          "pie": [
           {
            "automargin": true,
            "type": "pie"
           }
          ],
          "scatter": [
           {
            "fillpattern": {
             "fillmode": "overlay",
             "size": 10,
             "solidity": 0.2
            },
            "type": "scatter"
           }
          ],
          "scatter3d": [
           {
            "line": {
             "colorbar": {
              "outlinewidth": 0,
              "ticks": ""
             }
            },
            "marker": {
             "colorbar": {
              "outlinewidth": 0,
              "ticks": ""
             }
            },
            "type": "scatter3d"
           }
          ],
          "scattercarpet": [
           {
            "marker": {
             "colorbar": {
              "outlinewidth": 0,
              "ticks": ""
             }
            },
            "type": "scattercarpet"
           }
          ],
          "scattergeo": [
           {
            "marker": {
             "colorbar": {
              "outlinewidth": 0,
              "ticks": ""
             }
            },
            "type": "scattergeo"
           }
          ],
          "scattergl": [
           {
            "marker": {
             "colorbar": {
              "outlinewidth": 0,
              "ticks": ""
             }
            },
            "type": "scattergl"
           }
          ],
          "scattermapbox": [
           {
            "marker": {
             "colorbar": {
              "outlinewidth": 0,
              "ticks": ""
             }
            },
            "type": "scattermapbox"
           }
          ],
          "scatterpolar": [
           {
            "marker": {
             "colorbar": {
              "outlinewidth": 0,
              "ticks": ""
             }
            },
            "type": "scatterpolar"
           }
          ],
          "scatterpolargl": [
           {
            "marker": {
             "colorbar": {
              "outlinewidth": 0,
              "ticks": ""
             }
            },
            "type": "scatterpolargl"
           }
          ],
          "scatterternary": [
           {
            "marker": {
             "colorbar": {
              "outlinewidth": 0,
              "ticks": ""
             }
            },
            "type": "scatterternary"
           }
          ],
          "surface": [
           {
            "colorbar": {
             "outlinewidth": 0,
             "ticks": ""
            },
            "colorscale": [
             [
              0,
              "#0d0887"
             ],
             [
              0.1111111111111111,
              "#46039f"
             ],
             [
              0.2222222222222222,
              "#7201a8"
             ],
             [
              0.3333333333333333,
              "#9c179e"
             ],
             [
              0.4444444444444444,
              "#bd3786"
             ],
             [
              0.5555555555555556,
              "#d8576b"
             ],
             [
              0.6666666666666666,
              "#ed7953"
             ],
             [
              0.7777777777777778,
              "#fb9f3a"
             ],
             [
              0.8888888888888888,
              "#fdca26"
             ],
             [
              1,
              "#f0f921"
             ]
            ],
            "type": "surface"
           }
          ],
          "table": [
           {
            "cells": {
             "fill": {
              "color": "#EBF0F8"
             },
             "line": {
              "color": "white"
             }
            },
            "header": {
             "fill": {
              "color": "#C8D4E3"
             },
             "line": {
              "color": "white"
             }
            },
            "type": "table"
           }
          ]
         },
         "layout": {
          "annotationdefaults": {
           "arrowcolor": "#2a3f5f",
           "arrowhead": 0,
           "arrowwidth": 1
          },
          "autotypenumbers": "strict",
          "coloraxis": {
           "colorbar": {
            "outlinewidth": 0,
            "ticks": ""
           }
          },
          "colorscale": {
           "diverging": [
            [
             0,
             "#8e0152"
            ],
            [
             0.1,
             "#c51b7d"
            ],
            [
             0.2,
             "#de77ae"
            ],
            [
             0.3,
             "#f1b6da"
            ],
            [
             0.4,
             "#fde0ef"
            ],
            [
             0.5,
             "#f7f7f7"
            ],
            [
             0.6,
             "#e6f5d0"
            ],
            [
             0.7,
             "#b8e186"
            ],
            [
             0.8,
             "#7fbc41"
            ],
            [
             0.9,
             "#4d9221"
            ],
            [
             1,
             "#276419"
            ]
           ],
           "sequential": [
            [
             0,
             "#0d0887"
            ],
            [
             0.1111111111111111,
             "#46039f"
            ],
            [
             0.2222222222222222,
             "#7201a8"
            ],
            [
             0.3333333333333333,
             "#9c179e"
            ],
            [
             0.4444444444444444,
             "#bd3786"
            ],
            [
             0.5555555555555556,
             "#d8576b"
            ],
            [
             0.6666666666666666,
             "#ed7953"
            ],
            [
             0.7777777777777778,
             "#fb9f3a"
            ],
            [
             0.8888888888888888,
             "#fdca26"
            ],
            [
             1,
             "#f0f921"
            ]
           ],
           "sequentialminus": [
            [
             0,
             "#0d0887"
            ],
            [
             0.1111111111111111,
             "#46039f"
            ],
            [
             0.2222222222222222,
             "#7201a8"
            ],
            [
             0.3333333333333333,
             "#9c179e"
            ],
            [
             0.4444444444444444,
             "#bd3786"
            ],
            [
             0.5555555555555556,
             "#d8576b"
            ],
            [
             0.6666666666666666,
             "#ed7953"
            ],
            [
             0.7777777777777778,
             "#fb9f3a"
            ],
            [
             0.8888888888888888,
             "#fdca26"
            ],
            [
             1,
             "#f0f921"
            ]
           ]
          },
          "colorway": [
           "#636efa",
           "#EF553B",
           "#00cc96",
           "#ab63fa",
           "#FFA15A",
           "#19d3f3",
           "#FF6692",
           "#B6E880",
           "#FF97FF",
           "#FECB52"
          ],
          "font": {
           "color": "#2a3f5f"
          },
          "geo": {
           "bgcolor": "white",
           "lakecolor": "white",
           "landcolor": "#E5ECF6",
           "showlakes": true,
           "showland": true,
           "subunitcolor": "white"
          },
          "hoverlabel": {
           "align": "left"
          },
          "hovermode": "closest",
          "mapbox": {
           "style": "light"
          },
          "paper_bgcolor": "white",
          "plot_bgcolor": "#E5ECF6",
          "polar": {
           "angularaxis": {
            "gridcolor": "white",
            "linecolor": "white",
            "ticks": ""
           },
           "bgcolor": "#E5ECF6",
           "radialaxis": {
            "gridcolor": "white",
            "linecolor": "white",
            "ticks": ""
           }
          },
          "scene": {
           "xaxis": {
            "backgroundcolor": "#E5ECF6",
            "gridcolor": "white",
            "gridwidth": 2,
            "linecolor": "white",
            "showbackground": true,
            "ticks": "",
            "zerolinecolor": "white"
           },
           "yaxis": {
            "backgroundcolor": "#E5ECF6",
            "gridcolor": "white",
            "gridwidth": 2,
            "linecolor": "white",
            "showbackground": true,
            "ticks": "",
            "zerolinecolor": "white"
           },
           "zaxis": {
            "backgroundcolor": "#E5ECF6",
            "gridcolor": "white",
            "gridwidth": 2,
            "linecolor": "white",
            "showbackground": true,
            "ticks": "",
            "zerolinecolor": "white"
           }
          },
          "shapedefaults": {
           "line": {
            "color": "#2a3f5f"
           }
          },
          "ternary": {
           "aaxis": {
            "gridcolor": "white",
            "linecolor": "white",
            "ticks": ""
           },
           "baxis": {
            "gridcolor": "white",
            "linecolor": "white",
            "ticks": ""
           },
           "bgcolor": "#E5ECF6",
           "caxis": {
            "gridcolor": "white",
            "linecolor": "white",
            "ticks": ""
           }
          },
          "title": {
           "x": 0.05
          },
          "xaxis": {
           "automargin": true,
           "gridcolor": "white",
           "linecolor": "white",
           "ticks": "",
           "title": {
            "standoff": 15
           },
           "zerolinecolor": "white",
           "zerolinewidth": 2
          },
          "yaxis": {
           "automargin": true,
           "gridcolor": "white",
           "linecolor": "white",
           "ticks": "",
           "title": {
            "standoff": 15
           },
           "zerolinecolor": "white",
           "zerolinewidth": 2
          }
         }
        },
        "title": {
         "font": {
          "family": "Roboto",
          "size": 14
         }
        },
        "width": 1200,
        "xaxis": {
         "tickangle": 90,
         "tickfont": {
          "size": 11
         },
         "tickmode": "array",
         "ticktext": [
          "     Unlined Fiber<br>     n=250",
          "     Lined Fiber<br>     n=150",
          "     Biopolymer Film/Bag<br>     n=90",
          "     Rigid Biopolymer (> 0.75mm)<br>     n=177",
          "     Rigid Biopolymer (< 0.75mm)<br>     n=235",
          "     Positive Control - Fiber<br>     n=129",
          "     Positive Control - Film<br>     n=104",
          "     Positive Control - Food Scraps<br>     n=100"
         ],
         "tickvals": [
          0,
          1,
          2,
          3,
          4,
          5,
          6,
          7
         ],
         "title": {
          "font": {
           "size": 14
          },
          "standoff": 25
         }
        },
        "yaxis": {
         "range": [
          0,
          1
         ],
         "tickfont": {
          "size": 9
         },
         "tickformat": ".0%",
         "tickmode": "array",
         "tickvals": [
          0,
          0.25,
          0.5,
          0.75,
          1
         ],
         "title": {
          "font": {
           "size": 16
          },
          "text": "Mean % Residuals (Weight) Capped"
         }
        }
       }
      }
     },
     "metadata": {},
     "output_type": "display_data"
    }
   ],
   "source": [
    "column = '% Residuals (Weight)'\n",
    "box_and_whisker(joined, column, width=1200, save=True)\n",
    "# residuals_bar(joined, width=1200, save=True)\n",
    "mean_residuals_bar(joined, column, width=1200, save=True)\n",
    "\n",
    "box_and_whisker(joined, column, width=1200, cap=True, save=True)\n",
    "# residuals_bar(joined, width=1200, cap=True, save=True)\n",
    "mean_residuals_bar(joined, column, width=1200, cap=True, save=True)"
   ]
  },
  {
   "cell_type": "code",
   "execution_count": 90,
   "metadata": {},
   "outputs": [
    {
     "data": {
      "application/vnd.plotly.v1+json": {
       "config": {
        "plotlyServerURL": "https://plot.ly"
       },
       "data": [
        {
         "boxpoints": "outliers",
         "marker": {
          "color": "#298FC2"
         },
         "name": "Unlined Fiber",
         "type": "box",
         "width": 0.3,
         "y": [
          0.36,
          0.236,
          0.104,
          0.262,
          0.405,
          0.625,
          0.453,
          0.608,
          0.611,
          0.394,
          0.249,
          0.305,
          0.155,
          0.204,
          0.116,
          0.317,
          0.419,
          0.235,
          0.538,
          0,
          0.383,
          0,
          0.202,
          0.634,
          0.677,
          0.617,
          0.399,
          0.637,
          0.722,
          0.674,
          0.671,
          0.696,
          0.72,
          0,
          0,
          0.071,
          0.014,
          0.009,
          0,
          0.59,
          0.63,
          0.739,
          0.536,
          0.521,
          0.573,
          0.668,
          0.646,
          0.638,
          0.208,
          0.376,
          0.438,
          0.138,
          0.039,
          0.814,
          0.344,
          0.705,
          0,
          0.175,
          0.578,
          0.41,
          0.199,
          0.335,
          0.828,
          0.744,
          0.786,
          0.786,
          0.814,
          0.809,
          0.772,
          0.752,
          0.752,
          0.866,
          0,
          0.032,
          0,
          0.149,
          0.044,
          0,
          0.373,
          null,
          null,
          null,
          null,
          null,
          null,
          null,
          null,
          null,
          null,
          null,
          null,
          null,
          null,
          null,
          null,
          null,
          null,
          null,
          null,
          null,
          null,
          null,
          null,
          null,
          null,
          null,
          null,
          null,
          null,
          null,
          null,
          null,
          null,
          null,
          null,
          null,
          null,
          null,
          null,
          null,
          null,
          null,
          null,
          null,
          null,
          null,
          null,
          null,
          null,
          null,
          null,
          null,
          null,
          null,
          null,
          null,
          null,
          null,
          null,
          null,
          null,
          null,
          null,
          null,
          null,
          null,
          null,
          null,
          null,
          null,
          null,
          null,
          null,
          null,
          null,
          null,
          null,
          null,
          null,
          null,
          null,
          null,
          null,
          null,
          null,
          null,
          null,
          null,
          null,
          null,
          null,
          null,
          null,
          null,
          null,
          null,
          null,
          null,
          null,
          null,
          null,
          null,
          null,
          null,
          null,
          null,
          null,
          null,
          null,
          null,
          null,
          null,
          null,
          null,
          null,
          null,
          null,
          null,
          null,
          null,
          null,
          null,
          null,
          null,
          null,
          null,
          null,
          null,
          null,
          null,
          null,
          null,
          null,
          null,
          null,
          null,
          null,
          null,
          null,
          null,
          null,
          null,
          null,
          null,
          null,
          null,
          null,
          null,
          null,
          null,
          null,
          null,
          null,
          null,
          null,
          null,
          null,
          null,
          null,
          null,
          null,
          null,
          null,
          null,
          null,
          null,
          null,
          null,
          null,
          null
         ]
        },
        {
         "boxpoints": "outliers",
         "marker": {
          "color": "#298FC2"
         },
         "name": "Lined Fiber",
         "type": "box",
         "width": 0.3,
         "y": [
          0.5263695436581359,
          0,
          0,
          0,
          0.6111793642100486,
          0.7166081992529988,
          0.7977767580929264,
          0.7512149873937349,
          0.7431627663721095,
          0,
          0.1835728770408088,
          0,
          0.8524548912802146,
          0.20688583312364012,
          0,
          0.767334231313864,
          0,
          0.8451476980614476,
          0,
          0.8548725311702858,
          0.7975300601449599,
          0,
          0,
          0.6957868924446288,
          0.7637817808631469,
          0.782284126960632,
          0.7789981102937187,
          0.7415098901207341,
          0.710006562165416,
          0.793637166526049,
          0.7854665304893995,
          0.72925393606576,
          0.7442581052610805,
          0,
          0,
          0,
          0.08359606664791763,
          0.19816502234128908,
          0,
          null,
          null,
          null,
          null,
          null,
          null,
          null,
          null,
          null,
          null,
          null,
          null,
          null,
          null,
          null,
          null,
          null,
          null,
          null,
          null,
          null,
          null,
          null,
          null,
          null,
          null,
          null,
          null,
          null,
          null,
          null,
          null,
          null,
          null,
          null,
          null,
          null,
          null,
          null,
          null,
          null,
          null,
          null,
          null,
          null,
          null,
          null,
          null,
          null,
          null,
          null,
          null,
          null,
          null,
          null,
          null,
          null,
          null,
          null,
          null,
          null,
          null,
          null,
          null,
          null,
          null,
          null,
          null,
          null,
          null,
          null,
          null,
          null,
          null,
          null,
          null,
          null,
          null,
          null,
          null,
          null,
          null,
          null,
          null,
          null,
          null,
          null,
          null,
          null,
          null,
          null,
          null,
          null,
          null,
          null,
          null,
          null,
          null,
          null,
          null,
          null,
          null,
          null,
          null,
          null,
          null,
          null,
          null,
          null,
          null,
          null
         ]
        },
        {
         "boxpoints": "outliers",
         "marker": {
          "color": "#FFB600"
         },
         "name": "Biopolymer Film/Bag",
         "type": "box",
         "width": 0.3,
         "y": [
          0.45,
          0.205,
          0.792,
          0.806,
          0.147,
          0,
          0,
          0,
          0,
          0,
          0,
          0,
          0,
          0,
          0.028,
          0,
          0,
          0,
          0,
          0.713,
          0.702,
          0.232,
          0,
          0,
          0,
          0,
          0,
          0,
          0,
          0,
          0,
          0,
          0,
          0.033,
          0.012,
          0,
          0,
          0,
          null,
          null,
          null,
          null,
          null,
          null,
          null,
          null,
          null,
          null,
          null,
          null,
          null,
          null,
          null,
          null,
          null,
          null,
          null,
          null,
          null,
          null,
          null,
          null,
          null,
          null,
          null,
          null,
          null,
          null,
          null,
          null,
          null,
          null,
          null,
          null,
          null,
          null,
          null,
          null,
          null,
          null,
          null,
          null,
          null,
          null,
          null,
          null,
          null,
          null,
          null,
          null,
          null,
          null,
          null,
          null,
          null,
          null,
          null,
          null,
          null,
          null,
          null,
          null,
          null,
          null,
          null,
          null,
          null,
          null,
          null,
          null,
          null,
          null,
          null,
          null,
          null,
          null,
          null
         ]
        },
        {
         "boxpoints": "outliers",
         "marker": {
          "color": "#FFB600"
         },
         "name": "Rigid Biopolymer (< 0.75mm)",
         "type": "box",
         "width": 0.3,
         "y": [
          0,
          0,
          0,
          0,
          0,
          0,
          0,
          0,
          0,
          0,
          0,
          0,
          0,
          0,
          0,
          0,
          0,
          0,
          0,
          0,
          0,
          0,
          0,
          0,
          0,
          0,
          0,
          0,
          0,
          0,
          0,
          0,
          0,
          0,
          0,
          0,
          0,
          0,
          0.0010023911923712997,
          0,
          0,
          0,
          0,
          0,
          0,
          0,
          0,
          0,
          0,
          0,
          0,
          0,
          0,
          0,
          0,
          0,
          0,
          0,
          0,
          0,
          0,
          0,
          0,
          0,
          0,
          0,
          0,
          0,
          0,
          0,
          0,
          0,
          0,
          0,
          0,
          0,
          0,
          0,
          0,
          0,
          0,
          0,
          0,
          0,
          0,
          0,
          0,
          0,
          0,
          0,
          0,
          0,
          0,
          0,
          0,
          0,
          0,
          0,
          0,
          0,
          0,
          0,
          0,
          0,
          0,
          0,
          0,
          0.019,
          0,
          0,
          0,
          0,
          0,
          0,
          0,
          0.093,
          0,
          0,
          0,
          0.055,
          0.092,
          0.118,
          0.048,
          0.318,
          0,
          0,
          0,
          0,
          0.014,
          0.012,
          0,
          0,
          0,
          0,
          0,
          0,
          0,
          0.451,
          0.391,
          0,
          0.301,
          0.064,
          0,
          0,
          0,
          0,
          0,
          0.048,
          0,
          0.003,
          0,
          0,
          0,
          0,
          0,
          0,
          0,
          0,
          0,
          null,
          null,
          null,
          null,
          null,
          null,
          null,
          null,
          null,
          null,
          null,
          null,
          null,
          null,
          null,
          null,
          null,
          null,
          null,
          null,
          null,
          null,
          null,
          null,
          null,
          null,
          null,
          null,
          null,
          null,
          null,
          null,
          null,
          null,
          null,
          null,
          null,
          null,
          null,
          null,
          null,
          null,
          null,
          null,
          null,
          null,
          null,
          null,
          null,
          null,
          null,
          null,
          null,
          null,
          null,
          null,
          null,
          null,
          null,
          null,
          null,
          null,
          null,
          null,
          null,
          null,
          null,
          null,
          null,
          null,
          null,
          null,
          null,
          null,
          null,
          null
         ]
        },
        {
         "boxpoints": "outliers",
         "marker": {
          "color": "#FFB600"
         },
         "name": "Rigid Biopolymer (> 0.75mm)",
         "type": "box",
         "width": 0.3,
         "y": [
          0.766737555135476,
          0,
          0.6874015437933207,
          0,
          0.5358577504725898,
          0,
          0,
          0,
          0,
          0,
          0,
          0,
          0,
          0,
          0,
          0,
          0,
          0,
          0,
          0,
          0,
          0,
          0,
          0,
          0,
          0.32671707624448654,
          0.07902095148078134,
          0.038141934467548835,
          0,
          0.02597274732199118,
          0,
          0,
          0,
          0,
          0,
          0,
          0,
          0,
          0,
          0,
          0.007769355945295182,
          0.02,
          0.02,
          0.027,
          0.008,
          0.075,
          0,
          0,
          0,
          0,
          0,
          0,
          0,
          0,
          0,
          0.037,
          0,
          0.366,
          1,
          0,
          1.087,
          0.175,
          0,
          0,
          0,
          0,
          0,
          0.366,
          0.141,
          0,
          0.049,
          0,
          0.002,
          0,
          0,
          0,
          0,
          0,
          0.001,
          null,
          null,
          null,
          null,
          null,
          null,
          null,
          null,
          null,
          null,
          null,
          null,
          null,
          null,
          null,
          null,
          null,
          null,
          null,
          null,
          null,
          null,
          null,
          null,
          null,
          null,
          null,
          null,
          null,
          null,
          null,
          null,
          null,
          null,
          null,
          null,
          null,
          null,
          null,
          null,
          null,
          null,
          null,
          null,
          null,
          null,
          null,
          null,
          null,
          null,
          null,
          null,
          null,
          null,
          null,
          null,
          null,
          null,
          null,
          null,
          null,
          null,
          null,
          null,
          null,
          null,
          null,
          null,
          null,
          null,
          null,
          null,
          null,
          null,
          null,
          null,
          null,
          null,
          null,
          null,
          null,
          null,
          null,
          null,
          null,
          null,
          null,
          null,
          null,
          null,
          null,
          null,
          null,
          null,
          null,
          null,
          null,
          null
         ]
        },
        {
         "boxpoints": "outliers",
         "marker": {
          "color": "#70AD47"
         },
         "name": "Positive Control - Fiber",
         "type": "box",
         "width": 0.3,
         "y": [
          0.396,
          0.531,
          0.606,
          0.171,
          0.416,
          0,
          0.203,
          0.205,
          0.214,
          0,
          0.314,
          0.345,
          0.535,
          0.804,
          0.683,
          0.753,
          0.74,
          0.687,
          0.6,
          0.636,
          0.287,
          0.691,
          0.45,
          0.517,
          0.387,
          0.034,
          0.409,
          0.973,
          0,
          0.027,
          0,
          0,
          0.683,
          0.099,
          0,
          0.003,
          0.035,
          0.405,
          0.146,
          0.693,
          0.539,
          0,
          0.802,
          0.86,
          0,
          0.722,
          0,
          0.651,
          0.612,
          0,
          0.726,
          0.632,
          0.368,
          0.178,
          0.217,
          0.063,
          0.084,
          0.097,
          0.524,
          0,
          0,
          0.721,
          0.696,
          0.729,
          0.326,
          0.848,
          0.809,
          0.594,
          0.687,
          0.557,
          0.679,
          0.358,
          0.739,
          0.478,
          0.798,
          0.589,
          0.423,
          0.529,
          0.729,
          0.866,
          0.913,
          0.865,
          0.836,
          0.83,
          0.498,
          0.685,
          0.609,
          0.533,
          0.786,
          0.889,
          0.702,
          0,
          0.846,
          0,
          0,
          0.006,
          0.007,
          0.158,
          0,
          0.033,
          0,
          0.03,
          0.495,
          0,
          0,
          0.512,
          0.02,
          0,
          0.123,
          0.263,
          0.539,
          null,
          null,
          null,
          null,
          null,
          null,
          null,
          null,
          null,
          null,
          null,
          null,
          null,
          null,
          null,
          null,
          null,
          null
         ]
        },
        {
         "boxpoints": "outliers",
         "marker": {
          "color": "#70AD47"
         },
         "name": "Positive Control - Food Scraps",
         "type": "box",
         "width": 0.3,
         "y": [
          0.039,
          0.086,
          0.126,
          0.128,
          0.045,
          0.073,
          0.121,
          0.057,
          0.093,
          0.086,
          0,
          0.071,
          0.111,
          0.072,
          0.05,
          0,
          0,
          0,
          0,
          0,
          0,
          0,
          0,
          0,
          0,
          0,
          0,
          0,
          0,
          0.024,
          0.056,
          0.063,
          0.04,
          0,
          0,
          0.069,
          0.051,
          0.029,
          0.063,
          0,
          0.065,
          0.065,
          0.004,
          0.008,
          0,
          0,
          0.068,
          0,
          0.1,
          0.057,
          0,
          0.118,
          0.047,
          0,
          0.175,
          0.099,
          0.104,
          0.142,
          0.055,
          0.069,
          0.142,
          0.038,
          0.182,
          0.177,
          0.113,
          0.117,
          0.116,
          0.144,
          0.115,
          0.128,
          0.138,
          0.159,
          null,
          null,
          null,
          null,
          null,
          null,
          null,
          null,
          null,
          null,
          null,
          null,
          null,
          null,
          null,
          0,
          0,
          0,
          0.097,
          0.069,
          0,
          0,
          0,
          0.047,
          0.037,
          0,
          0,
          0
         ]
        },
        {
         "boxpoints": "outliers",
         "marker": {
          "color": "#70AD47"
         },
         "name": "Positive Control - Film",
         "type": "box",
         "width": 0.3,
         "y": [
          0.085,
          0.348,
          0.253,
          0.101,
          0.055,
          0.126,
          0.037,
          0.079,
          0.246,
          0.131,
          0,
          0,
          0,
          0.274,
          0.406,
          0.357,
          0.314,
          0.248,
          0.224,
          0.354,
          0.326,
          0.233,
          0.255,
          0.162,
          0,
          0.345,
          0.038,
          0.093,
          0.007,
          0.101,
          0.057,
          0.034,
          0.082,
          0.066,
          0.044,
          0.039,
          0,
          0.005,
          0,
          0.128,
          0.106,
          0.351,
          0.419,
          0.028,
          0,
          0,
          0.025,
          0.107,
          0.483,
          0,
          0,
          0.509,
          0.15,
          0.141,
          0,
          0.122,
          0.164,
          0,
          0,
          0,
          0.034,
          0,
          0,
          0,
          0.045,
          0,
          0.394,
          0.08,
          0.1,
          0.028,
          0.163,
          0.434,
          0.165,
          0.17,
          0.424,
          0.443,
          0.573,
          0.485,
          0.135,
          0.075,
          0.118,
          0.142,
          0.082,
          0.25,
          0.138,
          0.463,
          0.463,
          0.574,
          0.474,
          0.473,
          0.118,
          0.099,
          0.073,
          0.195,
          0.054,
          0.003,
          0.059,
          0.093,
          0.001,
          0.144,
          0.324,
          0.003,
          0,
          0.576
         ]
        }
       ],
       "layout": {
        "font": {
         "family": "Roboto",
         "size": 11
        },
        "height": 800,
        "showlegend": false,
        "template": {
         "data": {
          "bar": [
           {
            "error_x": {
             "color": "#2a3f5f"
            },
            "error_y": {
             "color": "#2a3f5f"
            },
            "marker": {
             "line": {
              "color": "#E5ECF6",
              "width": 0.5
             },
             "pattern": {
              "fillmode": "overlay",
              "size": 10,
              "solidity": 0.2
             }
            },
            "type": "bar"
           }
          ],
          "barpolar": [
           {
            "marker": {
             "line": {
              "color": "#E5ECF6",
              "width": 0.5
             },
             "pattern": {
              "fillmode": "overlay",
              "size": 10,
              "solidity": 0.2
             }
            },
            "type": "barpolar"
           }
          ],
          "carpet": [
           {
            "aaxis": {
             "endlinecolor": "#2a3f5f",
             "gridcolor": "white",
             "linecolor": "white",
             "minorgridcolor": "white",
             "startlinecolor": "#2a3f5f"
            },
            "baxis": {
             "endlinecolor": "#2a3f5f",
             "gridcolor": "white",
             "linecolor": "white",
             "minorgridcolor": "white",
             "startlinecolor": "#2a3f5f"
            },
            "type": "carpet"
           }
          ],
          "choropleth": [
           {
            "colorbar": {
             "outlinewidth": 0,
             "ticks": ""
            },
            "type": "choropleth"
           }
          ],
          "contour": [
           {
            "colorbar": {
             "outlinewidth": 0,
             "ticks": ""
            },
            "colorscale": [
             [
              0,
              "#0d0887"
             ],
             [
              0.1111111111111111,
              "#46039f"
             ],
             [
              0.2222222222222222,
              "#7201a8"
             ],
             [
              0.3333333333333333,
              "#9c179e"
             ],
             [
              0.4444444444444444,
              "#bd3786"
             ],
             [
              0.5555555555555556,
              "#d8576b"
             ],
             [
              0.6666666666666666,
              "#ed7953"
             ],
             [
              0.7777777777777778,
              "#fb9f3a"
             ],
             [
              0.8888888888888888,
              "#fdca26"
             ],
             [
              1,
              "#f0f921"
             ]
            ],
            "type": "contour"
           }
          ],
          "contourcarpet": [
           {
            "colorbar": {
             "outlinewidth": 0,
             "ticks": ""
            },
            "type": "contourcarpet"
           }
          ],
          "heatmap": [
           {
            "colorbar": {
             "outlinewidth": 0,
             "ticks": ""
            },
            "colorscale": [
             [
              0,
              "#0d0887"
             ],
             [
              0.1111111111111111,
              "#46039f"
             ],
             [
              0.2222222222222222,
              "#7201a8"
             ],
             [
              0.3333333333333333,
              "#9c179e"
             ],
             [
              0.4444444444444444,
              "#bd3786"
             ],
             [
              0.5555555555555556,
              "#d8576b"
             ],
             [
              0.6666666666666666,
              "#ed7953"
             ],
             [
              0.7777777777777778,
              "#fb9f3a"
             ],
             [
              0.8888888888888888,
              "#fdca26"
             ],
             [
              1,
              "#f0f921"
             ]
            ],
            "type": "heatmap"
           }
          ],
          "heatmapgl": [
           {
            "colorbar": {
             "outlinewidth": 0,
             "ticks": ""
            },
            "colorscale": [
             [
              0,
              "#0d0887"
             ],
             [
              0.1111111111111111,
              "#46039f"
             ],
             [
              0.2222222222222222,
              "#7201a8"
             ],
             [
              0.3333333333333333,
              "#9c179e"
             ],
             [
              0.4444444444444444,
              "#bd3786"
             ],
             [
              0.5555555555555556,
              "#d8576b"
             ],
             [
              0.6666666666666666,
              "#ed7953"
             ],
             [
              0.7777777777777778,
              "#fb9f3a"
             ],
             [
              0.8888888888888888,
              "#fdca26"
             ],
             [
              1,
              "#f0f921"
             ]
            ],
            "type": "heatmapgl"
           }
          ],
          "histogram": [
           {
            "marker": {
             "pattern": {
              "fillmode": "overlay",
              "size": 10,
              "solidity": 0.2
             }
            },
            "type": "histogram"
           }
          ],
          "histogram2d": [
           {
            "colorbar": {
             "outlinewidth": 0,
             "ticks": ""
            },
            "colorscale": [
             [
              0,
              "#0d0887"
             ],
             [
              0.1111111111111111,
              "#46039f"
             ],
             [
              0.2222222222222222,
              "#7201a8"
             ],
             [
              0.3333333333333333,
              "#9c179e"
             ],
             [
              0.4444444444444444,
              "#bd3786"
             ],
             [
              0.5555555555555556,
              "#d8576b"
             ],
             [
              0.6666666666666666,
              "#ed7953"
             ],
             [
              0.7777777777777778,
              "#fb9f3a"
             ],
             [
              0.8888888888888888,
              "#fdca26"
             ],
             [
              1,
              "#f0f921"
             ]
            ],
            "type": "histogram2d"
           }
          ],
          "histogram2dcontour": [
           {
            "colorbar": {
             "outlinewidth": 0,
             "ticks": ""
            },
            "colorscale": [
             [
              0,
              "#0d0887"
             ],
             [
              0.1111111111111111,
              "#46039f"
             ],
             [
              0.2222222222222222,
              "#7201a8"
             ],
             [
              0.3333333333333333,
              "#9c179e"
             ],
             [
              0.4444444444444444,
              "#bd3786"
             ],
             [
              0.5555555555555556,
              "#d8576b"
             ],
             [
              0.6666666666666666,
              "#ed7953"
             ],
             [
              0.7777777777777778,
              "#fb9f3a"
             ],
             [
              0.8888888888888888,
              "#fdca26"
             ],
             [
              1,
              "#f0f921"
             ]
            ],
            "type": "histogram2dcontour"
           }
          ],
          "mesh3d": [
           {
            "colorbar": {
             "outlinewidth": 0,
             "ticks": ""
            },
            "type": "mesh3d"
           }
          ],
          "parcoords": [
           {
            "line": {
             "colorbar": {
              "outlinewidth": 0,
              "ticks": ""
             }
            },
            "type": "parcoords"
           }
          ],
          "pie": [
           {
            "automargin": true,
            "type": "pie"
           }
          ],
          "scatter": [
           {
            "fillpattern": {
             "fillmode": "overlay",
             "size": 10,
             "solidity": 0.2
            },
            "type": "scatter"
           }
          ],
          "scatter3d": [
           {
            "line": {
             "colorbar": {
              "outlinewidth": 0,
              "ticks": ""
             }
            },
            "marker": {
             "colorbar": {
              "outlinewidth": 0,
              "ticks": ""
             }
            },
            "type": "scatter3d"
           }
          ],
          "scattercarpet": [
           {
            "marker": {
             "colorbar": {
              "outlinewidth": 0,
              "ticks": ""
             }
            },
            "type": "scattercarpet"
           }
          ],
          "scattergeo": [
           {
            "marker": {
             "colorbar": {
              "outlinewidth": 0,
              "ticks": ""
             }
            },
            "type": "scattergeo"
           }
          ],
          "scattergl": [
           {
            "marker": {
             "colorbar": {
              "outlinewidth": 0,
              "ticks": ""
             }
            },
            "type": "scattergl"
           }
          ],
          "scattermapbox": [
           {
            "marker": {
             "colorbar": {
              "outlinewidth": 0,
              "ticks": ""
             }
            },
            "type": "scattermapbox"
           }
          ],
          "scatterpolar": [
           {
            "marker": {
             "colorbar": {
              "outlinewidth": 0,
              "ticks": ""
             }
            },
            "type": "scatterpolar"
           }
          ],
          "scatterpolargl": [
           {
            "marker": {
             "colorbar": {
              "outlinewidth": 0,
              "ticks": ""
             }
            },
            "type": "scatterpolargl"
           }
          ],
          "scatterternary": [
           {
            "marker": {
             "colorbar": {
              "outlinewidth": 0,
              "ticks": ""
             }
            },
            "type": "scatterternary"
           }
          ],
          "surface": [
           {
            "colorbar": {
             "outlinewidth": 0,
             "ticks": ""
            },
            "colorscale": [
             [
              0,
              "#0d0887"
             ],
             [
              0.1111111111111111,
              "#46039f"
             ],
             [
              0.2222222222222222,
              "#7201a8"
             ],
             [
              0.3333333333333333,
              "#9c179e"
             ],
             [
              0.4444444444444444,
              "#bd3786"
             ],
             [
              0.5555555555555556,
              "#d8576b"
             ],
             [
              0.6666666666666666,
              "#ed7953"
             ],
             [
              0.7777777777777778,
              "#fb9f3a"
             ],
             [
              0.8888888888888888,
              "#fdca26"
             ],
             [
              1,
              "#f0f921"
             ]
            ],
            "type": "surface"
           }
          ],
          "table": [
           {
            "cells": {
             "fill": {
              "color": "#EBF0F8"
             },
             "line": {
              "color": "white"
             }
            },
            "header": {
             "fill": {
              "color": "#C8D4E3"
             },
             "line": {
              "color": "white"
             }
            },
            "type": "table"
           }
          ]
         },
         "layout": {
          "annotationdefaults": {
           "arrowcolor": "#2a3f5f",
           "arrowhead": 0,
           "arrowwidth": 1
          },
          "autotypenumbers": "strict",
          "coloraxis": {
           "colorbar": {
            "outlinewidth": 0,
            "ticks": ""
           }
          },
          "colorscale": {
           "diverging": [
            [
             0,
             "#8e0152"
            ],
            [
             0.1,
             "#c51b7d"
            ],
            [
             0.2,
             "#de77ae"
            ],
            [
             0.3,
             "#f1b6da"
            ],
            [
             0.4,
             "#fde0ef"
            ],
            [
             0.5,
             "#f7f7f7"
            ],
            [
             0.6,
             "#e6f5d0"
            ],
            [
             0.7,
             "#b8e186"
            ],
            [
             0.8,
             "#7fbc41"
            ],
            [
             0.9,
             "#4d9221"
            ],
            [
             1,
             "#276419"
            ]
           ],
           "sequential": [
            [
             0,
             "#0d0887"
            ],
            [
             0.1111111111111111,
             "#46039f"
            ],
            [
             0.2222222222222222,
             "#7201a8"
            ],
            [
             0.3333333333333333,
             "#9c179e"
            ],
            [
             0.4444444444444444,
             "#bd3786"
            ],
            [
             0.5555555555555556,
             "#d8576b"
            ],
            [
             0.6666666666666666,
             "#ed7953"
            ],
            [
             0.7777777777777778,
             "#fb9f3a"
            ],
            [
             0.8888888888888888,
             "#fdca26"
            ],
            [
             1,
             "#f0f921"
            ]
           ],
           "sequentialminus": [
            [
             0,
             "#0d0887"
            ],
            [
             0.1111111111111111,
             "#46039f"
            ],
            [
             0.2222222222222222,
             "#7201a8"
            ],
            [
             0.3333333333333333,
             "#9c179e"
            ],
            [
             0.4444444444444444,
             "#bd3786"
            ],
            [
             0.5555555555555556,
             "#d8576b"
            ],
            [
             0.6666666666666666,
             "#ed7953"
            ],
            [
             0.7777777777777778,
             "#fb9f3a"
            ],
            [
             0.8888888888888888,
             "#fdca26"
            ],
            [
             1,
             "#f0f921"
            ]
           ]
          },
          "colorway": [
           "#636efa",
           "#EF553B",
           "#00cc96",
           "#ab63fa",
           "#FFA15A",
           "#19d3f3",
           "#FF6692",
           "#B6E880",
           "#FF97FF",
           "#FECB52"
          ],
          "font": {
           "color": "#2a3f5f"
          },
          "geo": {
           "bgcolor": "white",
           "lakecolor": "white",
           "landcolor": "#E5ECF6",
           "showlakes": true,
           "showland": true,
           "subunitcolor": "white"
          },
          "hoverlabel": {
           "align": "left"
          },
          "hovermode": "closest",
          "mapbox": {
           "style": "light"
          },
          "paper_bgcolor": "white",
          "plot_bgcolor": "#E5ECF6",
          "polar": {
           "angularaxis": {
            "gridcolor": "white",
            "linecolor": "white",
            "ticks": ""
           },
           "bgcolor": "#E5ECF6",
           "radialaxis": {
            "gridcolor": "white",
            "linecolor": "white",
            "ticks": ""
           }
          },
          "scene": {
           "xaxis": {
            "backgroundcolor": "#E5ECF6",
            "gridcolor": "white",
            "gridwidth": 2,
            "linecolor": "white",
            "showbackground": true,
            "ticks": "",
            "zerolinecolor": "white"
           },
           "yaxis": {
            "backgroundcolor": "#E5ECF6",
            "gridcolor": "white",
            "gridwidth": 2,
            "linecolor": "white",
            "showbackground": true,
            "ticks": "",
            "zerolinecolor": "white"
           },
           "zaxis": {
            "backgroundcolor": "#E5ECF6",
            "gridcolor": "white",
            "gridwidth": 2,
            "linecolor": "white",
            "showbackground": true,
            "ticks": "",
            "zerolinecolor": "white"
           }
          },
          "shapedefaults": {
           "line": {
            "color": "#2a3f5f"
           }
          },
          "ternary": {
           "aaxis": {
            "gridcolor": "white",
            "linecolor": "white",
            "ticks": ""
           },
           "baxis": {
            "gridcolor": "white",
            "linecolor": "white",
            "ticks": ""
           },
           "bgcolor": "#E5ECF6",
           "caxis": {
            "gridcolor": "white",
            "linecolor": "white",
            "ticks": ""
           }
          },
          "title": {
           "x": 0.05
          },
          "xaxis": {
           "automargin": true,
           "gridcolor": "white",
           "linecolor": "white",
           "ticks": "",
           "title": {
            "standoff": 15
           },
           "zerolinecolor": "white",
           "zerolinewidth": 2
          },
          "yaxis": {
           "automargin": true,
           "gridcolor": "white",
           "linecolor": "white",
           "ticks": "",
           "title": {
            "standoff": 15
           },
           "zerolinecolor": "white",
           "zerolinewidth": 2
          }
         }
        },
        "title": {
         "font": {
          "family": "Roboto",
          "size": 14
         }
        },
        "width": 1200,
        "xaxis": {
         "tickangle": 90,
         "tickfont": {
          "size": 11
         },
         "tickmode": "array",
         "ticktext": [
          "     Unlined Fiber<br>     n=79",
          "     Lined Fiber<br>     n=39",
          "     Biopolymer Film/Bag<br>     n=38",
          "     Rigid Biopolymer (< 0.75mm)<br>     n=159",
          "     Rigid Biopolymer (> 0.75mm)<br>     n=79",
          "     Positive Control - Fiber<br>     n=111",
          "     Positive Control - Food Scraps<br>     n=85",
          "     Positive Control - Film<br>     n=104"
         ],
         "tickvals": [
          0,
          1,
          2,
          3,
          4,
          5,
          6,
          7
         ],
         "title": {
          "font": {
           "size": 14
          }
         }
        },
        "yaxis": {
         "tickfont": {
          "size": 9
         },
         "tickformat": ".0%",
         "tickmode": "array",
         "tickvals": [
          0,
          0.25,
          0.5,
          0.75,
          1
         ],
         "title": {
          "font": {
           "size": 16
          },
          "text": "% Residuals (Area)"
         }
        }
       }
      }
     },
     "metadata": {},
     "output_type": "display_data"
    },
    {
     "data": {
      "application/vnd.plotly.v1+json": {
       "config": {
        "plotlyServerURL": "https://plot.ly"
       },
       "data": [
        {
         "marker": {
          "color": "#298FC2"
         },
         "name": "Unlined Fiber",
         "type": "bar",
         "width": 0.3,
         "x": [
          0
         ],
         "y": [
          0.41175949367088605
         ]
        },
        {
         "marker": {
          "color": "#298FC2"
         },
         "name": "Lined Fiber",
         "type": "bar",
         "width": 0.3,
         "x": [
          1
         ],
         "y": [
          0.4220731777255114
         ]
        },
        {
         "marker": {
          "color": "#FFB600"
         },
         "name": "Biopolymer Film/Bag",
         "type": "bar",
         "width": 0.3,
         "x": [
          2
         ],
         "y": [
          0.10842105263157895
         ]
        },
        {
         "marker": {
          "color": "#FFB600"
         },
         "name": "Rigid Biopolymer (< 0.75mm)",
         "type": "bar",
         "width": 0.3,
         "x": [
          3
         ],
         "y": [
          0.012754732020077807
         ]
        },
        {
         "marker": {
          "color": "#FFB600"
         },
         "name": "Rigid Biopolymer (> 0.75mm)",
         "type": "bar",
         "width": 0.3,
         "x": [
          4
         ],
         "y": [
          0.07394454322609481
         ]
        },
        {
         "marker": {
          "color": "#70AD47"
         },
         "name": "Positive Control - Fiber",
         "type": "bar",
         "width": 0.3,
         "x": [
          5
         ],
         "y": [
          0.40618018018018015
         ]
        },
        {
         "marker": {
          "color": "#70AD47"
         },
         "name": "Positive Control - Food Scraps",
         "type": "bar",
         "width": 0.3,
         "x": [
          6
         ],
         "y": [
          0.053505882352941174
         ]
        },
        {
         "marker": {
          "color": "#70AD47"
         },
         "name": "Positive Control - Film",
         "type": "bar",
         "width": 0.3,
         "x": [
          7
         ],
         "y": [
          0.1627403846153846
         ]
        }
       ],
       "layout": {
        "barmode": "group",
        "font": {
         "family": "Roboto",
         "size": 11
        },
        "height": 800,
        "showlegend": false,
        "template": {
         "data": {
          "bar": [
           {
            "error_x": {
             "color": "#2a3f5f"
            },
            "error_y": {
             "color": "#2a3f5f"
            },
            "marker": {
             "line": {
              "color": "#E5ECF6",
              "width": 0.5
             },
             "pattern": {
              "fillmode": "overlay",
              "size": 10,
              "solidity": 0.2
             }
            },
            "type": "bar"
           }
          ],
          "barpolar": [
           {
            "marker": {
             "line": {
              "color": "#E5ECF6",
              "width": 0.5
             },
             "pattern": {
              "fillmode": "overlay",
              "size": 10,
              "solidity": 0.2
             }
            },
            "type": "barpolar"
           }
          ],
          "carpet": [
           {
            "aaxis": {
             "endlinecolor": "#2a3f5f",
             "gridcolor": "white",
             "linecolor": "white",
             "minorgridcolor": "white",
             "startlinecolor": "#2a3f5f"
            },
            "baxis": {
             "endlinecolor": "#2a3f5f",
             "gridcolor": "white",
             "linecolor": "white",
             "minorgridcolor": "white",
             "startlinecolor": "#2a3f5f"
            },
            "type": "carpet"
           }
          ],
          "choropleth": [
           {
            "colorbar": {
             "outlinewidth": 0,
             "ticks": ""
            },
            "type": "choropleth"
           }
          ],
          "contour": [
           {
            "colorbar": {
             "outlinewidth": 0,
             "ticks": ""
            },
            "colorscale": [
             [
              0,
              "#0d0887"
             ],
             [
              0.1111111111111111,
              "#46039f"
             ],
             [
              0.2222222222222222,
              "#7201a8"
             ],
             [
              0.3333333333333333,
              "#9c179e"
             ],
             [
              0.4444444444444444,
              "#bd3786"
             ],
             [
              0.5555555555555556,
              "#d8576b"
             ],
             [
              0.6666666666666666,
              "#ed7953"
             ],
             [
              0.7777777777777778,
              "#fb9f3a"
             ],
             [
              0.8888888888888888,
              "#fdca26"
             ],
             [
              1,
              "#f0f921"
             ]
            ],
            "type": "contour"
           }
          ],
          "contourcarpet": [
           {
            "colorbar": {
             "outlinewidth": 0,
             "ticks": ""
            },
            "type": "contourcarpet"
           }
          ],
          "heatmap": [
           {
            "colorbar": {
             "outlinewidth": 0,
             "ticks": ""
            },
            "colorscale": [
             [
              0,
              "#0d0887"
             ],
             [
              0.1111111111111111,
              "#46039f"
             ],
             [
              0.2222222222222222,
              "#7201a8"
             ],
             [
              0.3333333333333333,
              "#9c179e"
             ],
             [
              0.4444444444444444,
              "#bd3786"
             ],
             [
              0.5555555555555556,
              "#d8576b"
             ],
             [
              0.6666666666666666,
              "#ed7953"
             ],
             [
              0.7777777777777778,
              "#fb9f3a"
             ],
             [
              0.8888888888888888,
              "#fdca26"
             ],
             [
              1,
              "#f0f921"
             ]
            ],
            "type": "heatmap"
           }
          ],
          "heatmapgl": [
           {
            "colorbar": {
             "outlinewidth": 0,
             "ticks": ""
            },
            "colorscale": [
             [
              0,
              "#0d0887"
             ],
             [
              0.1111111111111111,
              "#46039f"
             ],
             [
              0.2222222222222222,
              "#7201a8"
             ],
             [
              0.3333333333333333,
              "#9c179e"
             ],
             [
              0.4444444444444444,
              "#bd3786"
             ],
             [
              0.5555555555555556,
              "#d8576b"
             ],
             [
              0.6666666666666666,
              "#ed7953"
             ],
             [
              0.7777777777777778,
              "#fb9f3a"
             ],
             [
              0.8888888888888888,
              "#fdca26"
             ],
             [
              1,
              "#f0f921"
             ]
            ],
            "type": "heatmapgl"
           }
          ],
          "histogram": [
           {
            "marker": {
             "pattern": {
              "fillmode": "overlay",
              "size": 10,
              "solidity": 0.2
             }
            },
            "type": "histogram"
           }
          ],
          "histogram2d": [
           {
            "colorbar": {
             "outlinewidth": 0,
             "ticks": ""
            },
            "colorscale": [
             [
              0,
              "#0d0887"
             ],
             [
              0.1111111111111111,
              "#46039f"
             ],
             [
              0.2222222222222222,
              "#7201a8"
             ],
             [
              0.3333333333333333,
              "#9c179e"
             ],
             [
              0.4444444444444444,
              "#bd3786"
             ],
             [
              0.5555555555555556,
              "#d8576b"
             ],
             [
              0.6666666666666666,
              "#ed7953"
             ],
             [
              0.7777777777777778,
              "#fb9f3a"
             ],
             [
              0.8888888888888888,
              "#fdca26"
             ],
             [
              1,
              "#f0f921"
             ]
            ],
            "type": "histogram2d"
           }
          ],
          "histogram2dcontour": [
           {
            "colorbar": {
             "outlinewidth": 0,
             "ticks": ""
            },
            "colorscale": [
             [
              0,
              "#0d0887"
             ],
             [
              0.1111111111111111,
              "#46039f"
             ],
             [
              0.2222222222222222,
              "#7201a8"
             ],
             [
              0.3333333333333333,
              "#9c179e"
             ],
             [
              0.4444444444444444,
              "#bd3786"
             ],
             [
              0.5555555555555556,
              "#d8576b"
             ],
             [
              0.6666666666666666,
              "#ed7953"
             ],
             [
              0.7777777777777778,
              "#fb9f3a"
             ],
             [
              0.8888888888888888,
              "#fdca26"
             ],
             [
              1,
              "#f0f921"
             ]
            ],
            "type": "histogram2dcontour"
           }
          ],
          "mesh3d": [
           {
            "colorbar": {
             "outlinewidth": 0,
             "ticks": ""
            },
            "type": "mesh3d"
           }
          ],
          "parcoords": [
           {
            "line": {
             "colorbar": {
              "outlinewidth": 0,
              "ticks": ""
             }
            },
            "type": "parcoords"
           }
          ],
          "pie": [
           {
            "automargin": true,
            "type": "pie"
           }
          ],
          "scatter": [
           {
            "fillpattern": {
             "fillmode": "overlay",
             "size": 10,
             "solidity": 0.2
            },
            "type": "scatter"
           }
          ],
          "scatter3d": [
           {
            "line": {
             "colorbar": {
              "outlinewidth": 0,
              "ticks": ""
             }
            },
            "marker": {
             "colorbar": {
              "outlinewidth": 0,
              "ticks": ""
             }
            },
            "type": "scatter3d"
           }
          ],
          "scattercarpet": [
           {
            "marker": {
             "colorbar": {
              "outlinewidth": 0,
              "ticks": ""
             }
            },
            "type": "scattercarpet"
           }
          ],
          "scattergeo": [
           {
            "marker": {
             "colorbar": {
              "outlinewidth": 0,
              "ticks": ""
             }
            },
            "type": "scattergeo"
           }
          ],
          "scattergl": [
           {
            "marker": {
             "colorbar": {
              "outlinewidth": 0,
              "ticks": ""
             }
            },
            "type": "scattergl"
           }
          ],
          "scattermapbox": [
           {
            "marker": {
             "colorbar": {
              "outlinewidth": 0,
              "ticks": ""
             }
            },
            "type": "scattermapbox"
           }
          ],
          "scatterpolar": [
           {
            "marker": {
             "colorbar": {
              "outlinewidth": 0,
              "ticks": ""
             }
            },
            "type": "scatterpolar"
           }
          ],
          "scatterpolargl": [
           {
            "marker": {
             "colorbar": {
              "outlinewidth": 0,
              "ticks": ""
             }
            },
            "type": "scatterpolargl"
           }
          ],
          "scatterternary": [
           {
            "marker": {
             "colorbar": {
              "outlinewidth": 0,
              "ticks": ""
             }
            },
            "type": "scatterternary"
           }
          ],
          "surface": [
           {
            "colorbar": {
             "outlinewidth": 0,
             "ticks": ""
            },
            "colorscale": [
             [
              0,
              "#0d0887"
             ],
             [
              0.1111111111111111,
              "#46039f"
             ],
             [
              0.2222222222222222,
              "#7201a8"
             ],
             [
              0.3333333333333333,
              "#9c179e"
             ],
             [
              0.4444444444444444,
              "#bd3786"
             ],
             [
              0.5555555555555556,
              "#d8576b"
             ],
             [
              0.6666666666666666,
              "#ed7953"
             ],
             [
              0.7777777777777778,
              "#fb9f3a"
             ],
             [
              0.8888888888888888,
              "#fdca26"
             ],
             [
              1,
              "#f0f921"
             ]
            ],
            "type": "surface"
           }
          ],
          "table": [
           {
            "cells": {
             "fill": {
              "color": "#EBF0F8"
             },
             "line": {
              "color": "white"
             }
            },
            "header": {
             "fill": {
              "color": "#C8D4E3"
             },
             "line": {
              "color": "white"
             }
            },
            "type": "table"
           }
          ]
         },
         "layout": {
          "annotationdefaults": {
           "arrowcolor": "#2a3f5f",
           "arrowhead": 0,
           "arrowwidth": 1
          },
          "autotypenumbers": "strict",
          "coloraxis": {
           "colorbar": {
            "outlinewidth": 0,
            "ticks": ""
           }
          },
          "colorscale": {
           "diverging": [
            [
             0,
             "#8e0152"
            ],
            [
             0.1,
             "#c51b7d"
            ],
            [
             0.2,
             "#de77ae"
            ],
            [
             0.3,
             "#f1b6da"
            ],
            [
             0.4,
             "#fde0ef"
            ],
            [
             0.5,
             "#f7f7f7"
            ],
            [
             0.6,
             "#e6f5d0"
            ],
            [
             0.7,
             "#b8e186"
            ],
            [
             0.8,
             "#7fbc41"
            ],
            [
             0.9,
             "#4d9221"
            ],
            [
             1,
             "#276419"
            ]
           ],
           "sequential": [
            [
             0,
             "#0d0887"
            ],
            [
             0.1111111111111111,
             "#46039f"
            ],
            [
             0.2222222222222222,
             "#7201a8"
            ],
            [
             0.3333333333333333,
             "#9c179e"
            ],
            [
             0.4444444444444444,
             "#bd3786"
            ],
            [
             0.5555555555555556,
             "#d8576b"
            ],
            [
             0.6666666666666666,
             "#ed7953"
            ],
            [
             0.7777777777777778,
             "#fb9f3a"
            ],
            [
             0.8888888888888888,
             "#fdca26"
            ],
            [
             1,
             "#f0f921"
            ]
           ],
           "sequentialminus": [
            [
             0,
             "#0d0887"
            ],
            [
             0.1111111111111111,
             "#46039f"
            ],
            [
             0.2222222222222222,
             "#7201a8"
            ],
            [
             0.3333333333333333,
             "#9c179e"
            ],
            [
             0.4444444444444444,
             "#bd3786"
            ],
            [
             0.5555555555555556,
             "#d8576b"
            ],
            [
             0.6666666666666666,
             "#ed7953"
            ],
            [
             0.7777777777777778,
             "#fb9f3a"
            ],
            [
             0.8888888888888888,
             "#fdca26"
            ],
            [
             1,
             "#f0f921"
            ]
           ]
          },
          "colorway": [
           "#636efa",
           "#EF553B",
           "#00cc96",
           "#ab63fa",
           "#FFA15A",
           "#19d3f3",
           "#FF6692",
           "#B6E880",
           "#FF97FF",
           "#FECB52"
          ],
          "font": {
           "color": "#2a3f5f"
          },
          "geo": {
           "bgcolor": "white",
           "lakecolor": "white",
           "landcolor": "#E5ECF6",
           "showlakes": true,
           "showland": true,
           "subunitcolor": "white"
          },
          "hoverlabel": {
           "align": "left"
          },
          "hovermode": "closest",
          "mapbox": {
           "style": "light"
          },
          "paper_bgcolor": "white",
          "plot_bgcolor": "#E5ECF6",
          "polar": {
           "angularaxis": {
            "gridcolor": "white",
            "linecolor": "white",
            "ticks": ""
           },
           "bgcolor": "#E5ECF6",
           "radialaxis": {
            "gridcolor": "white",
            "linecolor": "white",
            "ticks": ""
           }
          },
          "scene": {
           "xaxis": {
            "backgroundcolor": "#E5ECF6",
            "gridcolor": "white",
            "gridwidth": 2,
            "linecolor": "white",
            "showbackground": true,
            "ticks": "",
            "zerolinecolor": "white"
           },
           "yaxis": {
            "backgroundcolor": "#E5ECF6",
            "gridcolor": "white",
            "gridwidth": 2,
            "linecolor": "white",
            "showbackground": true,
            "ticks": "",
            "zerolinecolor": "white"
           },
           "zaxis": {
            "backgroundcolor": "#E5ECF6",
            "gridcolor": "white",
            "gridwidth": 2,
            "linecolor": "white",
            "showbackground": true,
            "ticks": "",
            "zerolinecolor": "white"
           }
          },
          "shapedefaults": {
           "line": {
            "color": "#2a3f5f"
           }
          },
          "ternary": {
           "aaxis": {
            "gridcolor": "white",
            "linecolor": "white",
            "ticks": ""
           },
           "baxis": {
            "gridcolor": "white",
            "linecolor": "white",
            "ticks": ""
           },
           "bgcolor": "#E5ECF6",
           "caxis": {
            "gridcolor": "white",
            "linecolor": "white",
            "ticks": ""
           }
          },
          "title": {
           "x": 0.05
          },
          "xaxis": {
           "automargin": true,
           "gridcolor": "white",
           "linecolor": "white",
           "ticks": "",
           "title": {
            "standoff": 15
           },
           "zerolinecolor": "white",
           "zerolinewidth": 2
          },
          "yaxis": {
           "automargin": true,
           "gridcolor": "white",
           "linecolor": "white",
           "ticks": "",
           "title": {
            "standoff": 15
           },
           "zerolinecolor": "white",
           "zerolinewidth": 2
          }
         }
        },
        "title": {
         "font": {
          "family": "Roboto",
          "size": 14
         }
        },
        "width": 1200,
        "xaxis": {
         "tickangle": 90,
         "tickfont": {
          "size": 11
         },
         "tickmode": "array",
         "ticktext": [
          "     Unlined Fiber<br>     n=250",
          "     Lined Fiber<br>     n=150",
          "     Biopolymer Film/Bag<br>     n=117",
          "     Rigid Biopolymer (< 0.75mm)<br>     n=235",
          "     Rigid Biopolymer (> 0.75mm)<br>     n=177",
          "     Positive Control - Fiber<br>     n=129",
          "     Positive Control - Food Scraps<br>     n=100",
          "     Positive Control - Film<br>     n=104"
         ],
         "tickvals": [
          0,
          1,
          2,
          3,
          4,
          5,
          6,
          7
         ],
         "title": {
          "font": {
           "size": 14
          },
          "standoff": 25
         }
        },
        "yaxis": {
         "tickfont": {
          "size": 9
         },
         "tickformat": ".0%",
         "tickmode": "array",
         "title": {
          "font": {
           "size": 16
          },
          "text": "Mean % Residuals (Area)"
         }
        }
       }
      }
     },
     "metadata": {},
     "output_type": "display_data"
    },
    {
     "data": {
      "application/vnd.plotly.v1+json": {
       "config": {
        "plotlyServerURL": "https://plot.ly"
       },
       "data": [
        {
         "boxpoints": "outliers",
         "marker": {
          "color": "#298FC2"
         },
         "name": "Unlined Fiber",
         "type": "box",
         "width": 0.3,
         "y": [
          0.36,
          0.236,
          0.104,
          0.262,
          0.405,
          0.625,
          0.453,
          0.608,
          0.611,
          0.394,
          0.249,
          0.305,
          0.155,
          0.204,
          0.116,
          0.317,
          0.419,
          0.235,
          0.538,
          0,
          0.383,
          0,
          0.202,
          0.634,
          0.677,
          0.617,
          0.399,
          0.637,
          0.722,
          0.674,
          0.671,
          0.696,
          0.72,
          0,
          0,
          0.071,
          0.014,
          0.009,
          0,
          0.59,
          0.63,
          0.739,
          0.536,
          0.521,
          0.573,
          0.668,
          0.646,
          0.638,
          0.208,
          0.376,
          0.438,
          0.138,
          0.039,
          0.814,
          0.344,
          0.705,
          0,
          0.175,
          0.578,
          0.41,
          0.199,
          0.335,
          0.828,
          0.744,
          0.786,
          0.786,
          0.814,
          0.809,
          0.772,
          0.752,
          0.752,
          0.866,
          0,
          0.032,
          0,
          0.149,
          0.044,
          0,
          0.373,
          null,
          null,
          null,
          null,
          null,
          null,
          null,
          null,
          null,
          null,
          null,
          null,
          null,
          null,
          null,
          null,
          null,
          null,
          null,
          null,
          null,
          null,
          null,
          null,
          null,
          null,
          null,
          null,
          null,
          null,
          null,
          null,
          null,
          null,
          null,
          null,
          null,
          null,
          null,
          null,
          null,
          null,
          null,
          null,
          null,
          null,
          null,
          null,
          null,
          null,
          null,
          null,
          null,
          null,
          null,
          null,
          null,
          null,
          null,
          null,
          null,
          null,
          null,
          null,
          null,
          null,
          null,
          null,
          null,
          null,
          null,
          null,
          null,
          null,
          null,
          null,
          null,
          null,
          null,
          null,
          null,
          null,
          null,
          null,
          null,
          null,
          null,
          null,
          null,
          null,
          null,
          null,
          null,
          null,
          null,
          null,
          null,
          null,
          null,
          null,
          null,
          null,
          null,
          null,
          null,
          null,
          null,
          null,
          null,
          null,
          null,
          null,
          null,
          null,
          null,
          null,
          null,
          null,
          null,
          null,
          null,
          null,
          null,
          null,
          null,
          null,
          null,
          null,
          null,
          null,
          null,
          null,
          null,
          null,
          null,
          null,
          null,
          null,
          null,
          null,
          null,
          null,
          null,
          null,
          null,
          null,
          null,
          null,
          null,
          null,
          null,
          null,
          null,
          null,
          null,
          null,
          null,
          null,
          null,
          null,
          null,
          null,
          null,
          null,
          null,
          null,
          null,
          null,
          null,
          null,
          null
         ]
        },
        {
         "boxpoints": "outliers",
         "marker": {
          "color": "#298FC2"
         },
         "name": "Lined Fiber",
         "type": "box",
         "width": 0.3,
         "y": [
          0.5263695436581359,
          0,
          0,
          0,
          0.6111793642100486,
          0.7166081992529988,
          0.7977767580929264,
          0.7512149873937349,
          0.7431627663721095,
          0,
          0.1835728770408088,
          0,
          0.8524548912802146,
          0.20688583312364012,
          0,
          0.767334231313864,
          0,
          0.8451476980614476,
          0,
          0.8548725311702858,
          0.7975300601449599,
          0,
          0,
          0.6957868924446288,
          0.7637817808631469,
          0.782284126960632,
          0.7789981102937187,
          0.7415098901207341,
          0.710006562165416,
          0.793637166526049,
          0.7854665304893995,
          0.72925393606576,
          0.7442581052610805,
          0,
          0,
          0,
          0.08359606664791763,
          0.19816502234128908,
          0,
          null,
          null,
          null,
          null,
          null,
          null,
          null,
          null,
          null,
          null,
          null,
          null,
          null,
          null,
          null,
          null,
          null,
          null,
          null,
          null,
          null,
          null,
          null,
          null,
          null,
          null,
          null,
          null,
          null,
          null,
          null,
          null,
          null,
          null,
          null,
          null,
          null,
          null,
          null,
          null,
          null,
          null,
          null,
          null,
          null,
          null,
          null,
          null,
          null,
          null,
          null,
          null,
          null,
          null,
          null,
          null,
          null,
          null,
          null,
          null,
          null,
          null,
          null,
          null,
          null,
          null,
          null,
          null,
          null,
          null,
          null,
          null,
          null,
          null,
          null,
          null,
          null,
          null,
          null,
          null,
          null,
          null,
          null,
          null,
          null,
          null,
          null,
          null,
          null,
          null,
          null,
          null,
          null,
          null,
          null,
          null,
          null,
          null,
          null,
          null,
          null,
          null,
          null,
          null,
          null,
          null,
          null,
          null,
          null,
          null,
          null
         ]
        },
        {
         "boxpoints": "outliers",
         "marker": {
          "color": "#FFB600"
         },
         "name": "Biopolymer Film/Bag",
         "type": "box",
         "width": 0.3,
         "y": [
          0.45,
          0.205,
          0.792,
          0.806,
          0.147,
          0,
          0,
          0,
          0,
          0,
          0,
          0,
          0,
          0,
          0.028,
          0,
          0,
          0,
          0,
          0.713,
          0.702,
          0.232,
          0,
          0,
          0,
          0,
          0,
          0,
          0,
          0,
          0,
          0,
          0,
          0.033,
          0.012,
          0,
          0,
          0,
          null,
          null,
          null,
          null,
          null,
          null,
          null,
          null,
          null,
          null,
          null,
          null,
          null,
          null,
          null,
          null,
          null,
          null,
          null,
          null,
          null,
          null,
          null,
          null,
          null,
          null,
          null,
          null,
          null,
          null,
          null,
          null,
          null,
          null,
          null,
          null,
          null,
          null,
          null,
          null,
          null,
          null,
          null,
          null,
          null,
          null,
          null,
          null,
          null,
          null,
          null,
          null,
          null,
          null,
          null,
          null,
          null,
          null,
          null,
          null,
          null,
          null,
          null,
          null,
          null,
          null,
          null,
          null,
          null,
          null,
          null,
          null,
          null,
          null,
          null,
          null,
          null,
          null,
          null
         ]
        },
        {
         "boxpoints": "outliers",
         "marker": {
          "color": "#FFB600"
         },
         "name": "Rigid Biopolymer (< 0.75mm)",
         "type": "box",
         "width": 0.3,
         "y": [
          0,
          0,
          0,
          0,
          0,
          0,
          0,
          0,
          0,
          0,
          0,
          0,
          0,
          0,
          0,
          0,
          0,
          0,
          0,
          0,
          0,
          0,
          0,
          0,
          0,
          0,
          0,
          0,
          0,
          0,
          0,
          0,
          0,
          0,
          0,
          0,
          0,
          0,
          0.0010023911923712997,
          0,
          0,
          0,
          0,
          0,
          0,
          0,
          0,
          0,
          0,
          0,
          0,
          0,
          0,
          0,
          0,
          0,
          0,
          0,
          0,
          0,
          0,
          0,
          0,
          0,
          0,
          0,
          0,
          0,
          0,
          0,
          0,
          0,
          0,
          0,
          0,
          0,
          0,
          0,
          0,
          0,
          0,
          0,
          0,
          0,
          0,
          0,
          0,
          0,
          0,
          0,
          0,
          0,
          0,
          0,
          0,
          0,
          0,
          0,
          0,
          0,
          0,
          0,
          0,
          0,
          0,
          0,
          0,
          0.019,
          0,
          0,
          0,
          0,
          0,
          0,
          0,
          0.093,
          0,
          0,
          0,
          0.055,
          0.092,
          0.118,
          0.048,
          0.318,
          0,
          0,
          0,
          0,
          0.014,
          0.012,
          0,
          0,
          0,
          0,
          0,
          0,
          0,
          0.451,
          0.391,
          0,
          0.301,
          0.064,
          0,
          0,
          0,
          0,
          0,
          0.048,
          0,
          0.003,
          0,
          0,
          0,
          0,
          0,
          0,
          0,
          0,
          0,
          null,
          null,
          null,
          null,
          null,
          null,
          null,
          null,
          null,
          null,
          null,
          null,
          null,
          null,
          null,
          null,
          null,
          null,
          null,
          null,
          null,
          null,
          null,
          null,
          null,
          null,
          null,
          null,
          null,
          null,
          null,
          null,
          null,
          null,
          null,
          null,
          null,
          null,
          null,
          null,
          null,
          null,
          null,
          null,
          null,
          null,
          null,
          null,
          null,
          null,
          null,
          null,
          null,
          null,
          null,
          null,
          null,
          null,
          null,
          null,
          null,
          null,
          null,
          null,
          null,
          null,
          null,
          null,
          null,
          null,
          null,
          null,
          null,
          null,
          null,
          null
         ]
        },
        {
         "boxpoints": "outliers",
         "marker": {
          "color": "#FFB600"
         },
         "name": "Rigid Biopolymer (> 0.75mm)",
         "type": "box",
         "width": 0.3,
         "y": [
          0.766737555135476,
          0,
          0.6874015437933207,
          0,
          0.5358577504725898,
          0,
          0,
          0,
          0,
          0,
          0,
          0,
          0,
          0,
          0,
          0,
          0,
          0,
          0,
          0,
          0,
          0,
          0,
          0,
          0,
          0.32671707624448654,
          0.07902095148078134,
          0.038141934467548835,
          0,
          0.02597274732199118,
          0,
          0,
          0,
          0,
          0,
          0,
          0,
          0,
          0,
          0,
          0.007769355945295182,
          0.02,
          0.02,
          0.027,
          0.008,
          0.075,
          0,
          0,
          0,
          0,
          0,
          0,
          0,
          0,
          0,
          0.037,
          0,
          0.366,
          1,
          0,
          1,
          0.175,
          0,
          0,
          0,
          0,
          0,
          0.366,
          0.141,
          0,
          0.049,
          0,
          0.002,
          0,
          0,
          0,
          0,
          0,
          0.001,
          null,
          null,
          null,
          null,
          null,
          null,
          null,
          null,
          null,
          null,
          null,
          null,
          null,
          null,
          null,
          null,
          null,
          null,
          null,
          null,
          null,
          null,
          null,
          null,
          null,
          null,
          null,
          null,
          null,
          null,
          null,
          null,
          null,
          null,
          null,
          null,
          null,
          null,
          null,
          null,
          null,
          null,
          null,
          null,
          null,
          null,
          null,
          null,
          null,
          null,
          null,
          null,
          null,
          null,
          null,
          null,
          null,
          null,
          null,
          null,
          null,
          null,
          null,
          null,
          null,
          null,
          null,
          null,
          null,
          null,
          null,
          null,
          null,
          null,
          null,
          null,
          null,
          null,
          null,
          null,
          null,
          null,
          null,
          null,
          null,
          null,
          null,
          null,
          null,
          null,
          null,
          null,
          null,
          null,
          null,
          null,
          null,
          null
         ]
        },
        {
         "boxpoints": "outliers",
         "marker": {
          "color": "#70AD47"
         },
         "name": "Positive Control - Fiber",
         "type": "box",
         "width": 0.3,
         "y": [
          0.396,
          0.531,
          0.606,
          0.171,
          0.416,
          0,
          0.203,
          0.205,
          0.214,
          0,
          0.314,
          0.345,
          0.535,
          0.804,
          0.683,
          0.753,
          0.74,
          0.687,
          0.6,
          0.636,
          0.287,
          0.691,
          0.45,
          0.517,
          0.387,
          0.034,
          0.409,
          0.973,
          0,
          0.027,
          0,
          0,
          0.683,
          0.099,
          0,
          0.003,
          0.035,
          0.405,
          0.146,
          0.693,
          0.539,
          0,
          0.802,
          0.86,
          0,
          0.722,
          0,
          0.651,
          0.612,
          0,
          0.726,
          0.632,
          0.368,
          0.178,
          0.217,
          0.063,
          0.084,
          0.097,
          0.524,
          0,
          0,
          0.721,
          0.696,
          0.729,
          0.326,
          0.848,
          0.809,
          0.594,
          0.687,
          0.557,
          0.679,
          0.358,
          0.739,
          0.478,
          0.798,
          0.589,
          0.423,
          0.529,
          0.729,
          0.866,
          0.913,
          0.865,
          0.836,
          0.83,
          0.498,
          0.685,
          0.609,
          0.533,
          0.786,
          0.889,
          0.702,
          0,
          0.846,
          0,
          0,
          0.006,
          0.007,
          0.158,
          0,
          0.033,
          0,
          0.03,
          0.495,
          0,
          0,
          0.512,
          0.02,
          0,
          0.123,
          0.263,
          0.539,
          null,
          null,
          null,
          null,
          null,
          null,
          null,
          null,
          null,
          null,
          null,
          null,
          null,
          null,
          null,
          null,
          null,
          null
         ]
        },
        {
         "boxpoints": "outliers",
         "marker": {
          "color": "#70AD47"
         },
         "name": "Positive Control - Food Scraps",
         "type": "box",
         "width": 0.3,
         "y": [
          0.039,
          0.086,
          0.126,
          0.128,
          0.045,
          0.073,
          0.121,
          0.057,
          0.093,
          0.086,
          0,
          0.071,
          0.111,
          0.072,
          0.05,
          0,
          0,
          0,
          0,
          0,
          0,
          0,
          0,
          0,
          0,
          0,
          0,
          0,
          0,
          0.024,
          0.056,
          0.063,
          0.04,
          0,
          0,
          0.069,
          0.051,
          0.029,
          0.063,
          0,
          0.065,
          0.065,
          0.004,
          0.008,
          0,
          0,
          0.068,
          0,
          0.1,
          0.057,
          0,
          0.118,
          0.047,
          0,
          0.175,
          0.099,
          0.104,
          0.142,
          0.055,
          0.069,
          0.142,
          0.038,
          0.182,
          0.177,
          0.113,
          0.117,
          0.116,
          0.144,
          0.115,
          0.128,
          0.138,
          0.159,
          null,
          null,
          null,
          null,
          null,
          null,
          null,
          null,
          null,
          null,
          null,
          null,
          null,
          null,
          null,
          0,
          0,
          0,
          0.097,
          0.069,
          0,
          0,
          0,
          0.047,
          0.037,
          0,
          0,
          0
         ]
        },
        {
         "boxpoints": "outliers",
         "marker": {
          "color": "#70AD47"
         },
         "name": "Positive Control - Film",
         "type": "box",
         "width": 0.3,
         "y": [
          0.085,
          0.348,
          0.253,
          0.101,
          0.055,
          0.126,
          0.037,
          0.079,
          0.246,
          0.131,
          0,
          0,
          0,
          0.274,
          0.406,
          0.357,
          0.314,
          0.248,
          0.224,
          0.354,
          0.326,
          0.233,
          0.255,
          0.162,
          0,
          0.345,
          0.038,
          0.093,
          0.007,
          0.101,
          0.057,
          0.034,
          0.082,
          0.066,
          0.044,
          0.039,
          0,
          0.005,
          0,
          0.128,
          0.106,
          0.351,
          0.419,
          0.028,
          0,
          0,
          0.025,
          0.107,
          0.483,
          0,
          0,
          0.509,
          0.15,
          0.141,
          0,
          0.122,
          0.164,
          0,
          0,
          0,
          0.034,
          0,
          0,
          0,
          0.045,
          0,
          0.394,
          0.08,
          0.1,
          0.028,
          0.163,
          0.434,
          0.165,
          0.17,
          0.424,
          0.443,
          0.573,
          0.485,
          0.135,
          0.075,
          0.118,
          0.142,
          0.082,
          0.25,
          0.138,
          0.463,
          0.463,
          0.574,
          0.474,
          0.473,
          0.118,
          0.099,
          0.073,
          0.195,
          0.054,
          0.003,
          0.059,
          0.093,
          0.001,
          0.144,
          0.324,
          0.003,
          0,
          0.576
         ]
        }
       ],
       "layout": {
        "font": {
         "family": "Roboto",
         "size": 11
        },
        "height": 800,
        "showlegend": false,
        "template": {
         "data": {
          "bar": [
           {
            "error_x": {
             "color": "#2a3f5f"
            },
            "error_y": {
             "color": "#2a3f5f"
            },
            "marker": {
             "line": {
              "color": "#E5ECF6",
              "width": 0.5
             },
             "pattern": {
              "fillmode": "overlay",
              "size": 10,
              "solidity": 0.2
             }
            },
            "type": "bar"
           }
          ],
          "barpolar": [
           {
            "marker": {
             "line": {
              "color": "#E5ECF6",
              "width": 0.5
             },
             "pattern": {
              "fillmode": "overlay",
              "size": 10,
              "solidity": 0.2
             }
            },
            "type": "barpolar"
           }
          ],
          "carpet": [
           {
            "aaxis": {
             "endlinecolor": "#2a3f5f",
             "gridcolor": "white",
             "linecolor": "white",
             "minorgridcolor": "white",
             "startlinecolor": "#2a3f5f"
            },
            "baxis": {
             "endlinecolor": "#2a3f5f",
             "gridcolor": "white",
             "linecolor": "white",
             "minorgridcolor": "white",
             "startlinecolor": "#2a3f5f"
            },
            "type": "carpet"
           }
          ],
          "choropleth": [
           {
            "colorbar": {
             "outlinewidth": 0,
             "ticks": ""
            },
            "type": "choropleth"
           }
          ],
          "contour": [
           {
            "colorbar": {
             "outlinewidth": 0,
             "ticks": ""
            },
            "colorscale": [
             [
              0,
              "#0d0887"
             ],
             [
              0.1111111111111111,
              "#46039f"
             ],
             [
              0.2222222222222222,
              "#7201a8"
             ],
             [
              0.3333333333333333,
              "#9c179e"
             ],
             [
              0.4444444444444444,
              "#bd3786"
             ],
             [
              0.5555555555555556,
              "#d8576b"
             ],
             [
              0.6666666666666666,
              "#ed7953"
             ],
             [
              0.7777777777777778,
              "#fb9f3a"
             ],
             [
              0.8888888888888888,
              "#fdca26"
             ],
             [
              1,
              "#f0f921"
             ]
            ],
            "type": "contour"
           }
          ],
          "contourcarpet": [
           {
            "colorbar": {
             "outlinewidth": 0,
             "ticks": ""
            },
            "type": "contourcarpet"
           }
          ],
          "heatmap": [
           {
            "colorbar": {
             "outlinewidth": 0,
             "ticks": ""
            },
            "colorscale": [
             [
              0,
              "#0d0887"
             ],
             [
              0.1111111111111111,
              "#46039f"
             ],
             [
              0.2222222222222222,
              "#7201a8"
             ],
             [
              0.3333333333333333,
              "#9c179e"
             ],
             [
              0.4444444444444444,
              "#bd3786"
             ],
             [
              0.5555555555555556,
              "#d8576b"
             ],
             [
              0.6666666666666666,
              "#ed7953"
             ],
             [
              0.7777777777777778,
              "#fb9f3a"
             ],
             [
              0.8888888888888888,
              "#fdca26"
             ],
             [
              1,
              "#f0f921"
             ]
            ],
            "type": "heatmap"
           }
          ],
          "heatmapgl": [
           {
            "colorbar": {
             "outlinewidth": 0,
             "ticks": ""
            },
            "colorscale": [
             [
              0,
              "#0d0887"
             ],
             [
              0.1111111111111111,
              "#46039f"
             ],
             [
              0.2222222222222222,
              "#7201a8"
             ],
             [
              0.3333333333333333,
              "#9c179e"
             ],
             [
              0.4444444444444444,
              "#bd3786"
             ],
             [
              0.5555555555555556,
              "#d8576b"
             ],
             [
              0.6666666666666666,
              "#ed7953"
             ],
             [
              0.7777777777777778,
              "#fb9f3a"
             ],
             [
              0.8888888888888888,
              "#fdca26"
             ],
             [
              1,
              "#f0f921"
             ]
            ],
            "type": "heatmapgl"
           }
          ],
          "histogram": [
           {
            "marker": {
             "pattern": {
              "fillmode": "overlay",
              "size": 10,
              "solidity": 0.2
             }
            },
            "type": "histogram"
           }
          ],
          "histogram2d": [
           {
            "colorbar": {
             "outlinewidth": 0,
             "ticks": ""
            },
            "colorscale": [
             [
              0,
              "#0d0887"
             ],
             [
              0.1111111111111111,
              "#46039f"
             ],
             [
              0.2222222222222222,
              "#7201a8"
             ],
             [
              0.3333333333333333,
              "#9c179e"
             ],
             [
              0.4444444444444444,
              "#bd3786"
             ],
             [
              0.5555555555555556,
              "#d8576b"
             ],
             [
              0.6666666666666666,
              "#ed7953"
             ],
             [
              0.7777777777777778,
              "#fb9f3a"
             ],
             [
              0.8888888888888888,
              "#fdca26"
             ],
             [
              1,
              "#f0f921"
             ]
            ],
            "type": "histogram2d"
           }
          ],
          "histogram2dcontour": [
           {
            "colorbar": {
             "outlinewidth": 0,
             "ticks": ""
            },
            "colorscale": [
             [
              0,
              "#0d0887"
             ],
             [
              0.1111111111111111,
              "#46039f"
             ],
             [
              0.2222222222222222,
              "#7201a8"
             ],
             [
              0.3333333333333333,
              "#9c179e"
             ],
             [
              0.4444444444444444,
              "#bd3786"
             ],
             [
              0.5555555555555556,
              "#d8576b"
             ],
             [
              0.6666666666666666,
              "#ed7953"
             ],
             [
              0.7777777777777778,
              "#fb9f3a"
             ],
             [
              0.8888888888888888,
              "#fdca26"
             ],
             [
              1,
              "#f0f921"
             ]
            ],
            "type": "histogram2dcontour"
           }
          ],
          "mesh3d": [
           {
            "colorbar": {
             "outlinewidth": 0,
             "ticks": ""
            },
            "type": "mesh3d"
           }
          ],
          "parcoords": [
           {
            "line": {
             "colorbar": {
              "outlinewidth": 0,
              "ticks": ""
             }
            },
            "type": "parcoords"
           }
          ],
          "pie": [
           {
            "automargin": true,
            "type": "pie"
           }
          ],
          "scatter": [
           {
            "fillpattern": {
             "fillmode": "overlay",
             "size": 10,
             "solidity": 0.2
            },
            "type": "scatter"
           }
          ],
          "scatter3d": [
           {
            "line": {
             "colorbar": {
              "outlinewidth": 0,
              "ticks": ""
             }
            },
            "marker": {
             "colorbar": {
              "outlinewidth": 0,
              "ticks": ""
             }
            },
            "type": "scatter3d"
           }
          ],
          "scattercarpet": [
           {
            "marker": {
             "colorbar": {
              "outlinewidth": 0,
              "ticks": ""
             }
            },
            "type": "scattercarpet"
           }
          ],
          "scattergeo": [
           {
            "marker": {
             "colorbar": {
              "outlinewidth": 0,
              "ticks": ""
             }
            },
            "type": "scattergeo"
           }
          ],
          "scattergl": [
           {
            "marker": {
             "colorbar": {
              "outlinewidth": 0,
              "ticks": ""
             }
            },
            "type": "scattergl"
           }
          ],
          "scattermapbox": [
           {
            "marker": {
             "colorbar": {
              "outlinewidth": 0,
              "ticks": ""
             }
            },
            "type": "scattermapbox"
           }
          ],
          "scatterpolar": [
           {
            "marker": {
             "colorbar": {
              "outlinewidth": 0,
              "ticks": ""
             }
            },
            "type": "scatterpolar"
           }
          ],
          "scatterpolargl": [
           {
            "marker": {
             "colorbar": {
              "outlinewidth": 0,
              "ticks": ""
             }
            },
            "type": "scatterpolargl"
           }
          ],
          "scatterternary": [
           {
            "marker": {
             "colorbar": {
              "outlinewidth": 0,
              "ticks": ""
             }
            },
            "type": "scatterternary"
           }
          ],
          "surface": [
           {
            "colorbar": {
             "outlinewidth": 0,
             "ticks": ""
            },
            "colorscale": [
             [
              0,
              "#0d0887"
             ],
             [
              0.1111111111111111,
              "#46039f"
             ],
             [
              0.2222222222222222,
              "#7201a8"
             ],
             [
              0.3333333333333333,
              "#9c179e"
             ],
             [
              0.4444444444444444,
              "#bd3786"
             ],
             [
              0.5555555555555556,
              "#d8576b"
             ],
             [
              0.6666666666666666,
              "#ed7953"
             ],
             [
              0.7777777777777778,
              "#fb9f3a"
             ],
             [
              0.8888888888888888,
              "#fdca26"
             ],
             [
              1,
              "#f0f921"
             ]
            ],
            "type": "surface"
           }
          ],
          "table": [
           {
            "cells": {
             "fill": {
              "color": "#EBF0F8"
             },
             "line": {
              "color": "white"
             }
            },
            "header": {
             "fill": {
              "color": "#C8D4E3"
             },
             "line": {
              "color": "white"
             }
            },
            "type": "table"
           }
          ]
         },
         "layout": {
          "annotationdefaults": {
           "arrowcolor": "#2a3f5f",
           "arrowhead": 0,
           "arrowwidth": 1
          },
          "autotypenumbers": "strict",
          "coloraxis": {
           "colorbar": {
            "outlinewidth": 0,
            "ticks": ""
           }
          },
          "colorscale": {
           "diverging": [
            [
             0,
             "#8e0152"
            ],
            [
             0.1,
             "#c51b7d"
            ],
            [
             0.2,
             "#de77ae"
            ],
            [
             0.3,
             "#f1b6da"
            ],
            [
             0.4,
             "#fde0ef"
            ],
            [
             0.5,
             "#f7f7f7"
            ],
            [
             0.6,
             "#e6f5d0"
            ],
            [
             0.7,
             "#b8e186"
            ],
            [
             0.8,
             "#7fbc41"
            ],
            [
             0.9,
             "#4d9221"
            ],
            [
             1,
             "#276419"
            ]
           ],
           "sequential": [
            [
             0,
             "#0d0887"
            ],
            [
             0.1111111111111111,
             "#46039f"
            ],
            [
             0.2222222222222222,
             "#7201a8"
            ],
            [
             0.3333333333333333,
             "#9c179e"
            ],
            [
             0.4444444444444444,
             "#bd3786"
            ],
            [
             0.5555555555555556,
             "#d8576b"
            ],
            [
             0.6666666666666666,
             "#ed7953"
            ],
            [
             0.7777777777777778,
             "#fb9f3a"
            ],
            [
             0.8888888888888888,
             "#fdca26"
            ],
            [
             1,
             "#f0f921"
            ]
           ],
           "sequentialminus": [
            [
             0,
             "#0d0887"
            ],
            [
             0.1111111111111111,
             "#46039f"
            ],
            [
             0.2222222222222222,
             "#7201a8"
            ],
            [
             0.3333333333333333,
             "#9c179e"
            ],
            [
             0.4444444444444444,
             "#bd3786"
            ],
            [
             0.5555555555555556,
             "#d8576b"
            ],
            [
             0.6666666666666666,
             "#ed7953"
            ],
            [
             0.7777777777777778,
             "#fb9f3a"
            ],
            [
             0.8888888888888888,
             "#fdca26"
            ],
            [
             1,
             "#f0f921"
            ]
           ]
          },
          "colorway": [
           "#636efa",
           "#EF553B",
           "#00cc96",
           "#ab63fa",
           "#FFA15A",
           "#19d3f3",
           "#FF6692",
           "#B6E880",
           "#FF97FF",
           "#FECB52"
          ],
          "font": {
           "color": "#2a3f5f"
          },
          "geo": {
           "bgcolor": "white",
           "lakecolor": "white",
           "landcolor": "#E5ECF6",
           "showlakes": true,
           "showland": true,
           "subunitcolor": "white"
          },
          "hoverlabel": {
           "align": "left"
          },
          "hovermode": "closest",
          "mapbox": {
           "style": "light"
          },
          "paper_bgcolor": "white",
          "plot_bgcolor": "#E5ECF6",
          "polar": {
           "angularaxis": {
            "gridcolor": "white",
            "linecolor": "white",
            "ticks": ""
           },
           "bgcolor": "#E5ECF6",
           "radialaxis": {
            "gridcolor": "white",
            "linecolor": "white",
            "ticks": ""
           }
          },
          "scene": {
           "xaxis": {
            "backgroundcolor": "#E5ECF6",
            "gridcolor": "white",
            "gridwidth": 2,
            "linecolor": "white",
            "showbackground": true,
            "ticks": "",
            "zerolinecolor": "white"
           },
           "yaxis": {
            "backgroundcolor": "#E5ECF6",
            "gridcolor": "white",
            "gridwidth": 2,
            "linecolor": "white",
            "showbackground": true,
            "ticks": "",
            "zerolinecolor": "white"
           },
           "zaxis": {
            "backgroundcolor": "#E5ECF6",
            "gridcolor": "white",
            "gridwidth": 2,
            "linecolor": "white",
            "showbackground": true,
            "ticks": "",
            "zerolinecolor": "white"
           }
          },
          "shapedefaults": {
           "line": {
            "color": "#2a3f5f"
           }
          },
          "ternary": {
           "aaxis": {
            "gridcolor": "white",
            "linecolor": "white",
            "ticks": ""
           },
           "baxis": {
            "gridcolor": "white",
            "linecolor": "white",
            "ticks": ""
           },
           "bgcolor": "#E5ECF6",
           "caxis": {
            "gridcolor": "white",
            "linecolor": "white",
            "ticks": ""
           }
          },
          "title": {
           "x": 0.05
          },
          "xaxis": {
           "automargin": true,
           "gridcolor": "white",
           "linecolor": "white",
           "ticks": "",
           "title": {
            "standoff": 15
           },
           "zerolinecolor": "white",
           "zerolinewidth": 2
          },
          "yaxis": {
           "automargin": true,
           "gridcolor": "white",
           "linecolor": "white",
           "ticks": "",
           "title": {
            "standoff": 15
           },
           "zerolinecolor": "white",
           "zerolinewidth": 2
          }
         }
        },
        "title": {
         "font": {
          "family": "Roboto",
          "size": 14
         }
        },
        "width": 1200,
        "xaxis": {
         "tickangle": 90,
         "tickfont": {
          "size": 11
         },
         "tickmode": "array",
         "ticktext": [
          "     Unlined Fiber<br>     n=79",
          "     Lined Fiber<br>     n=39",
          "     Biopolymer Film/Bag<br>     n=38",
          "     Rigid Biopolymer (< 0.75mm)<br>     n=159",
          "     Rigid Biopolymer (> 0.75mm)<br>     n=79",
          "     Positive Control - Fiber<br>     n=111",
          "     Positive Control - Food Scraps<br>     n=85",
          "     Positive Control - Film<br>     n=104"
         ],
         "tickvals": [
          0,
          1,
          2,
          3,
          4,
          5,
          6,
          7
         ],
         "title": {
          "font": {
           "size": 14
          }
         }
        },
        "yaxis": {
         "tickfont": {
          "size": 9
         },
         "tickformat": ".0%",
         "tickmode": "array",
         "tickvals": [
          0,
          0.25,
          0.5,
          0.75
         ],
         "title": {
          "font": {
           "size": 16
          },
          "text": "% Residuals (Area)"
         }
        }
       }
      }
     },
     "metadata": {},
     "output_type": "display_data"
    },
    {
     "data": {
      "application/vnd.plotly.v1+json": {
       "config": {
        "plotlyServerURL": "https://plot.ly"
       },
       "data": [
        {
         "marker": {
          "color": "#298FC2"
         },
         "name": "Unlined Fiber",
         "type": "bar",
         "width": 0.3,
         "x": [
          0
         ],
         "y": [
          0.41175949367088605
         ]
        },
        {
         "marker": {
          "color": "#298FC2"
         },
         "name": "Lined Fiber",
         "type": "bar",
         "width": 0.3,
         "x": [
          1
         ],
         "y": [
          0.4220731777255114
         ]
        },
        {
         "marker": {
          "color": "#FFB600"
         },
         "name": "Biopolymer Film/Bag",
         "type": "bar",
         "width": 0.3,
         "x": [
          2
         ],
         "y": [
          0.10842105263157895
         ]
        },
        {
         "marker": {
          "color": "#FFB600"
         },
         "name": "Rigid Biopolymer (< 0.75mm)",
         "type": "bar",
         "width": 0.3,
         "x": [
          3
         ],
         "y": [
          0.012754732020077807
         ]
        },
        {
         "marker": {
          "color": "#FFB600"
         },
         "name": "Rigid Biopolymer (> 0.75mm)",
         "type": "bar",
         "width": 0.3,
         "x": [
          4
         ],
         "y": [
          0.07284327740331001
         ]
        },
        {
         "marker": {
          "color": "#70AD47"
         },
         "name": "Positive Control - Fiber",
         "type": "bar",
         "width": 0.3,
         "x": [
          5
         ],
         "y": [
          0.40618018018018015
         ]
        },
        {
         "marker": {
          "color": "#70AD47"
         },
         "name": "Positive Control - Food Scraps",
         "type": "bar",
         "width": 0.3,
         "x": [
          6
         ],
         "y": [
          0.053505882352941174
         ]
        },
        {
         "marker": {
          "color": "#70AD47"
         },
         "name": "Positive Control - Film",
         "type": "bar",
         "width": 0.3,
         "x": [
          7
         ],
         "y": [
          0.1627403846153846
         ]
        }
       ],
       "layout": {
        "barmode": "group",
        "font": {
         "family": "Roboto",
         "size": 11
        },
        "height": 800,
        "showlegend": false,
        "template": {
         "data": {
          "bar": [
           {
            "error_x": {
             "color": "#2a3f5f"
            },
            "error_y": {
             "color": "#2a3f5f"
            },
            "marker": {
             "line": {
              "color": "#E5ECF6",
              "width": 0.5
             },
             "pattern": {
              "fillmode": "overlay",
              "size": 10,
              "solidity": 0.2
             }
            },
            "type": "bar"
           }
          ],
          "barpolar": [
           {
            "marker": {
             "line": {
              "color": "#E5ECF6",
              "width": 0.5
             },
             "pattern": {
              "fillmode": "overlay",
              "size": 10,
              "solidity": 0.2
             }
            },
            "type": "barpolar"
           }
          ],
          "carpet": [
           {
            "aaxis": {
             "endlinecolor": "#2a3f5f",
             "gridcolor": "white",
             "linecolor": "white",
             "minorgridcolor": "white",
             "startlinecolor": "#2a3f5f"
            },
            "baxis": {
             "endlinecolor": "#2a3f5f",
             "gridcolor": "white",
             "linecolor": "white",
             "minorgridcolor": "white",
             "startlinecolor": "#2a3f5f"
            },
            "type": "carpet"
           }
          ],
          "choropleth": [
           {
            "colorbar": {
             "outlinewidth": 0,
             "ticks": ""
            },
            "type": "choropleth"
           }
          ],
          "contour": [
           {
            "colorbar": {
             "outlinewidth": 0,
             "ticks": ""
            },
            "colorscale": [
             [
              0,
              "#0d0887"
             ],
             [
              0.1111111111111111,
              "#46039f"
             ],
             [
              0.2222222222222222,
              "#7201a8"
             ],
             [
              0.3333333333333333,
              "#9c179e"
             ],
             [
              0.4444444444444444,
              "#bd3786"
             ],
             [
              0.5555555555555556,
              "#d8576b"
             ],
             [
              0.6666666666666666,
              "#ed7953"
             ],
             [
              0.7777777777777778,
              "#fb9f3a"
             ],
             [
              0.8888888888888888,
              "#fdca26"
             ],
             [
              1,
              "#f0f921"
             ]
            ],
            "type": "contour"
           }
          ],
          "contourcarpet": [
           {
            "colorbar": {
             "outlinewidth": 0,
             "ticks": ""
            },
            "type": "contourcarpet"
           }
          ],
          "heatmap": [
           {
            "colorbar": {
             "outlinewidth": 0,
             "ticks": ""
            },
            "colorscale": [
             [
              0,
              "#0d0887"
             ],
             [
              0.1111111111111111,
              "#46039f"
             ],
             [
              0.2222222222222222,
              "#7201a8"
             ],
             [
              0.3333333333333333,
              "#9c179e"
             ],
             [
              0.4444444444444444,
              "#bd3786"
             ],
             [
              0.5555555555555556,
              "#d8576b"
             ],
             [
              0.6666666666666666,
              "#ed7953"
             ],
             [
              0.7777777777777778,
              "#fb9f3a"
             ],
             [
              0.8888888888888888,
              "#fdca26"
             ],
             [
              1,
              "#f0f921"
             ]
            ],
            "type": "heatmap"
           }
          ],
          "heatmapgl": [
           {
            "colorbar": {
             "outlinewidth": 0,
             "ticks": ""
            },
            "colorscale": [
             [
              0,
              "#0d0887"
             ],
             [
              0.1111111111111111,
              "#46039f"
             ],
             [
              0.2222222222222222,
              "#7201a8"
             ],
             [
              0.3333333333333333,
              "#9c179e"
             ],
             [
              0.4444444444444444,
              "#bd3786"
             ],
             [
              0.5555555555555556,
              "#d8576b"
             ],
             [
              0.6666666666666666,
              "#ed7953"
             ],
             [
              0.7777777777777778,
              "#fb9f3a"
             ],
             [
              0.8888888888888888,
              "#fdca26"
             ],
             [
              1,
              "#f0f921"
             ]
            ],
            "type": "heatmapgl"
           }
          ],
          "histogram": [
           {
            "marker": {
             "pattern": {
              "fillmode": "overlay",
              "size": 10,
              "solidity": 0.2
             }
            },
            "type": "histogram"
           }
          ],
          "histogram2d": [
           {
            "colorbar": {
             "outlinewidth": 0,
             "ticks": ""
            },
            "colorscale": [
             [
              0,
              "#0d0887"
             ],
             [
              0.1111111111111111,
              "#46039f"
             ],
             [
              0.2222222222222222,
              "#7201a8"
             ],
             [
              0.3333333333333333,
              "#9c179e"
             ],
             [
              0.4444444444444444,
              "#bd3786"
             ],
             [
              0.5555555555555556,
              "#d8576b"
             ],
             [
              0.6666666666666666,
              "#ed7953"
             ],
             [
              0.7777777777777778,
              "#fb9f3a"
             ],
             [
              0.8888888888888888,
              "#fdca26"
             ],
             [
              1,
              "#f0f921"
             ]
            ],
            "type": "histogram2d"
           }
          ],
          "histogram2dcontour": [
           {
            "colorbar": {
             "outlinewidth": 0,
             "ticks": ""
            },
            "colorscale": [
             [
              0,
              "#0d0887"
             ],
             [
              0.1111111111111111,
              "#46039f"
             ],
             [
              0.2222222222222222,
              "#7201a8"
             ],
             [
              0.3333333333333333,
              "#9c179e"
             ],
             [
              0.4444444444444444,
              "#bd3786"
             ],
             [
              0.5555555555555556,
              "#d8576b"
             ],
             [
              0.6666666666666666,
              "#ed7953"
             ],
             [
              0.7777777777777778,
              "#fb9f3a"
             ],
             [
              0.8888888888888888,
              "#fdca26"
             ],
             [
              1,
              "#f0f921"
             ]
            ],
            "type": "histogram2dcontour"
           }
          ],
          "mesh3d": [
           {
            "colorbar": {
             "outlinewidth": 0,
             "ticks": ""
            },
            "type": "mesh3d"
           }
          ],
          "parcoords": [
           {
            "line": {
             "colorbar": {
              "outlinewidth": 0,
              "ticks": ""
             }
            },
            "type": "parcoords"
           }
          ],
          "pie": [
           {
            "automargin": true,
            "type": "pie"
           }
          ],
          "scatter": [
           {
            "fillpattern": {
             "fillmode": "overlay",
             "size": 10,
             "solidity": 0.2
            },
            "type": "scatter"
           }
          ],
          "scatter3d": [
           {
            "line": {
             "colorbar": {
              "outlinewidth": 0,
              "ticks": ""
             }
            },
            "marker": {
             "colorbar": {
              "outlinewidth": 0,
              "ticks": ""
             }
            },
            "type": "scatter3d"
           }
          ],
          "scattercarpet": [
           {
            "marker": {
             "colorbar": {
              "outlinewidth": 0,
              "ticks": ""
             }
            },
            "type": "scattercarpet"
           }
          ],
          "scattergeo": [
           {
            "marker": {
             "colorbar": {
              "outlinewidth": 0,
              "ticks": ""
             }
            },
            "type": "scattergeo"
           }
          ],
          "scattergl": [
           {
            "marker": {
             "colorbar": {
              "outlinewidth": 0,
              "ticks": ""
             }
            },
            "type": "scattergl"
           }
          ],
          "scattermapbox": [
           {
            "marker": {
             "colorbar": {
              "outlinewidth": 0,
              "ticks": ""
             }
            },
            "type": "scattermapbox"
           }
          ],
          "scatterpolar": [
           {
            "marker": {
             "colorbar": {
              "outlinewidth": 0,
              "ticks": ""
             }
            },
            "type": "scatterpolar"
           }
          ],
          "scatterpolargl": [
           {
            "marker": {
             "colorbar": {
              "outlinewidth": 0,
              "ticks": ""
             }
            },
            "type": "scatterpolargl"
           }
          ],
          "scatterternary": [
           {
            "marker": {
             "colorbar": {
              "outlinewidth": 0,
              "ticks": ""
             }
            },
            "type": "scatterternary"
           }
          ],
          "surface": [
           {
            "colorbar": {
             "outlinewidth": 0,
             "ticks": ""
            },
            "colorscale": [
             [
              0,
              "#0d0887"
             ],
             [
              0.1111111111111111,
              "#46039f"
             ],
             [
              0.2222222222222222,
              "#7201a8"
             ],
             [
              0.3333333333333333,
              "#9c179e"
             ],
             [
              0.4444444444444444,
              "#bd3786"
             ],
             [
              0.5555555555555556,
              "#d8576b"
             ],
             [
              0.6666666666666666,
              "#ed7953"
             ],
             [
              0.7777777777777778,
              "#fb9f3a"
             ],
             [
              0.8888888888888888,
              "#fdca26"
             ],
             [
              1,
              "#f0f921"
             ]
            ],
            "type": "surface"
           }
          ],
          "table": [
           {
            "cells": {
             "fill": {
              "color": "#EBF0F8"
             },
             "line": {
              "color": "white"
             }
            },
            "header": {
             "fill": {
              "color": "#C8D4E3"
             },
             "line": {
              "color": "white"
             }
            },
            "type": "table"
           }
          ]
         },
         "layout": {
          "annotationdefaults": {
           "arrowcolor": "#2a3f5f",
           "arrowhead": 0,
           "arrowwidth": 1
          },
          "autotypenumbers": "strict",
          "coloraxis": {
           "colorbar": {
            "outlinewidth": 0,
            "ticks": ""
           }
          },
          "colorscale": {
           "diverging": [
            [
             0,
             "#8e0152"
            ],
            [
             0.1,
             "#c51b7d"
            ],
            [
             0.2,
             "#de77ae"
            ],
            [
             0.3,
             "#f1b6da"
            ],
            [
             0.4,
             "#fde0ef"
            ],
            [
             0.5,
             "#f7f7f7"
            ],
            [
             0.6,
             "#e6f5d0"
            ],
            [
             0.7,
             "#b8e186"
            ],
            [
             0.8,
             "#7fbc41"
            ],
            [
             0.9,
             "#4d9221"
            ],
            [
             1,
             "#276419"
            ]
           ],
           "sequential": [
            [
             0,
             "#0d0887"
            ],
            [
             0.1111111111111111,
             "#46039f"
            ],
            [
             0.2222222222222222,
             "#7201a8"
            ],
            [
             0.3333333333333333,
             "#9c179e"
            ],
            [
             0.4444444444444444,
             "#bd3786"
            ],
            [
             0.5555555555555556,
             "#d8576b"
            ],
            [
             0.6666666666666666,
             "#ed7953"
            ],
            [
             0.7777777777777778,
             "#fb9f3a"
            ],
            [
             0.8888888888888888,
             "#fdca26"
            ],
            [
             1,
             "#f0f921"
            ]
           ],
           "sequentialminus": [
            [
             0,
             "#0d0887"
            ],
            [
             0.1111111111111111,
             "#46039f"
            ],
            [
             0.2222222222222222,
             "#7201a8"
            ],
            [
             0.3333333333333333,
             "#9c179e"
            ],
            [
             0.4444444444444444,
             "#bd3786"
            ],
            [
             0.5555555555555556,
             "#d8576b"
            ],
            [
             0.6666666666666666,
             "#ed7953"
            ],
            [
             0.7777777777777778,
             "#fb9f3a"
            ],
            [
             0.8888888888888888,
             "#fdca26"
            ],
            [
             1,
             "#f0f921"
            ]
           ]
          },
          "colorway": [
           "#636efa",
           "#EF553B",
           "#00cc96",
           "#ab63fa",
           "#FFA15A",
           "#19d3f3",
           "#FF6692",
           "#B6E880",
           "#FF97FF",
           "#FECB52"
          ],
          "font": {
           "color": "#2a3f5f"
          },
          "geo": {
           "bgcolor": "white",
           "lakecolor": "white",
           "landcolor": "#E5ECF6",
           "showlakes": true,
           "showland": true,
           "subunitcolor": "white"
          },
          "hoverlabel": {
           "align": "left"
          },
          "hovermode": "closest",
          "mapbox": {
           "style": "light"
          },
          "paper_bgcolor": "white",
          "plot_bgcolor": "#E5ECF6",
          "polar": {
           "angularaxis": {
            "gridcolor": "white",
            "linecolor": "white",
            "ticks": ""
           },
           "bgcolor": "#E5ECF6",
           "radialaxis": {
            "gridcolor": "white",
            "linecolor": "white",
            "ticks": ""
           }
          },
          "scene": {
           "xaxis": {
            "backgroundcolor": "#E5ECF6",
            "gridcolor": "white",
            "gridwidth": 2,
            "linecolor": "white",
            "showbackground": true,
            "ticks": "",
            "zerolinecolor": "white"
           },
           "yaxis": {
            "backgroundcolor": "#E5ECF6",
            "gridcolor": "white",
            "gridwidth": 2,
            "linecolor": "white",
            "showbackground": true,
            "ticks": "",
            "zerolinecolor": "white"
           },
           "zaxis": {
            "backgroundcolor": "#E5ECF6",
            "gridcolor": "white",
            "gridwidth": 2,
            "linecolor": "white",
            "showbackground": true,
            "ticks": "",
            "zerolinecolor": "white"
           }
          },
          "shapedefaults": {
           "line": {
            "color": "#2a3f5f"
           }
          },
          "ternary": {
           "aaxis": {
            "gridcolor": "white",
            "linecolor": "white",
            "ticks": ""
           },
           "baxis": {
            "gridcolor": "white",
            "linecolor": "white",
            "ticks": ""
           },
           "bgcolor": "#E5ECF6",
           "caxis": {
            "gridcolor": "white",
            "linecolor": "white",
            "ticks": ""
           }
          },
          "title": {
           "x": 0.05
          },
          "xaxis": {
           "automargin": true,
           "gridcolor": "white",
           "linecolor": "white",
           "ticks": "",
           "title": {
            "standoff": 15
           },
           "zerolinecolor": "white",
           "zerolinewidth": 2
          },
          "yaxis": {
           "automargin": true,
           "gridcolor": "white",
           "linecolor": "white",
           "ticks": "",
           "title": {
            "standoff": 15
           },
           "zerolinecolor": "white",
           "zerolinewidth": 2
          }
         }
        },
        "title": {
         "font": {
          "family": "Roboto",
          "size": 14
         }
        },
        "width": 1200,
        "xaxis": {
         "tickangle": 90,
         "tickfont": {
          "size": 11
         },
         "tickmode": "array",
         "ticktext": [
          "     Unlined Fiber<br>     n=250",
          "     Lined Fiber<br>     n=150",
          "     Biopolymer Film/Bag<br>     n=117",
          "     Rigid Biopolymer (< 0.75mm)<br>     n=235",
          "     Rigid Biopolymer (> 0.75mm)<br>     n=177",
          "     Positive Control - Fiber<br>     n=129",
          "     Positive Control - Food Scraps<br>     n=100",
          "     Positive Control - Film<br>     n=104"
         ],
         "tickvals": [
          0,
          1,
          2,
          3,
          4,
          5,
          6,
          7
         ],
         "title": {
          "font": {
           "size": 14
          },
          "standoff": 25
         }
        },
        "yaxis": {
         "tickfont": {
          "size": 9
         },
         "tickformat": ".0%",
         "tickmode": "array",
         "title": {
          "font": {
           "size": 16
          },
          "text": "Mean % Residuals (Area)"
         }
        }
       }
      }
     },
     "metadata": {},
     "output_type": "display_data"
    }
   ],
   "source": [
    "column = '% Residuals (Area)'\n",
    "box_and_whisker(joined, column, width=1200, save=True)\n",
    "mean_residuals_bar(joined, column, width=1200, save=True)\n",
    "\n",
    "box_and_whisker(joined, column, width=1200, cap=True, save=True)\n",
    "mean_residuals_bar(joined, column, width=1200, cap=True, save=True)"
   ]
  },
  {
   "cell_type": "code",
   "execution_count": null,
   "metadata": {},
   "outputs": [],
   "source": []
  }
 ],
 "metadata": {
  "kernelspec": {
   "display_name": "base",
   "language": "python",
   "name": "python3"
  },
  "language_info": {
   "codemirror_mode": {
    "name": "ipython",
    "version": 3
   },
   "file_extension": ".py",
   "mimetype": "text/x-python",
   "name": "python",
   "nbconvert_exporter": "python",
   "pygments_lexer": "ipython3",
   "version": "3.10.8"
  }
 },
 "nbformat": 4,
 "nbformat_minor": 2
}
