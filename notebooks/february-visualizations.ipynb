{
 "cells": [
  {
   "cell_type": "code",
   "execution_count": 1,
   "metadata": {},
   "outputs": [],
   "source": [
    "import pandas as pd"
   ]
  },
  {
   "cell_type": "code",
   "execution_count": 2,
   "metadata": {},
   "outputs": [],
   "source": [
    "DATA_FOLDER = \"../data/\""
   ]
  },
  {
   "cell_type": "markdown",
   "metadata": {},
   "source": [
    "### Clean Items"
   ]
  },
  {
   "cell_type": "code",
   "execution_count": 3,
   "metadata": {},
   "outputs": [
    {
     "data": {
      "text/html": [
       "<div>\n",
       "<style scoped>\n",
       "    .dataframe tbody tr th:only-of-type {\n",
       "        vertical-align: middle;\n",
       "    }\n",
       "\n",
       "    .dataframe tbody tr th {\n",
       "        vertical-align: top;\n",
       "    }\n",
       "\n",
       "    .dataframe thead th {\n",
       "        text-align: right;\n",
       "    }\n",
       "</style>\n",
       "<table border=\"1\" class=\"dataframe\">\n",
       "  <thead>\n",
       "    <tr style=\"text-align: right;\">\n",
       "      <th></th>\n",
       "      <th>Item ID</th>\n",
       "      <th>Item Format</th>\n",
       "      <th>Brand</th>\n",
       "      <th>Manufacturer</th>\n",
       "      <th>Item Name</th>\n",
       "      <th>Item Description Refined</th>\n",
       "      <th>Item Description From Trial</th>\n",
       "      <th>Material Class I</th>\n",
       "      <th>Material Class II</th>\n",
       "      <th>Material Class III</th>\n",
       "      <th>Material Description</th>\n",
       "      <th>Material Composition</th>\n",
       "      <th>Certification @ time of testing</th>\n",
       "      <th>Kit</th>\n",
       "      <th>Initial Weight 1</th>\n",
       "      <th>Initial Weight 2</th>\n",
       "      <th>Initial Weight 3</th>\n",
       "      <th>Average Initial Weight, g</th>\n",
       "      <th>Item Dimensions Compiled</th>\n",
       "      <th>Item Capacity, mL</th>\n",
       "    </tr>\n",
       "  </thead>\n",
       "  <tbody>\n",
       "    <tr>\n",
       "      <th>0</th>\n",
       "      <td>NaN</td>\n",
       "      <td>Bag</td>\n",
       "      <td>BÉSICS®</td>\n",
       "      <td>Pak-Sel</td>\n",
       "      <td>Cellulose bag 5x7in</td>\n",
       "      <td>BESICS Cellulose bag 5x7in</td>\n",
       "      <td>NaN</td>\n",
       "      <td>Biopolymer</td>\n",
       "      <td>Biopolymer Film/Bag</td>\n",
       "      <td>Cellulose</td>\n",
       "      <td>Cellulose</td>\n",
       "      <td>Cellulose</td>\n",
       "      <td>BPI</td>\n",
       "      <td>Pilot</td>\n",
       "      <td>NaN</td>\n",
       "      <td>NaN</td>\n",
       "      <td>NaN</td>\n",
       "      <td>2.500000</td>\n",
       "      <td>NaN</td>\n",
       "      <td>0.36</td>\n",
       "    </tr>\n",
       "    <tr>\n",
       "      <th>1</th>\n",
       "      <td>NaN</td>\n",
       "      <td>Bag</td>\n",
       "      <td>World Centric™</td>\n",
       "      <td>World Centric™</td>\n",
       "      <td>PBAT Bin Liner 3 gallon</td>\n",
       "      <td>3Gallon Food Scrap Bag - World Centric</td>\n",
       "      <td>3Gallon Food Scrap Bag BG-CS-3</td>\n",
       "      <td>Biopolymer</td>\n",
       "      <td>Biopolymer Film/Bag</td>\n",
       "      <td>PBAT and corn starch</td>\n",
       "      <td>PBAT and corn starch</td>\n",
       "      <td>70% PBAT, 30% starch</td>\n",
       "      <td>BPI</td>\n",
       "      <td>Custom</td>\n",
       "      <td>7.16</td>\n",
       "      <td>7.16</td>\n",
       "      <td>7.15</td>\n",
       "      <td>7.156667</td>\n",
       "      <td>8.75\"x15\"x0.1\"</td>\n",
       "      <td>NaN</td>\n",
       "    </tr>\n",
       "  </tbody>\n",
       "</table>\n",
       "</div>"
      ],
      "text/plain": [
       "  Item ID Item Format           Brand    Manufacturer  \\\n",
       "0     NaN         Bag         BÉSICS®         Pak-Sel   \n",
       "1     NaN         Bag  World Centric™  World Centric™   \n",
       "\n",
       "                  Item Name                Item Description Refined  \\\n",
       "0       Cellulose bag 5x7in              BESICS Cellulose bag 5x7in   \n",
       "1  PBAT Bin Liner 3 gallon   3Gallon Food Scrap Bag - World Centric   \n",
       "\n",
       "      Item Description From Trial Material Class I    Material Class II  \\\n",
       "0                             NaN       Biopolymer  Biopolymer Film/Bag   \n",
       "1  3Gallon Food Scrap Bag BG-CS-3       Biopolymer  Biopolymer Film/Bag   \n",
       "\n",
       "     Material Class III  Material Description  Material Composition  \\\n",
       "0             Cellulose             Cellulose             Cellulose   \n",
       "1  PBAT and corn starch  PBAT and corn starch  70% PBAT, 30% starch   \n",
       "\n",
       "  Certification @ time of testing    Kit   Initial Weight 1  Initial Weight 2  \\\n",
       "0                             BPI   Pilot               NaN               NaN   \n",
       "1                             BPI  Custom              7.16              7.16   \n",
       "\n",
       "   Initial Weight 3  Average Initial Weight, g Item Dimensions Compiled  \\\n",
       "0               NaN                   2.500000                      NaN   \n",
       "1              7.15                   7.156667           8.75\"x15\"x0.1\"   \n",
       "\n",
       "   Item Capacity, mL  \n",
       "0               0.36  \n",
       "1                NaN  "
      ]
     },
     "execution_count": 3,
     "metadata": {},
     "output_type": "execute_result"
    }
   ],
   "source": [
    "ITEMS_PATH = DATA_FOLDER + \"CFTP Test Item Inventory with Dimensions - All Trials.xlsx\"\n",
    "items = pd.read_excel(ITEMS_PATH, sheet_name=0, skiprows=3)\n",
    "items.head(2)"
   ]
  },
  {
   "cell_type": "code",
   "execution_count": 4,
   "metadata": {},
   "outputs": [
    {
     "name": "stdout",
     "output_type": "stream",
     "text": [
      "Item ID\n",
      "Item Format\n",
      "Brand\n",
      "Manufacturer\n",
      "Item Name\n",
      "Item Description Refined\n",
      "Item Description From Trial\n",
      "Material Class I\n",
      "Material Class II\n",
      "Material Class III\n",
      "Material Description\n",
      "Material Composition\n",
      "Certification @ time of testing\n",
      "Kit \n",
      "Initial Weight 1\n",
      "Initial Weight 2\n",
      "Initial Weight 3\n",
      "Average Initial Weight, g\n",
      "Item Dimensions Compiled\n",
      "Item Capacity, mL\n"
     ]
    }
   ],
   "source": [
    "for col in items.columns:\n",
    "    print(col)"
   ]
  },
  {
   "cell_type": "code",
   "execution_count": 5,
   "metadata": {},
   "outputs": [],
   "source": [
    "items['Start Weight'] = items['Average Initial Weight, g']"
   ]
  },
  {
   "cell_type": "code",
   "execution_count": 6,
   "metadata": {},
   "outputs": [],
   "source": [
    "items_cols = [\n",
    "    'Item ID',\n",
    "    'Item Name',\n",
    "    'Item Description Refined',\n",
    "    'Material Class I',\n",
    "    'Material Class II',\n",
    "    'Material Class III',\n",
    "    'Start Weight'\n",
    "    ]"
   ]
  },
  {
   "cell_type": "code",
   "execution_count": 7,
   "metadata": {},
   "outputs": [
    {
     "data": {
      "text/html": [
       "<div>\n",
       "<style scoped>\n",
       "    .dataframe tbody tr th:only-of-type {\n",
       "        vertical-align: middle;\n",
       "    }\n",
       "\n",
       "    .dataframe tbody tr th {\n",
       "        vertical-align: top;\n",
       "    }\n",
       "\n",
       "    .dataframe thead th {\n",
       "        text-align: right;\n",
       "    }\n",
       "</style>\n",
       "<table border=\"1\" class=\"dataframe\">\n",
       "  <thead>\n",
       "    <tr style=\"text-align: right;\">\n",
       "      <th></th>\n",
       "      <th>Item ID</th>\n",
       "      <th>Item Name</th>\n",
       "      <th>Item Description Refined</th>\n",
       "      <th>Material Class I</th>\n",
       "      <th>Material Class II</th>\n",
       "      <th>Material Class III</th>\n",
       "      <th>Start Weight</th>\n",
       "    </tr>\n",
       "  </thead>\n",
       "  <tbody>\n",
       "    <tr>\n",
       "      <th>0</th>\n",
       "      <td>NaN</td>\n",
       "      <td>Cellulose bag 5x7in</td>\n",
       "      <td>BESICS Cellulose bag 5x7in</td>\n",
       "      <td>Biopolymer</td>\n",
       "      <td>Biopolymer Film/Bag</td>\n",
       "      <td>Cellulose</td>\n",
       "      <td>2.500000</td>\n",
       "    </tr>\n",
       "    <tr>\n",
       "      <th>1</th>\n",
       "      <td>NaN</td>\n",
       "      <td>PBAT Bin Liner 3 gallon</td>\n",
       "      <td>3Gallon Food Scrap Bag - World Centric</td>\n",
       "      <td>Biopolymer</td>\n",
       "      <td>Biopolymer Film/Bag</td>\n",
       "      <td>PBAT and corn starch</td>\n",
       "      <td>7.156667</td>\n",
       "    </tr>\n",
       "  </tbody>\n",
       "</table>\n",
       "</div>"
      ],
      "text/plain": [
       "  Item ID                 Item Name                Item Description Refined  \\\n",
       "0     NaN       Cellulose bag 5x7in              BESICS Cellulose bag 5x7in   \n",
       "1     NaN  PBAT Bin Liner 3 gallon   3Gallon Food Scrap Bag - World Centric   \n",
       "\n",
       "  Material Class I    Material Class II    Material Class III  Start Weight  \n",
       "0       Biopolymer  Biopolymer Film/Bag             Cellulose      2.500000  \n",
       "1       Biopolymer  Biopolymer Film/Bag  PBAT and corn starch      7.156667  "
      ]
     },
     "execution_count": 7,
     "metadata": {},
     "output_type": "execute_result"
    }
   ],
   "source": [
    "items_clean = items[items_cols]\n",
    "items_clean.head(2)"
   ]
  },
  {
   "cell_type": "code",
   "execution_count": 8,
   "metadata": {},
   "outputs": [],
   "source": [
    "# ITEMS_SAVE_PATH = \"\"\n",
    "# items.to_csv(ITEMS_SAVE_PATH, index=False)"
   ]
  },
  {
   "cell_type": "markdown",
   "metadata": {},
   "source": [
    "### Clean Facilities"
   ]
  },
  {
   "cell_type": "code",
   "execution_count": 9,
   "metadata": {},
   "outputs": [
    {
     "data": {
      "text/html": [
       "<div>\n",
       "<style scoped>\n",
       "    .dataframe tbody tr th:only-of-type {\n",
       "        vertical-align: middle;\n",
       "    }\n",
       "\n",
       "    .dataframe tbody tr th {\n",
       "        vertical-align: top;\n",
       "    }\n",
       "\n",
       "    .dataframe thead th {\n",
       "        text-align: right;\n",
       "    }\n",
       "</style>\n",
       "<table border=\"1\" class=\"dataframe\">\n",
       "  <thead>\n",
       "    <tr style=\"text-align: right;\">\n",
       "      <th></th>\n",
       "      <th>Facility ID CFTP</th>\n",
       "      <th>Trial ID CFTP</th>\n",
       "      <th>Public Trial ID</th>\n",
       "      <th>Trial Facility Name</th>\n",
       "    </tr>\n",
       "  </thead>\n",
       "  <tbody>\n",
       "    <tr>\n",
       "      <th>0</th>\n",
       "      <td>45184</td>\n",
       "      <td>45184-01</td>\n",
       "      <td>WR004-01</td>\n",
       "      <td>Facility 1 (Windrow)</td>\n",
       "    </tr>\n",
       "    <tr>\n",
       "      <th>1</th>\n",
       "      <td>50361</td>\n",
       "      <td>50361-01</td>\n",
       "      <td>CASP005-01</td>\n",
       "      <td>Facility 2 (CASP)</td>\n",
       "    </tr>\n",
       "  </tbody>\n",
       "</table>\n",
       "</div>"
      ],
      "text/plain": [
       "   Facility ID CFTP Trial ID CFTP Public Trial ID   Trial Facility Name\n",
       "0             45184      45184-01        WR004-01  Facility 1 (Windrow)\n",
       "1             50361      50361-01      CASP005-01     Facility 2 (CASP)"
      ]
     },
     "execution_count": 9,
     "metadata": {},
     "output_type": "execute_result"
    }
   ],
   "source": [
    "FACILITIES_PATH = DATA_FOLDER + \"Compiled Facility Conditions for DSI - 2023 trials.xlsx\"\n",
    "facilities = pd.read_excel(FACILITIES_PATH, sheet_name=1, skiprows=1)\n",
    "facilities.head(2)"
   ]
  },
  {
   "cell_type": "markdown",
   "metadata": {},
   "source": [
    "### Clean Facility Observations"
   ]
  },
  {
   "cell_type": "code",
   "execution_count": 10,
   "metadata": {},
   "outputs": [],
   "source": [
    "facility2id = {\n",
    "    \"Facility 1 (Windrow)\": \"WR004-01\",\n",
    "    \"Facility 2 (CASP)\": \"CASP005-01\",\n",
    "    \"Facility 3 (EASP)\": \"EASP001-01\",\n",
    "    \"Facility 4 (In-Vessel)\": \"IV002-01\",\n",
    "    \"Facility 5 (EASP)\": \"EASP002-01\",\n",
    "    \"Facility 6 (CASP)\": \"CASP006-01\",\n",
    "    \"Facility 7 (CASP)\": \"CASP004-02\",\n",
    "    \"Facility 8 (ASP)\": \"ASP001-01\",\n",
    "    \"Facility 9 (EASP)\": \"EASP003-01\", \n",
    "    \"Facility 10 (Windrow)\": \"WR005-01\" \n",
    "}"
   ]
  },
  {
   "cell_type": "markdown",
   "metadata": {},
   "source": [
    "### Clean Trial Observations"
   ]
  },
  {
   "cell_type": "code",
   "execution_count": 11,
   "metadata": {},
   "outputs": [
    {
     "data": {
      "text/html": [
       "<div>\n",
       "<style scoped>\n",
       "    .dataframe tbody tr th:only-of-type {\n",
       "        vertical-align: middle;\n",
       "    }\n",
       "\n",
       "    .dataframe tbody tr th {\n",
       "        vertical-align: top;\n",
       "    }\n",
       "\n",
       "    .dataframe thead th {\n",
       "        text-align: right;\n",
       "    }\n",
       "</style>\n",
       "<table border=\"1\" class=\"dataframe\">\n",
       "  <thead>\n",
       "    <tr style=\"text-align: right;\">\n",
       "      <th></th>\n",
       "      <th>Facility Name</th>\n",
       "      <th>Trial Stage</th>\n",
       "      <th>Bag Set</th>\n",
       "      <th>Bag Number</th>\n",
       "      <th>N</th>\n",
       "      <th>O</th>\n",
       "      <th>Q</th>\n",
       "      <th>V</th>\n",
       "      <th>B</th>\n",
       "      <th>D</th>\n",
       "      <th>...</th>\n",
       "      <th>K</th>\n",
       "      <th>K1</th>\n",
       "      <th>K2</th>\n",
       "      <th>K3</th>\n",
       "      <th>N.1</th>\n",
       "      <th>O.1</th>\n",
       "      <th>P</th>\n",
       "      <th>Q.1</th>\n",
       "      <th>S</th>\n",
       "      <th>V.1</th>\n",
       "    </tr>\n",
       "  </thead>\n",
       "  <tbody>\n",
       "    <tr>\n",
       "      <th>0</th>\n",
       "      <td>Facility 1 (Windrow)</td>\n",
       "      <td>First Removal</td>\n",
       "      <td>A (blue)</td>\n",
       "      <td>10</td>\n",
       "      <td>NaN</td>\n",
       "      <td>NaN</td>\n",
       "      <td>NaN</td>\n",
       "      <td>NaN</td>\n",
       "      <td>0.244</td>\n",
       "      <td>0.039</td>\n",
       "      <td>...</td>\n",
       "      <td>NaN</td>\n",
       "      <td>0.618</td>\n",
       "      <td>0.233</td>\n",
       "      <td>0.225</td>\n",
       "      <td>NaN</td>\n",
       "      <td>NaN</td>\n",
       "      <td>NaN</td>\n",
       "      <td>NaN</td>\n",
       "      <td>NaN</td>\n",
       "      <td>NaN</td>\n",
       "    </tr>\n",
       "    <tr>\n",
       "      <th>1</th>\n",
       "      <td>Facility 1 (Windrow)</td>\n",
       "      <td>First Removal</td>\n",
       "      <td>A (blue)</td>\n",
       "      <td>6</td>\n",
       "      <td>NaN</td>\n",
       "      <td>NaN</td>\n",
       "      <td>NaN</td>\n",
       "      <td>NaN</td>\n",
       "      <td>0.075</td>\n",
       "      <td>0.237</td>\n",
       "      <td>...</td>\n",
       "      <td>NaN</td>\n",
       "      <td>0.579</td>\n",
       "      <td>0.023</td>\n",
       "      <td>0.197</td>\n",
       "      <td>NaN</td>\n",
       "      <td>NaN</td>\n",
       "      <td>NaN</td>\n",
       "      <td>NaN</td>\n",
       "      <td>NaN</td>\n",
       "      <td>NaN</td>\n",
       "    </tr>\n",
       "  </tbody>\n",
       "</table>\n",
       "<p>2 rows × 23 columns</p>\n",
       "</div>"
      ],
      "text/plain": [
       "          Facility Name    Trial Stage   Bag Set Bag Number   N   O   Q   V  \\\n",
       "0  Facility 1 (Windrow)  First Removal  A (blue)         10 NaN NaN NaN NaN   \n",
       "1  Facility 1 (Windrow)  First Removal  A (blue)          6 NaN NaN NaN NaN   \n",
       "\n",
       "       B      D  ...   K     K1     K2     K3  N.1  O.1   P  Q.1   S  V.1  \n",
       "0  0.244  0.039  ... NaN  0.618  0.233  0.225  NaN  NaN NaN  NaN NaN  NaN  \n",
       "1  0.075  0.237  ... NaN  0.579  0.023  0.197  NaN  NaN NaN  NaN NaN  NaN  \n",
       "\n",
       "[2 rows x 23 columns]"
      ]
     },
     "execution_count": 11,
     "metadata": {},
     "output_type": "execute_result"
    }
   ],
   "source": [
    "TEN_TRIALS_PATH = DATA_FOLDER + \"Compiled Field Results  for DSI - 2023 Bulk 10 Trial Data.xlsx\"\n",
    "observations_weight = pd.read_excel(TEN_TRIALS_PATH, sheet_name=3, skiprows=2)\n",
    "observations_sa = pd.read_excel(TEN_TRIALS_PATH, sheet_name=4, skiprows=2)\n",
    "observations_sa.head(2)"
   ]
  },
  {
   "cell_type": "code",
   "execution_count": 12,
   "metadata": {},
   "outputs": [],
   "source": [
    "# only use second removal\n",
    "weight = observations_weight[observations_weight['Trial Stage'] == \"Second Removal\"]\n",
    "area = observations_sa[observations_sa['Trial Stage'] == \"Second Removal\"]"
   ]
  },
  {
   "cell_type": "code",
   "execution_count": 13,
   "metadata": {},
   "outputs": [
    {
     "data": {
      "text/html": [
       "<div>\n",
       "<style scoped>\n",
       "    .dataframe tbody tr th:only-of-type {\n",
       "        vertical-align: middle;\n",
       "    }\n",
       "\n",
       "    .dataframe tbody tr th {\n",
       "        vertical-align: top;\n",
       "    }\n",
       "\n",
       "    .dataframe thead th {\n",
       "        text-align: right;\n",
       "    }\n",
       "</style>\n",
       "<table border=\"1\" class=\"dataframe\">\n",
       "  <thead>\n",
       "    <tr style=\"text-align: right;\">\n",
       "      <th></th>\n",
       "      <th>Facility Name</th>\n",
       "      <th>Trial Stage</th>\n",
       "      <th>Bag Set</th>\n",
       "      <th>Bag Number</th>\n",
       "      <th>Item ID</th>\n",
       "      <th>% Residuals (Weight)</th>\n",
       "    </tr>\n",
       "  </thead>\n",
       "  <tbody>\n",
       "    <tr>\n",
       "      <th>0</th>\n",
       "      <td>Facility 1 (Windrow)</td>\n",
       "      <td>Second Removal</td>\n",
       "      <td>B (green)</td>\n",
       "      <td>1</td>\n",
       "      <td>N</td>\n",
       "      <td>0.000000</td>\n",
       "    </tr>\n",
       "    <tr>\n",
       "      <th>1</th>\n",
       "      <td>Facility 1 (Windrow)</td>\n",
       "      <td>Second Removal</td>\n",
       "      <td>B (green)</td>\n",
       "      <td>2</td>\n",
       "      <td>N</td>\n",
       "      <td>1.002848</td>\n",
       "    </tr>\n",
       "  </tbody>\n",
       "</table>\n",
       "</div>"
      ],
      "text/plain": [
       "          Facility Name     Trial Stage    Bag Set Bag Number Item ID  \\\n",
       "0  Facility 1 (Windrow)  Second Removal  B (green)          1       N   \n",
       "1  Facility 1 (Windrow)  Second Removal  B (green)          2       N   \n",
       "\n",
       "   % Residuals (Weight)  \n",
       "0              0.000000  \n",
       "1              1.002848  "
      ]
     },
     "execution_count": 13,
     "metadata": {},
     "output_type": "execute_result"
    }
   ],
   "source": [
    "weight_melted = weight.melt(id_vars=['Facility Name', 'Trial Stage', 'Bag Set', 'Bag Number'],\n",
    "                    value_vars=['N', 'O', 'Q', 'V', 'B', 'D', 'H', 'I', 'J', 'K', 'K1', 'K2', 'K3', 'N', 'O', 'P', 'Q', 'S', 'V'],\n",
    "                    var_name='Item ID',\n",
    "                    value_name='% Residuals (Weight)')\n",
    "weight_melted = weight_melted.dropna(subset=['% Residuals (Weight)']).reset_index(drop=True)\n",
    "weight_melted.head(2)"
   ]
  },
  {
   "cell_type": "code",
   "execution_count": 14,
   "metadata": {},
   "outputs": [
    {
     "data": {
      "text/html": [
       "<div>\n",
       "<style scoped>\n",
       "    .dataframe tbody tr th:only-of-type {\n",
       "        vertical-align: middle;\n",
       "    }\n",
       "\n",
       "    .dataframe tbody tr th {\n",
       "        vertical-align: top;\n",
       "    }\n",
       "\n",
       "    .dataframe thead th {\n",
       "        text-align: right;\n",
       "    }\n",
       "</style>\n",
       "<table border=\"1\" class=\"dataframe\">\n",
       "  <thead>\n",
       "    <tr style=\"text-align: right;\">\n",
       "      <th></th>\n",
       "      <th>Facility Name</th>\n",
       "      <th>Trial Stage</th>\n",
       "      <th>Bag Set</th>\n",
       "      <th>Bag Number</th>\n",
       "      <th>Item ID</th>\n",
       "      <th>% Residuals (Area)</th>\n",
       "    </tr>\n",
       "  </thead>\n",
       "  <tbody>\n",
       "    <tr>\n",
       "      <th>0</th>\n",
       "      <td>Facility 1 (Windrow)</td>\n",
       "      <td>Second Removal</td>\n",
       "      <td>B (green)</td>\n",
       "      <td>1</td>\n",
       "      <td>N</td>\n",
       "      <td>0.000000</td>\n",
       "    </tr>\n",
       "    <tr>\n",
       "      <th>1</th>\n",
       "      <td>Facility 1 (Windrow)</td>\n",
       "      <td>Second Removal</td>\n",
       "      <td>B (green)</td>\n",
       "      <td>2</td>\n",
       "      <td>N</td>\n",
       "      <td>0.720347</td>\n",
       "    </tr>\n",
       "  </tbody>\n",
       "</table>\n",
       "</div>"
      ],
      "text/plain": [
       "          Facility Name     Trial Stage    Bag Set Bag Number Item ID  \\\n",
       "0  Facility 1 (Windrow)  Second Removal  B (green)          1       N   \n",
       "1  Facility 1 (Windrow)  Second Removal  B (green)          2       N   \n",
       "\n",
       "   % Residuals (Area)  \n",
       "0            0.000000  \n",
       "1            0.720347  "
      ]
     },
     "execution_count": 14,
     "metadata": {},
     "output_type": "execute_result"
    }
   ],
   "source": [
    "area_melted = area.melt(id_vars=['Facility Name', 'Trial Stage', 'Bag Set', 'Bag Number'],\n",
    "                    value_vars=['N', 'O', 'Q', 'V', 'B', 'D', 'H', 'I', 'J', 'K', 'K1', 'K2', 'K3', 'N', 'O', 'P', 'Q', 'S', 'V'],\n",
    "                    var_name='Item ID',\n",
    "                    value_name='% Residuals (Area)')\n",
    "area_melted = area_melted.dropna(subset=['% Residuals (Area)']).reset_index(drop=True)\n",
    "area_melted.head(2)"
   ]
  },
  {
   "cell_type": "code",
   "execution_count": 15,
   "metadata": {},
   "outputs": [
    {
     "data": {
      "text/html": [
       "<div>\n",
       "<style scoped>\n",
       "    .dataframe tbody tr th:only-of-type {\n",
       "        vertical-align: middle;\n",
       "    }\n",
       "\n",
       "    .dataframe tbody tr th {\n",
       "        vertical-align: top;\n",
       "    }\n",
       "\n",
       "    .dataframe thead th {\n",
       "        text-align: right;\n",
       "    }\n",
       "</style>\n",
       "<table border=\"1\" class=\"dataframe\">\n",
       "  <thead>\n",
       "    <tr style=\"text-align: right;\">\n",
       "      <th></th>\n",
       "      <th>Facility Name</th>\n",
       "      <th>Trial Stage</th>\n",
       "      <th>Bag Set</th>\n",
       "      <th>Bag Number</th>\n",
       "      <th>Item ID</th>\n",
       "      <th>% Residuals (Weight)</th>\n",
       "      <th>% Residuals (Area)</th>\n",
       "    </tr>\n",
       "  </thead>\n",
       "  <tbody>\n",
       "    <tr>\n",
       "      <th>0</th>\n",
       "      <td>Facility 1 (Windrow)</td>\n",
       "      <td>Second Removal</td>\n",
       "      <td>B (green)</td>\n",
       "      <td>1</td>\n",
       "      <td>N</td>\n",
       "      <td>0.000000</td>\n",
       "      <td>0.000000</td>\n",
       "    </tr>\n",
       "    <tr>\n",
       "      <th>1</th>\n",
       "      <td>Facility 1 (Windrow)</td>\n",
       "      <td>Second Removal</td>\n",
       "      <td>B (green)</td>\n",
       "      <td>2</td>\n",
       "      <td>N</td>\n",
       "      <td>1.002848</td>\n",
       "      <td>0.720347</td>\n",
       "    </tr>\n",
       "  </tbody>\n",
       "</table>\n",
       "</div>"
      ],
      "text/plain": [
       "          Facility Name     Trial Stage    Bag Set Bag Number Item ID  \\\n",
       "0  Facility 1 (Windrow)  Second Removal  B (green)          1       N   \n",
       "1  Facility 1 (Windrow)  Second Removal  B (green)          2       N   \n",
       "\n",
       "   % Residuals (Weight)  % Residuals (Area)  \n",
       "0              0.000000            0.000000  \n",
       "1              1.002848            0.720347  "
      ]
     },
     "execution_count": 15,
     "metadata": {},
     "output_type": "execute_result"
    }
   ],
   "source": [
    "observations = pd.merge(weight_melted, area_melted, on=['Facility Name', 'Trial Stage', 'Bag Set', 'Bag Number', 'Item ID'], how='outer')\n",
    "observations.head(2)"
   ]
  },
  {
   "cell_type": "code",
   "execution_count": 16,
   "metadata": {},
   "outputs": [
    {
     "data": {
      "text/plain": [
       "(787, 781, 772)"
      ]
     },
     "execution_count": 16,
     "metadata": {},
     "output_type": "execute_result"
    }
   ],
   "source": [
    "# TODO: We have some missing observations\n",
    "len(observations), len(weight_melted), len(area_melted)"
   ]
  },
  {
   "cell_type": "code",
   "execution_count": 17,
   "metadata": {},
   "outputs": [
    {
     "data": {
      "text/html": [
       "<div>\n",
       "<style scoped>\n",
       "    .dataframe tbody tr th:only-of-type {\n",
       "        vertical-align: middle;\n",
       "    }\n",
       "\n",
       "    .dataframe tbody tr th {\n",
       "        vertical-align: top;\n",
       "    }\n",
       "\n",
       "    .dataframe thead th {\n",
       "        text-align: right;\n",
       "    }\n",
       "</style>\n",
       "<table border=\"1\" class=\"dataframe\">\n",
       "  <thead>\n",
       "    <tr style=\"text-align: right;\">\n",
       "      <th></th>\n",
       "      <th>Facility Name</th>\n",
       "      <th>Trial Stage</th>\n",
       "      <th>Bag Set</th>\n",
       "      <th>Bag Number</th>\n",
       "      <th>Item ID</th>\n",
       "      <th>% Residuals (Weight)</th>\n",
       "      <th>% Residuals (Area)</th>\n",
       "    </tr>\n",
       "  </thead>\n",
       "  <tbody>\n",
       "    <tr>\n",
       "      <th>571</th>\n",
       "      <td>Facility 9 (EASP)</td>\n",
       "      <td>Second Removal</td>\n",
       "      <td>A (blue)</td>\n",
       "      <td>1</td>\n",
       "      <td>K2</td>\n",
       "      <td>0.052</td>\n",
       "      <td>NaN</td>\n",
       "    </tr>\n",
       "    <tr>\n",
       "      <th>572</th>\n",
       "      <td>Facility 9 (EASP)</td>\n",
       "      <td>Second Removal</td>\n",
       "      <td>A (blue)</td>\n",
       "      <td>3</td>\n",
       "      <td>K2</td>\n",
       "      <td>0.134</td>\n",
       "      <td>NaN</td>\n",
       "    </tr>\n",
       "    <tr>\n",
       "      <th>573</th>\n",
       "      <td>Facility 9 (EASP)</td>\n",
       "      <td>Second Removal</td>\n",
       "      <td>A (blue)</td>\n",
       "      <td>5</td>\n",
       "      <td>K2</td>\n",
       "      <td>0.148</td>\n",
       "      <td>NaN</td>\n",
       "    </tr>\n",
       "    <tr>\n",
       "      <th>574</th>\n",
       "      <td>Facility 9 (EASP)</td>\n",
       "      <td>Second Removal</td>\n",
       "      <td>A (blue)</td>\n",
       "      <td>7</td>\n",
       "      <td>K2</td>\n",
       "      <td>0.048</td>\n",
       "      <td>NaN</td>\n",
       "    </tr>\n",
       "    <tr>\n",
       "      <th>575</th>\n",
       "      <td>Facility 9 (EASP)</td>\n",
       "      <td>Second Removal</td>\n",
       "      <td>A (blue)</td>\n",
       "      <td>8</td>\n",
       "      <td>K2</td>\n",
       "      <td>0.075</td>\n",
       "      <td>NaN</td>\n",
       "    </tr>\n",
       "    <tr>\n",
       "      <th>576</th>\n",
       "      <td>Facility 9 (EASP)</td>\n",
       "      <td>Second Removal</td>\n",
       "      <td>B (green)</td>\n",
       "      <td>10</td>\n",
       "      <td>K2</td>\n",
       "      <td>0.040</td>\n",
       "      <td>NaN</td>\n",
       "    </tr>\n",
       "    <tr>\n",
       "      <th>577</th>\n",
       "      <td>Facility 9 (EASP)</td>\n",
       "      <td>Second Removal</td>\n",
       "      <td>B (green)</td>\n",
       "      <td>3</td>\n",
       "      <td>K2</td>\n",
       "      <td>0.043</td>\n",
       "      <td>NaN</td>\n",
       "    </tr>\n",
       "    <tr>\n",
       "      <th>578</th>\n",
       "      <td>Facility 9 (EASP)</td>\n",
       "      <td>Second Removal</td>\n",
       "      <td>B (green)</td>\n",
       "      <td>7</td>\n",
       "      <td>K2</td>\n",
       "      <td>0.059</td>\n",
       "      <td>NaN</td>\n",
       "    </tr>\n",
       "    <tr>\n",
       "      <th>579</th>\n",
       "      <td>Facility 9 (EASP)</td>\n",
       "      <td>Second Removal</td>\n",
       "      <td>B (green)</td>\n",
       "      <td>8</td>\n",
       "      <td>K2</td>\n",
       "      <td>0.166</td>\n",
       "      <td>NaN</td>\n",
       "    </tr>\n",
       "    <tr>\n",
       "      <th>580</th>\n",
       "      <td>Facility 9 (EASP)</td>\n",
       "      <td>Second Removal</td>\n",
       "      <td>B (green)</td>\n",
       "      <td>9</td>\n",
       "      <td>K2</td>\n",
       "      <td>0.124</td>\n",
       "      <td>NaN</td>\n",
       "    </tr>\n",
       "    <tr>\n",
       "      <th>581</th>\n",
       "      <td>Facility 9 (EASP)</td>\n",
       "      <td>Second Removal</td>\n",
       "      <td>C (yellow)</td>\n",
       "      <td>10</td>\n",
       "      <td>K2</td>\n",
       "      <td>0.051</td>\n",
       "      <td>NaN</td>\n",
       "    </tr>\n",
       "    <tr>\n",
       "      <th>582</th>\n",
       "      <td>Facility 9 (EASP)</td>\n",
       "      <td>Second Removal</td>\n",
       "      <td>C (yellow)</td>\n",
       "      <td>6</td>\n",
       "      <td>K2</td>\n",
       "      <td>0.108</td>\n",
       "      <td>NaN</td>\n",
       "    </tr>\n",
       "    <tr>\n",
       "      <th>583</th>\n",
       "      <td>Facility 9 (EASP)</td>\n",
       "      <td>Second Removal</td>\n",
       "      <td>C (yellow)</td>\n",
       "      <td>7</td>\n",
       "      <td>K2</td>\n",
       "      <td>0.103</td>\n",
       "      <td>NaN</td>\n",
       "    </tr>\n",
       "    <tr>\n",
       "      <th>584</th>\n",
       "      <td>Facility 9 (EASP)</td>\n",
       "      <td>Second Removal</td>\n",
       "      <td>C (yellow)</td>\n",
       "      <td>8</td>\n",
       "      <td>K2</td>\n",
       "      <td>0.106</td>\n",
       "      <td>NaN</td>\n",
       "    </tr>\n",
       "    <tr>\n",
       "      <th>585</th>\n",
       "      <td>Facility 9 (EASP)</td>\n",
       "      <td>Second Removal</td>\n",
       "      <td>C (yellow)</td>\n",
       "      <td>9</td>\n",
       "      <td>K2</td>\n",
       "      <td>0.121</td>\n",
       "      <td>NaN</td>\n",
       "    </tr>\n",
       "    <tr>\n",
       "      <th>781</th>\n",
       "      <td>Facility 1 (Windrow)</td>\n",
       "      <td>Second Removal</td>\n",
       "      <td>A (blue)</td>\n",
       "      <td>5</td>\n",
       "      <td>B</td>\n",
       "      <td>NaN</td>\n",
       "      <td>0.201</td>\n",
       "    </tr>\n",
       "    <tr>\n",
       "      <th>782</th>\n",
       "      <td>Facility 10 (Windrow)</td>\n",
       "      <td>Second Removal</td>\n",
       "      <td>A (blue)</td>\n",
       "      <td>5</td>\n",
       "      <td>I</td>\n",
       "      <td>NaN</td>\n",
       "      <td>0.373</td>\n",
       "    </tr>\n",
       "    <tr>\n",
       "      <th>783</th>\n",
       "      <td>Facility 1 (Windrow)</td>\n",
       "      <td>Second Removal</td>\n",
       "      <td>A (blue)</td>\n",
       "      <td>5</td>\n",
       "      <td>K1</td>\n",
       "      <td>NaN</td>\n",
       "      <td>0.123</td>\n",
       "    </tr>\n",
       "    <tr>\n",
       "      <th>784</th>\n",
       "      <td>Facility 5 (EASP)</td>\n",
       "      <td>Second Removal</td>\n",
       "      <td>B (green)</td>\n",
       "      <td>4</td>\n",
       "      <td>K1</td>\n",
       "      <td>NaN</td>\n",
       "      <td>0.263</td>\n",
       "    </tr>\n",
       "    <tr>\n",
       "      <th>785</th>\n",
       "      <td>Facility 8 (ASP)</td>\n",
       "      <td>Second Removal</td>\n",
       "      <td>A (blue)</td>\n",
       "      <td>10</td>\n",
       "      <td>K1</td>\n",
       "      <td>NaN</td>\n",
       "      <td>0.539</td>\n",
       "    </tr>\n",
       "    <tr>\n",
       "      <th>786</th>\n",
       "      <td>Facility 1 (Windrow)</td>\n",
       "      <td>Second Removal</td>\n",
       "      <td>A (blue)</td>\n",
       "      <td>2</td>\n",
       "      <td>K3</td>\n",
       "      <td>NaN</td>\n",
       "      <td>0.576</td>\n",
       "    </tr>\n",
       "  </tbody>\n",
       "</table>\n",
       "</div>"
      ],
      "text/plain": [
       "             Facility Name     Trial Stage     Bag Set Bag Number Item ID  \\\n",
       "571      Facility 9 (EASP)  Second Removal    A (blue)          1      K2   \n",
       "572      Facility 9 (EASP)  Second Removal    A (blue)          3      K2   \n",
       "573      Facility 9 (EASP)  Second Removal    A (blue)          5      K2   \n",
       "574      Facility 9 (EASP)  Second Removal    A (blue)          7      K2   \n",
       "575      Facility 9 (EASP)  Second Removal    A (blue)          8      K2   \n",
       "576      Facility 9 (EASP)  Second Removal   B (green)         10      K2   \n",
       "577      Facility 9 (EASP)  Second Removal   B (green)          3      K2   \n",
       "578      Facility 9 (EASP)  Second Removal   B (green)          7      K2   \n",
       "579      Facility 9 (EASP)  Second Removal   B (green)          8      K2   \n",
       "580      Facility 9 (EASP)  Second Removal   B (green)          9      K2   \n",
       "581      Facility 9 (EASP)  Second Removal  C (yellow)         10      K2   \n",
       "582      Facility 9 (EASP)  Second Removal  C (yellow)          6      K2   \n",
       "583      Facility 9 (EASP)  Second Removal  C (yellow)          7      K2   \n",
       "584      Facility 9 (EASP)  Second Removal  C (yellow)          8      K2   \n",
       "585      Facility 9 (EASP)  Second Removal  C (yellow)          9      K2   \n",
       "781   Facility 1 (Windrow)  Second Removal    A (blue)          5       B   \n",
       "782  Facility 10 (Windrow)  Second Removal    A (blue)          5       I   \n",
       "783   Facility 1 (Windrow)  Second Removal    A (blue)          5      K1   \n",
       "784      Facility 5 (EASP)  Second Removal   B (green)          4      K1   \n",
       "785       Facility 8 (ASP)  Second Removal    A (blue)         10      K1   \n",
       "786   Facility 1 (Windrow)  Second Removal    A (blue)          2      K3   \n",
       "\n",
       "     % Residuals (Weight)  % Residuals (Area)  \n",
       "571                 0.052                 NaN  \n",
       "572                 0.134                 NaN  \n",
       "573                 0.148                 NaN  \n",
       "574                 0.048                 NaN  \n",
       "575                 0.075                 NaN  \n",
       "576                 0.040                 NaN  \n",
       "577                 0.043                 NaN  \n",
       "578                 0.059                 NaN  \n",
       "579                 0.166                 NaN  \n",
       "580                 0.124                 NaN  \n",
       "581                 0.051                 NaN  \n",
       "582                 0.108                 NaN  \n",
       "583                 0.103                 NaN  \n",
       "584                 0.106                 NaN  \n",
       "585                 0.121                 NaN  \n",
       "781                   NaN               0.201  \n",
       "782                   NaN               0.373  \n",
       "783                   NaN               0.123  \n",
       "784                   NaN               0.263  \n",
       "785                   NaN               0.539  \n",
       "786                   NaN               0.576  "
      ]
     },
     "execution_count": 17,
     "metadata": {},
     "output_type": "execute_result"
    }
   ],
   "source": [
    "observations[observations['% Residuals (Weight)'].isna() | observations['% Residuals (Area)'].isna()]"
   ]
  },
  {
   "cell_type": "markdown",
   "metadata": {},
   "source": [
    "### Join With Items"
   ]
  },
  {
   "cell_type": "code",
   "execution_count": 46,
   "metadata": {},
   "outputs": [
    {
     "data": {
      "text/html": [
       "<div>\n",
       "<style scoped>\n",
       "    .dataframe tbody tr th:only-of-type {\n",
       "        vertical-align: middle;\n",
       "    }\n",
       "\n",
       "    .dataframe tbody tr th {\n",
       "        vertical-align: top;\n",
       "    }\n",
       "\n",
       "    .dataframe thead th {\n",
       "        text-align: right;\n",
       "    }\n",
       "</style>\n",
       "<table border=\"1\" class=\"dataframe\">\n",
       "  <thead>\n",
       "    <tr style=\"text-align: right;\">\n",
       "      <th></th>\n",
       "      <th>Item ID</th>\n",
       "      <th>Item Format</th>\n",
       "      <th>Brand</th>\n",
       "      <th>Manufacturer</th>\n",
       "      <th>Item Name</th>\n",
       "      <th>Item Description Refined</th>\n",
       "      <th>Item Description From Trial</th>\n",
       "      <th>Material Class I</th>\n",
       "      <th>Material Class II</th>\n",
       "      <th>Material Class III</th>\n",
       "      <th>...</th>\n",
       "      <th>Average Initial Weight, g</th>\n",
       "      <th>Item Dimensions Compiled</th>\n",
       "      <th>Item Capacity, mL</th>\n",
       "      <th>Start Weight</th>\n",
       "      <th>Facility Name</th>\n",
       "      <th>Trial Stage</th>\n",
       "      <th>Bag Set</th>\n",
       "      <th>Bag Number</th>\n",
       "      <th>% Residuals (Weight)</th>\n",
       "      <th>% Residuals (Area)</th>\n",
       "    </tr>\n",
       "  </thead>\n",
       "  <tbody>\n",
       "    <tr>\n",
       "      <th>0</th>\n",
       "      <td>Q</td>\n",
       "      <td>Bowl</td>\n",
       "      <td>BÉSICS®</td>\n",
       "      <td>GQPP</td>\n",
       "      <td>PLA-lined Bagasse Bowl 300mL</td>\n",
       "      <td>BESICS 250mL PLA-lined Bagasse Leaf Bowl</td>\n",
       "      <td>PLA-lined fibre bowl, white</td>\n",
       "      <td>Fiber</td>\n",
       "      <td>Lined Fiber</td>\n",
       "      <td>PLA lined Bagasse</td>\n",
       "      <td>...</td>\n",
       "      <td>10.88</td>\n",
       "      <td>5.5’’ x 5.5’’ x 2’’</td>\n",
       "      <td>300.0</td>\n",
       "      <td>10.88</td>\n",
       "      <td>Facility 1 (Windrow)</td>\n",
       "      <td>Second Removal</td>\n",
       "      <td>B (green)</td>\n",
       "      <td>1</td>\n",
       "      <td>0.734354</td>\n",
       "      <td>0.52637</td>\n",
       "    </tr>\n",
       "    <tr>\n",
       "      <th>1</th>\n",
       "      <td>Q</td>\n",
       "      <td>Bowl</td>\n",
       "      <td>BÉSICS®</td>\n",
       "      <td>GQPP</td>\n",
       "      <td>PLA-lined Bagasse Bowl 300mL</td>\n",
       "      <td>BESICS 250mL PLA-lined Bagasse Leaf Bowl</td>\n",
       "      <td>PLA-lined fibre bowl, white</td>\n",
       "      <td>Fiber</td>\n",
       "      <td>Lined Fiber</td>\n",
       "      <td>PLA lined Bagasse</td>\n",
       "      <td>...</td>\n",
       "      <td>10.88</td>\n",
       "      <td>5.5’’ x 5.5’’ x 2’’</td>\n",
       "      <td>300.0</td>\n",
       "      <td>10.88</td>\n",
       "      <td>Facility 1 (Windrow)</td>\n",
       "      <td>Second Removal</td>\n",
       "      <td>B (green)</td>\n",
       "      <td>2</td>\n",
       "      <td>0.000000</td>\n",
       "      <td>0.00000</td>\n",
       "    </tr>\n",
       "  </tbody>\n",
       "</table>\n",
       "<p>2 rows × 27 columns</p>\n",
       "</div>"
      ],
      "text/plain": [
       "  Item ID Item Format    Brand Manufacturer                     Item Name  \\\n",
       "0       Q        Bowl  BÉSICS®         GQPP  PLA-lined Bagasse Bowl 300mL   \n",
       "1       Q        Bowl  BÉSICS®         GQPP  PLA-lined Bagasse Bowl 300mL   \n",
       "\n",
       "                   Item Description Refined   Item Description From Trial  \\\n",
       "0  BESICS 250mL PLA-lined Bagasse Leaf Bowl  PLA-lined fibre bowl, white    \n",
       "1  BESICS 250mL PLA-lined Bagasse Leaf Bowl  PLA-lined fibre bowl, white    \n",
       "\n",
       "  Material Class I Material Class II Material Class III  ...  \\\n",
       "0            Fiber       Lined Fiber  PLA lined Bagasse  ...   \n",
       "1            Fiber       Lined Fiber  PLA lined Bagasse  ...   \n",
       "\n",
       "  Average Initial Weight, g Item Dimensions Compiled Item Capacity, mL  \\\n",
       "0                     10.88      5.5’’ x 5.5’’ x 2’’             300.0   \n",
       "1                     10.88      5.5’’ x 5.5’’ x 2’’             300.0   \n",
       "\n",
       "  Start Weight         Facility Name     Trial Stage    Bag Set  Bag Number  \\\n",
       "0        10.88  Facility 1 (Windrow)  Second Removal  B (green)           1   \n",
       "1        10.88  Facility 1 (Windrow)  Second Removal  B (green)           2   \n",
       "\n",
       "  % Residuals (Weight)  % Residuals (Area)  \n",
       "0             0.734354             0.52637  \n",
       "1             0.000000             0.00000  \n",
       "\n",
       "[2 rows x 27 columns]"
      ]
     },
     "execution_count": 46,
     "metadata": {},
     "output_type": "execute_result"
    }
   ],
   "source": [
    "joined = pd.merge(items, observations, on=\"Item ID\")\n",
    "joined.head(2)"
   ]
  },
  {
   "cell_type": "markdown",
   "metadata": {},
   "source": [
    "### Create Visualizations"
   ]
  },
  {
   "cell_type": "code",
   "execution_count": 88,
   "metadata": {},
   "outputs": [],
   "source": [
    "import plotly.graph_objects as go\n",
    "import numpy as np\n",
    "import matplotlib.colors as mcolors\n",
    "\n",
    "class2color = {\n",
    "    'Positive Control': '#70AD47',\n",
    "    'Mixed Materials': '#48646A',\n",
    "    'Fiber': '#298FC2',\n",
    "    'Biopolymer': '#FFB600',\n",
    "}"
   ]
  },
  {
   "cell_type": "code",
   "execution_count": 20,
   "metadata": {},
   "outputs": [
    {
     "data": {
      "text/plain": [
       "(array(['Fiber', 'Biopolymer', 'Positive Control', 'Mixed Materials'],\n",
       "       dtype=object),\n",
       " array(['Lined Fiber', 'Rigid biopolymer', 'Rigid Biopolymer (> 0.75mm)',\n",
       "        'Positive Control - Fiber', 'Positive Control - Food Scraps',\n",
       "        'Positive Control - Film', 'Mixed Materials', 'Unlined Fiber',\n",
       "        'Rigid Biopolymer (< 0.75mm)', 'Biopolymer Film/Bag'], dtype=object))"
      ]
     },
     "execution_count": 20,
     "metadata": {},
     "output_type": "execute_result"
    }
   ],
   "source": [
    "joined['Material Class I'].unique(), joined['Material Class II'].unique()"
   ]
  },
  {
   "cell_type": "code",
   "execution_count": 133,
   "metadata": {},
   "outputs": [],
   "source": [
    "class_I_order = ['Fiber', 'Biopolymer', 'Mixed Materials', 'Positive Control']\n",
    "class_II_order = ['Unlined Fiber', 'Lined Fiber', 'Biopolymer Film/Bag', 'Rigid Biopolymer (< 0.75mm)', 'Rigid Biopolymer (> 0.75mm)', 'Rigid biopolymer', 'Mixed Materials', 'Positive Control - Fiber', 'Positive Control - Food Scraps', 'Positive Control - Film']"
   ]
  },
  {
   "cell_type": "code",
   "execution_count": 134,
   "metadata": {},
   "outputs": [],
   "source": [
    "def box_and_whisker(df_input, column, class_I=None, cap=False, height=800, width=1000):\n",
    "    df = df_input.copy() # prevent modifying actual dataframe\n",
    "    \n",
    "    data = []\n",
    "    x_labels = []\n",
    "\n",
    "    if cap:\n",
    "        df[column] = df[column].clip(upper=1)\n",
    "    if class_I:\n",
    "        df = df[df['Material Class I'] == class_I]\n",
    "        \n",
    "    max_value = df[column].max()\n",
    "\n",
    "    for class_II in class_II_order:\n",
    "        group = df[df['Material Class II'] == class_II]\n",
    "        if not group.empty:\n",
    "            count = group[column].count()\n",
    "            class_I_name = group['Material Class I'].iloc[0]\n",
    "            color = class2color.get(class_I_name, '#000')\n",
    "            trace = go.Box(y=group[column], name=class_II, boxpoints='outliers', marker_color=color, width=.2)\n",
    "            data.append(trace)\n",
    "            x_labels.append(f\"{class_II}<br>n={count}\")\n",
    "\n",
    "    layout = go.Layout( \n",
    "        title_font=dict(size=14, family='Roboto'),\n",
    "        font=dict(family='Roboto', size=11),\n",
    "        height=height,\n",
    "        width=width,\n",
    "        showlegend=False,\n",
    "        xaxis=dict(\n",
    "            tickmode='array',\n",
    "            tickvals=list(range(len(x_labels))),\n",
    "            ticktext=x_labels,\n",
    "            title_font=dict(size=14),\n",
    "            tickfont=dict(size=11),\n",
    "            tickangle=90\n",
    "        ),\n",
    "        yaxis=dict(\n",
    "            title=column,\n",
    "            tickformat=\".0%\",\n",
    "            tickmode='array',\n",
    "            tickvals=np.arange(0, max_value, 0.25),  # Adjust this range if your data is not percentage-based\n",
    "            title_font=dict(size=12),\n",
    "            tickfont=dict(size=9),\n",
    "        ),\n",
    "    )\n",
    "\n",
    "    fig = go.Figure(data=data, layout=layout)\n",
    "    fig.show()\n"
   ]
  },
  {
   "cell_type": "code",
   "execution_count": 135,
   "metadata": {},
   "outputs": [],
   "source": [
    "def residuals_bar(df_input, class_I=None, cap=False, height=800, width=1000):\n",
    "    df = df_input.copy() # prevent modifying actual dataframe\n",
    "    \n",
    "    # Create weight columns\n",
    "    column = '% Residuals (Weight)'\n",
    "    df['End Weight'] = df[column] * df['Start Weight']\n",
    "\n",
    "    data = []\n",
    "    x_labels = []\n",
    "\n",
    "    if cap:\n",
    "        df[column] = df[column].clip(upper=1)\n",
    "    if class_I:\n",
    "        df = df[df['Material Class I'] == class_I]\n",
    "\n",
    "    # Weird setup to handle null start weights and still plot correctly\n",
    "    filtered_class_II_order = [class_II for class_II in class_II_order if not df[df['Material Class II'] == class_II]['Start Weight'].isna().all()]\n",
    "    x_positions = np.arange(len(filtered_class_II_order))  # Numeric x-axis positions\n",
    "\n",
    "    for i, class_II in enumerate(filtered_class_II_order):\n",
    "        group = df[df['Material Class II'] == class_II]\n",
    "        if not group.empty:\n",
    "            count = group[column].count()\n",
    "            class_I_name = group['Material Class I'].iloc[0]\n",
    "            color = class2color.get(class_I_name, '#000')\n",
    "            if not group['Start Weight'].isna().all():\n",
    "                trace_start = go.Bar(x=[x_positions[i] - 0.2], y=[group['Start Weight'].sum()], marker_color=color, width=.3)\n",
    "                trace_end = go.Bar(x=[x_positions[i] + 0.2], y=[group['End Weight'].sum()], marker_color=color, width=.3, opacity=.6)\n",
    "                data.append(trace_start)\n",
    "                data.append(trace_end)\n",
    "                x_labels.append(f\"{class_II}<br>n={count}\")\n",
    "\n",
    "    layout = go.Layout(\n",
    "        barmode='group',\n",
    "        title_font=dict(size=14, family='Roboto'),\n",
    "        font=dict(family='Roboto', size=11),\n",
    "        height=height,\n",
    "        width=width,\n",
    "        showlegend=False,\n",
    "        xaxis=dict(\n",
    "            tickmode='array',\n",
    "            tickvals=list(range(len(x_labels))),\n",
    "            ticktext=x_labels,\n",
    "            title_font=dict(size=14),\n",
    "            tickfont=dict(size=11),\n",
    "            tickangle=90\n",
    "        ),\n",
    "        yaxis=dict(\n",
    "            title=\"Total Weight in Grams (Start and End)\",\n",
    "            # tickformat=\".0%\",  # Formats the tick labels as percentages\n",
    "            tickmode='array',\n",
    "            title_font=dict(size=12),\n",
    "            tickfont=dict(size=9),\n",
    "        ),\n",
    "    )\n",
    "\n",
    "    fig = go.Figure(data=data, layout=layout)\n",
    "    fig.show()"
   ]
  },
  {
   "cell_type": "code",
   "execution_count": 136,
   "metadata": {},
   "outputs": [],
   "source": [
    "def residuals_bar(df_input, class_I=None, cap=False, height=800, width=1000):\n",
    "    df = df_input.copy() # prevent modifying actual dataframe\n",
    "    \n",
    "    # Create weight columns\n",
    "    column = '% Residuals (Weight)'\n",
    "    df['End Weight'] = df[column] * df['Start Weight']\n",
    "\n",
    "    data = []\n",
    "    x_labels = []\n",
    "\n",
    "    if cap:\n",
    "        df[column] = df[column].clip(upper=1)\n",
    "    if class_I:\n",
    "        df = df[df['Material Class I'] == class_I]\n",
    "\n",
    "    # Weird setup to handle null start weights and still plot correctly\n",
    "    filtered_class_II_order = [class_II for class_II in class_II_order if not df[df['Material Class II'] == class_II]['Start Weight'].isna().all()]\n",
    "    x_positions = np.arange(len(filtered_class_II_order))  # Numeric x-axis positions\n",
    "\n",
    "    for i, class_II in enumerate(filtered_class_II_order):\n",
    "        group = df[df['Material Class II'] == class_II]\n",
    "        if not group.empty:\n",
    "            count = group[column].count()\n",
    "            class_I_name = group['Material Class I'].iloc[0]\n",
    "            color = class2color.get(class_I_name, '#000')\n",
    "            if not group['Start Weight'].isna().all():\n",
    "                trace_start = go.Bar(x=[x_positions[i] - 0.2], y=[group['Start Weight'].sum()], marker_color=color, width=.3)\n",
    "                trace_end = go.Bar(x=[x_positions[i] + 0.2], y=[group['End Weight'].sum()], marker_color=color, width=.3, opacity=.6)\n",
    "                data.append(trace_start)\n",
    "                data.append(trace_end)\n",
    "                x_labels.append(f\"{class_II}<br>n={count}\")\n",
    "\n",
    "    layout = go.Layout(\n",
    "        barmode='group',\n",
    "        title_font=dict(size=14, family='Roboto'),\n",
    "        font=dict(family='Roboto', size=11),\n",
    "        height=height,\n",
    "        width=width,\n",
    "        showlegend=False,\n",
    "        xaxis=dict(\n",
    "            tickmode='array',\n",
    "            tickvals=list(range(len(x_labels))),\n",
    "            ticktext=x_labels,\n",
    "            title_font=dict(size=14),\n",
    "            tickfont=dict(size=11),\n",
    "            tickangle=90\n",
    "        ),\n",
    "        yaxis=dict(\n",
    "            title=\"Total Weight in Grams (Start and End)\",\n",
    "            tickmode='array',\n",
    "            title_font=dict(size=12),\n",
    "            tickfont=dict(size=9),\n",
    "        ),\n",
    "    )\n",
    "\n",
    "    fig = go.Figure(data=data, layout=layout)\n",
    "    fig.show()"
   ]
  },
  {
   "cell_type": "code",
   "execution_count": 142,
   "metadata": {},
   "outputs": [],
   "source": [
    "def mean_residuals_bar(df_input, class_I=None, cap=False, height=800, width=1000):\n",
    "    df = df_input.copy()  # prevent modifying actual dataframe\n",
    "    \n",
    "    column = '% Residuals (Weight)'  # Column for mean residuals\n",
    "\n",
    "    if cap:\n",
    "        df[column] = df[column].clip(upper=1)\n",
    "    if class_I:\n",
    "        df = df[df['Material Class I'] == class_I]\n",
    "\n",
    "    data = []\n",
    "    x_labels = []\n",
    "    x_positions = np.arange(len(class_II_order))  # Numeric x-axis positions\n",
    "\n",
    "    for i, class_II in enumerate(class_II_order):\n",
    "        group = df[df['Material Class II'] == class_II]\n",
    "        if not group.empty:\n",
    "            mean_residual = group[column].mean()\n",
    "            class_I_name = group['Material Class I'].iloc[0]\n",
    "            color = class2color.get(class_I_name, '#000')\n",
    "\n",
    "            trace = go.Bar(x=[x_positions[i]], y=[mean_residual], marker_color=color, name=class_II, width=.3)\n",
    "            data.append(trace)\n",
    "            x_labels.append(f\"{class_II}<br>n={len(group)}\")\n",
    "\n",
    "    layout = go.Layout(\n",
    "        barmode='group',\n",
    "        title_font=dict(size=14, family='Roboto'),\n",
    "        font=dict(family='Roboto', size=11),\n",
    "        height=height,\n",
    "        width=width,\n",
    "        showlegend=False,\n",
    "        xaxis=dict(\n",
    "            tickmode='array',\n",
    "            tickvals=x_positions,\n",
    "            ticktext=x_labels,\n",
    "            title_font=dict(size=14),\n",
    "            tickfont=dict(size=11),\n",
    "            tickangle=90\n",
    "        ),\n",
    "        yaxis=dict(\n",
    "            title=\"Mean % Residuals (Weight)\",\n",
    "            tickformat=\".0%\",\n",
    "            tickmode='array',\n",
    "            title_font=dict(size=12),\n",
    "            tickfont=dict(size=9),\n",
    "        ),\n",
    "    )\n",
    "\n",
    "    fig = go.Figure(data=data, layout=layout)\n",
    "    fig.show()"
   ]
  },
  {
   "cell_type": "code",
   "execution_count": 143,
   "metadata": {},
   "outputs": [
    {
     "data": {
      "text/plain": [
       "array(['Fiber', 'Biopolymer', 'Positive Control', 'Mixed Materials'],\n",
       "      dtype=object)"
      ]
     },
     "execution_count": 143,
     "metadata": {},
     "output_type": "execute_result"
    }
   ],
   "source": [
    "joined['Material Class I'].unique()"
   ]
  },
  {
   "cell_type": "code",
   "execution_count": 144,
   "metadata": {},
   "outputs": [
    {
     "data": {
      "application/vnd.plotly.v1+json": {
       "config": {
        "plotlyServerURL": "https://plot.ly"
       },
       "data": [
        {
         "boxpoints": "outliers",
         "marker": {
          "color": "#298FC2"
         },
         "name": "Unlined Fiber",
         "type": "box",
         "width": 0.2,
         "y": [
          1.039,
          0.953,
          1.092,
          0.703,
          0.612,
          0.882,
          1.249,
          1.112,
          0.995,
          0.372,
          0.739,
          0.683,
          0.269,
          0.043,
          1.5,
          0.488,
          1.146,
          0,
          0.172,
          0.673,
          0.461,
          0.254,
          0.5,
          1.132,
          1.112,
          1.085,
          1.123,
          1.136,
          1.09,
          1.131,
          1.133,
          1.09,
          1.08,
          0,
          0.041,
          0,
          0.25,
          0.228,
          0,
          null,
          0.766,
          0.566,
          0.16,
          0.495,
          0.794,
          1.728,
          1.278,
          1.267,
          1.298,
          0.77,
          0.455,
          0.64,
          0.31,
          0.45,
          0.284,
          0.708,
          0.945,
          0.562,
          1.62,
          0,
          0.509,
          0,
          0.362,
          1.08,
          1.072,
          1.074,
          0.67,
          0.992,
          1.04,
          1.068,
          1.117,
          1.087,
          1.099,
          0,
          0,
          0.12,
          0.019,
          0.078,
          0
         ]
        },
        {
         "boxpoints": "outliers",
         "marker": {
          "color": "#298FC2"
         },
         "name": "Lined Fiber",
         "type": "box",
         "width": 0.2,
         "y": [
          0.7343537759756716,
          0,
          0,
          0,
          0.7617840851495186,
          1.0951748606183478,
          1.573563101875317,
          1.0853218449062343,
          1.1253117080587938,
          0,
          0.19322858590978206,
          0,
          1.0198479472883935,
          0.3116776482513939,
          0,
          1.3928940699442474,
          0,
          1.0747085656360873,
          0,
          1.3094779523568172,
          0.9710086163203244,
          0,
          0,
          1.0725798276735936,
          1.1238520020273697,
          0.8913329954384187,
          1.1270146984287888,
          1.368474404460213,
          1.0438114546376078,
          1.0933502280790675,
          0.8231221490116575,
          0.9758438925494172,
          0.8604967055245819,
          0,
          0,
          0,
          0.09293461733400912,
          0.3554295690443257,
          0,
          0,
          1.0028475541543784,
          0.7340892911624124,
          0.881694294721855,
          1.1199735584257096,
          1.0006813790297977,
          0.9472287196176145,
          0.890084409641005,
          0.33661141055629007,
          0,
          0.732167192108207,
          0.716576833112987,
          0,
          0,
          0,
          0.18513169937963997,
          0,
          0,
          0,
          0.5130478999288113,
          0.457520593918438,
          0,
          0.7767720939692871,
          0.955252720431201,
          0.6763958100274586,
          0.8466388691142074,
          0.8512152954337436,
          0.8450828841655649,
          0.8746465981897692,
          0.8652496694803214,
          0.8605206956168006,
          0.8835858842672634,
          0,
          0,
          0,
          0,
          0.25223689186918674,
          0
         ]
        },
        {
         "boxpoints": "outliers",
         "marker": {
          "color": "#FFB600"
         },
         "name": "Biopolymer Film/Bag",
         "type": "box",
         "width": 0.2,
         "y": [
          0.949,
          0.595,
          1.053,
          0.998,
          0.73,
          0,
          0,
          0,
          0,
          0,
          0,
          0,
          0,
          0,
          0.182,
          0,
          0,
          0,
          0,
          1.025,
          1.023,
          0.68,
          0,
          0,
          0,
          0,
          0,
          0,
          0,
          0,
          0,
          0,
          0,
          0.253,
          0.041,
          0,
          0,
          0.011
         ]
        },
        {
         "boxpoints": "outliers",
         "marker": {
          "color": "#FFB600"
         },
         "name": "Rigid Biopolymer (< 0.75mm)",
         "type": "box",
         "width": 0.2,
         "y": [
          0.051,
          0.077,
          0.105,
          0.056,
          0.252,
          0,
          0,
          0,
          0,
          0.011,
          0.017,
          0,
          0,
          0,
          0,
          0,
          0,
          0,
          0.37,
          0.319,
          0,
          0.251,
          0.049,
          0,
          0,
          0,
          0,
          0,
          0.066,
          0,
          0.003,
          0,
          0,
          0,
          0,
          0,
          0,
          0,
          0,
          0,
          0,
          0,
          0,
          0,
          0,
          0,
          0,
          0,
          0,
          0,
          0,
          0,
          0,
          0,
          0,
          0,
          0,
          0,
          0,
          0,
          0,
          0,
          0,
          0,
          0,
          0,
          0,
          0,
          0,
          0,
          0,
          0,
          0,
          0,
          0,
          0,
          0,
          0,
          0,
          0,
          0,
          0,
          0,
          0,
          0,
          0,
          0,
          0,
          0,
          0,
          0,
          0,
          0,
          0,
          0,
          0,
          0,
          0,
          0,
          0,
          0,
          0,
          0,
          0,
          0,
          0,
          0,
          0,
          0.028,
          0,
          0,
          0,
          0,
          0,
          0,
          0,
          0.218,
          0,
          0,
          0
         ]
        },
        {
         "boxpoints": "outliers",
         "marker": {
          "color": "#FFB600"
         },
         "name": "Rigid Biopolymer (> 0.75mm)",
         "type": "box",
         "width": 0.2,
         "y": [
          0.5318625174175567,
          0,
          0.5797607988852763,
          0,
          0.45365768694844394,
          0,
          0,
          0,
          0,
          0,
          0,
          0,
          0,
          0,
          0,
          0,
          0,
          0,
          0,
          0,
          0,
          0,
          0,
          0,
          0,
          0.2341267998142127,
          0.06667440780306548,
          0.03633302368787737,
          0,
          0.010241523455643288,
          0,
          0,
          0,
          0,
          0,
          0,
          0,
          0,
          0,
          0,
          0.028900108794739712,
          0.014,
          0.013,
          0.017,
          0.006,
          0.055,
          0,
          0,
          0,
          0,
          0,
          0,
          0,
          0,
          0,
          0.018,
          0,
          0.247,
          0.824,
          0,
          0.924,
          0.1,
          0,
          0,
          0,
          0,
          0,
          0.237,
          0.074,
          0,
          0.027,
          0,
          0.001,
          0,
          0,
          0,
          0,
          0,
          0.004
         ]
        },
        {
         "boxpoints": "outliers",
         "marker": {
          "color": "#FFB600"
         },
         "name": "Rigid biopolymer",
         "type": "box",
         "width": 0.2,
         "y": [
          0,
          0,
          0,
          0,
          0,
          0,
          0,
          0,
          0,
          0,
          0,
          0,
          0,
          0,
          0,
          0,
          0,
          0,
          0,
          0,
          0,
          0,
          0,
          0,
          0,
          0,
          0,
          0,
          0,
          0,
          0,
          0,
          0,
          0,
          0,
          0,
          0,
          0,
          0.0034807752159299148
         ]
        },
        {
         "boxpoints": "outliers",
         "marker": {
          "color": "#48646A"
         },
         "name": "Mixed Materials",
         "type": "box",
         "width": 0.2,
         "y": [
          0.042,
          0.018,
          0,
          0.03,
          0,
          0.006,
          0,
          0,
          0.012,
          0.02,
          0.005,
          0,
          0.009,
          0,
          0,
          0,
          0,
          0,
          0.983,
          0,
          1.025,
          0,
          0.074,
          0,
          0.054,
          0,
          0.067,
          0.034,
          0.018,
          0,
          0.022,
          0.006,
          0,
          0.012,
          0,
          0,
          0.01,
          0,
          0,
          null
         ]
        },
        {
         "boxpoints": "outliers",
         "marker": {
          "color": "#70AD47"
         },
         "name": "Positive Control - Fiber",
         "type": "box",
         "width": 0.2,
         "y": [
          0.705,
          1.075,
          0.903,
          0.456,
          0.792,
          0,
          0.414,
          0.448,
          0.849,
          0,
          1.041,
          0.88,
          1.071,
          1.344,
          1.166,
          1.088,
          1.342,
          1.309,
          1.173,
          0.992,
          0.783,
          1.384,
          1.409,
          1.245,
          0.72,
          0.073,
          1.421,
          1.606,
          0,
          0.138,
          0,
          0,
          1.051,
          0.272,
          0,
          0.015,
          0.19,
          0.714,
          0.51,
          1.064,
          1.27,
          0,
          1.369,
          1.283,
          0,
          1.181,
          0,
          1.101,
          1.376,
          0,
          1.163,
          1.637,
          0.692,
          0.49,
          0.707,
          0.393,
          0.505,
          0.312,
          1.736,
          0,
          0,
          1.091,
          1.183,
          0.914,
          1.482,
          0.475,
          0,
          1.152,
          1.184,
          0.816,
          1.136,
          0.721,
          1.213,
          0.974,
          1.094,
          0.979,
          0.971,
          0.962,
          1.056,
          1.116,
          1.12,
          1.252,
          1.23,
          1.148,
          1.015,
          1.167,
          1.132,
          1.006,
          1.046,
          1.111,
          1.072,
          0,
          1.269,
          0,
          0,
          0.014,
          0.015,
          0.534,
          0,
          0.152,
          0,
          0.117,
          1.104,
          0,
          0,
          1.494,
          0.189,
          0,
          null,
          null,
          null
         ]
        },
        {
         "boxpoints": "outliers",
         "marker": {
          "color": "#70AD47"
         },
         "name": "Positive Control - Food Scraps",
         "type": "box",
         "width": 0.2,
         "y": [
          0.017,
          0.04,
          0.049,
          0.046,
          0.014,
          0.042,
          0.072,
          0.018,
          0.035,
          0.041,
          0,
          0.036,
          0.029,
          0.023,
          0.021,
          0,
          0,
          0,
          0,
          0,
          0,
          0,
          0,
          0,
          0,
          0,
          0,
          0,
          0,
          0.038,
          0.069,
          0.063,
          0.029,
          0,
          0,
          0.078,
          0.039,
          0.022,
          0.074,
          0,
          0.07,
          0.058,
          0.004,
          0.004,
          0,
          0,
          0.037,
          0,
          0.041,
          0.017,
          0,
          0.029,
          0.024,
          0,
          0.074,
          0.041,
          0.043,
          0.101,
          0.054,
          0.072,
          0.105,
          0.054,
          0.094,
          0.126,
          0.071,
          0.088,
          0.076,
          0.086,
          0.097,
          0.076,
          0.131,
          0.097,
          0.052,
          0.134,
          0.148,
          0.048,
          0.075,
          0.04,
          0.043,
          0.059,
          0.166,
          0.124,
          0.051,
          0.108,
          0.103,
          0.106,
          0.121,
          0,
          0,
          0,
          0.065,
          0.056,
          0,
          0,
          0,
          0.046,
          0.037,
          0,
          0,
          0
         ]
        },
        {
         "boxpoints": "outliers",
         "marker": {
          "color": "#70AD47"
         },
         "name": "Positive Control - Film",
         "type": "box",
         "width": 0.2,
         "y": [
          0.265,
          0.8,
          0.627,
          0.317,
          0.094,
          0.417,
          0.075,
          0.363,
          0.482,
          0.315,
          0,
          0,
          0,
          0.435,
          0.891,
          1.076,
          0.975,
          1.008,
          0.856,
          1.066,
          1.226,
          0.808,
          0.841,
          0.632,
          0,
          0.883,
          0.126,
          0.408,
          0.027,
          0.302,
          0.257,
          0.085,
          0.24,
          0.159,
          0.214,
          0.182,
          0,
          0.027,
          0,
          0.36,
          0.207,
          0.581,
          0.614,
          0.059,
          0,
          0,
          0.064,
          0.382,
          0.911,
          0,
          0,
          1.373,
          0.27,
          0.43,
          0,
          0.412,
          0.499,
          0,
          0,
          0,
          0.122,
          0,
          0,
          0,
          0.131,
          0,
          0.798,
          0.189,
          0.242,
          0.055,
          0.461,
          0.78,
          0.337,
          0.283,
          0.881,
          0.955,
          0.983,
          0.855,
          0.391,
          0.146,
          0.313,
          0.313,
          0.186,
          0.489,
          0.235,
          0.717,
          0.835,
          0.939,
          0.991,
          0.925,
          0.189,
          0.291,
          0.111,
          0.443,
          0.183,
          0.012,
          0.167,
          0.179,
          0.005,
          0.47,
          0.938,
          0.026,
          0,
          null
         ]
        }
       ],
       "layout": {
        "font": {
         "family": "Roboto",
         "size": 11
        },
        "height": 800,
        "showlegend": false,
        "template": {
         "data": {
          "bar": [
           {
            "error_x": {
             "color": "#2a3f5f"
            },
            "error_y": {
             "color": "#2a3f5f"
            },
            "marker": {
             "line": {
              "color": "#E5ECF6",
              "width": 0.5
             },
             "pattern": {
              "fillmode": "overlay",
              "size": 10,
              "solidity": 0.2
             }
            },
            "type": "bar"
           }
          ],
          "barpolar": [
           {
            "marker": {
             "line": {
              "color": "#E5ECF6",
              "width": 0.5
             },
             "pattern": {
              "fillmode": "overlay",
              "size": 10,
              "solidity": 0.2
             }
            },
            "type": "barpolar"
           }
          ],
          "carpet": [
           {
            "aaxis": {
             "endlinecolor": "#2a3f5f",
             "gridcolor": "white",
             "linecolor": "white",
             "minorgridcolor": "white",
             "startlinecolor": "#2a3f5f"
            },
            "baxis": {
             "endlinecolor": "#2a3f5f",
             "gridcolor": "white",
             "linecolor": "white",
             "minorgridcolor": "white",
             "startlinecolor": "#2a3f5f"
            },
            "type": "carpet"
           }
          ],
          "choropleth": [
           {
            "colorbar": {
             "outlinewidth": 0,
             "ticks": ""
            },
            "type": "choropleth"
           }
          ],
          "contour": [
           {
            "colorbar": {
             "outlinewidth": 0,
             "ticks": ""
            },
            "colorscale": [
             [
              0,
              "#0d0887"
             ],
             [
              0.1111111111111111,
              "#46039f"
             ],
             [
              0.2222222222222222,
              "#7201a8"
             ],
             [
              0.3333333333333333,
              "#9c179e"
             ],
             [
              0.4444444444444444,
              "#bd3786"
             ],
             [
              0.5555555555555556,
              "#d8576b"
             ],
             [
              0.6666666666666666,
              "#ed7953"
             ],
             [
              0.7777777777777778,
              "#fb9f3a"
             ],
             [
              0.8888888888888888,
              "#fdca26"
             ],
             [
              1,
              "#f0f921"
             ]
            ],
            "type": "contour"
           }
          ],
          "contourcarpet": [
           {
            "colorbar": {
             "outlinewidth": 0,
             "ticks": ""
            },
            "type": "contourcarpet"
           }
          ],
          "heatmap": [
           {
            "colorbar": {
             "outlinewidth": 0,
             "ticks": ""
            },
            "colorscale": [
             [
              0,
              "#0d0887"
             ],
             [
              0.1111111111111111,
              "#46039f"
             ],
             [
              0.2222222222222222,
              "#7201a8"
             ],
             [
              0.3333333333333333,
              "#9c179e"
             ],
             [
              0.4444444444444444,
              "#bd3786"
             ],
             [
              0.5555555555555556,
              "#d8576b"
             ],
             [
              0.6666666666666666,
              "#ed7953"
             ],
             [
              0.7777777777777778,
              "#fb9f3a"
             ],
             [
              0.8888888888888888,
              "#fdca26"
             ],
             [
              1,
              "#f0f921"
             ]
            ],
            "type": "heatmap"
           }
          ],
          "heatmapgl": [
           {
            "colorbar": {
             "outlinewidth": 0,
             "ticks": ""
            },
            "colorscale": [
             [
              0,
              "#0d0887"
             ],
             [
              0.1111111111111111,
              "#46039f"
             ],
             [
              0.2222222222222222,
              "#7201a8"
             ],
             [
              0.3333333333333333,
              "#9c179e"
             ],
             [
              0.4444444444444444,
              "#bd3786"
             ],
             [
              0.5555555555555556,
              "#d8576b"
             ],
             [
              0.6666666666666666,
              "#ed7953"
             ],
             [
              0.7777777777777778,
              "#fb9f3a"
             ],
             [
              0.8888888888888888,
              "#fdca26"
             ],
             [
              1,
              "#f0f921"
             ]
            ],
            "type": "heatmapgl"
           }
          ],
          "histogram": [
           {
            "marker": {
             "pattern": {
              "fillmode": "overlay",
              "size": 10,
              "solidity": 0.2
             }
            },
            "type": "histogram"
           }
          ],
          "histogram2d": [
           {
            "colorbar": {
             "outlinewidth": 0,
             "ticks": ""
            },
            "colorscale": [
             [
              0,
              "#0d0887"
             ],
             [
              0.1111111111111111,
              "#46039f"
             ],
             [
              0.2222222222222222,
              "#7201a8"
             ],
             [
              0.3333333333333333,
              "#9c179e"
             ],
             [
              0.4444444444444444,
              "#bd3786"
             ],
             [
              0.5555555555555556,
              "#d8576b"
             ],
             [
              0.6666666666666666,
              "#ed7953"
             ],
             [
              0.7777777777777778,
              "#fb9f3a"
             ],
             [
              0.8888888888888888,
              "#fdca26"
             ],
             [
              1,
              "#f0f921"
             ]
            ],
            "type": "histogram2d"
           }
          ],
          "histogram2dcontour": [
           {
            "colorbar": {
             "outlinewidth": 0,
             "ticks": ""
            },
            "colorscale": [
             [
              0,
              "#0d0887"
             ],
             [
              0.1111111111111111,
              "#46039f"
             ],
             [
              0.2222222222222222,
              "#7201a8"
             ],
             [
              0.3333333333333333,
              "#9c179e"
             ],
             [
              0.4444444444444444,
              "#bd3786"
             ],
             [
              0.5555555555555556,
              "#d8576b"
             ],
             [
              0.6666666666666666,
              "#ed7953"
             ],
             [
              0.7777777777777778,
              "#fb9f3a"
             ],
             [
              0.8888888888888888,
              "#fdca26"
             ],
             [
              1,
              "#f0f921"
             ]
            ],
            "type": "histogram2dcontour"
           }
          ],
          "mesh3d": [
           {
            "colorbar": {
             "outlinewidth": 0,
             "ticks": ""
            },
            "type": "mesh3d"
           }
          ],
          "parcoords": [
           {
            "line": {
             "colorbar": {
              "outlinewidth": 0,
              "ticks": ""
             }
            },
            "type": "parcoords"
           }
          ],
          "pie": [
           {
            "automargin": true,
            "type": "pie"
           }
          ],
          "scatter": [
           {
            "fillpattern": {
             "fillmode": "overlay",
             "size": 10,
             "solidity": 0.2
            },
            "type": "scatter"
           }
          ],
          "scatter3d": [
           {
            "line": {
             "colorbar": {
              "outlinewidth": 0,
              "ticks": ""
             }
            },
            "marker": {
             "colorbar": {
              "outlinewidth": 0,
              "ticks": ""
             }
            },
            "type": "scatter3d"
           }
          ],
          "scattercarpet": [
           {
            "marker": {
             "colorbar": {
              "outlinewidth": 0,
              "ticks": ""
             }
            },
            "type": "scattercarpet"
           }
          ],
          "scattergeo": [
           {
            "marker": {
             "colorbar": {
              "outlinewidth": 0,
              "ticks": ""
             }
            },
            "type": "scattergeo"
           }
          ],
          "scattergl": [
           {
            "marker": {
             "colorbar": {
              "outlinewidth": 0,
              "ticks": ""
             }
            },
            "type": "scattergl"
           }
          ],
          "scattermapbox": [
           {
            "marker": {
             "colorbar": {
              "outlinewidth": 0,
              "ticks": ""
             }
            },
            "type": "scattermapbox"
           }
          ],
          "scatterpolar": [
           {
            "marker": {
             "colorbar": {
              "outlinewidth": 0,
              "ticks": ""
             }
            },
            "type": "scatterpolar"
           }
          ],
          "scatterpolargl": [
           {
            "marker": {
             "colorbar": {
              "outlinewidth": 0,
              "ticks": ""
             }
            },
            "type": "scatterpolargl"
           }
          ],
          "scatterternary": [
           {
            "marker": {
             "colorbar": {
              "outlinewidth": 0,
              "ticks": ""
             }
            },
            "type": "scatterternary"
           }
          ],
          "surface": [
           {
            "colorbar": {
             "outlinewidth": 0,
             "ticks": ""
            },
            "colorscale": [
             [
              0,
              "#0d0887"
             ],
             [
              0.1111111111111111,
              "#46039f"
             ],
             [
              0.2222222222222222,
              "#7201a8"
             ],
             [
              0.3333333333333333,
              "#9c179e"
             ],
             [
              0.4444444444444444,
              "#bd3786"
             ],
             [
              0.5555555555555556,
              "#d8576b"
             ],
             [
              0.6666666666666666,
              "#ed7953"
             ],
             [
              0.7777777777777778,
              "#fb9f3a"
             ],
             [
              0.8888888888888888,
              "#fdca26"
             ],
             [
              1,
              "#f0f921"
             ]
            ],
            "type": "surface"
           }
          ],
          "table": [
           {
            "cells": {
             "fill": {
              "color": "#EBF0F8"
             },
             "line": {
              "color": "white"
             }
            },
            "header": {
             "fill": {
              "color": "#C8D4E3"
             },
             "line": {
              "color": "white"
             }
            },
            "type": "table"
           }
          ]
         },
         "layout": {
          "annotationdefaults": {
           "arrowcolor": "#2a3f5f",
           "arrowhead": 0,
           "arrowwidth": 1
          },
          "autotypenumbers": "strict",
          "coloraxis": {
           "colorbar": {
            "outlinewidth": 0,
            "ticks": ""
           }
          },
          "colorscale": {
           "diverging": [
            [
             0,
             "#8e0152"
            ],
            [
             0.1,
             "#c51b7d"
            ],
            [
             0.2,
             "#de77ae"
            ],
            [
             0.3,
             "#f1b6da"
            ],
            [
             0.4,
             "#fde0ef"
            ],
            [
             0.5,
             "#f7f7f7"
            ],
            [
             0.6,
             "#e6f5d0"
            ],
            [
             0.7,
             "#b8e186"
            ],
            [
             0.8,
             "#7fbc41"
            ],
            [
             0.9,
             "#4d9221"
            ],
            [
             1,
             "#276419"
            ]
           ],
           "sequential": [
            [
             0,
             "#0d0887"
            ],
            [
             0.1111111111111111,
             "#46039f"
            ],
            [
             0.2222222222222222,
             "#7201a8"
            ],
            [
             0.3333333333333333,
             "#9c179e"
            ],
            [
             0.4444444444444444,
             "#bd3786"
            ],
            [
             0.5555555555555556,
             "#d8576b"
            ],
            [
             0.6666666666666666,
             "#ed7953"
            ],
            [
             0.7777777777777778,
             "#fb9f3a"
            ],
            [
             0.8888888888888888,
             "#fdca26"
            ],
            [
             1,
             "#f0f921"
            ]
           ],
           "sequentialminus": [
            [
             0,
             "#0d0887"
            ],
            [
             0.1111111111111111,
             "#46039f"
            ],
            [
             0.2222222222222222,
             "#7201a8"
            ],
            [
             0.3333333333333333,
             "#9c179e"
            ],
            [
             0.4444444444444444,
             "#bd3786"
            ],
            [
             0.5555555555555556,
             "#d8576b"
            ],
            [
             0.6666666666666666,
             "#ed7953"
            ],
            [
             0.7777777777777778,
             "#fb9f3a"
            ],
            [
             0.8888888888888888,
             "#fdca26"
            ],
            [
             1,
             "#f0f921"
            ]
           ]
          },
          "colorway": [
           "#636efa",
           "#EF553B",
           "#00cc96",
           "#ab63fa",
           "#FFA15A",
           "#19d3f3",
           "#FF6692",
           "#B6E880",
           "#FF97FF",
           "#FECB52"
          ],
          "font": {
           "color": "#2a3f5f"
          },
          "geo": {
           "bgcolor": "white",
           "lakecolor": "white",
           "landcolor": "#E5ECF6",
           "showlakes": true,
           "showland": true,
           "subunitcolor": "white"
          },
          "hoverlabel": {
           "align": "left"
          },
          "hovermode": "closest",
          "mapbox": {
           "style": "light"
          },
          "paper_bgcolor": "white",
          "plot_bgcolor": "#E5ECF6",
          "polar": {
           "angularaxis": {
            "gridcolor": "white",
            "linecolor": "white",
            "ticks": ""
           },
           "bgcolor": "#E5ECF6",
           "radialaxis": {
            "gridcolor": "white",
            "linecolor": "white",
            "ticks": ""
           }
          },
          "scene": {
           "xaxis": {
            "backgroundcolor": "#E5ECF6",
            "gridcolor": "white",
            "gridwidth": 2,
            "linecolor": "white",
            "showbackground": true,
            "ticks": "",
            "zerolinecolor": "white"
           },
           "yaxis": {
            "backgroundcolor": "#E5ECF6",
            "gridcolor": "white",
            "gridwidth": 2,
            "linecolor": "white",
            "showbackground": true,
            "ticks": "",
            "zerolinecolor": "white"
           },
           "zaxis": {
            "backgroundcolor": "#E5ECF6",
            "gridcolor": "white",
            "gridwidth": 2,
            "linecolor": "white",
            "showbackground": true,
            "ticks": "",
            "zerolinecolor": "white"
           }
          },
          "shapedefaults": {
           "line": {
            "color": "#2a3f5f"
           }
          },
          "ternary": {
           "aaxis": {
            "gridcolor": "white",
            "linecolor": "white",
            "ticks": ""
           },
           "baxis": {
            "gridcolor": "white",
            "linecolor": "white",
            "ticks": ""
           },
           "bgcolor": "#E5ECF6",
           "caxis": {
            "gridcolor": "white",
            "linecolor": "white",
            "ticks": ""
           }
          },
          "title": {
           "x": 0.05
          },
          "xaxis": {
           "automargin": true,
           "gridcolor": "white",
           "linecolor": "white",
           "ticks": "",
           "title": {
            "standoff": 15
           },
           "zerolinecolor": "white",
           "zerolinewidth": 2
          },
          "yaxis": {
           "automargin": true,
           "gridcolor": "white",
           "linecolor": "white",
           "ticks": "",
           "title": {
            "standoff": 15
           },
           "zerolinecolor": "white",
           "zerolinewidth": 2
          }
         }
        },
        "title": {
         "font": {
          "family": "Roboto",
          "size": 14
         }
        },
        "width": 1000,
        "xaxis": {
         "tickangle": 90,
         "tickfont": {
          "size": 11
         },
         "tickmode": "array",
         "ticktext": [
          "Unlined Fiber<br>n=78",
          "Lined Fiber<br>n=77",
          "Biopolymer Film/Bag<br>n=38",
          "Rigid Biopolymer (< 0.75mm)<br>n=120",
          "Rigid Biopolymer (> 0.75mm)<br>n=79",
          "Rigid biopolymer<br>n=39",
          "Mixed Materials<br>n=39",
          "Positive Control - Fiber<br>n=108",
          "Positive Control - Food Scraps<br>n=100",
          "Positive Control - Film<br>n=103"
         ],
         "tickvals": [
          0,
          1,
          2,
          3,
          4,
          5,
          6,
          7,
          8,
          9
         ],
         "title": {
          "font": {
           "size": 14
          }
         }
        },
        "yaxis": {
         "tickfont": {
          "size": 9
         },
         "tickformat": ".0%",
         "tickmode": "array",
         "tickvals": [
          0,
          0.25,
          0.5,
          0.75,
          1,
          1.25,
          1.5
         ],
         "title": {
          "font": {
           "size": 12
          },
          "text": "% Residuals (Weight)"
         }
        }
       }
      }
     },
     "metadata": {},
     "output_type": "display_data"
    },
    {
     "data": {
      "application/vnd.plotly.v1+json": {
       "config": {
        "plotlyServerURL": "https://plot.ly"
       },
       "data": [
        {
         "marker": {
          "color": "#298FC2"
         },
         "type": "bar",
         "width": 0.3,
         "x": [
          -0.2
         ],
         "y": [
          2444.5433332000002
         ]
        },
        {
         "marker": {
          "color": "#298FC2"
         },
         "opacity": 0.6,
         "type": "bar",
         "width": 0.3,
         "x": [
          0.2
         ],
         "y": [
          1666.8930632414401
         ]
        },
        {
         "marker": {
          "color": "#298FC2"
         },
         "type": "bar",
         "width": 0.3,
         "x": [
          0.8
         ],
         "y": [
          838.5200000000001
         ]
        },
        {
         "marker": {
          "color": "#298FC2"
         },
         "opacity": 0.6,
         "type": "bar",
         "width": 0.3,
         "x": [
          1.2
         ],
         "y": [
          453.862606441429
         ]
        },
        {
         "marker": {
          "color": "#FFB600"
         },
         "type": "bar",
         "width": 0.3,
         "x": [
          1.8
         ],
         "y": [
          235.98000000000005
         ]
        },
        {
         "marker": {
          "color": "#FFB600"
         },
         "opacity": 0.6,
         "type": "bar",
         "width": 0.3,
         "x": [
          2.2
         ],
         "y": [
          46.82339999999999
         ]
        },
        {
         "marker": {
          "color": "#FFB600"
         },
         "type": "bar",
         "width": 0.3,
         "x": [
          2.8
         ],
         "y": [
          496.22999999999996
         ]
        },
        {
         "marker": {
          "color": "#FFB600"
         },
         "opacity": 0.6,
         "type": "bar",
         "width": 0.3,
         "x": [
          3.2
         ],
         "y": [
          0.54612
         ]
        },
        {
         "marker": {
          "color": "#FFB600"
         },
         "type": "bar",
         "width": 0.3,
         "x": [
          3.8
         ],
         "y": [
          368.50000000000017
         ]
        },
        {
         "marker": {
          "color": "#FFB600"
         },
         "opacity": 0.6,
         "type": "bar",
         "width": 0.3,
         "x": [
          4.2
         ],
         "y": [
          20.907581823336578
         ]
        },
        {
         "marker": {
          "color": "#FFB600"
         },
         "type": "bar",
         "width": 0.3,
         "x": [
          4.8
         ],
         "y": [
          97.5
         ]
        },
        {
         "marker": {
          "color": "#FFB600"
         },
         "opacity": 0.6,
         "type": "bar",
         "width": 0.3,
         "x": [
          5.2
         ],
         "y": [
          0.008701938039824787
         ]
        },
        {
         "marker": {
          "color": "#48646A"
         },
         "type": "bar",
         "width": 0.3,
         "x": [
          5.8
         ],
         "y": [
          529.6
         ]
        },
        {
         "marker": {
          "color": "#48646A"
         },
         "opacity": 0.6,
         "type": "bar",
         "width": 0.3,
         "x": [
          6.2
         ],
         "y": [
          32.39828
         ]
        },
        {
         "marker": {
          "color": "#70AD47"
         },
         "type": "bar",
         "width": 0.3,
         "x": [
          6.8
         ],
         "y": [
          444
         ]
        },
        {
         "marker": {
          "color": "#70AD47"
         },
         "opacity": 0.6,
         "type": "bar",
         "width": 0.3,
         "x": [
          7.2
         ],
         "y": [
          322.256
         ]
        },
        {
         "marker": {
          "color": "#70AD47"
         },
         "type": "bar",
         "width": 0.3,
         "x": [
          7.8
         ],
         "y": [
          416
         ]
        },
        {
         "marker": {
          "color": "#70AD47"
         },
         "opacity": 0.6,
         "type": "bar",
         "width": 0.3,
         "x": [
          8.2
         ],
         "y": [
          156.828
         ]
        }
       ],
       "layout": {
        "barmode": "group",
        "font": {
         "family": "Roboto",
         "size": 11
        },
        "height": 800,
        "showlegend": false,
        "template": {
         "data": {
          "bar": [
           {
            "error_x": {
             "color": "#2a3f5f"
            },
            "error_y": {
             "color": "#2a3f5f"
            },
            "marker": {
             "line": {
              "color": "#E5ECF6",
              "width": 0.5
             },
             "pattern": {
              "fillmode": "overlay",
              "size": 10,
              "solidity": 0.2
             }
            },
            "type": "bar"
           }
          ],
          "barpolar": [
           {
            "marker": {
             "line": {
              "color": "#E5ECF6",
              "width": 0.5
             },
             "pattern": {
              "fillmode": "overlay",
              "size": 10,
              "solidity": 0.2
             }
            },
            "type": "barpolar"
           }
          ],
          "carpet": [
           {
            "aaxis": {
             "endlinecolor": "#2a3f5f",
             "gridcolor": "white",
             "linecolor": "white",
             "minorgridcolor": "white",
             "startlinecolor": "#2a3f5f"
            },
            "baxis": {
             "endlinecolor": "#2a3f5f",
             "gridcolor": "white",
             "linecolor": "white",
             "minorgridcolor": "white",
             "startlinecolor": "#2a3f5f"
            },
            "type": "carpet"
           }
          ],
          "choropleth": [
           {
            "colorbar": {
             "outlinewidth": 0,
             "ticks": ""
            },
            "type": "choropleth"
           }
          ],
          "contour": [
           {
            "colorbar": {
             "outlinewidth": 0,
             "ticks": ""
            },
            "colorscale": [
             [
              0,
              "#0d0887"
             ],
             [
              0.1111111111111111,
              "#46039f"
             ],
             [
              0.2222222222222222,
              "#7201a8"
             ],
             [
              0.3333333333333333,
              "#9c179e"
             ],
             [
              0.4444444444444444,
              "#bd3786"
             ],
             [
              0.5555555555555556,
              "#d8576b"
             ],
             [
              0.6666666666666666,
              "#ed7953"
             ],
             [
              0.7777777777777778,
              "#fb9f3a"
             ],
             [
              0.8888888888888888,
              "#fdca26"
             ],
             [
              1,
              "#f0f921"
             ]
            ],
            "type": "contour"
           }
          ],
          "contourcarpet": [
           {
            "colorbar": {
             "outlinewidth": 0,
             "ticks": ""
            },
            "type": "contourcarpet"
           }
          ],
          "heatmap": [
           {
            "colorbar": {
             "outlinewidth": 0,
             "ticks": ""
            },
            "colorscale": [
             [
              0,
              "#0d0887"
             ],
             [
              0.1111111111111111,
              "#46039f"
             ],
             [
              0.2222222222222222,
              "#7201a8"
             ],
             [
              0.3333333333333333,
              "#9c179e"
             ],
             [
              0.4444444444444444,
              "#bd3786"
             ],
             [
              0.5555555555555556,
              "#d8576b"
             ],
             [
              0.6666666666666666,
              "#ed7953"
             ],
             [
              0.7777777777777778,
              "#fb9f3a"
             ],
             [
              0.8888888888888888,
              "#fdca26"
             ],
             [
              1,
              "#f0f921"
             ]
            ],
            "type": "heatmap"
           }
          ],
          "heatmapgl": [
           {
            "colorbar": {
             "outlinewidth": 0,
             "ticks": ""
            },
            "colorscale": [
             [
              0,
              "#0d0887"
             ],
             [
              0.1111111111111111,
              "#46039f"
             ],
             [
              0.2222222222222222,
              "#7201a8"
             ],
             [
              0.3333333333333333,
              "#9c179e"
             ],
             [
              0.4444444444444444,
              "#bd3786"
             ],
             [
              0.5555555555555556,
              "#d8576b"
             ],
             [
              0.6666666666666666,
              "#ed7953"
             ],
             [
              0.7777777777777778,
              "#fb9f3a"
             ],
             [
              0.8888888888888888,
              "#fdca26"
             ],
             [
              1,
              "#f0f921"
             ]
            ],
            "type": "heatmapgl"
           }
          ],
          "histogram": [
           {
            "marker": {
             "pattern": {
              "fillmode": "overlay",
              "size": 10,
              "solidity": 0.2
             }
            },
            "type": "histogram"
           }
          ],
          "histogram2d": [
           {
            "colorbar": {
             "outlinewidth": 0,
             "ticks": ""
            },
            "colorscale": [
             [
              0,
              "#0d0887"
             ],
             [
              0.1111111111111111,
              "#46039f"
             ],
             [
              0.2222222222222222,
              "#7201a8"
             ],
             [
              0.3333333333333333,
              "#9c179e"
             ],
             [
              0.4444444444444444,
              "#bd3786"
             ],
             [
              0.5555555555555556,
              "#d8576b"
             ],
             [
              0.6666666666666666,
              "#ed7953"
             ],
             [
              0.7777777777777778,
              "#fb9f3a"
             ],
             [
              0.8888888888888888,
              "#fdca26"
             ],
             [
              1,
              "#f0f921"
             ]
            ],
            "type": "histogram2d"
           }
          ],
          "histogram2dcontour": [
           {
            "colorbar": {
             "outlinewidth": 0,
             "ticks": ""
            },
            "colorscale": [
             [
              0,
              "#0d0887"
             ],
             [
              0.1111111111111111,
              "#46039f"
             ],
             [
              0.2222222222222222,
              "#7201a8"
             ],
             [
              0.3333333333333333,
              "#9c179e"
             ],
             [
              0.4444444444444444,
              "#bd3786"
             ],
             [
              0.5555555555555556,
              "#d8576b"
             ],
             [
              0.6666666666666666,
              "#ed7953"
             ],
             [
              0.7777777777777778,
              "#fb9f3a"
             ],
             [
              0.8888888888888888,
              "#fdca26"
             ],
             [
              1,
              "#f0f921"
             ]
            ],
            "type": "histogram2dcontour"
           }
          ],
          "mesh3d": [
           {
            "colorbar": {
             "outlinewidth": 0,
             "ticks": ""
            },
            "type": "mesh3d"
           }
          ],
          "parcoords": [
           {
            "line": {
             "colorbar": {
              "outlinewidth": 0,
              "ticks": ""
             }
            },
            "type": "parcoords"
           }
          ],
          "pie": [
           {
            "automargin": true,
            "type": "pie"
           }
          ],
          "scatter": [
           {
            "fillpattern": {
             "fillmode": "overlay",
             "size": 10,
             "solidity": 0.2
            },
            "type": "scatter"
           }
          ],
          "scatter3d": [
           {
            "line": {
             "colorbar": {
              "outlinewidth": 0,
              "ticks": ""
             }
            },
            "marker": {
             "colorbar": {
              "outlinewidth": 0,
              "ticks": ""
             }
            },
            "type": "scatter3d"
           }
          ],
          "scattercarpet": [
           {
            "marker": {
             "colorbar": {
              "outlinewidth": 0,
              "ticks": ""
             }
            },
            "type": "scattercarpet"
           }
          ],
          "scattergeo": [
           {
            "marker": {
             "colorbar": {
              "outlinewidth": 0,
              "ticks": ""
             }
            },
            "type": "scattergeo"
           }
          ],
          "scattergl": [
           {
            "marker": {
             "colorbar": {
              "outlinewidth": 0,
              "ticks": ""
             }
            },
            "type": "scattergl"
           }
          ],
          "scattermapbox": [
           {
            "marker": {
             "colorbar": {
              "outlinewidth": 0,
              "ticks": ""
             }
            },
            "type": "scattermapbox"
           }
          ],
          "scatterpolar": [
           {
            "marker": {
             "colorbar": {
              "outlinewidth": 0,
              "ticks": ""
             }
            },
            "type": "scatterpolar"
           }
          ],
          "scatterpolargl": [
           {
            "marker": {
             "colorbar": {
              "outlinewidth": 0,
              "ticks": ""
             }
            },
            "type": "scatterpolargl"
           }
          ],
          "scatterternary": [
           {
            "marker": {
             "colorbar": {
              "outlinewidth": 0,
              "ticks": ""
             }
            },
            "type": "scatterternary"
           }
          ],
          "surface": [
           {
            "colorbar": {
             "outlinewidth": 0,
             "ticks": ""
            },
            "colorscale": [
             [
              0,
              "#0d0887"
             ],
             [
              0.1111111111111111,
              "#46039f"
             ],
             [
              0.2222222222222222,
              "#7201a8"
             ],
             [
              0.3333333333333333,
              "#9c179e"
             ],
             [
              0.4444444444444444,
              "#bd3786"
             ],
             [
              0.5555555555555556,
              "#d8576b"
             ],
             [
              0.6666666666666666,
              "#ed7953"
             ],
             [
              0.7777777777777778,
              "#fb9f3a"
             ],
             [
              0.8888888888888888,
              "#fdca26"
             ],
             [
              1,
              "#f0f921"
             ]
            ],
            "type": "surface"
           }
          ],
          "table": [
           {
            "cells": {
             "fill": {
              "color": "#EBF0F8"
             },
             "line": {
              "color": "white"
             }
            },
            "header": {
             "fill": {
              "color": "#C8D4E3"
             },
             "line": {
              "color": "white"
             }
            },
            "type": "table"
           }
          ]
         },
         "layout": {
          "annotationdefaults": {
           "arrowcolor": "#2a3f5f",
           "arrowhead": 0,
           "arrowwidth": 1
          },
          "autotypenumbers": "strict",
          "coloraxis": {
           "colorbar": {
            "outlinewidth": 0,
            "ticks": ""
           }
          },
          "colorscale": {
           "diverging": [
            [
             0,
             "#8e0152"
            ],
            [
             0.1,
             "#c51b7d"
            ],
            [
             0.2,
             "#de77ae"
            ],
            [
             0.3,
             "#f1b6da"
            ],
            [
             0.4,
             "#fde0ef"
            ],
            [
             0.5,
             "#f7f7f7"
            ],
            [
             0.6,
             "#e6f5d0"
            ],
            [
             0.7,
             "#b8e186"
            ],
            [
             0.8,
             "#7fbc41"
            ],
            [
             0.9,
             "#4d9221"
            ],
            [
             1,
             "#276419"
            ]
           ],
           "sequential": [
            [
             0,
             "#0d0887"
            ],
            [
             0.1111111111111111,
             "#46039f"
            ],
            [
             0.2222222222222222,
             "#7201a8"
            ],
            [
             0.3333333333333333,
             "#9c179e"
            ],
            [
             0.4444444444444444,
             "#bd3786"
            ],
            [
             0.5555555555555556,
             "#d8576b"
            ],
            [
             0.6666666666666666,
             "#ed7953"
            ],
            [
             0.7777777777777778,
             "#fb9f3a"
            ],
            [
             0.8888888888888888,
             "#fdca26"
            ],
            [
             1,
             "#f0f921"
            ]
           ],
           "sequentialminus": [
            [
             0,
             "#0d0887"
            ],
            [
             0.1111111111111111,
             "#46039f"
            ],
            [
             0.2222222222222222,
             "#7201a8"
            ],
            [
             0.3333333333333333,
             "#9c179e"
            ],
            [
             0.4444444444444444,
             "#bd3786"
            ],
            [
             0.5555555555555556,
             "#d8576b"
            ],
            [
             0.6666666666666666,
             "#ed7953"
            ],
            [
             0.7777777777777778,
             "#fb9f3a"
            ],
            [
             0.8888888888888888,
             "#fdca26"
            ],
            [
             1,
             "#f0f921"
            ]
           ]
          },
          "colorway": [
           "#636efa",
           "#EF553B",
           "#00cc96",
           "#ab63fa",
           "#FFA15A",
           "#19d3f3",
           "#FF6692",
           "#B6E880",
           "#FF97FF",
           "#FECB52"
          ],
          "font": {
           "color": "#2a3f5f"
          },
          "geo": {
           "bgcolor": "white",
           "lakecolor": "white",
           "landcolor": "#E5ECF6",
           "showlakes": true,
           "showland": true,
           "subunitcolor": "white"
          },
          "hoverlabel": {
           "align": "left"
          },
          "hovermode": "closest",
          "mapbox": {
           "style": "light"
          },
          "paper_bgcolor": "white",
          "plot_bgcolor": "#E5ECF6",
          "polar": {
           "angularaxis": {
            "gridcolor": "white",
            "linecolor": "white",
            "ticks": ""
           },
           "bgcolor": "#E5ECF6",
           "radialaxis": {
            "gridcolor": "white",
            "linecolor": "white",
            "ticks": ""
           }
          },
          "scene": {
           "xaxis": {
            "backgroundcolor": "#E5ECF6",
            "gridcolor": "white",
            "gridwidth": 2,
            "linecolor": "white",
            "showbackground": true,
            "ticks": "",
            "zerolinecolor": "white"
           },
           "yaxis": {
            "backgroundcolor": "#E5ECF6",
            "gridcolor": "white",
            "gridwidth": 2,
            "linecolor": "white",
            "showbackground": true,
            "ticks": "",
            "zerolinecolor": "white"
           },
           "zaxis": {
            "backgroundcolor": "#E5ECF6",
            "gridcolor": "white",
            "gridwidth": 2,
            "linecolor": "white",
            "showbackground": true,
            "ticks": "",
            "zerolinecolor": "white"
           }
          },
          "shapedefaults": {
           "line": {
            "color": "#2a3f5f"
           }
          },
          "ternary": {
           "aaxis": {
            "gridcolor": "white",
            "linecolor": "white",
            "ticks": ""
           },
           "baxis": {
            "gridcolor": "white",
            "linecolor": "white",
            "ticks": ""
           },
           "bgcolor": "#E5ECF6",
           "caxis": {
            "gridcolor": "white",
            "linecolor": "white",
            "ticks": ""
           }
          },
          "title": {
           "x": 0.05
          },
          "xaxis": {
           "automargin": true,
           "gridcolor": "white",
           "linecolor": "white",
           "ticks": "",
           "title": {
            "standoff": 15
           },
           "zerolinecolor": "white",
           "zerolinewidth": 2
          },
          "yaxis": {
           "automargin": true,
           "gridcolor": "white",
           "linecolor": "white",
           "ticks": "",
           "title": {
            "standoff": 15
           },
           "zerolinecolor": "white",
           "zerolinewidth": 2
          }
         }
        },
        "title": {
         "font": {
          "family": "Roboto",
          "size": 14
         }
        },
        "width": 1000,
        "xaxis": {
         "tickangle": 90,
         "tickfont": {
          "size": 11
         },
         "tickmode": "array",
         "ticktext": [
          "Unlined Fiber<br>n=78",
          "Lined Fiber<br>n=77",
          "Biopolymer Film/Bag<br>n=38",
          "Rigid Biopolymer (< 0.75mm)<br>n=120",
          "Rigid Biopolymer (> 0.75mm)<br>n=79",
          "Rigid biopolymer<br>n=39",
          "Mixed Materials<br>n=39",
          "Positive Control - Fiber<br>n=108",
          "Positive Control - Film<br>n=103"
         ],
         "tickvals": [
          0,
          1,
          2,
          3,
          4,
          5,
          6,
          7,
          8
         ],
         "title": {
          "font": {
           "size": 14
          }
         }
        },
        "yaxis": {
         "tickfont": {
          "size": 9
         },
         "tickmode": "array",
         "title": {
          "font": {
           "size": 12
          },
          "text": "Total Weight in Grams (Start and End)"
         }
        }
       }
      }
     },
     "metadata": {},
     "output_type": "display_data"
    },
    {
     "data": {
      "application/vnd.plotly.v1+json": {
       "config": {
        "plotlyServerURL": "https://plot.ly"
       },
       "data": [
        {
         "marker": {
          "color": "#298FC2"
         },
         "name": "Unlined Fiber",
         "type": "bar",
         "width": 0.3,
         "x": [
          0
         ],
         "y": [
          0.6929615384615384
         ]
        },
        {
         "marker": {
          "color": "#298FC2"
         },
         "name": "Lined Fiber",
         "type": "bar",
         "width": 0.3,
         "x": [
          1
         ],
         "y": [
          0.5413226955171679
         ]
        },
        {
         "marker": {
          "color": "#FFB600"
         },
         "name": "Biopolymer Film/Bag",
         "type": "bar",
         "width": 0.3,
         "x": [
          2
         ],
         "y": [
          0.19842105263157894
         ]
        },
        {
         "marker": {
          "color": "#FFB600"
         },
         "name": "Rigid Biopolymer (< 0.75mm)",
         "type": "bar",
         "width": 0.3,
         "x": [
          3
         ],
         "y": [
          0.015608333333333335
         ]
        },
        {
         "marker": {
          "color": "#FFB600"
         },
         "name": "Rigid Biopolymer (> 0.75mm)",
         "type": "bar",
         "width": 0.3,
         "x": [
          4
         ],
         "y": [
          0.05699439071907362
         ]
        },
        {
         "marker": {
          "color": "#FFB600"
         },
         "name": "Rigid biopolymer",
         "type": "bar",
         "width": 0.3,
         "x": [
          5
         ],
         "y": [
          0.0000892506465623055
         ]
        },
        {
         "marker": {
          "color": "#48646A"
         },
         "name": "Mixed Materials",
         "type": "bar",
         "width": 0.3,
         "x": [
          6
         ],
         "y": [
          0.06274358974358975
         ]
        },
        {
         "marker": {
          "color": "#70AD47"
         },
         "name": "Positive Control - Fiber",
         "type": "bar",
         "width": 0.3,
         "x": [
          7
         ],
         "y": [
          0.7459629629629629
         ]
        },
        {
         "marker": {
          "color": "#70AD47"
         },
         "name": "Positive Control - Food Scraps",
         "type": "bar",
         "width": 0.3,
         "x": [
          8
         ],
         "y": [
          0.04247
         ]
        },
        {
         "marker": {
          "color": "#70AD47"
         },
         "name": "Positive Control - Film",
         "type": "bar",
         "width": 0.3,
         "x": [
          9
         ],
         "y": [
          0.3806504854368932
         ]
        }
       ],
       "layout": {
        "barmode": "group",
        "font": {
         "family": "Roboto",
         "size": 11
        },
        "height": 800,
        "showlegend": false,
        "template": {
         "data": {
          "bar": [
           {
            "error_x": {
             "color": "#2a3f5f"
            },
            "error_y": {
             "color": "#2a3f5f"
            },
            "marker": {
             "line": {
              "color": "#E5ECF6",
              "width": 0.5
             },
             "pattern": {
              "fillmode": "overlay",
              "size": 10,
              "solidity": 0.2
             }
            },
            "type": "bar"
           }
          ],
          "barpolar": [
           {
            "marker": {
             "line": {
              "color": "#E5ECF6",
              "width": 0.5
             },
             "pattern": {
              "fillmode": "overlay",
              "size": 10,
              "solidity": 0.2
             }
            },
            "type": "barpolar"
           }
          ],
          "carpet": [
           {
            "aaxis": {
             "endlinecolor": "#2a3f5f",
             "gridcolor": "white",
             "linecolor": "white",
             "minorgridcolor": "white",
             "startlinecolor": "#2a3f5f"
            },
            "baxis": {
             "endlinecolor": "#2a3f5f",
             "gridcolor": "white",
             "linecolor": "white",
             "minorgridcolor": "white",
             "startlinecolor": "#2a3f5f"
            },
            "type": "carpet"
           }
          ],
          "choropleth": [
           {
            "colorbar": {
             "outlinewidth": 0,
             "ticks": ""
            },
            "type": "choropleth"
           }
          ],
          "contour": [
           {
            "colorbar": {
             "outlinewidth": 0,
             "ticks": ""
            },
            "colorscale": [
             [
              0,
              "#0d0887"
             ],
             [
              0.1111111111111111,
              "#46039f"
             ],
             [
              0.2222222222222222,
              "#7201a8"
             ],
             [
              0.3333333333333333,
              "#9c179e"
             ],
             [
              0.4444444444444444,
              "#bd3786"
             ],
             [
              0.5555555555555556,
              "#d8576b"
             ],
             [
              0.6666666666666666,
              "#ed7953"
             ],
             [
              0.7777777777777778,
              "#fb9f3a"
             ],
             [
              0.8888888888888888,
              "#fdca26"
             ],
             [
              1,
              "#f0f921"
             ]
            ],
            "type": "contour"
           }
          ],
          "contourcarpet": [
           {
            "colorbar": {
             "outlinewidth": 0,
             "ticks": ""
            },
            "type": "contourcarpet"
           }
          ],
          "heatmap": [
           {
            "colorbar": {
             "outlinewidth": 0,
             "ticks": ""
            },
            "colorscale": [
             [
              0,
              "#0d0887"
             ],
             [
              0.1111111111111111,
              "#46039f"
             ],
             [
              0.2222222222222222,
              "#7201a8"
             ],
             [
              0.3333333333333333,
              "#9c179e"
             ],
             [
              0.4444444444444444,
              "#bd3786"
             ],
             [
              0.5555555555555556,
              "#d8576b"
             ],
             [
              0.6666666666666666,
              "#ed7953"
             ],
             [
              0.7777777777777778,
              "#fb9f3a"
             ],
             [
              0.8888888888888888,
              "#fdca26"
             ],
             [
              1,
              "#f0f921"
             ]
            ],
            "type": "heatmap"
           }
          ],
          "heatmapgl": [
           {
            "colorbar": {
             "outlinewidth": 0,
             "ticks": ""
            },
            "colorscale": [
             [
              0,
              "#0d0887"
             ],
             [
              0.1111111111111111,
              "#46039f"
             ],
             [
              0.2222222222222222,
              "#7201a8"
             ],
             [
              0.3333333333333333,
              "#9c179e"
             ],
             [
              0.4444444444444444,
              "#bd3786"
             ],
             [
              0.5555555555555556,
              "#d8576b"
             ],
             [
              0.6666666666666666,
              "#ed7953"
             ],
             [
              0.7777777777777778,
              "#fb9f3a"
             ],
             [
              0.8888888888888888,
              "#fdca26"
             ],
             [
              1,
              "#f0f921"
             ]
            ],
            "type": "heatmapgl"
           }
          ],
          "histogram": [
           {
            "marker": {
             "pattern": {
              "fillmode": "overlay",
              "size": 10,
              "solidity": 0.2
             }
            },
            "type": "histogram"
           }
          ],
          "histogram2d": [
           {
            "colorbar": {
             "outlinewidth": 0,
             "ticks": ""
            },
            "colorscale": [
             [
              0,
              "#0d0887"
             ],
             [
              0.1111111111111111,
              "#46039f"
             ],
             [
              0.2222222222222222,
              "#7201a8"
             ],
             [
              0.3333333333333333,
              "#9c179e"
             ],
             [
              0.4444444444444444,
              "#bd3786"
             ],
             [
              0.5555555555555556,
              "#d8576b"
             ],
             [
              0.6666666666666666,
              "#ed7953"
             ],
             [
              0.7777777777777778,
              "#fb9f3a"
             ],
             [
              0.8888888888888888,
              "#fdca26"
             ],
             [
              1,
              "#f0f921"
             ]
            ],
            "type": "histogram2d"
           }
          ],
          "histogram2dcontour": [
           {
            "colorbar": {
             "outlinewidth": 0,
             "ticks": ""
            },
            "colorscale": [
             [
              0,
              "#0d0887"
             ],
             [
              0.1111111111111111,
              "#46039f"
             ],
             [
              0.2222222222222222,
              "#7201a8"
             ],
             [
              0.3333333333333333,
              "#9c179e"
             ],
             [
              0.4444444444444444,
              "#bd3786"
             ],
             [
              0.5555555555555556,
              "#d8576b"
             ],
             [
              0.6666666666666666,
              "#ed7953"
             ],
             [
              0.7777777777777778,
              "#fb9f3a"
             ],
             [
              0.8888888888888888,
              "#fdca26"
             ],
             [
              1,
              "#f0f921"
             ]
            ],
            "type": "histogram2dcontour"
           }
          ],
          "mesh3d": [
           {
            "colorbar": {
             "outlinewidth": 0,
             "ticks": ""
            },
            "type": "mesh3d"
           }
          ],
          "parcoords": [
           {
            "line": {
             "colorbar": {
              "outlinewidth": 0,
              "ticks": ""
             }
            },
            "type": "parcoords"
           }
          ],
          "pie": [
           {
            "automargin": true,
            "type": "pie"
           }
          ],
          "scatter": [
           {
            "fillpattern": {
             "fillmode": "overlay",
             "size": 10,
             "solidity": 0.2
            },
            "type": "scatter"
           }
          ],
          "scatter3d": [
           {
            "line": {
             "colorbar": {
              "outlinewidth": 0,
              "ticks": ""
             }
            },
            "marker": {
             "colorbar": {
              "outlinewidth": 0,
              "ticks": ""
             }
            },
            "type": "scatter3d"
           }
          ],
          "scattercarpet": [
           {
            "marker": {
             "colorbar": {
              "outlinewidth": 0,
              "ticks": ""
             }
            },
            "type": "scattercarpet"
           }
          ],
          "scattergeo": [
           {
            "marker": {
             "colorbar": {
              "outlinewidth": 0,
              "ticks": ""
             }
            },
            "type": "scattergeo"
           }
          ],
          "scattergl": [
           {
            "marker": {
             "colorbar": {
              "outlinewidth": 0,
              "ticks": ""
             }
            },
            "type": "scattergl"
           }
          ],
          "scattermapbox": [
           {
            "marker": {
             "colorbar": {
              "outlinewidth": 0,
              "ticks": ""
             }
            },
            "type": "scattermapbox"
           }
          ],
          "scatterpolar": [
           {
            "marker": {
             "colorbar": {
              "outlinewidth": 0,
              "ticks": ""
             }
            },
            "type": "scatterpolar"
           }
          ],
          "scatterpolargl": [
           {
            "marker": {
             "colorbar": {
              "outlinewidth": 0,
              "ticks": ""
             }
            },
            "type": "scatterpolargl"
           }
          ],
          "scatterternary": [
           {
            "marker": {
             "colorbar": {
              "outlinewidth": 0,
              "ticks": ""
             }
            },
            "type": "scatterternary"
           }
          ],
          "surface": [
           {
            "colorbar": {
             "outlinewidth": 0,
             "ticks": ""
            },
            "colorscale": [
             [
              0,
              "#0d0887"
             ],
             [
              0.1111111111111111,
              "#46039f"
             ],
             [
              0.2222222222222222,
              "#7201a8"
             ],
             [
              0.3333333333333333,
              "#9c179e"
             ],
             [
              0.4444444444444444,
              "#bd3786"
             ],
             [
              0.5555555555555556,
              "#d8576b"
             ],
             [
              0.6666666666666666,
              "#ed7953"
             ],
             [
              0.7777777777777778,
              "#fb9f3a"
             ],
             [
              0.8888888888888888,
              "#fdca26"
             ],
             [
              1,
              "#f0f921"
             ]
            ],
            "type": "surface"
           }
          ],
          "table": [
           {
            "cells": {
             "fill": {
              "color": "#EBF0F8"
             },
             "line": {
              "color": "white"
             }
            },
            "header": {
             "fill": {
              "color": "#C8D4E3"
             },
             "line": {
              "color": "white"
             }
            },
            "type": "table"
           }
          ]
         },
         "layout": {
          "annotationdefaults": {
           "arrowcolor": "#2a3f5f",
           "arrowhead": 0,
           "arrowwidth": 1
          },
          "autotypenumbers": "strict",
          "coloraxis": {
           "colorbar": {
            "outlinewidth": 0,
            "ticks": ""
           }
          },
          "colorscale": {
           "diverging": [
            [
             0,
             "#8e0152"
            ],
            [
             0.1,
             "#c51b7d"
            ],
            [
             0.2,
             "#de77ae"
            ],
            [
             0.3,
             "#f1b6da"
            ],
            [
             0.4,
             "#fde0ef"
            ],
            [
             0.5,
             "#f7f7f7"
            ],
            [
             0.6,
             "#e6f5d0"
            ],
            [
             0.7,
             "#b8e186"
            ],
            [
             0.8,
             "#7fbc41"
            ],
            [
             0.9,
             "#4d9221"
            ],
            [
             1,
             "#276419"
            ]
           ],
           "sequential": [
            [
             0,
             "#0d0887"
            ],
            [
             0.1111111111111111,
             "#46039f"
            ],
            [
             0.2222222222222222,
             "#7201a8"
            ],
            [
             0.3333333333333333,
             "#9c179e"
            ],
            [
             0.4444444444444444,
             "#bd3786"
            ],
            [
             0.5555555555555556,
             "#d8576b"
            ],
            [
             0.6666666666666666,
             "#ed7953"
            ],
            [
             0.7777777777777778,
             "#fb9f3a"
            ],
            [
             0.8888888888888888,
             "#fdca26"
            ],
            [
             1,
             "#f0f921"
            ]
           ],
           "sequentialminus": [
            [
             0,
             "#0d0887"
            ],
            [
             0.1111111111111111,
             "#46039f"
            ],
            [
             0.2222222222222222,
             "#7201a8"
            ],
            [
             0.3333333333333333,
             "#9c179e"
            ],
            [
             0.4444444444444444,
             "#bd3786"
            ],
            [
             0.5555555555555556,
             "#d8576b"
            ],
            [
             0.6666666666666666,
             "#ed7953"
            ],
            [
             0.7777777777777778,
             "#fb9f3a"
            ],
            [
             0.8888888888888888,
             "#fdca26"
            ],
            [
             1,
             "#f0f921"
            ]
           ]
          },
          "colorway": [
           "#636efa",
           "#EF553B",
           "#00cc96",
           "#ab63fa",
           "#FFA15A",
           "#19d3f3",
           "#FF6692",
           "#B6E880",
           "#FF97FF",
           "#FECB52"
          ],
          "font": {
           "color": "#2a3f5f"
          },
          "geo": {
           "bgcolor": "white",
           "lakecolor": "white",
           "landcolor": "#E5ECF6",
           "showlakes": true,
           "showland": true,
           "subunitcolor": "white"
          },
          "hoverlabel": {
           "align": "left"
          },
          "hovermode": "closest",
          "mapbox": {
           "style": "light"
          },
          "paper_bgcolor": "white",
          "plot_bgcolor": "#E5ECF6",
          "polar": {
           "angularaxis": {
            "gridcolor": "white",
            "linecolor": "white",
            "ticks": ""
           },
           "bgcolor": "#E5ECF6",
           "radialaxis": {
            "gridcolor": "white",
            "linecolor": "white",
            "ticks": ""
           }
          },
          "scene": {
           "xaxis": {
            "backgroundcolor": "#E5ECF6",
            "gridcolor": "white",
            "gridwidth": 2,
            "linecolor": "white",
            "showbackground": true,
            "ticks": "",
            "zerolinecolor": "white"
           },
           "yaxis": {
            "backgroundcolor": "#E5ECF6",
            "gridcolor": "white",
            "gridwidth": 2,
            "linecolor": "white",
            "showbackground": true,
            "ticks": "",
            "zerolinecolor": "white"
           },
           "zaxis": {
            "backgroundcolor": "#E5ECF6",
            "gridcolor": "white",
            "gridwidth": 2,
            "linecolor": "white",
            "showbackground": true,
            "ticks": "",
            "zerolinecolor": "white"
           }
          },
          "shapedefaults": {
           "line": {
            "color": "#2a3f5f"
           }
          },
          "ternary": {
           "aaxis": {
            "gridcolor": "white",
            "linecolor": "white",
            "ticks": ""
           },
           "baxis": {
            "gridcolor": "white",
            "linecolor": "white",
            "ticks": ""
           },
           "bgcolor": "#E5ECF6",
           "caxis": {
            "gridcolor": "white",
            "linecolor": "white",
            "ticks": ""
           }
          },
          "title": {
           "x": 0.05
          },
          "xaxis": {
           "automargin": true,
           "gridcolor": "white",
           "linecolor": "white",
           "ticks": "",
           "title": {
            "standoff": 15
           },
           "zerolinecolor": "white",
           "zerolinewidth": 2
          },
          "yaxis": {
           "automargin": true,
           "gridcolor": "white",
           "linecolor": "white",
           "ticks": "",
           "title": {
            "standoff": 15
           },
           "zerolinecolor": "white",
           "zerolinewidth": 2
          }
         }
        },
        "title": {
         "font": {
          "family": "Roboto",
          "size": 14
         }
        },
        "width": 1000,
        "xaxis": {
         "tickangle": 90,
         "tickfont": {
          "size": 11
         },
         "tickmode": "array",
         "ticktext": [
          "Unlined Fiber<br>n=79",
          "Lined Fiber<br>n=77",
          "Biopolymer Film/Bag<br>n=38",
          "Rigid Biopolymer (< 0.75mm)<br>n=120",
          "Rigid Biopolymer (> 0.75mm)<br>n=79",
          "Rigid biopolymer<br>n=39",
          "Mixed Materials<br>n=40",
          "Positive Control - Fiber<br>n=111",
          "Positive Control - Food Scraps<br>n=100",
          "Positive Control - Film<br>n=104"
         ],
         "tickvals": [
          0,
          1,
          2,
          3,
          4,
          5,
          6,
          7,
          8,
          9
         ],
         "title": {
          "font": {
           "size": 14
          }
         }
        },
        "yaxis": {
         "tickfont": {
          "size": 9
         },
         "tickformat": ".0%",
         "tickmode": "array",
         "title": {
          "font": {
           "size": 12
          },
          "text": "Mean % Residuals (Weight)"
         }
        }
       }
      }
     },
     "metadata": {},
     "output_type": "display_data"
    }
   ],
   "source": [
    "column = '% Residuals (Weight)'\n",
    "# column = '% Residuals (Area)'\n",
    "box_and_whisker(joined, column)\n",
    "residuals_bar(joined)\n",
    "mean_residuals_bar(joined)"
   ]
  },
  {
   "cell_type": "code",
   "execution_count": null,
   "metadata": {},
   "outputs": [],
   "source": []
  }
 ],
 "metadata": {
  "kernelspec": {
   "display_name": "base",
   "language": "python",
   "name": "python3"
  },
  "language_info": {
   "codemirror_mode": {
    "name": "ipython",
    "version": 3
   },
   "file_extension": ".py",
   "mimetype": "text/x-python",
   "name": "python",
   "nbconvert_exporter": "python",
   "pygments_lexer": "ipython3",
   "version": "3.10.8"
  }
 },
 "nbformat": 4,
 "nbformat_minor": 2
}
